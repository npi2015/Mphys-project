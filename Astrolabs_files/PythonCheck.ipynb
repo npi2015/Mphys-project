{
 "cells": [
  {
   "cell_type": "markdown",
   "metadata": {},
   "source": [
    "# How's my Python? - A notebook to check your Python skills\n",
    "\n",
    "<img src=\"misc/snake.jpg\" width=400/>\n",
    "\n",
    "This notebook is meant to check your knowledge of Python. This is not a test. We would like to assess where you stand in your Python knowlege, in which areas you are well prepared, where weaknesses are, and where we need to provide refreshers. Please fill [fill this survey](https://www.surveymonkey.co.uk/r/7L5J7JD) once you are done.\n",
    "\n",
    "### How to use this notebook.\n",
    "\n",
    "- work through the different cells\n",
    "\n",
    "- attempt to solve the 'your turn' questions\n",
    "\n",
    "- if you are stuck, ask for help\n",
    "\n",
    "- if you are stuck for a long time, move on to the next section and indicate what you struggled with in the poll\n",
    "\n",
    "- check the online ressources for help\n",
    "\n",
    "### Links to online ressources to brush up your Python:\n",
    "\n",
    "[Introduction to Python](https://arc-bath.github.io/intro-python/) good to work through before the course, by James Grant (previously Research Software Engineer, University of Bath, now at Amazon Web Services)\n",
    "\n",
    "[Python Wiki: a list of tutorials at different levels](https://wiki.python.org/moin/BeginnersGuide/Programmers)\n",
    "\n",
    "[Numpy Quickstart - brush up on your array skills](https://numpy.org/doc/stable/user/quickstart.html) \n",
    "\n",
    "[Matplotlib Tutorial (Plotting)](https://matplotlib.org/3.1.1/tutorials/introductory/pyplot.html)\n",
    "\n",
    "[Python intro for those who prefer videos](https://www.youtube.com/playlist?list=PLlgoYPTU6ljCEggReCMF0m0760QTot9Qz)\n",
    "\n",
    "[Classes in Python (Advanced Topic)](https://docs.python.org/3/tutorial/classes.html)\n",
    "\n",
    "### Once you are done with this notebook....\n",
    "\n",
    ".... [fill this survey](https://www.surveymonkey.co.uk/r/7L5J7JD)"
   ]
  },
  {
   "cell_type": "markdown",
   "metadata": {},
   "source": [
    "### 1. The basics\n",
    "\n",
    "This part of the Python Check covers basics of data types."
   ]
  },
  {
   "cell_type": "code",
   "execution_count": 1,
   "metadata": {},
   "outputs": [
    {
     "data": {
      "text/plain": [
       "2"
      ]
     },
     "execution_count": 1,
     "metadata": {},
     "output_type": "execute_result"
    }
   ],
   "source": [
    "#You can use Python to calculate...\n",
    "1 + 1"
   ]
  },
  {
   "cell_type": "code",
   "execution_count": 2,
   "metadata": {},
   "outputs": [
    {
     "data": {
      "text/plain": [
       "0.3333333333333333"
      ]
     },
     "execution_count": 2,
     "metadata": {},
     "output_type": "execute_result"
    }
   ],
   "source": [
    "2/6"
   ]
  },
  {
   "cell_type": "code",
   "execution_count": 3,
   "metadata": {},
   "outputs": [
    {
     "data": {
      "text/plain": [
       "8"
      ]
     },
     "execution_count": 3,
     "metadata": {},
     "output_type": "execute_result"
    }
   ],
   "source": [
    "2**3"
   ]
  },
  {
   "cell_type": "code",
   "execution_count": 2,
   "metadata": {},
   "outputs": [
    {
     "name": "stdout",
     "output_type": "stream",
     "text": [
      "3.141592653589793\n"
     ]
    }
   ],
   "source": [
    "## If you every need pi\n",
    "import numpy as np\n",
    "print(np.pi)"
   ]
  },
  {
   "cell_type": "code",
   "execution_count": 3,
   "metadata": {},
   "outputs": [
    {
     "name": "stdout",
     "output_type": "stream",
     "text": [
      "I am feeling confident in my python skills\n"
     ]
    }
   ],
   "source": [
    "print('I am feeling confident in my python skills')"
   ]
  },
  {
   "cell_type": "code",
   "execution_count": 4,
   "metadata": {},
   "outputs": [],
   "source": [
    "## Lets define a list\n",
    "a = [1,2,3,4,5,6]"
   ]
  },
  {
   "cell_type": "markdown",
   "metadata": {},
   "source": [
    "#### Your turn: extract the first and last entry of the list."
   ]
  },
  {
   "cell_type": "code",
   "execution_count": null,
   "metadata": {},
   "outputs": [],
   "source": []
  },
  {
   "cell_type": "markdown",
   "metadata": {},
   "source": [
    "#### If you are struggling with this section....\n",
    "\n",
    "Work through [this Introduction to Python](https://arc-bath.github.io/intro-python/)"
   ]
  },
  {
   "cell_type": "markdown",
   "metadata": {},
   "source": [
    "### 2. Functions\n",
    "\n",
    "Writing functions is crucial to programming, below, we first show a simple function and then allow you to test your knowledge."
   ]
  },
  {
   "cell_type": "code",
   "execution_count": 5,
   "metadata": {},
   "outputs": [],
   "source": [
    "def addnumbers(a, b):\n",
    "    ## This function adds two numbers\n",
    "    c = a + b\n",
    "    return c"
   ]
  },
  {
   "cell_type": "code",
   "execution_count": 8,
   "metadata": {},
   "outputs": [
    {
     "data": {
      "text/plain": [
       "9"
      ]
     },
     "execution_count": 8,
     "metadata": {},
     "output_type": "execute_result"
    }
   ],
   "source": [
    "## We can use it to add numbers:\n",
    "addnumbers(4,5)"
   ]
  },
  {
   "cell_type": "code",
   "execution_count": 9,
   "metadata": {},
   "outputs": [],
   "source": [
    "result = addnumbers(4,5)"
   ]
  },
  {
   "cell_type": "code",
   "execution_count": 10,
   "metadata": {},
   "outputs": [
    {
     "name": "stdout",
     "output_type": "stream",
     "text": [
      "9\n"
     ]
    }
   ],
   "source": [
    "print(result)"
   ]
  },
  {
   "cell_type": "markdown",
   "metadata": {},
   "source": [
    "#### Your turn: So far, so pointless.... Can you write a function that calculates the semi-major axis of a planet given the period and stellar mass?\n",
    "\n",
    "$a = \\left( GM \\left(\\frac{P}{2\\pi}\\right)^2 \\right) ^{1/3} $\n",
    "\n",
    "Where:\n",
    "\n",
    "a: semi-major axis\n",
    "\n",
    "P: period\n",
    "\n",
    "M: mass of star\n",
    "\n",
    "G: graviational constant ([for smart constants, click here](https://docs.scipy.org/doc/scipy/reference/constants.html))\n",
    "\n",
    "(to check you have done this correctly, the mass of the sun in SI is 2 $\\times 10^{30}$ kg, the period of the earth is 1 year or 31556952s and the semi major axis of earth is 1.5 $\\times 10^{11}$m)"
   ]
  },
  {
   "cell_type": "code",
   "execution_count": null,
   "metadata": {},
   "outputs": [],
   "source": []
  },
  {
   "cell_type": "markdown",
   "metadata": {},
   "source": [
    "#### Your turn: Can you see what has gone wrong here?"
   ]
  },
  {
   "cell_type": "code",
   "execution_count": 11,
   "metadata": {},
   "outputs": [
    {
     "name": "stdout",
     "output_type": "stream",
     "text": [
      "None\n"
     ]
    }
   ],
   "source": [
    "def mred(mp, ms):\n",
    "    ## calculated the reducedmass of a planet star system\n",
    "    mout = mp/(mp + ms)\n",
    "\n",
    "m = mred(6e24, 2e30) #reduced mass of earth 6e24kg and sun 2e30kg\n",
    "print(m)"
   ]
  },
  {
   "cell_type": "markdown",
   "metadata": {},
   "source": [
    "#### If you are struggling with this section....\n",
    "\n",
    "Work through episode 7 of [this Introduction to Python](https://arc-bath.github.io/intro-python/)"
   ]
  },
  {
   "cell_type": "markdown",
   "metadata": {},
   "source": [
    "### 3. Numpy arrays\n",
    "\n",
    "Numpy arrays are commonly used to for calculations in Python, you will be working with them frequently. Below, we will be looking into arrays by reading a file of exoplanet data and working with it.\n",
    "\n",
    "In the folder Data, there is a file called exotest, it contains the semi-major axes and mass of exoplanets from [the NASA Exoplanet Archive](https://exoplanetarchive.ipac.caltech.edu/index.html). We will read in this data using numpy."
   ]
  },
  {
   "cell_type": "markdown",
   "metadata": {},
   "source": [
    "#### If you don't remember numpy arrays....\n",
    "\n",
    "have a quick look at [this quickstart guide](https://numpy.org/doc/stable/user/quickstart.html)"
   ]
  },
  {
   "cell_type": "code",
   "execution_count": 21,
   "metadata": {},
   "outputs": [],
   "source": [
    "##We see two columns, one the semi-major axis in AU, the other the planet mass.\n",
    "##Let's import numpy first\n",
    "import numpy as np\n",
    "## now let's read in this data\n",
    "exodata = np.loadtxt('Data/exotest.csv', delimiter=',')"
   ]
  },
  {
   "cell_type": "code",
   "execution_count": 22,
   "metadata": {},
   "outputs": [
    {
     "data": {
      "text/plain": [
       "array([[8.20000000e-03, 5.80000000e-01],\n",
       "       [1.56000000e-02, 6.50000000e-01],\n",
       "       [1.55700000e-02, 7.50000000e-01],\n",
       "       ...,\n",
       "       [3.30000000e+00, 8.61319300e+03],\n",
       "       [9.74000000e-01, 1.07108710e+04],\n",
       "       [1.05000000e+00, 1.76681697e+04]])"
      ]
     },
     "execution_count": 22,
     "metadata": {},
     "output_type": "execute_result"
    }
   ],
   "source": [
    "## let's have a look at the data\n",
    "exodata"
   ]
  },
  {
   "cell_type": "code",
   "execution_count": 23,
   "metadata": {},
   "outputs": [
    {
     "data": {
      "text/plain": [
       "(1598, 2)"
      ]
     },
     "execution_count": 23,
     "metadata": {},
     "output_type": "execute_result"
    }
   ],
   "source": [
    "## This is a numpy array, we can see the shape\n",
    "np.shape(exodata)"
   ]
  },
  {
   "cell_type": "code",
   "execution_count": 16,
   "metadata": {},
   "outputs": [
    {
     "data": {
      "text/plain": [
       "array([0.0082, 0.58  ])"
      ]
     },
     "execution_count": 16,
     "metadata": {},
     "output_type": "execute_result"
    }
   ],
   "source": [
    "## The data has two columns and 1598 rows\n",
    "exodata[0] ## the first line"
   ]
  },
  {
   "cell_type": "code",
   "execution_count": 18,
   "metadata": {},
   "outputs": [
    {
     "data": {
      "text/plain": [
       "array([0.0082 , 0.0156 , 0.01557, ..., 3.3    , 0.974  , 1.05   ])"
      ]
     },
     "execution_count": 18,
     "metadata": {},
     "output_type": "execute_result"
    }
   ],
   "source": [
    "## The first column\n",
    "exodata[:,0]"
   ]
  },
  {
   "cell_type": "markdown",
   "metadata": {},
   "source": [
    "#### Your turn: what is the mean semi-major axis in this sample? What is the mean planet mass?\n",
    "Remember,\n",
    "\n",
    "np.mean(a)\n",
    "\n",
    "gives the mean of array a.\n",
    "\n",
    "(Solution is mean semi major axis is 1.46 AU (2sf) and mean mass is 814.14 earth masses (2sf))"
   ]
  },
  {
   "cell_type": "code",
   "execution_count": null,
   "metadata": {},
   "outputs": [],
   "source": []
  },
  {
   "cell_type": "code",
   "execution_count": null,
   "metadata": {},
   "outputs": [],
   "source": []
  },
  {
   "cell_type": "markdown",
   "metadata": {},
   "source": [
    "#### If you found this difficult,....\n",
    "\n",
    "have another look at [this quickstart guide](https://numpy.org/doc/stable/user/quickstart.html)"
   ]
  },
  {
   "cell_type": "markdown",
   "metadata": {},
   "source": [
    "### 4. Plotting\n",
    "\n",
    "Next, let's have a look at plotting your data. Below, I will give an example for a plot, you will then plot the exodata you loaded in Section 3."
   ]
  },
  {
   "cell_type": "markdown",
   "metadata": {},
   "source": [
    "#### If you have not worked with matplotlib before....\n",
    "\n",
    "have a look at [this tutorial](https://matplotlib.org/3.1.1/tutorials/introductory/pyplot.html)"
   ]
  },
  {
   "cell_type": "code",
   "execution_count": 27,
   "metadata": {},
   "outputs": [],
   "source": [
    "import matplotlib.pyplot as plt ## importing matplotlib"
   ]
  },
  {
   "cell_type": "code",
   "execution_count": 31,
   "metadata": {},
   "outputs": [],
   "source": [
    "test_x = [1,2,3,4,5,6,7] # some data\n",
    "test_y = [11, 9, 13, 14, 16, 15, 18]"
   ]
  },
  {
   "cell_type": "code",
   "execution_count": 32,
   "metadata": {},
   "outputs": [
    {
     "data": {
      "text/plain": [
       "Text(0, 0.5, 'y axis')"
      ]
     },
     "execution_count": 32,
     "metadata": {},
     "output_type": "execute_result"
    },
    {
     "data": {
      "image/png": "[encoded data removed]",
      "text/plain": [
       "<Figure size 432x288 with 1 Axes>"
      ]
     },
     "metadata": {
      "needs_background": "light"
     },
     "output_type": "display_data"
    }
   ],
   "source": [
    "## Let's make a simple plot\n",
    "plt.plot(test_x, test_y)\n",
    "plt.xlabel('x axis')\n",
    "plt.ylabel('y axis')\n",
    "plt.title('A simple line plot')"
   ]
  },
  {
   "cell_type": "code",
   "execution_count": 35,
   "metadata": {},
   "outputs": [
    {
     "data": {
      "text/plain": [
       "Text(0.5, 1.0, 'Here I have used symbold instead')"
      ]
     },
     "execution_count": 35,
     "metadata": {},
     "output_type": "execute_result"
    },
    {
     "data": {
      "image/png": "[encoded data removed]",
      "text/plain": [
       "<Figure size 432x288 with 1 Axes>"
      ]
     },
     "metadata": {
      "needs_background": "light"
     },
     "output_type": "display_data"
    }
   ],
   "source": [
    "plt.plot(test_x, test_y, ls='None', marker='o', c='r') ## change the line style and marker\n",
    "plt.xlabel('x axis')\n",
    "plt.ylabel('y axis')\n",
    "plt.title('Here I have used symbold instead')"
   ]
  },
  {
   "cell_type": "code",
   "execution_count": 36,
   "metadata": {},
   "outputs": [
    {
     "data": {
      "text/plain": [
       "Text(0.5, 1.0, 'Here, I have created a logplot')"
      ]
     },
     "execution_count": 36,
     "metadata": {},
     "output_type": "execute_result"
    },
    {
     "data": {
      "image/png": "[encoded data removed]",
      "text/plain": [
       "<Figure size 432x288 with 1 Axes>"
      ]
     },
     "metadata": {
      "needs_background": "light"
     },
     "output_type": "display_data"
    }
   ],
   "source": [
    "plt.semilogy(test_x, test_y)\n",
    "plt.xlabel('x axis')\n",
    "plt.ylabel('y axis')\n",
    "plt.title('Here, I have created a logplot')"
   ]
  },
  {
   "cell_type": "markdown",
   "metadata": {},
   "source": [
    "#### You can also try this with plt.semilogx and plt.loglog"
   ]
  },
  {
   "cell_type": "markdown",
   "metadata": {},
   "source": [
    "#### Your turn: plot the exodata you worked with previously.\n",
    "\n",
    "Make a plot of semi major axis a vs planet mass on a linear and log scale."
   ]
  },
  {
   "cell_type": "raw",
   "metadata": {},
   "source": [
    "## Remember\n",
    "exodata[:,0] ## semi-major axis\n",
    "exodata[:,1] ## Planet mass [earth masses]"
   ]
  },
  {
   "cell_type": "code",
   "execution_count": null,
   "metadata": {},
   "outputs": [],
   "source": []
  },
  {
   "cell_type": "markdown",
   "metadata": {},
   "source": [
    "#### If you are finding this challenging....\n",
    "\n",
    "have a closer look at [this tutorial](https://matplotlib.org/3.1.1/tutorials/introductory/pyplot.html)"
   ]
  },
  {
   "cell_type": "markdown",
   "metadata": {},
   "source": [
    "### 5. Objects & Classes (Advanced)\n",
    "\n",
    "This section is to check if you are familiar with more advanced Python concepts. Don't worry if you are not."
   ]
  },
  {
   "cell_type": "code",
   "execution_count": 62,
   "metadata": {},
   "outputs": [],
   "source": [
    "# The code below defines a class that allows to calculate properties of a planetary system.\n",
    "# You can have a look, but there is no need to understand this\n",
    "\n",
    "class Planet:\n",
    "    def __init__(self, planetmass, starmass):\n",
    "        from scipy.constants import G\n",
    "        self._G = G\n",
    "        import numpy as np\n",
    "        self._mp = planetmass\n",
    "        self._ms = starmass\n",
    "    def semimajor(self, P):\n",
    "        ## Calculates the semi-major axis of a planet given the period P\n",
    "        a = ( self._G * self._ms * (P/(2*np.pi))**2)**(1/3)\n",
    "        return a\n",
    "    def redmass(self):\n",
    "        ## calculates the reduced ass of the system\n",
    "        return self._mp/(self._ms + self._mp)"
   ]
  },
  {
   "cell_type": "code",
   "execution_count": 63,
   "metadata": {},
   "outputs": [],
   "source": [
    "## We can now define Earth by creating a planet with 1 earth mass around a star with the mass of the sun\n",
    "Earth = Planet(6e24, 2e30) ## earth mass is 6e24, solar mass is 2e30"
   ]
  },
  {
   "cell_type": "code",
   "execution_count": 64,
   "metadata": {},
   "outputs": [
    {
     "data": {
      "text/plain": [
       "149817679298.79666"
      ]
     },
     "execution_count": 64,
     "metadata": {},
     "output_type": "execute_result"
    }
   ],
   "source": [
    "## This allows to calculate the semi major axis given the period (1 year)\n",
    "Earth.semimajor(365*24*60*60)"
   ]
  },
  {
   "cell_type": "code",
   "execution_count": 65,
   "metadata": {},
   "outputs": [
    {
     "data": {
      "text/plain": [
       "2.9999910000269996e-06"
      ]
     },
     "execution_count": 65,
     "metadata": {},
     "output_type": "execute_result"
    }
   ],
   "source": [
    "## The reduced mass of the system\n",
    "Earth.redmass()"
   ]
  },
  {
   "cell_type": "markdown",
   "metadata": {},
   "source": [
    "#### Your turn: Calculate the semi-major axis of Jupiter using the method outlined above\n",
    "\n",
    "$M_{Jupiter} = 1.9 \\times 10^{27}$ kg\n",
    "\n",
    "1 Jupiter year is 11.86 earth years"
   ]
  },
  {
   "cell_type": "code",
   "execution_count": null,
   "metadata": {},
   "outputs": [],
   "source": []
  },
  {
   "cell_type": "markdown",
   "metadata": {},
   "source": [
    "In this course, we do not need you to write classes, but understanding them can help with using Python, if you would like to learn more about them [have a look here](https://docs.python.org/3/tutorial/classes.html). "
   ]
  },
  {
   "cell_type": "markdown",
   "metadata": {},
   "source": [
    "## Once you are done with this notebook....\n",
    "\n",
    ".... [fill this survey](https://www.surveymonkey.co.uk/r/7L5J7JD)"
   ]
  }
 ],
 "metadata": {
  "kernelspec": {
   "display_name": "Python 3",
   "language": "python",
   "name": "python3"
  },
  "language_info": {
   "codemirror_mode": {
    "name": "ipython",
    "version": 3
   },
   "file_extension": ".py",
   "mimetype": "text/x-python",
   "name": "python",
   "nbconvert_exporter": "python",
   "pygments_lexer": "ipython3",
   "version": "3.6.10"
  }
 },
 "nbformat": 4,
 "nbformat_minor": 4
}
