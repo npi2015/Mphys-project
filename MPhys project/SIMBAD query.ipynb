{
 "cells": [
  {
   "cell_type": "code",
   "execution_count": 169,
   "outputs": [],
   "source": [
    "from astroquery.simbad import Simbad\n",
    "import pandas as pd"
   ],
   "metadata": {
    "collapsed": false,
    "pycharm": {
     "name": "#%%\n"
    }
   }
  },
  {
   "cell_type": "code",
   "execution_count": 170,
   "outputs": [],
   "source": [
    "Simbad.ROW_LIMIT = 15 # now any query fetches at most 15 rows for testing purposes\n",
    "Simbad.reset_votable_fields()\n",
    "Simbad.add_votable_fields(\"distance\", \"flux(K)\", \"flux(G)\", \"flux(R)\", \"flux(B)\")"
   ],
   "metadata": {
    "collapsed": false,
    "pycharm": {
     "name": "#%%\n"
    }
   }
  },
  {
   "cell_type": "code",
   "execution_count": 171,
   "outputs": [],
   "source": [
    "test_table = Simbad.query_criteria(maintype=\"RR?\")"
   ],
   "metadata": {
    "collapsed": false,
    "pycharm": {
     "name": "#%%\n"
    }
   }
  },
  {
   "cell_type": "code",
   "execution_count": 172,
   "outputs": [
    {
     "data": {
      "text/plain": "                  MAIN_ID             RA            DEC  RA_PREC  DEC_PREC  \\\n0             V* V453 Per  03 06 07.2568  +36 40 05.158       14        14   \n1   ATO J355.5144+52.1462  23 42 03.4788  +52 08 46.448       14        14   \n2            V* V1392 Cyg  20 32 36.4509  +40 07 28.009       14        14   \n3   ATO J352.4259+55.0630  23 29 42.2230  +55 03 47.099       14        14   \n4          TYC 3592-835-1  21 00 07.8708  +48 41 29.556       14        14   \n5               V* NU Lac  22 31 03.3248  +55 15 36.983       14        14   \n6             V* V845 Cas  23 26 15.0452  +57 23 55.380       14        14   \n7             V* V508 Per  02 33 01.1312  +58 25 37.278       14        14   \n8          TYC 4253-145-1  21 41 30.7796  +62 48 06.779       14        14   \n9             V* V416 Per  04 08 08.9558  +45 24 10.680       14        14   \n10           AN  996.1935  23 26 12.9676  +73 39 23.456       14        14   \n11              V* HN Dra  18 44 53.1326  +57 05 17.142       14        14   \n12              V* AO Lyn  06 17 38.0280  +59 31 24.663       14        14   \n13            [S96d]  916  15 06 56.5067  +67 02 37.242       14        14   \n14    [BFO2002] UMi 20594  15 10 41.7225  +67 16 41.774       14        14   \n\n    COO_ERR_MAJA  COO_ERR_MINA  COO_ERR_ANGLE COO_QUAL COO_WAVELENGTH  ...  \\\n0         0.0658        0.0500             90        A              O  ...   \n1         0.0222        0.0218             90        A              O  ...   \n2         0.5130        0.5415             90        A              O  ...   \n3         0.0167        0.0169             90        A              O  ...   \n4         0.0144        0.0145             90        A              O  ...   \n5         0.0281        0.0273             90        A              O  ...   \n6         0.0137        0.0128             90        A              O  ...   \n7         0.0240        0.0248             90        A              O  ...   \n8         0.0496        0.0608             90        A              O  ...   \n9         0.0208        0.0131             90        A              O  ...   \n10        0.0126        0.0125             90        A              O  ...   \n11        0.0163        0.0175             90        A              O  ...   \n12        0.0147        0.0142             90        A              O  ...   \n13        0.1811        0.1677             90        A              O  ...   \n14        0.2314        0.2310             90        A              O  ...   \n\n   Distance_unit  Distance_merr Distance_perr Distance_method  \\\n0                           NaN           NaN                   \n1                           NaN           NaN                   \n2                           NaN           NaN                   \n3                           NaN           NaN                   \n4             pc        -5.0852        5.0852           paral   \n5             pc      -252.7087      252.7087           paral   \n6             pc      -137.0493      137.0493           paral   \n7                           NaN           NaN                   \n8             pc       -36.4727       36.4727           paral   \n9             pc       -45.4766       45.4766           paral   \n10            pc      -164.6467      164.6467           paral   \n11            pc        -0.9932        0.9932           paral   \n12            pc        -7.3234        7.3234           paral   \n13                          NaN           NaN                   \n14                          NaN           NaN                   \n\n       Distance_bibcode  FLUX_K     FLUX_G     FLUX_R     FLUX_B  \\\n0                        15.744  16.510054        NaN        NaN   \n1                        14.294  15.701858        NaN        NaN   \n2                        11.835  16.273645        NaN        NaN   \n3                        13.720  15.228209  15.532000  15.806000   \n4   2020yCat.1350....0G   7.124  10.257861  10.110000  11.390000   \n5   2020yCat.1350....0G  13.965  15.962180  16.290001  16.840000   \n6   2020yCat.1350....0G  11.945  14.323001  14.329000  15.659000   \n7                        13.675  15.763356  15.870000  16.420000   \n8   2020yCat.1350....0G   9.459  11.091930        NaN  11.500000   \n9   2020yCat.1350....0G  12.789  14.724621        NaN        NaN   \n10  2020yCat.1350....0G  12.102  13.894980        NaN        NaN   \n11  2020yCat.1350....0G     NaN   8.034217        NaN   8.450000   \n12  2020yCat.1350....0G  12.868  14.808833        NaN  15.000000   \n13                          NaN  19.237089        NaN  19.530001   \n14                          NaN  19.687056        NaN        NaN   \n\n    SCRIPT_NUMBER_ID  \n0                  0  \n1                  0  \n2                  0  \n3                  0  \n4                  0  \n5                  0  \n6                  0  \n7                  0  \n8                  0  \n9                  0  \n10                 0  \n11                 0  \n12                 0  \n13                 0  \n14                 0  \n\n[15 rows x 23 columns]",
      "text/html": "<div>\n<style scoped>\n    .dataframe tbody tr th:only-of-type {\n        vertical-align: middle;\n    }\n\n    .dataframe tbody tr th {\n        vertical-align: top;\n    }\n\n    .dataframe thead th {\n        text-align: right;\n    }\n</style>\n<table border=\"1\" class=\"dataframe\">\n  <thead>\n    <tr style=\"text-align: right;\">\n      <th></th>\n      <th>MAIN_ID</th>\n      <th>RA</th>\n      <th>DEC</th>\n      <th>RA_PREC</th>\n      <th>DEC_PREC</th>\n      <th>COO_ERR_MAJA</th>\n      <th>COO_ERR_MINA</th>\n      <th>COO_ERR_ANGLE</th>\n      <th>COO_QUAL</th>\n      <th>COO_WAVELENGTH</th>\n      <th>...</th>\n      <th>Distance_unit</th>\n      <th>Distance_merr</th>\n      <th>Distance_perr</th>\n      <th>Distance_method</th>\n      <th>Distance_bibcode</th>\n      <th>FLUX_K</th>\n      <th>FLUX_G</th>\n      <th>FLUX_R</th>\n      <th>FLUX_B</th>\n      <th>SCRIPT_NUMBER_ID</th>\n    </tr>\n  </thead>\n  <tbody>\n    <tr>\n      <th>0</th>\n      <td>V* V453 Per</td>\n      <td>03 06 07.2568</td>\n      <td>+36 40 05.158</td>\n      <td>14</td>\n      <td>14</td>\n      <td>0.0658</td>\n      <td>0.0500</td>\n      <td>90</td>\n      <td>A</td>\n      <td>O</td>\n      <td>...</td>\n      <td></td>\n      <td>NaN</td>\n      <td>NaN</td>\n      <td></td>\n      <td></td>\n      <td>15.744</td>\n      <td>16.510054</td>\n      <td>NaN</td>\n      <td>NaN</td>\n      <td>0</td>\n    </tr>\n    <tr>\n      <th>1</th>\n      <td>ATO J355.5144+52.1462</td>\n      <td>23 42 03.4788</td>\n      <td>+52 08 46.448</td>\n      <td>14</td>\n      <td>14</td>\n      <td>0.0222</td>\n      <td>0.0218</td>\n      <td>90</td>\n      <td>A</td>\n      <td>O</td>\n      <td>...</td>\n      <td></td>\n      <td>NaN</td>\n      <td>NaN</td>\n      <td></td>\n      <td></td>\n      <td>14.294</td>\n      <td>15.701858</td>\n      <td>NaN</td>\n      <td>NaN</td>\n      <td>0</td>\n    </tr>\n    <tr>\n      <th>2</th>\n      <td>V* V1392 Cyg</td>\n      <td>20 32 36.4509</td>\n      <td>+40 07 28.009</td>\n      <td>14</td>\n      <td>14</td>\n      <td>0.5130</td>\n      <td>0.5415</td>\n      <td>90</td>\n      <td>A</td>\n      <td>O</td>\n      <td>...</td>\n      <td></td>\n      <td>NaN</td>\n      <td>NaN</td>\n      <td></td>\n      <td></td>\n      <td>11.835</td>\n      <td>16.273645</td>\n      <td>NaN</td>\n      <td>NaN</td>\n      <td>0</td>\n    </tr>\n    <tr>\n      <th>3</th>\n      <td>ATO J352.4259+55.0630</td>\n      <td>23 29 42.2230</td>\n      <td>+55 03 47.099</td>\n      <td>14</td>\n      <td>14</td>\n      <td>0.0167</td>\n      <td>0.0169</td>\n      <td>90</td>\n      <td>A</td>\n      <td>O</td>\n      <td>...</td>\n      <td></td>\n      <td>NaN</td>\n      <td>NaN</td>\n      <td></td>\n      <td></td>\n      <td>13.720</td>\n      <td>15.228209</td>\n      <td>15.532000</td>\n      <td>15.806000</td>\n      <td>0</td>\n    </tr>\n    <tr>\n      <th>4</th>\n      <td>TYC 3592-835-1</td>\n      <td>21 00 07.8708</td>\n      <td>+48 41 29.556</td>\n      <td>14</td>\n      <td>14</td>\n      <td>0.0144</td>\n      <td>0.0145</td>\n      <td>90</td>\n      <td>A</td>\n      <td>O</td>\n      <td>...</td>\n      <td>pc</td>\n      <td>-5.0852</td>\n      <td>5.0852</td>\n      <td>paral</td>\n      <td>2020yCat.1350....0G</td>\n      <td>7.124</td>\n      <td>10.257861</td>\n      <td>10.110000</td>\n      <td>11.390000</td>\n      <td>0</td>\n    </tr>\n    <tr>\n      <th>5</th>\n      <td>V* NU Lac</td>\n      <td>22 31 03.3248</td>\n      <td>+55 15 36.983</td>\n      <td>14</td>\n      <td>14</td>\n      <td>0.0281</td>\n      <td>0.0273</td>\n      <td>90</td>\n      <td>A</td>\n      <td>O</td>\n      <td>...</td>\n      <td>pc</td>\n      <td>-252.7087</td>\n      <td>252.7087</td>\n      <td>paral</td>\n      <td>2020yCat.1350....0G</td>\n      <td>13.965</td>\n      <td>15.962180</td>\n      <td>16.290001</td>\n      <td>16.840000</td>\n      <td>0</td>\n    </tr>\n    <tr>\n      <th>6</th>\n      <td>V* V845 Cas</td>\n      <td>23 26 15.0452</td>\n      <td>+57 23 55.380</td>\n      <td>14</td>\n      <td>14</td>\n      <td>0.0137</td>\n      <td>0.0128</td>\n      <td>90</td>\n      <td>A</td>\n      <td>O</td>\n      <td>...</td>\n      <td>pc</td>\n      <td>-137.0493</td>\n      <td>137.0493</td>\n      <td>paral</td>\n      <td>2020yCat.1350....0G</td>\n      <td>11.945</td>\n      <td>14.323001</td>\n      <td>14.329000</td>\n      <td>15.659000</td>\n      <td>0</td>\n    </tr>\n    <tr>\n      <th>7</th>\n      <td>V* V508 Per</td>\n      <td>02 33 01.1312</td>\n      <td>+58 25 37.278</td>\n      <td>14</td>\n      <td>14</td>\n      <td>0.0240</td>\n      <td>0.0248</td>\n      <td>90</td>\n      <td>A</td>\n      <td>O</td>\n      <td>...</td>\n      <td></td>\n      <td>NaN</td>\n      <td>NaN</td>\n      <td></td>\n      <td></td>\n      <td>13.675</td>\n      <td>15.763356</td>\n      <td>15.870000</td>\n      <td>16.420000</td>\n      <td>0</td>\n    </tr>\n    <tr>\n      <th>8</th>\n      <td>TYC 4253-145-1</td>\n      <td>21 41 30.7796</td>\n      <td>+62 48 06.779</td>\n      <td>14</td>\n      <td>14</td>\n      <td>0.0496</td>\n      <td>0.0608</td>\n      <td>90</td>\n      <td>A</td>\n      <td>O</td>\n      <td>...</td>\n      <td>pc</td>\n      <td>-36.4727</td>\n      <td>36.4727</td>\n      <td>paral</td>\n      <td>2020yCat.1350....0G</td>\n      <td>9.459</td>\n      <td>11.091930</td>\n      <td>NaN</td>\n      <td>11.500000</td>\n      <td>0</td>\n    </tr>\n    <tr>\n      <th>9</th>\n      <td>V* V416 Per</td>\n      <td>04 08 08.9558</td>\n      <td>+45 24 10.680</td>\n      <td>14</td>\n      <td>14</td>\n      <td>0.0208</td>\n      <td>0.0131</td>\n      <td>90</td>\n      <td>A</td>\n      <td>O</td>\n      <td>...</td>\n      <td>pc</td>\n      <td>-45.4766</td>\n      <td>45.4766</td>\n      <td>paral</td>\n      <td>2020yCat.1350....0G</td>\n      <td>12.789</td>\n      <td>14.724621</td>\n      <td>NaN</td>\n      <td>NaN</td>\n      <td>0</td>\n    </tr>\n    <tr>\n      <th>10</th>\n      <td>AN  996.1935</td>\n      <td>23 26 12.9676</td>\n      <td>+73 39 23.456</td>\n      <td>14</td>\n      <td>14</td>\n      <td>0.0126</td>\n      <td>0.0125</td>\n      <td>90</td>\n      <td>A</td>\n      <td>O</td>\n      <td>...</td>\n      <td>pc</td>\n      <td>-164.6467</td>\n      <td>164.6467</td>\n      <td>paral</td>\n      <td>2020yCat.1350....0G</td>\n      <td>12.102</td>\n      <td>13.894980</td>\n      <td>NaN</td>\n      <td>NaN</td>\n      <td>0</td>\n    </tr>\n    <tr>\n      <th>11</th>\n      <td>V* HN Dra</td>\n      <td>18 44 53.1326</td>\n      <td>+57 05 17.142</td>\n      <td>14</td>\n      <td>14</td>\n      <td>0.0163</td>\n      <td>0.0175</td>\n      <td>90</td>\n      <td>A</td>\n      <td>O</td>\n      <td>...</td>\n      <td>pc</td>\n      <td>-0.9932</td>\n      <td>0.9932</td>\n      <td>paral</td>\n      <td>2020yCat.1350....0G</td>\n      <td>NaN</td>\n      <td>8.034217</td>\n      <td>NaN</td>\n      <td>8.450000</td>\n      <td>0</td>\n    </tr>\n    <tr>\n      <th>12</th>\n      <td>V* AO Lyn</td>\n      <td>06 17 38.0280</td>\n      <td>+59 31 24.663</td>\n      <td>14</td>\n      <td>14</td>\n      <td>0.0147</td>\n      <td>0.0142</td>\n      <td>90</td>\n      <td>A</td>\n      <td>O</td>\n      <td>...</td>\n      <td>pc</td>\n      <td>-7.3234</td>\n      <td>7.3234</td>\n      <td>paral</td>\n      <td>2020yCat.1350....0G</td>\n      <td>12.868</td>\n      <td>14.808833</td>\n      <td>NaN</td>\n      <td>15.000000</td>\n      <td>0</td>\n    </tr>\n    <tr>\n      <th>13</th>\n      <td>[S96d]  916</td>\n      <td>15 06 56.5067</td>\n      <td>+67 02 37.242</td>\n      <td>14</td>\n      <td>14</td>\n      <td>0.1811</td>\n      <td>0.1677</td>\n      <td>90</td>\n      <td>A</td>\n      <td>O</td>\n      <td>...</td>\n      <td></td>\n      <td>NaN</td>\n      <td>NaN</td>\n      <td></td>\n      <td></td>\n      <td>NaN</td>\n      <td>19.237089</td>\n      <td>NaN</td>\n      <td>19.530001</td>\n      <td>0</td>\n    </tr>\n    <tr>\n      <th>14</th>\n      <td>[BFO2002] UMi 20594</td>\n      <td>15 10 41.7225</td>\n      <td>+67 16 41.774</td>\n      <td>14</td>\n      <td>14</td>\n      <td>0.2314</td>\n      <td>0.2310</td>\n      <td>90</td>\n      <td>A</td>\n      <td>O</td>\n      <td>...</td>\n      <td></td>\n      <td>NaN</td>\n      <td>NaN</td>\n      <td></td>\n      <td></td>\n      <td>NaN</td>\n      <td>19.687056</td>\n      <td>NaN</td>\n      <td>NaN</td>\n      <td>0</td>\n    </tr>\n  </tbody>\n</table>\n<p>15 rows × 23 columns</p>\n</div>"
     },
     "execution_count": 172,
     "metadata": {},
     "output_type": "execute_result"
    }
   ],
   "source": [
    "df = test_table.to_pandas()\n",
    "df"
   ],
   "metadata": {
    "collapsed": false,
    "pycharm": {
     "name": "#%%\n"
    }
   }
  },
  {
   "cell_type": "markdown",
   "source": [
    "# Scrapping the Christine Clement database of variable stars\n",
    "\n",
    "This database has a comprehensive list of a lot of pulsating stars in different clusters with their type and magnitude listed. We are going to extract all the stars in the different clusters, and name them in the following manner:\n",
    "\n",
    "`Cluster_IDnumber`\n",
    "\n",
    "We will then try to find their ID in the SIMBAD database. Hopefully there is some database out there that has the names of the different stars in a cluster, but if it does not exist we will attempt to use the coordinates of the star to find it in SIMBAD."
   ],
   "metadata": {
    "collapsed": false,
    "pycharm": {
     "name": "#%% md\n"
    }
   }
  },
  {
   "cell_type": "code",
   "execution_count": 173,
   "outputs": [],
   "source": [
    "from selenium import webdriver"
   ],
   "metadata": {
    "collapsed": false,
    "pycharm": {
     "name": "#%%\n"
    }
   }
  },
  {
   "cell_type": "code",
   "execution_count": 186,
   "outputs": [],
   "source": [
    "driver = 'C:/Users/cuco2/OneDrive/Escritorio/Physics/Year 4/Final year project/MphysProject/Drivers/chromedriver.exe'\n",
    "options = webdriver.ChromeOptions()\n",
    "# options.add_argument('headless')\n",
    "\n",
    "driver = webdriver.Chrome(executable_path = driver, options = options)"
   ],
   "metadata": {
    "collapsed": false,
    "pycharm": {
     "name": "#%%\n"
    }
   }
  },
  {
   "cell_type": "code",
   "execution_count": 187,
   "outputs": [],
   "source": [
    "url = \"http://www.astro.utoronto.ca/~cclement/cat/listngc.html\"\n",
    "driver.get(url)"
   ],
   "metadata": {
    "collapsed": false,
    "pycharm": {
     "name": "#%%\n"
    }
   }
  },
  {
   "cell_type": "code",
   "execution_count": 188,
   "outputs": [],
   "source": [
    "cluster_list_imported = driver.find_elements_by_xpath(\"//a[@href]\")\n",
    "cluster_list_cleaned = [elem.get_attribute(\"href\") for elem in cluster_list_imported]"
   ],
   "metadata": {
    "collapsed": false,
    "pycharm": {
     "name": "#%%\n"
    }
   }
  },
  {
   "cell_type": "code",
   "execution_count": 189,
   "outputs": [],
   "source": [
    "# We're removing the list with the last updates\n",
    "cluster_list_cleaned = cluster_list_cleaned[1:]"
   ],
   "metadata": {
    "collapsed": false,
    "pycharm": {
     "name": "#%%\n"
    }
   }
  },
  {
   "cell_type": "code",
   "execution_count": 190,
   "outputs": [],
   "source": [
    "# Create a function to extract the data from each of the cluster subpages\n",
    "\n",
    "import re\n",
    "from io import StringIO\n",
    "\n",
    "def extract_cluster_data(text):\n",
    "    # Create a dictionary to get rid of all the equal signs (=) as line breaks\n",
    "    dict_list = re.split(r\"=\", text)\n",
    "    dict_list = list(dict.fromkeys(dict_list))\n",
    "\n",
    "    # The actual stars are the 8th element of the list\n",
    "    # Save as StringIO so we can put it in a df later\n",
    "    data = StringIO(dict_list[7])\n",
    "\n",
    "    # This contains the information in each column of the table, the 6th element in the list\n",
    "    header = dict_list[6]\n",
    "    header = header.split(\" \")\n",
    "    header = list(dict.fromkeys(header))\n",
    "    header.remove('')\n",
    "\n",
    "    df = pd.read_csv(data, sep = \"\\s+\", names = header)\n",
    "\n",
    "    # Obtain the clusterName, the first element in the list\n",
    "    clusterName = list(re.findall(\">.*\\n*\", dict_list[3])[0])\n",
    "    clusterName.remove('>')\n",
    "    clusterName.remove('\\n')\n",
    "    clusterName = ''.join(clusterName)\n",
    "\n",
    "    # Rename the ID column so each one is called clusterName_number\n",
    "    for i in range(len(df[\"\\nID\"])):\n",
    "        df.loc[:,(\"\\nID\", i)] = f\"{clusterName}_{i+1}\"\n",
    "\n",
    "    return df"
   ],
   "metadata": {
    "collapsed": false,
    "pycharm": {
     "name": "#%%\n"
    }
   }
  },
  {
   "cell_type": "code",
   "execution_count": 194,
   "outputs": [
    {
     "ename": "ParserError",
     "evalue": "Error tokenizing data. C error: Expected 12 fields in line 3, saw 13\n",
     "output_type": "error",
     "traceback": [
      "\u001B[1;31m---------------------------------------------------------------------------\u001B[0m",
      "\u001B[1;31mParserError\u001B[0m                               Traceback (most recent call last)",
      "Input \u001B[1;32mIn [194]\u001B[0m, in \u001B[0;36m<cell line: 5>\u001B[1;34m()\u001B[0m\n\u001B[0;32m      6\u001B[0m driver\u001B[38;5;241m.\u001B[39mget(url)\n\u001B[0;32m      7\u001B[0m cluster_data \u001B[38;5;241m=\u001B[39m driver\u001B[38;5;241m.\u001B[39mpage_source\n\u001B[1;32m----> 8\u001B[0m variable_stars \u001B[38;5;241m=\u001B[39m \u001B[43mextract_cluster_data\u001B[49m\u001B[43m(\u001B[49m\u001B[43mcluster_data\u001B[49m\u001B[43m)\u001B[49m\n\u001B[0;32m      9\u001B[0m \u001B[38;5;28;01mbreak\u001B[39;00m\n",
      "Input \u001B[1;32mIn [190]\u001B[0m, in \u001B[0;36mextract_cluster_data\u001B[1;34m(text)\u001B[0m\n\u001B[0;32m     18\u001B[0m header \u001B[38;5;241m=\u001B[39m \u001B[38;5;28mlist\u001B[39m(\u001B[38;5;28mdict\u001B[39m\u001B[38;5;241m.\u001B[39mfromkeys(header))\n\u001B[0;32m     19\u001B[0m header\u001B[38;5;241m.\u001B[39mremove(\u001B[38;5;124m'\u001B[39m\u001B[38;5;124m'\u001B[39m)\n\u001B[1;32m---> 21\u001B[0m df \u001B[38;5;241m=\u001B[39m \u001B[43mpd\u001B[49m\u001B[38;5;241;43m.\u001B[39;49m\u001B[43mread_csv\u001B[49m\u001B[43m(\u001B[49m\u001B[43mdata\u001B[49m\u001B[43m,\u001B[49m\u001B[43m \u001B[49m\u001B[43msep\u001B[49m\u001B[43m \u001B[49m\u001B[38;5;241;43m=\u001B[39;49m\u001B[43m \u001B[49m\u001B[38;5;124;43m\"\u001B[39;49m\u001B[38;5;124;43m\\\u001B[39;49m\u001B[38;5;124;43ms+\u001B[39;49m\u001B[38;5;124;43m\"\u001B[39;49m\u001B[43m,\u001B[49m\u001B[43m \u001B[49m\u001B[43mnames\u001B[49m\u001B[43m \u001B[49m\u001B[38;5;241;43m=\u001B[39;49m\u001B[43m \u001B[49m\u001B[43mheader\u001B[49m\u001B[43m)\u001B[49m\n\u001B[0;32m     23\u001B[0m \u001B[38;5;66;03m# Obtain the clusterName, the first element in the list\u001B[39;00m\n\u001B[0;32m     24\u001B[0m clusterName \u001B[38;5;241m=\u001B[39m \u001B[38;5;28mlist\u001B[39m(re\u001B[38;5;241m.\u001B[39mfindall(\u001B[38;5;124m\"\u001B[39m\u001B[38;5;124m>.*\u001B[39m\u001B[38;5;130;01m\\n\u001B[39;00m\u001B[38;5;124m*\u001B[39m\u001B[38;5;124m\"\u001B[39m, dict_list[\u001B[38;5;241m3\u001B[39m])[\u001B[38;5;241m0\u001B[39m])\n",
      "File \u001B[1;32m~\\anaconda3\\Lib\\site-packages\\pandas\\util\\_decorators.py:311\u001B[0m, in \u001B[0;36mdeprecate_nonkeyword_arguments.<locals>.decorate.<locals>.wrapper\u001B[1;34m(*args, **kwargs)\u001B[0m\n\u001B[0;32m    305\u001B[0m \u001B[38;5;28;01mif\u001B[39;00m \u001B[38;5;28mlen\u001B[39m(args) \u001B[38;5;241m>\u001B[39m num_allow_args:\n\u001B[0;32m    306\u001B[0m     warnings\u001B[38;5;241m.\u001B[39mwarn(\n\u001B[0;32m    307\u001B[0m         msg\u001B[38;5;241m.\u001B[39mformat(arguments\u001B[38;5;241m=\u001B[39marguments),\n\u001B[0;32m    308\u001B[0m         \u001B[38;5;167;01mFutureWarning\u001B[39;00m,\n\u001B[0;32m    309\u001B[0m         stacklevel\u001B[38;5;241m=\u001B[39mstacklevel,\n\u001B[0;32m    310\u001B[0m     )\n\u001B[1;32m--> 311\u001B[0m \u001B[38;5;28;01mreturn\u001B[39;00m func(\u001B[38;5;241m*\u001B[39margs, \u001B[38;5;241m*\u001B[39m\u001B[38;5;241m*\u001B[39mkwargs)\n",
      "File \u001B[1;32m~\\anaconda3\\Lib\\site-packages\\pandas\\io\\parsers\\readers.py:680\u001B[0m, in \u001B[0;36mread_csv\u001B[1;34m(filepath_or_buffer, sep, delimiter, header, names, index_col, usecols, squeeze, prefix, mangle_dupe_cols, dtype, engine, converters, true_values, false_values, skipinitialspace, skiprows, skipfooter, nrows, na_values, keep_default_na, na_filter, verbose, skip_blank_lines, parse_dates, infer_datetime_format, keep_date_col, date_parser, dayfirst, cache_dates, iterator, chunksize, compression, thousands, decimal, lineterminator, quotechar, quoting, doublequote, escapechar, comment, encoding, encoding_errors, dialect, error_bad_lines, warn_bad_lines, on_bad_lines, delim_whitespace, low_memory, memory_map, float_precision, storage_options)\u001B[0m\n\u001B[0;32m    665\u001B[0m kwds_defaults \u001B[38;5;241m=\u001B[39m _refine_defaults_read(\n\u001B[0;32m    666\u001B[0m     dialect,\n\u001B[0;32m    667\u001B[0m     delimiter,\n\u001B[1;32m   (...)\u001B[0m\n\u001B[0;32m    676\u001B[0m     defaults\u001B[38;5;241m=\u001B[39m{\u001B[38;5;124m\"\u001B[39m\u001B[38;5;124mdelimiter\u001B[39m\u001B[38;5;124m\"\u001B[39m: \u001B[38;5;124m\"\u001B[39m\u001B[38;5;124m,\u001B[39m\u001B[38;5;124m\"\u001B[39m},\n\u001B[0;32m    677\u001B[0m )\n\u001B[0;32m    678\u001B[0m kwds\u001B[38;5;241m.\u001B[39mupdate(kwds_defaults)\n\u001B[1;32m--> 680\u001B[0m \u001B[38;5;28;01mreturn\u001B[39;00m \u001B[43m_read\u001B[49m\u001B[43m(\u001B[49m\u001B[43mfilepath_or_buffer\u001B[49m\u001B[43m,\u001B[49m\u001B[43m \u001B[49m\u001B[43mkwds\u001B[49m\u001B[43m)\u001B[49m\n",
      "File \u001B[1;32m~\\anaconda3\\Lib\\site-packages\\pandas\\io\\parsers\\readers.py:581\u001B[0m, in \u001B[0;36m_read\u001B[1;34m(filepath_or_buffer, kwds)\u001B[0m\n\u001B[0;32m    578\u001B[0m     \u001B[38;5;28;01mreturn\u001B[39;00m parser\n\u001B[0;32m    580\u001B[0m \u001B[38;5;28;01mwith\u001B[39;00m parser:\n\u001B[1;32m--> 581\u001B[0m     \u001B[38;5;28;01mreturn\u001B[39;00m \u001B[43mparser\u001B[49m\u001B[38;5;241;43m.\u001B[39;49m\u001B[43mread\u001B[49m\u001B[43m(\u001B[49m\u001B[43mnrows\u001B[49m\u001B[43m)\u001B[49m\n",
      "File \u001B[1;32m~\\anaconda3\\Lib\\site-packages\\pandas\\io\\parsers\\readers.py:1254\u001B[0m, in \u001B[0;36mTextFileReader.read\u001B[1;34m(self, nrows)\u001B[0m\n\u001B[0;32m   1252\u001B[0m nrows \u001B[38;5;241m=\u001B[39m validate_integer(\u001B[38;5;124m\"\u001B[39m\u001B[38;5;124mnrows\u001B[39m\u001B[38;5;124m\"\u001B[39m, nrows)\n\u001B[0;32m   1253\u001B[0m \u001B[38;5;28;01mtry\u001B[39;00m:\n\u001B[1;32m-> 1254\u001B[0m     index, columns, col_dict \u001B[38;5;241m=\u001B[39m \u001B[38;5;28;43mself\u001B[39;49m\u001B[38;5;241;43m.\u001B[39;49m\u001B[43m_engine\u001B[49m\u001B[38;5;241;43m.\u001B[39;49m\u001B[43mread\u001B[49m\u001B[43m(\u001B[49m\u001B[43mnrows\u001B[49m\u001B[43m)\u001B[49m\n\u001B[0;32m   1255\u001B[0m \u001B[38;5;28;01mexcept\u001B[39;00m \u001B[38;5;167;01mException\u001B[39;00m:\n\u001B[0;32m   1256\u001B[0m     \u001B[38;5;28mself\u001B[39m\u001B[38;5;241m.\u001B[39mclose()\n",
      "File \u001B[1;32m~\\anaconda3\\Lib\\site-packages\\pandas\\io\\parsers\\c_parser_wrapper.py:225\u001B[0m, in \u001B[0;36mCParserWrapper.read\u001B[1;34m(self, nrows)\u001B[0m\n\u001B[0;32m    223\u001B[0m \u001B[38;5;28;01mtry\u001B[39;00m:\n\u001B[0;32m    224\u001B[0m     \u001B[38;5;28;01mif\u001B[39;00m \u001B[38;5;28mself\u001B[39m\u001B[38;5;241m.\u001B[39mlow_memory:\n\u001B[1;32m--> 225\u001B[0m         chunks \u001B[38;5;241m=\u001B[39m \u001B[38;5;28;43mself\u001B[39;49m\u001B[38;5;241;43m.\u001B[39;49m\u001B[43m_reader\u001B[49m\u001B[38;5;241;43m.\u001B[39;49m\u001B[43mread_low_memory\u001B[49m\u001B[43m(\u001B[49m\u001B[43mnrows\u001B[49m\u001B[43m)\u001B[49m\n\u001B[0;32m    226\u001B[0m         \u001B[38;5;66;03m# destructive to chunks\u001B[39;00m\n\u001B[0;32m    227\u001B[0m         data \u001B[38;5;241m=\u001B[39m _concatenate_chunks(chunks)\n",
      "File \u001B[1;32m~\\anaconda3\\Lib\\site-packages\\pandas\\_libs\\parsers.pyx:805\u001B[0m, in \u001B[0;36mpandas._libs.parsers.TextReader.read_low_memory\u001B[1;34m()\u001B[0m\n",
      "File \u001B[1;32m~\\anaconda3\\Lib\\site-packages\\pandas\\_libs\\parsers.pyx:861\u001B[0m, in \u001B[0;36mpandas._libs.parsers.TextReader._read_rows\u001B[1;34m()\u001B[0m\n",
      "File \u001B[1;32m~\\anaconda3\\Lib\\site-packages\\pandas\\_libs\\parsers.pyx:847\u001B[0m, in \u001B[0;36mpandas._libs.parsers.TextReader._tokenize_rows\u001B[1;34m()\u001B[0m\n",
      "File \u001B[1;32m~\\anaconda3\\Lib\\site-packages\\pandas\\_libs\\parsers.pyx:1960\u001B[0m, in \u001B[0;36mpandas._libs.parsers.raise_parser_error\u001B[1;34m()\u001B[0m\n",
      "\u001B[1;31mParserError\u001B[0m: Error tokenizing data. C error: Expected 12 fields in line 3, saw 13\n"
     ]
    }
   ],
   "source": [
    "# create an empty df\n",
    "\n",
    "all_variable_stars = pd.DataFrame()\n",
    "\n",
    "for url in cluster_list_cleaned[3:]:\n",
    "    driver.get(url)\n",
    "    cluster_data = driver.page_source\n",
    "    variable_stars = extract_cluster_data(cluster_data)\n",
    "    break"
   ],
   "metadata": {
    "collapsed": false,
    "pycharm": {
     "name": "#%%\n"
    }
   }
  },
  {
   "cell_type": "code",
   "execution_count": 195,
   "outputs": [
    {
     "data": {
      "text/plain": "'http://www.astro.utoronto.ca/~cclement/cat/C0310m554'"
     },
     "execution_count": 195,
     "metadata": {},
     "output_type": "execute_result"
    }
   ],
   "source": [
    "cluster_list_cleaned[3]"
   ],
   "metadata": {
    "collapsed": false,
    "pycharm": {
     "name": "#%%\n"
    }
   }
  },
  {
   "cell_type": "code",
   "execution_count": 180,
   "outputs": [
    {
     "data": {
      "text/plain": "                      \\nID     Position       Period &lt;mag&gt;    ampl  \\\n0   NGC 2808  C0911-646_33  09:12:20.21  -64:52:20.5          R0   119.0   \n1   NGC 2808  C0911-646_33  09:11:55.66  -64:51:10.4          R0    ----   \n2   NGC 2808  C0911-646_33  09:12:08.38  -64:52:47.2          R0    ----   \n3   NGC 2808  C0911-646_33  09:11:33.75  -64:50:44.0          R0    ----   \n4   NGC 2808  C0911-646_33  09:12:09.58  -64:52:52.6          R0    ----   \n5   NGC 2808  C0911-646_33  09:12:30.08  -64:56:37.9          R0  0.5390   \n6   NGC 2808  C0911-646_33  09:12:13.13  -64:50:46.4          R0    ----   \n7   NGC 2808  C0911-646_33  09:12:06.56  -64:53:49.3          R0    ----   \n8   NGC 2808  C0911-646_33  09:11:53.06  -64:54:24.3          R0    ----   \n9   NGC 2808  C0911-646_33  09:11:56.85  -64:53:23.1          R0  1.7653   \n10  NGC 2808  C0911-646_33  09:12:06.73  -64:52:40.3          R0   111.0   \n11  NGC 2808  C0911-646_33  09:11:55.63  -64:50:09.5          R0  0.3058   \n12  NGC 2808  C0911-646_33  09:12:23.37  -64:57:10.8          R0    0.21   \n13  NGC 2808  C0911-646_33  09:12:13.46  -64:51:04.3          R0  0.5989   \n14  NGC 2808  C0911-646_33  09:12:10.67  -64:51:16.0          R0  0.6109   \n15  NGC 2808  C0911-646_33  09:12:09.16  -64:52:51.8          R0  0.6052   \n16  NGC 2808  C0911-646_33  09:12:07.08  -64:51:57.3          R0    0.38   \n17  NGC 2808  C0911-646_33  09:12:06.65  -64:52:17.4          R0  0.5562   \n18  NGC 2808  C0911-646_33  09:12:06.30  -64:52:10.9          R0    0.51   \n19  NGC 2808  C0911-646_33  09:12:05.58  -64:51:31.2          R0    0.29   \n20  NGC 2808  C0911-646_33  09:12:03.95  -64:51:26.1          R0    0.60   \n21  NGC 2808  C0911-646_33  09:12:03.92  -64:51:55.8          R0    0.54   \n22  NGC 2808  C0911-646_33  09:12:03.32  -64:52:20.2          R0    0.27   \n23  NGC 2808  C0911-646_33  09:12:02.73  -64:52:11.3          R0    0.27   \n24  NGC 2808  C0911-646_33  09:11:58.72  -64:51:28.5          R0  0.5156   \n25  NGC 2808  C0911-646_33  09:11:53.13  -64:51:31.1          R0    0.37   \n26  NGC 2808  C0911-646_33  09:11:53.68  -64:52:59.9          R0    0.57   \n27  NGC 2808  C0911-646_33  09:11:50.62  -64:51:28.2          R0    0.28   \n28  NGC 2808  C0911-646_33  09:12:00.58  -64:51:39.5          R0    1.97   \n29  NGC 2808  C0911-646_33  09:11:49.37  -64:51:52.8          R0    1.47   \n30  NGC 2808  C0911-646_33   09:11:57.1  -64:51:29.7          R0    60.0   \n31  NGC 2808  C0911-646_33   09:11:58.7  -64:51:28.5          R0    34.0   \n32  NGC 2808  C0911-646_33   09:11:59.2  -64:52:59.2          R0   200.0   \n\n        C  Type Notes/\\n  RA/X Dec/Y  ...                      23  \\\n0   13.53   1.4        V    SR   NaN  ...  NGC 2808  C0911-646_24   \n1      --    --      CST  Note   NaN  ...  NGC 2808  C0911-646_24   \n2      --    --      CST   NaN   NaN  ...  NGC 2808  C0911-646_24   \n3      --    --      CST  Note   NaN  ...  NGC 2808  C0911-646_24   \n4      --    --      CST   NaN   NaN  ...  NGC 2808  C0911-646_24   \n5   16.27  0.80        V   RR0   K11  ...  NGC 2808  C0911-646_24   \n6      --    --      CST   NaN   NaN  ...  NGC 2808  C0911-646_24   \n7      --    --      CST   NaN   NaN  ...  NGC 2808  C0911-646_24   \n8      --    --      CST   NaN   NaN  ...  NGC 2808  C0911-646_24   \n9   15.56  1.00        B    CW   NaN  ...  NGC 2808  C0911-646_24   \n10  13.25   1.6        V    SR   NaN  ...  NGC 2808  C0911-646_24   \n11  16.30  0.45        B   RR1   NaN  ...  NGC 2808  C0911-646_24   \n12     --    --     RR1?  Note   NaN  ...  NGC 2808  C0911-646_24   \n13  16.25  0.78        V   RR0   K11  ...  NGC 2808  C0911-646_24   \n14  16.30  0.40      RR0   K11   NaN  ...  NGC 2808  C0911-646_24   \n15  16.23  0.77      RR0   K11   NaN  ...  NGC 2808  C0911-646_24   \n16     --    --      RR1   NaN   NaN  ...  NGC 2808  C0911-646_24   \n17  16.00  0.50      RR0   K11   NaN  ...  NGC 2808  C0911-646_24   \n18     --    --      RR0   NaN   NaN  ...  NGC 2808  C0911-646_24   \n19     --    --      RR1   NaN   NaN  ...  NGC 2808  C0911-646_24   \n20     --    --      RR0   NaN   NaN  ...  NGC 2808  C0911-646_24   \n21     --    --      RR0  Note   NaN  ...  NGC 2808  C0911-646_24   \n22     --    --      RR1   NaN   NaN  ...  NGC 2808  C0911-646_24   \n23     --    --      RR1   NaN   NaN  ...  NGC 2808  C0911-646_24   \n24  16.43  0.81      RR0   K11   NaN  ...  NGC 2808  C0911-646_24   \n25     --    --      RR1   NaN   NaN  ...  NGC 2808  C0911-646_24   \n26     --    --      RR0   NaN   NaN  ...  NGC 2808  C0911-646_24   \n27     --    --      RR1   NaN   NaN  ...  NGC 2808  C0911-646_24   \n28     --    --      CW?   NaN   NaN  ...  NGC 2808  C0911-646_24   \n29     --    --       EC   NaN   NaN  ...  NGC 2808  C0911-646_24   \n30  13.40   0.5       SR   NaN   NaN  ...  NGC 2808  C0911-646_24   \n31  13.77   0.1       SR   NaN   NaN  ...  NGC 2808  C0911-646_24   \n32  13.50   0.5       SR  altP   NaN  ...  NGC 2808  C0911-646_24   \n\n                        24                      25                      26  \\\n0   NGC 2808  C0911-646_25  NGC 2808  C0911-646_26  NGC 2808  C0911-646_27   \n1   NGC 2808  C0911-646_25  NGC 2808  C0911-646_26  NGC 2808  C0911-646_27   \n2   NGC 2808  C0911-646_25  NGC 2808  C0911-646_26  NGC 2808  C0911-646_27   \n3   NGC 2808  C0911-646_25  NGC 2808  C0911-646_26  NGC 2808  C0911-646_27   \n4   NGC 2808  C0911-646_25  NGC 2808  C0911-646_26  NGC 2808  C0911-646_27   \n5   NGC 2808  C0911-646_25  NGC 2808  C0911-646_26  NGC 2808  C0911-646_27   \n6   NGC 2808  C0911-646_25  NGC 2808  C0911-646_26  NGC 2808  C0911-646_27   \n7   NGC 2808  C0911-646_25  NGC 2808  C0911-646_26  NGC 2808  C0911-646_27   \n8   NGC 2808  C0911-646_25  NGC 2808  C0911-646_26  NGC 2808  C0911-646_27   \n9   NGC 2808  C0911-646_25  NGC 2808  C0911-646_26  NGC 2808  C0911-646_27   \n10  NGC 2808  C0911-646_25  NGC 2808  C0911-646_26  NGC 2808  C0911-646_27   \n11  NGC 2808  C0911-646_25  NGC 2808  C0911-646_26  NGC 2808  C0911-646_27   \n12  NGC 2808  C0911-646_25  NGC 2808  C0911-646_26  NGC 2808  C0911-646_27   \n13  NGC 2808  C0911-646_25  NGC 2808  C0911-646_26  NGC 2808  C0911-646_27   \n14  NGC 2808  C0911-646_25  NGC 2808  C0911-646_26  NGC 2808  C0911-646_27   \n15  NGC 2808  C0911-646_25  NGC 2808  C0911-646_26  NGC 2808  C0911-646_27   \n16  NGC 2808  C0911-646_25  NGC 2808  C0911-646_26  NGC 2808  C0911-646_27   \n17  NGC 2808  C0911-646_25  NGC 2808  C0911-646_26  NGC 2808  C0911-646_27   \n18  NGC 2808  C0911-646_25  NGC 2808  C0911-646_26  NGC 2808  C0911-646_27   \n19  NGC 2808  C0911-646_25  NGC 2808  C0911-646_26  NGC 2808  C0911-646_27   \n20  NGC 2808  C0911-646_25  NGC 2808  C0911-646_26  NGC 2808  C0911-646_27   \n21  NGC 2808  C0911-646_25  NGC 2808  C0911-646_26  NGC 2808  C0911-646_27   \n22  NGC 2808  C0911-646_25  NGC 2808  C0911-646_26  NGC 2808  C0911-646_27   \n23  NGC 2808  C0911-646_25  NGC 2808  C0911-646_26  NGC 2808  C0911-646_27   \n24  NGC 2808  C0911-646_25  NGC 2808  C0911-646_26  NGC 2808  C0911-646_27   \n25  NGC 2808  C0911-646_25  NGC 2808  C0911-646_26  NGC 2808  C0911-646_27   \n26  NGC 2808  C0911-646_25  NGC 2808  C0911-646_26  NGC 2808  C0911-646_27   \n27  NGC 2808  C0911-646_25  NGC 2808  C0911-646_26  NGC 2808  C0911-646_27   \n28  NGC 2808  C0911-646_25  NGC 2808  C0911-646_26  NGC 2808  C0911-646_27   \n29  NGC 2808  C0911-646_25  NGC 2808  C0911-646_26  NGC 2808  C0911-646_27   \n30  NGC 2808  C0911-646_25  NGC 2808  C0911-646_26  NGC 2808  C0911-646_27   \n31  NGC 2808  C0911-646_25  NGC 2808  C0911-646_26  NGC 2808  C0911-646_27   \n32  NGC 2808  C0911-646_25  NGC 2808  C0911-646_26  NGC 2808  C0911-646_27   \n\n                        27                      28                      29  \\\n0   NGC 2808  C0911-646_28  NGC 2808  C0911-646_29  NGC 2808  C0911-646_30   \n1   NGC 2808  C0911-646_28  NGC 2808  C0911-646_29  NGC 2808  C0911-646_30   \n2   NGC 2808  C0911-646_28  NGC 2808  C0911-646_29  NGC 2808  C0911-646_30   \n3   NGC 2808  C0911-646_28  NGC 2808  C0911-646_29  NGC 2808  C0911-646_30   \n4   NGC 2808  C0911-646_28  NGC 2808  C0911-646_29  NGC 2808  C0911-646_30   \n5   NGC 2808  C0911-646_28  NGC 2808  C0911-646_29  NGC 2808  C0911-646_30   \n6   NGC 2808  C0911-646_28  NGC 2808  C0911-646_29  NGC 2808  C0911-646_30   \n7   NGC 2808  C0911-646_28  NGC 2808  C0911-646_29  NGC 2808  C0911-646_30   \n8   NGC 2808  C0911-646_28  NGC 2808  C0911-646_29  NGC 2808  C0911-646_30   \n9   NGC 2808  C0911-646_28  NGC 2808  C0911-646_29  NGC 2808  C0911-646_30   \n10  NGC 2808  C0911-646_28  NGC 2808  C0911-646_29  NGC 2808  C0911-646_30   \n11  NGC 2808  C0911-646_28  NGC 2808  C0911-646_29  NGC 2808  C0911-646_30   \n12  NGC 2808  C0911-646_28  NGC 2808  C0911-646_29  NGC 2808  C0911-646_30   \n13  NGC 2808  C0911-646_28  NGC 2808  C0911-646_29  NGC 2808  C0911-646_30   \n14  NGC 2808  C0911-646_28  NGC 2808  C0911-646_29  NGC 2808  C0911-646_30   \n15  NGC 2808  C0911-646_28  NGC 2808  C0911-646_29  NGC 2808  C0911-646_30   \n16  NGC 2808  C0911-646_28  NGC 2808  C0911-646_29  NGC 2808  C0911-646_30   \n17  NGC 2808  C0911-646_28  NGC 2808  C0911-646_29  NGC 2808  C0911-646_30   \n18  NGC 2808  C0911-646_28  NGC 2808  C0911-646_29  NGC 2808  C0911-646_30   \n19  NGC 2808  C0911-646_28  NGC 2808  C0911-646_29  NGC 2808  C0911-646_30   \n20  NGC 2808  C0911-646_28  NGC 2808  C0911-646_29  NGC 2808  C0911-646_30   \n21  NGC 2808  C0911-646_28  NGC 2808  C0911-646_29  NGC 2808  C0911-646_30   \n22  NGC 2808  C0911-646_28  NGC 2808  C0911-646_29  NGC 2808  C0911-646_30   \n23  NGC 2808  C0911-646_28  NGC 2808  C0911-646_29  NGC 2808  C0911-646_30   \n24  NGC 2808  C0911-646_28  NGC 2808  C0911-646_29  NGC 2808  C0911-646_30   \n25  NGC 2808  C0911-646_28  NGC 2808  C0911-646_29  NGC 2808  C0911-646_30   \n26  NGC 2808  C0911-646_28  NGC 2808  C0911-646_29  NGC 2808  C0911-646_30   \n27  NGC 2808  C0911-646_28  NGC 2808  C0911-646_29  NGC 2808  C0911-646_30   \n28  NGC 2808  C0911-646_28  NGC 2808  C0911-646_29  NGC 2808  C0911-646_30   \n29  NGC 2808  C0911-646_28  NGC 2808  C0911-646_29  NGC 2808  C0911-646_30   \n30  NGC 2808  C0911-646_28  NGC 2808  C0911-646_29  NGC 2808  C0911-646_30   \n31  NGC 2808  C0911-646_28  NGC 2808  C0911-646_29  NGC 2808  C0911-646_30   \n32  NGC 2808  C0911-646_28  NGC 2808  C0911-646_29  NGC 2808  C0911-646_30   \n\n                        30                      31                      32  \n0   NGC 2808  C0911-646_31  NGC 2808  C0911-646_32  NGC 2808  C0911-646_33  \n1   NGC 2808  C0911-646_31  NGC 2808  C0911-646_32  NGC 2808  C0911-646_33  \n2   NGC 2808  C0911-646_31  NGC 2808  C0911-646_32  NGC 2808  C0911-646_33  \n3   NGC 2808  C0911-646_31  NGC 2808  C0911-646_32  NGC 2808  C0911-646_33  \n4   NGC 2808  C0911-646_31  NGC 2808  C0911-646_32  NGC 2808  C0911-646_33  \n5   NGC 2808  C0911-646_31  NGC 2808  C0911-646_32  NGC 2808  C0911-646_33  \n6   NGC 2808  C0911-646_31  NGC 2808  C0911-646_32  NGC 2808  C0911-646_33  \n7   NGC 2808  C0911-646_31  NGC 2808  C0911-646_32  NGC 2808  C0911-646_33  \n8   NGC 2808  C0911-646_31  NGC 2808  C0911-646_32  NGC 2808  C0911-646_33  \n9   NGC 2808  C0911-646_31  NGC 2808  C0911-646_32  NGC 2808  C0911-646_33  \n10  NGC 2808  C0911-646_31  NGC 2808  C0911-646_32  NGC 2808  C0911-646_33  \n11  NGC 2808  C0911-646_31  NGC 2808  C0911-646_32  NGC 2808  C0911-646_33  \n12  NGC 2808  C0911-646_31  NGC 2808  C0911-646_32  NGC 2808  C0911-646_33  \n13  NGC 2808  C0911-646_31  NGC 2808  C0911-646_32  NGC 2808  C0911-646_33  \n14  NGC 2808  C0911-646_31  NGC 2808  C0911-646_32  NGC 2808  C0911-646_33  \n15  NGC 2808  C0911-646_31  NGC 2808  C0911-646_32  NGC 2808  C0911-646_33  \n16  NGC 2808  C0911-646_31  NGC 2808  C0911-646_32  NGC 2808  C0911-646_33  \n17  NGC 2808  C0911-646_31  NGC 2808  C0911-646_32  NGC 2808  C0911-646_33  \n18  NGC 2808  C0911-646_31  NGC 2808  C0911-646_32  NGC 2808  C0911-646_33  \n19  NGC 2808  C0911-646_31  NGC 2808  C0911-646_32  NGC 2808  C0911-646_33  \n20  NGC 2808  C0911-646_31  NGC 2808  C0911-646_32  NGC 2808  C0911-646_33  \n21  NGC 2808  C0911-646_31  NGC 2808  C0911-646_32  NGC 2808  C0911-646_33  \n22  NGC 2808  C0911-646_31  NGC 2808  C0911-646_32  NGC 2808  C0911-646_33  \n23  NGC 2808  C0911-646_31  NGC 2808  C0911-646_32  NGC 2808  C0911-646_33  \n24  NGC 2808  C0911-646_31  NGC 2808  C0911-646_32  NGC 2808  C0911-646_33  \n25  NGC 2808  C0911-646_31  NGC 2808  C0911-646_32  NGC 2808  C0911-646_33  \n26  NGC 2808  C0911-646_31  NGC 2808  C0911-646_32  NGC 2808  C0911-646_33  \n27  NGC 2808  C0911-646_31  NGC 2808  C0911-646_32  NGC 2808  C0911-646_33  \n28  NGC 2808  C0911-646_31  NGC 2808  C0911-646_32  NGC 2808  C0911-646_33  \n29  NGC 2808  C0911-646_31  NGC 2808  C0911-646_32  NGC 2808  C0911-646_33  \n30  NGC 2808  C0911-646_31  NGC 2808  C0911-646_32  NGC 2808  C0911-646_33  \n31  NGC 2808  C0911-646_31  NGC 2808  C0911-646_32  NGC 2808  C0911-646_33  \n32  NGC 2808  C0911-646_31  NGC 2808  C0911-646_32  NGC 2808  C0911-646_33  \n\n[33 rows x 45 columns]",
      "text/html": "<div>\n<style scoped>\n    .dataframe tbody tr th:only-of-type {\n        vertical-align: middle;\n    }\n\n    .dataframe tbody tr th {\n        vertical-align: top;\n    }\n\n    .dataframe thead th {\n        text-align: right;\n    }\n</style>\n<table border=\"1\" class=\"dataframe\">\n  <thead>\n    <tr style=\"text-align: right;\">\n      <th></th>\n      <th>\\nID</th>\n      <th>Position</th>\n      <th>Period</th>\n      <th>&amp;lt;mag&amp;gt;</th>\n      <th>ampl</th>\n      <th>C</th>\n      <th>Type</th>\n      <th>Notes/\\n</th>\n      <th>RA/X</th>\n      <th>Dec/Y</th>\n      <th>...</th>\n      <th>23</th>\n      <th>24</th>\n      <th>25</th>\n      <th>26</th>\n      <th>27</th>\n      <th>28</th>\n      <th>29</th>\n      <th>30</th>\n      <th>31</th>\n      <th>32</th>\n    </tr>\n  </thead>\n  <tbody>\n    <tr>\n      <th>0</th>\n      <td>NGC 2808  C0911-646_33</td>\n      <td>09:12:20.21</td>\n      <td>-64:52:20.5</td>\n      <td>R0</td>\n      <td>119.0</td>\n      <td>13.53</td>\n      <td>1.4</td>\n      <td>V</td>\n      <td>SR</td>\n      <td>NaN</td>\n      <td>...</td>\n      <td>NGC 2808  C0911-646_24</td>\n      <td>NGC 2808  C0911-646_25</td>\n      <td>NGC 2808  C0911-646_26</td>\n      <td>NGC 2808  C0911-646_27</td>\n      <td>NGC 2808  C0911-646_28</td>\n      <td>NGC 2808  C0911-646_29</td>\n      <td>NGC 2808  C0911-646_30</td>\n      <td>NGC 2808  C0911-646_31</td>\n      <td>NGC 2808  C0911-646_32</td>\n      <td>NGC 2808  C0911-646_33</td>\n    </tr>\n    <tr>\n      <th>1</th>\n      <td>NGC 2808  C0911-646_33</td>\n      <td>09:11:55.66</td>\n      <td>-64:51:10.4</td>\n      <td>R0</td>\n      <td>----</td>\n      <td>--</td>\n      <td>--</td>\n      <td>CST</td>\n      <td>Note</td>\n      <td>NaN</td>\n      <td>...</td>\n      <td>NGC 2808  C0911-646_24</td>\n      <td>NGC 2808  C0911-646_25</td>\n      <td>NGC 2808  C0911-646_26</td>\n      <td>NGC 2808  C0911-646_27</td>\n      <td>NGC 2808  C0911-646_28</td>\n      <td>NGC 2808  C0911-646_29</td>\n      <td>NGC 2808  C0911-646_30</td>\n      <td>NGC 2808  C0911-646_31</td>\n      <td>NGC 2808  C0911-646_32</td>\n      <td>NGC 2808  C0911-646_33</td>\n    </tr>\n    <tr>\n      <th>2</th>\n      <td>NGC 2808  C0911-646_33</td>\n      <td>09:12:08.38</td>\n      <td>-64:52:47.2</td>\n      <td>R0</td>\n      <td>----</td>\n      <td>--</td>\n      <td>--</td>\n      <td>CST</td>\n      <td>NaN</td>\n      <td>NaN</td>\n      <td>...</td>\n      <td>NGC 2808  C0911-646_24</td>\n      <td>NGC 2808  C0911-646_25</td>\n      <td>NGC 2808  C0911-646_26</td>\n      <td>NGC 2808  C0911-646_27</td>\n      <td>NGC 2808  C0911-646_28</td>\n      <td>NGC 2808  C0911-646_29</td>\n      <td>NGC 2808  C0911-646_30</td>\n      <td>NGC 2808  C0911-646_31</td>\n      <td>NGC 2808  C0911-646_32</td>\n      <td>NGC 2808  C0911-646_33</td>\n    </tr>\n    <tr>\n      <th>3</th>\n      <td>NGC 2808  C0911-646_33</td>\n      <td>09:11:33.75</td>\n      <td>-64:50:44.0</td>\n      <td>R0</td>\n      <td>----</td>\n      <td>--</td>\n      <td>--</td>\n      <td>CST</td>\n      <td>Note</td>\n      <td>NaN</td>\n      <td>...</td>\n      <td>NGC 2808  C0911-646_24</td>\n      <td>NGC 2808  C0911-646_25</td>\n      <td>NGC 2808  C0911-646_26</td>\n      <td>NGC 2808  C0911-646_27</td>\n      <td>NGC 2808  C0911-646_28</td>\n      <td>NGC 2808  C0911-646_29</td>\n      <td>NGC 2808  C0911-646_30</td>\n      <td>NGC 2808  C0911-646_31</td>\n      <td>NGC 2808  C0911-646_32</td>\n      <td>NGC 2808  C0911-646_33</td>\n    </tr>\n    <tr>\n      <th>4</th>\n      <td>NGC 2808  C0911-646_33</td>\n      <td>09:12:09.58</td>\n      <td>-64:52:52.6</td>\n      <td>R0</td>\n      <td>----</td>\n      <td>--</td>\n      <td>--</td>\n      <td>CST</td>\n      <td>NaN</td>\n      <td>NaN</td>\n      <td>...</td>\n      <td>NGC 2808  C0911-646_24</td>\n      <td>NGC 2808  C0911-646_25</td>\n      <td>NGC 2808  C0911-646_26</td>\n      <td>NGC 2808  C0911-646_27</td>\n      <td>NGC 2808  C0911-646_28</td>\n      <td>NGC 2808  C0911-646_29</td>\n      <td>NGC 2808  C0911-646_30</td>\n      <td>NGC 2808  C0911-646_31</td>\n      <td>NGC 2808  C0911-646_32</td>\n      <td>NGC 2808  C0911-646_33</td>\n    </tr>\n    <tr>\n      <th>5</th>\n      <td>NGC 2808  C0911-646_33</td>\n      <td>09:12:30.08</td>\n      <td>-64:56:37.9</td>\n      <td>R0</td>\n      <td>0.5390</td>\n      <td>16.27</td>\n      <td>0.80</td>\n      <td>V</td>\n      <td>RR0</td>\n      <td>K11</td>\n      <td>...</td>\n      <td>NGC 2808  C0911-646_24</td>\n      <td>NGC 2808  C0911-646_25</td>\n      <td>NGC 2808  C0911-646_26</td>\n      <td>NGC 2808  C0911-646_27</td>\n      <td>NGC 2808  C0911-646_28</td>\n      <td>NGC 2808  C0911-646_29</td>\n      <td>NGC 2808  C0911-646_30</td>\n      <td>NGC 2808  C0911-646_31</td>\n      <td>NGC 2808  C0911-646_32</td>\n      <td>NGC 2808  C0911-646_33</td>\n    </tr>\n    <tr>\n      <th>6</th>\n      <td>NGC 2808  C0911-646_33</td>\n      <td>09:12:13.13</td>\n      <td>-64:50:46.4</td>\n      <td>R0</td>\n      <td>----</td>\n      <td>--</td>\n      <td>--</td>\n      <td>CST</td>\n      <td>NaN</td>\n      <td>NaN</td>\n      <td>...</td>\n      <td>NGC 2808  C0911-646_24</td>\n      <td>NGC 2808  C0911-646_25</td>\n      <td>NGC 2808  C0911-646_26</td>\n      <td>NGC 2808  C0911-646_27</td>\n      <td>NGC 2808  C0911-646_28</td>\n      <td>NGC 2808  C0911-646_29</td>\n      <td>NGC 2808  C0911-646_30</td>\n      <td>NGC 2808  C0911-646_31</td>\n      <td>NGC 2808  C0911-646_32</td>\n      <td>NGC 2808  C0911-646_33</td>\n    </tr>\n    <tr>\n      <th>7</th>\n      <td>NGC 2808  C0911-646_33</td>\n      <td>09:12:06.56</td>\n      <td>-64:53:49.3</td>\n      <td>R0</td>\n      <td>----</td>\n      <td>--</td>\n      <td>--</td>\n      <td>CST</td>\n      <td>NaN</td>\n      <td>NaN</td>\n      <td>...</td>\n      <td>NGC 2808  C0911-646_24</td>\n      <td>NGC 2808  C0911-646_25</td>\n      <td>NGC 2808  C0911-646_26</td>\n      <td>NGC 2808  C0911-646_27</td>\n      <td>NGC 2808  C0911-646_28</td>\n      <td>NGC 2808  C0911-646_29</td>\n      <td>NGC 2808  C0911-646_30</td>\n      <td>NGC 2808  C0911-646_31</td>\n      <td>NGC 2808  C0911-646_32</td>\n      <td>NGC 2808  C0911-646_33</td>\n    </tr>\n    <tr>\n      <th>8</th>\n      <td>NGC 2808  C0911-646_33</td>\n      <td>09:11:53.06</td>\n      <td>-64:54:24.3</td>\n      <td>R0</td>\n      <td>----</td>\n      <td>--</td>\n      <td>--</td>\n      <td>CST</td>\n      <td>NaN</td>\n      <td>NaN</td>\n      <td>...</td>\n      <td>NGC 2808  C0911-646_24</td>\n      <td>NGC 2808  C0911-646_25</td>\n      <td>NGC 2808  C0911-646_26</td>\n      <td>NGC 2808  C0911-646_27</td>\n      <td>NGC 2808  C0911-646_28</td>\n      <td>NGC 2808  C0911-646_29</td>\n      <td>NGC 2808  C0911-646_30</td>\n      <td>NGC 2808  C0911-646_31</td>\n      <td>NGC 2808  C0911-646_32</td>\n      <td>NGC 2808  C0911-646_33</td>\n    </tr>\n    <tr>\n      <th>9</th>\n      <td>NGC 2808  C0911-646_33</td>\n      <td>09:11:56.85</td>\n      <td>-64:53:23.1</td>\n      <td>R0</td>\n      <td>1.7653</td>\n      <td>15.56</td>\n      <td>1.00</td>\n      <td>B</td>\n      <td>CW</td>\n      <td>NaN</td>\n      <td>...</td>\n      <td>NGC 2808  C0911-646_24</td>\n      <td>NGC 2808  C0911-646_25</td>\n      <td>NGC 2808  C0911-646_26</td>\n      <td>NGC 2808  C0911-646_27</td>\n      <td>NGC 2808  C0911-646_28</td>\n      <td>NGC 2808  C0911-646_29</td>\n      <td>NGC 2808  C0911-646_30</td>\n      <td>NGC 2808  C0911-646_31</td>\n      <td>NGC 2808  C0911-646_32</td>\n      <td>NGC 2808  C0911-646_33</td>\n    </tr>\n    <tr>\n      <th>10</th>\n      <td>NGC 2808  C0911-646_33</td>\n      <td>09:12:06.73</td>\n      <td>-64:52:40.3</td>\n      <td>R0</td>\n      <td>111.0</td>\n      <td>13.25</td>\n      <td>1.6</td>\n      <td>V</td>\n      <td>SR</td>\n      <td>NaN</td>\n      <td>...</td>\n      <td>NGC 2808  C0911-646_24</td>\n      <td>NGC 2808  C0911-646_25</td>\n      <td>NGC 2808  C0911-646_26</td>\n      <td>NGC 2808  C0911-646_27</td>\n      <td>NGC 2808  C0911-646_28</td>\n      <td>NGC 2808  C0911-646_29</td>\n      <td>NGC 2808  C0911-646_30</td>\n      <td>NGC 2808  C0911-646_31</td>\n      <td>NGC 2808  C0911-646_32</td>\n      <td>NGC 2808  C0911-646_33</td>\n    </tr>\n    <tr>\n      <th>11</th>\n      <td>NGC 2808  C0911-646_33</td>\n      <td>09:11:55.63</td>\n      <td>-64:50:09.5</td>\n      <td>R0</td>\n      <td>0.3058</td>\n      <td>16.30</td>\n      <td>0.45</td>\n      <td>B</td>\n      <td>RR1</td>\n      <td>NaN</td>\n      <td>...</td>\n      <td>NGC 2808  C0911-646_24</td>\n      <td>NGC 2808  C0911-646_25</td>\n      <td>NGC 2808  C0911-646_26</td>\n      <td>NGC 2808  C0911-646_27</td>\n      <td>NGC 2808  C0911-646_28</td>\n      <td>NGC 2808  C0911-646_29</td>\n      <td>NGC 2808  C0911-646_30</td>\n      <td>NGC 2808  C0911-646_31</td>\n      <td>NGC 2808  C0911-646_32</td>\n      <td>NGC 2808  C0911-646_33</td>\n    </tr>\n    <tr>\n      <th>12</th>\n      <td>NGC 2808  C0911-646_33</td>\n      <td>09:12:23.37</td>\n      <td>-64:57:10.8</td>\n      <td>R0</td>\n      <td>0.21</td>\n      <td>--</td>\n      <td>--</td>\n      <td>RR1?</td>\n      <td>Note</td>\n      <td>NaN</td>\n      <td>...</td>\n      <td>NGC 2808  C0911-646_24</td>\n      <td>NGC 2808  C0911-646_25</td>\n      <td>NGC 2808  C0911-646_26</td>\n      <td>NGC 2808  C0911-646_27</td>\n      <td>NGC 2808  C0911-646_28</td>\n      <td>NGC 2808  C0911-646_29</td>\n      <td>NGC 2808  C0911-646_30</td>\n      <td>NGC 2808  C0911-646_31</td>\n      <td>NGC 2808  C0911-646_32</td>\n      <td>NGC 2808  C0911-646_33</td>\n    </tr>\n    <tr>\n      <th>13</th>\n      <td>NGC 2808  C0911-646_33</td>\n      <td>09:12:13.46</td>\n      <td>-64:51:04.3</td>\n      <td>R0</td>\n      <td>0.5989</td>\n      <td>16.25</td>\n      <td>0.78</td>\n      <td>V</td>\n      <td>RR0</td>\n      <td>K11</td>\n      <td>...</td>\n      <td>NGC 2808  C0911-646_24</td>\n      <td>NGC 2808  C0911-646_25</td>\n      <td>NGC 2808  C0911-646_26</td>\n      <td>NGC 2808  C0911-646_27</td>\n      <td>NGC 2808  C0911-646_28</td>\n      <td>NGC 2808  C0911-646_29</td>\n      <td>NGC 2808  C0911-646_30</td>\n      <td>NGC 2808  C0911-646_31</td>\n      <td>NGC 2808  C0911-646_32</td>\n      <td>NGC 2808  C0911-646_33</td>\n    </tr>\n    <tr>\n      <th>14</th>\n      <td>NGC 2808  C0911-646_33</td>\n      <td>09:12:10.67</td>\n      <td>-64:51:16.0</td>\n      <td>R0</td>\n      <td>0.6109</td>\n      <td>16.30</td>\n      <td>0.40</td>\n      <td>RR0</td>\n      <td>K11</td>\n      <td>NaN</td>\n      <td>...</td>\n      <td>NGC 2808  C0911-646_24</td>\n      <td>NGC 2808  C0911-646_25</td>\n      <td>NGC 2808  C0911-646_26</td>\n      <td>NGC 2808  C0911-646_27</td>\n      <td>NGC 2808  C0911-646_28</td>\n      <td>NGC 2808  C0911-646_29</td>\n      <td>NGC 2808  C0911-646_30</td>\n      <td>NGC 2808  C0911-646_31</td>\n      <td>NGC 2808  C0911-646_32</td>\n      <td>NGC 2808  C0911-646_33</td>\n    </tr>\n    <tr>\n      <th>15</th>\n      <td>NGC 2808  C0911-646_33</td>\n      <td>09:12:09.16</td>\n      <td>-64:52:51.8</td>\n      <td>R0</td>\n      <td>0.6052</td>\n      <td>16.23</td>\n      <td>0.77</td>\n      <td>RR0</td>\n      <td>K11</td>\n      <td>NaN</td>\n      <td>...</td>\n      <td>NGC 2808  C0911-646_24</td>\n      <td>NGC 2808  C0911-646_25</td>\n      <td>NGC 2808  C0911-646_26</td>\n      <td>NGC 2808  C0911-646_27</td>\n      <td>NGC 2808  C0911-646_28</td>\n      <td>NGC 2808  C0911-646_29</td>\n      <td>NGC 2808  C0911-646_30</td>\n      <td>NGC 2808  C0911-646_31</td>\n      <td>NGC 2808  C0911-646_32</td>\n      <td>NGC 2808  C0911-646_33</td>\n    </tr>\n    <tr>\n      <th>16</th>\n      <td>NGC 2808  C0911-646_33</td>\n      <td>09:12:07.08</td>\n      <td>-64:51:57.3</td>\n      <td>R0</td>\n      <td>0.38</td>\n      <td>--</td>\n      <td>--</td>\n      <td>RR1</td>\n      <td>NaN</td>\n      <td>NaN</td>\n      <td>...</td>\n      <td>NGC 2808  C0911-646_24</td>\n      <td>NGC 2808  C0911-646_25</td>\n      <td>NGC 2808  C0911-646_26</td>\n      <td>NGC 2808  C0911-646_27</td>\n      <td>NGC 2808  C0911-646_28</td>\n      <td>NGC 2808  C0911-646_29</td>\n      <td>NGC 2808  C0911-646_30</td>\n      <td>NGC 2808  C0911-646_31</td>\n      <td>NGC 2808  C0911-646_32</td>\n      <td>NGC 2808  C0911-646_33</td>\n    </tr>\n    <tr>\n      <th>17</th>\n      <td>NGC 2808  C0911-646_33</td>\n      <td>09:12:06.65</td>\n      <td>-64:52:17.4</td>\n      <td>R0</td>\n      <td>0.5562</td>\n      <td>16.00</td>\n      <td>0.50</td>\n      <td>RR0</td>\n      <td>K11</td>\n      <td>NaN</td>\n      <td>...</td>\n      <td>NGC 2808  C0911-646_24</td>\n      <td>NGC 2808  C0911-646_25</td>\n      <td>NGC 2808  C0911-646_26</td>\n      <td>NGC 2808  C0911-646_27</td>\n      <td>NGC 2808  C0911-646_28</td>\n      <td>NGC 2808  C0911-646_29</td>\n      <td>NGC 2808  C0911-646_30</td>\n      <td>NGC 2808  C0911-646_31</td>\n      <td>NGC 2808  C0911-646_32</td>\n      <td>NGC 2808  C0911-646_33</td>\n    </tr>\n    <tr>\n      <th>18</th>\n      <td>NGC 2808  C0911-646_33</td>\n      <td>09:12:06.30</td>\n      <td>-64:52:10.9</td>\n      <td>R0</td>\n      <td>0.51</td>\n      <td>--</td>\n      <td>--</td>\n      <td>RR0</td>\n      <td>NaN</td>\n      <td>NaN</td>\n      <td>...</td>\n      <td>NGC 2808  C0911-646_24</td>\n      <td>NGC 2808  C0911-646_25</td>\n      <td>NGC 2808  C0911-646_26</td>\n      <td>NGC 2808  C0911-646_27</td>\n      <td>NGC 2808  C0911-646_28</td>\n      <td>NGC 2808  C0911-646_29</td>\n      <td>NGC 2808  C0911-646_30</td>\n      <td>NGC 2808  C0911-646_31</td>\n      <td>NGC 2808  C0911-646_32</td>\n      <td>NGC 2808  C0911-646_33</td>\n    </tr>\n    <tr>\n      <th>19</th>\n      <td>NGC 2808  C0911-646_33</td>\n      <td>09:12:05.58</td>\n      <td>-64:51:31.2</td>\n      <td>R0</td>\n      <td>0.29</td>\n      <td>--</td>\n      <td>--</td>\n      <td>RR1</td>\n      <td>NaN</td>\n      <td>NaN</td>\n      <td>...</td>\n      <td>NGC 2808  C0911-646_24</td>\n      <td>NGC 2808  C0911-646_25</td>\n      <td>NGC 2808  C0911-646_26</td>\n      <td>NGC 2808  C0911-646_27</td>\n      <td>NGC 2808  C0911-646_28</td>\n      <td>NGC 2808  C0911-646_29</td>\n      <td>NGC 2808  C0911-646_30</td>\n      <td>NGC 2808  C0911-646_31</td>\n      <td>NGC 2808  C0911-646_32</td>\n      <td>NGC 2808  C0911-646_33</td>\n    </tr>\n    <tr>\n      <th>20</th>\n      <td>NGC 2808  C0911-646_33</td>\n      <td>09:12:03.95</td>\n      <td>-64:51:26.1</td>\n      <td>R0</td>\n      <td>0.60</td>\n      <td>--</td>\n      <td>--</td>\n      <td>RR0</td>\n      <td>NaN</td>\n      <td>NaN</td>\n      <td>...</td>\n      <td>NGC 2808  C0911-646_24</td>\n      <td>NGC 2808  C0911-646_25</td>\n      <td>NGC 2808  C0911-646_26</td>\n      <td>NGC 2808  C0911-646_27</td>\n      <td>NGC 2808  C0911-646_28</td>\n      <td>NGC 2808  C0911-646_29</td>\n      <td>NGC 2808  C0911-646_30</td>\n      <td>NGC 2808  C0911-646_31</td>\n      <td>NGC 2808  C0911-646_32</td>\n      <td>NGC 2808  C0911-646_33</td>\n    </tr>\n    <tr>\n      <th>21</th>\n      <td>NGC 2808  C0911-646_33</td>\n      <td>09:12:03.92</td>\n      <td>-64:51:55.8</td>\n      <td>R0</td>\n      <td>0.54</td>\n      <td>--</td>\n      <td>--</td>\n      <td>RR0</td>\n      <td>Note</td>\n      <td>NaN</td>\n      <td>...</td>\n      <td>NGC 2808  C0911-646_24</td>\n      <td>NGC 2808  C0911-646_25</td>\n      <td>NGC 2808  C0911-646_26</td>\n      <td>NGC 2808  C0911-646_27</td>\n      <td>NGC 2808  C0911-646_28</td>\n      <td>NGC 2808  C0911-646_29</td>\n      <td>NGC 2808  C0911-646_30</td>\n      <td>NGC 2808  C0911-646_31</td>\n      <td>NGC 2808  C0911-646_32</td>\n      <td>NGC 2808  C0911-646_33</td>\n    </tr>\n    <tr>\n      <th>22</th>\n      <td>NGC 2808  C0911-646_33</td>\n      <td>09:12:03.32</td>\n      <td>-64:52:20.2</td>\n      <td>R0</td>\n      <td>0.27</td>\n      <td>--</td>\n      <td>--</td>\n      <td>RR1</td>\n      <td>NaN</td>\n      <td>NaN</td>\n      <td>...</td>\n      <td>NGC 2808  C0911-646_24</td>\n      <td>NGC 2808  C0911-646_25</td>\n      <td>NGC 2808  C0911-646_26</td>\n      <td>NGC 2808  C0911-646_27</td>\n      <td>NGC 2808  C0911-646_28</td>\n      <td>NGC 2808  C0911-646_29</td>\n      <td>NGC 2808  C0911-646_30</td>\n      <td>NGC 2808  C0911-646_31</td>\n      <td>NGC 2808  C0911-646_32</td>\n      <td>NGC 2808  C0911-646_33</td>\n    </tr>\n    <tr>\n      <th>23</th>\n      <td>NGC 2808  C0911-646_33</td>\n      <td>09:12:02.73</td>\n      <td>-64:52:11.3</td>\n      <td>R0</td>\n      <td>0.27</td>\n      <td>--</td>\n      <td>--</td>\n      <td>RR1</td>\n      <td>NaN</td>\n      <td>NaN</td>\n      <td>...</td>\n      <td>NGC 2808  C0911-646_24</td>\n      <td>NGC 2808  C0911-646_25</td>\n      <td>NGC 2808  C0911-646_26</td>\n      <td>NGC 2808  C0911-646_27</td>\n      <td>NGC 2808  C0911-646_28</td>\n      <td>NGC 2808  C0911-646_29</td>\n      <td>NGC 2808  C0911-646_30</td>\n      <td>NGC 2808  C0911-646_31</td>\n      <td>NGC 2808  C0911-646_32</td>\n      <td>NGC 2808  C0911-646_33</td>\n    </tr>\n    <tr>\n      <th>24</th>\n      <td>NGC 2808  C0911-646_33</td>\n      <td>09:11:58.72</td>\n      <td>-64:51:28.5</td>\n      <td>R0</td>\n      <td>0.5156</td>\n      <td>16.43</td>\n      <td>0.81</td>\n      <td>RR0</td>\n      <td>K11</td>\n      <td>NaN</td>\n      <td>...</td>\n      <td>NGC 2808  C0911-646_24</td>\n      <td>NGC 2808  C0911-646_25</td>\n      <td>NGC 2808  C0911-646_26</td>\n      <td>NGC 2808  C0911-646_27</td>\n      <td>NGC 2808  C0911-646_28</td>\n      <td>NGC 2808  C0911-646_29</td>\n      <td>NGC 2808  C0911-646_30</td>\n      <td>NGC 2808  C0911-646_31</td>\n      <td>NGC 2808  C0911-646_32</td>\n      <td>NGC 2808  C0911-646_33</td>\n    </tr>\n    <tr>\n      <th>25</th>\n      <td>NGC 2808  C0911-646_33</td>\n      <td>09:11:53.13</td>\n      <td>-64:51:31.1</td>\n      <td>R0</td>\n      <td>0.37</td>\n      <td>--</td>\n      <td>--</td>\n      <td>RR1</td>\n      <td>NaN</td>\n      <td>NaN</td>\n      <td>...</td>\n      <td>NGC 2808  C0911-646_24</td>\n      <td>NGC 2808  C0911-646_25</td>\n      <td>NGC 2808  C0911-646_26</td>\n      <td>NGC 2808  C0911-646_27</td>\n      <td>NGC 2808  C0911-646_28</td>\n      <td>NGC 2808  C0911-646_29</td>\n      <td>NGC 2808  C0911-646_30</td>\n      <td>NGC 2808  C0911-646_31</td>\n      <td>NGC 2808  C0911-646_32</td>\n      <td>NGC 2808  C0911-646_33</td>\n    </tr>\n    <tr>\n      <th>26</th>\n      <td>NGC 2808  C0911-646_33</td>\n      <td>09:11:53.68</td>\n      <td>-64:52:59.9</td>\n      <td>R0</td>\n      <td>0.57</td>\n      <td>--</td>\n      <td>--</td>\n      <td>RR0</td>\n      <td>NaN</td>\n      <td>NaN</td>\n      <td>...</td>\n      <td>NGC 2808  C0911-646_24</td>\n      <td>NGC 2808  C0911-646_25</td>\n      <td>NGC 2808  C0911-646_26</td>\n      <td>NGC 2808  C0911-646_27</td>\n      <td>NGC 2808  C0911-646_28</td>\n      <td>NGC 2808  C0911-646_29</td>\n      <td>NGC 2808  C0911-646_30</td>\n      <td>NGC 2808  C0911-646_31</td>\n      <td>NGC 2808  C0911-646_32</td>\n      <td>NGC 2808  C0911-646_33</td>\n    </tr>\n    <tr>\n      <th>27</th>\n      <td>NGC 2808  C0911-646_33</td>\n      <td>09:11:50.62</td>\n      <td>-64:51:28.2</td>\n      <td>R0</td>\n      <td>0.28</td>\n      <td>--</td>\n      <td>--</td>\n      <td>RR1</td>\n      <td>NaN</td>\n      <td>NaN</td>\n      <td>...</td>\n      <td>NGC 2808  C0911-646_24</td>\n      <td>NGC 2808  C0911-646_25</td>\n      <td>NGC 2808  C0911-646_26</td>\n      <td>NGC 2808  C0911-646_27</td>\n      <td>NGC 2808  C0911-646_28</td>\n      <td>NGC 2808  C0911-646_29</td>\n      <td>NGC 2808  C0911-646_30</td>\n      <td>NGC 2808  C0911-646_31</td>\n      <td>NGC 2808  C0911-646_32</td>\n      <td>NGC 2808  C0911-646_33</td>\n    </tr>\n    <tr>\n      <th>28</th>\n      <td>NGC 2808  C0911-646_33</td>\n      <td>09:12:00.58</td>\n      <td>-64:51:39.5</td>\n      <td>R0</td>\n      <td>1.97</td>\n      <td>--</td>\n      <td>--</td>\n      <td>CW?</td>\n      <td>NaN</td>\n      <td>NaN</td>\n      <td>...</td>\n      <td>NGC 2808  C0911-646_24</td>\n      <td>NGC 2808  C0911-646_25</td>\n      <td>NGC 2808  C0911-646_26</td>\n      <td>NGC 2808  C0911-646_27</td>\n      <td>NGC 2808  C0911-646_28</td>\n      <td>NGC 2808  C0911-646_29</td>\n      <td>NGC 2808  C0911-646_30</td>\n      <td>NGC 2808  C0911-646_31</td>\n      <td>NGC 2808  C0911-646_32</td>\n      <td>NGC 2808  C0911-646_33</td>\n    </tr>\n    <tr>\n      <th>29</th>\n      <td>NGC 2808  C0911-646_33</td>\n      <td>09:11:49.37</td>\n      <td>-64:51:52.8</td>\n      <td>R0</td>\n      <td>1.47</td>\n      <td>--</td>\n      <td>--</td>\n      <td>EC</td>\n      <td>NaN</td>\n      <td>NaN</td>\n      <td>...</td>\n      <td>NGC 2808  C0911-646_24</td>\n      <td>NGC 2808  C0911-646_25</td>\n      <td>NGC 2808  C0911-646_26</td>\n      <td>NGC 2808  C0911-646_27</td>\n      <td>NGC 2808  C0911-646_28</td>\n      <td>NGC 2808  C0911-646_29</td>\n      <td>NGC 2808  C0911-646_30</td>\n      <td>NGC 2808  C0911-646_31</td>\n      <td>NGC 2808  C0911-646_32</td>\n      <td>NGC 2808  C0911-646_33</td>\n    </tr>\n    <tr>\n      <th>30</th>\n      <td>NGC 2808  C0911-646_33</td>\n      <td>09:11:57.1</td>\n      <td>-64:51:29.7</td>\n      <td>R0</td>\n      <td>60.0</td>\n      <td>13.40</td>\n      <td>0.5</td>\n      <td>SR</td>\n      <td>NaN</td>\n      <td>NaN</td>\n      <td>...</td>\n      <td>NGC 2808  C0911-646_24</td>\n      <td>NGC 2808  C0911-646_25</td>\n      <td>NGC 2808  C0911-646_26</td>\n      <td>NGC 2808  C0911-646_27</td>\n      <td>NGC 2808  C0911-646_28</td>\n      <td>NGC 2808  C0911-646_29</td>\n      <td>NGC 2808  C0911-646_30</td>\n      <td>NGC 2808  C0911-646_31</td>\n      <td>NGC 2808  C0911-646_32</td>\n      <td>NGC 2808  C0911-646_33</td>\n    </tr>\n    <tr>\n      <th>31</th>\n      <td>NGC 2808  C0911-646_33</td>\n      <td>09:11:58.7</td>\n      <td>-64:51:28.5</td>\n      <td>R0</td>\n      <td>34.0</td>\n      <td>13.77</td>\n      <td>0.1</td>\n      <td>SR</td>\n      <td>NaN</td>\n      <td>NaN</td>\n      <td>...</td>\n      <td>NGC 2808  C0911-646_24</td>\n      <td>NGC 2808  C0911-646_25</td>\n      <td>NGC 2808  C0911-646_26</td>\n      <td>NGC 2808  C0911-646_27</td>\n      <td>NGC 2808  C0911-646_28</td>\n      <td>NGC 2808  C0911-646_29</td>\n      <td>NGC 2808  C0911-646_30</td>\n      <td>NGC 2808  C0911-646_31</td>\n      <td>NGC 2808  C0911-646_32</td>\n      <td>NGC 2808  C0911-646_33</td>\n    </tr>\n    <tr>\n      <th>32</th>\n      <td>NGC 2808  C0911-646_33</td>\n      <td>09:11:59.2</td>\n      <td>-64:52:59.2</td>\n      <td>R0</td>\n      <td>200.0</td>\n      <td>13.50</td>\n      <td>0.5</td>\n      <td>SR</td>\n      <td>altP</td>\n      <td>NaN</td>\n      <td>...</td>\n      <td>NGC 2808  C0911-646_24</td>\n      <td>NGC 2808  C0911-646_25</td>\n      <td>NGC 2808  C0911-646_26</td>\n      <td>NGC 2808  C0911-646_27</td>\n      <td>NGC 2808  C0911-646_28</td>\n      <td>NGC 2808  C0911-646_29</td>\n      <td>NGC 2808  C0911-646_30</td>\n      <td>NGC 2808  C0911-646_31</td>\n      <td>NGC 2808  C0911-646_32</td>\n      <td>NGC 2808  C0911-646_33</td>\n    </tr>\n  </tbody>\n</table>\n<p>33 rows × 45 columns</p>\n</div>"
     },
     "execution_count": 180,
     "metadata": {},
     "output_type": "execute_result"
    }
   ],
   "source": [
    "variable_stars"
   ],
   "metadata": {
    "collapsed": false,
    "pycharm": {
     "name": "#%%\n"
    }
   }
  },
  {
   "cell_type": "code",
   "execution_count": 181,
   "outputs": [
    {
     "name": "stdout",
     "output_type": "stream",
     "text": [
      "None\n",
      "None\n",
      "None\n",
      "None\n",
      "None\n",
      "None\n",
      "None\n",
      "None\n",
      "None\n",
      "None\n",
      "None\n",
      "None\n",
      "None\n",
      "None\n",
      "None\n",
      "None\n",
      "None\n",
      "None\n",
      "None\n",
      "None\n",
      "None\n",
      "None\n",
      "None\n",
      "None\n",
      "None\n",
      "None\n",
      "None\n",
      "None\n",
      "None\n",
      "None\n",
      "None\n",
      "None\n",
      "None\n",
      "None\n",
      "None\n",
      "None\n",
      "None\n",
      "None\n",
      "None\n",
      "None\n",
      "None\n",
      "None\n",
      "None\n",
      "None\n",
      "None\n",
      "None\n",
      "None\n",
      "None\n",
      "None\n",
      "None\n",
      "None\n",
      "None\n",
      "None\n",
      "None\n",
      "None\n",
      "None\n",
      "None\n",
      "None\n",
      "None\n",
      "None\n",
      "None\n",
      "None\n",
      "None\n",
      "None\n",
      "None\n",
      "None\n",
      "None\n",
      "None\n",
      "None\n",
      "None\n",
      "None\n",
      "None\n",
      "None\n",
      "None\n",
      "None\n",
      "None\n",
      "None\n",
      "None\n",
      "None\n",
      "None\n",
      "None\n",
      "None\n",
      "None\n",
      "None\n",
      "None\n",
      "None\n",
      "None\n",
      "None\n",
      "None\n",
      "None\n",
      "None\n",
      "None\n",
      "None\n",
      "None\n",
      "None\n",
      "None\n",
      "None\n",
      "None\n",
      "None\n",
      "None\n",
      "None\n",
      "None\n",
      "None\n",
      "None\n",
      "None\n",
      "None\n",
      "None\n",
      "None\n",
      "None\n",
      "None\n",
      "None\n",
      "None\n",
      "None\n",
      "None\n",
      "None\n",
      "None\n",
      "None\n",
      "None\n",
      "None\n",
      "None\n",
      "None\n",
      "None\n",
      "None\n",
      "None\n",
      "None\n",
      "None\n",
      "None\n",
      "None\n",
      "None\n",
      "None\n",
      "None\n",
      "None\n",
      "None\n",
      "None\n",
      "None\n",
      "None\n",
      "None\n",
      "None\n",
      "None\n",
      "None\n",
      "None\n",
      "None\n",
      "None\n",
      "None\n",
      "None\n",
      "None\n",
      "None\n",
      "None\n",
      "None\n",
      "None\n"
     ]
    }
   ],
   "source": [
    "for url in cluster_list_cleaned:\n",
    "    print(driver.get(url))\n"
   ],
   "metadata": {
    "collapsed": false,
    "pycharm": {
     "name": "#%%\n"
    }
   }
  },
  {
   "cell_type": "code",
   "execution_count": 182,
   "outputs": [
    {
     "data": {
      "text/plain": "   \\nID     Position       Period &lt;mag&gt;      ampl      C  Type Notes/\\n  \\\n0     1  00:52:41.13  -26:33:27.2          R0  103.0000  12.40  0.22        V   \n1     2  00:52:46.64  -26:34:07.4          R0    0.6777  15.18  1.12        V   \n2     3  00:52:40.21  -26:32:28.8          R0    0.4302  15.14  0.45        V   \n3     4  00:52:42.80  -26:34:45.4          R0    0.0791  17.24  0.30        V   \n4     5  00:52:44.98  -26:33:52.1          R0    0.0511  17.54  0.46        V   \n5     6  00:52:42.40  -26:34:54.6          R0    0.0672  17.28  0.41        V   \n6     7  00:52:41.39  -26:33:59.7          R0    0.0400  17.92  0.06        V   \n7     8  00:52:44.27  -26:33:59.6          R0    0.0465  17.78  0.06        V   \n8     9  00:52:42.88  -26:34:09.6          R0    0.0394  17.52  0.05        V   \n9    10  00:52:47.86  -26:33:01.9          R0    0.4387  19.09  0.38        V   \n\n    RA/X     Dec/Y  Units  Remarks\\n  \n0     SR      Note    NaN        NaN  \n1    RR0       NaN    NaN        NaN  \n2    RR1       NaN    NaN        NaN  \n3  SXPHE       NaN    NaN        NaN  \n4  SXPHE       NaN    NaN        NaN  \n5  SXPHE       NaN    NaN        NaN  \n6  SXPHE       NaN    NaN        NaN  \n7  SXPHE       NaN    NaN        NaN  \n8  SXPHE       NaN    NaN        NaN  \n9     EC  max;Note    NaN        NaN  ",
      "text/html": "<div>\n<style scoped>\n    .dataframe tbody tr th:only-of-type {\n        vertical-align: middle;\n    }\n\n    .dataframe tbody tr th {\n        vertical-align: top;\n    }\n\n    .dataframe thead th {\n        text-align: right;\n    }\n</style>\n<table border=\"1\" class=\"dataframe\">\n  <thead>\n    <tr style=\"text-align: right;\">\n      <th></th>\n      <th>\\nID</th>\n      <th>Position</th>\n      <th>Period</th>\n      <th>&amp;lt;mag&amp;gt;</th>\n      <th>ampl</th>\n      <th>C</th>\n      <th>Type</th>\n      <th>Notes/\\n</th>\n      <th>RA/X</th>\n      <th>Dec/Y</th>\n      <th>Units</th>\n      <th>Remarks\\n</th>\n    </tr>\n  </thead>\n  <tbody>\n    <tr>\n      <th>0</th>\n      <td>1</td>\n      <td>00:52:41.13</td>\n      <td>-26:33:27.2</td>\n      <td>R0</td>\n      <td>103.0000</td>\n      <td>12.40</td>\n      <td>0.22</td>\n      <td>V</td>\n      <td>SR</td>\n      <td>Note</td>\n      <td>NaN</td>\n      <td>NaN</td>\n    </tr>\n    <tr>\n      <th>1</th>\n      <td>2</td>\n      <td>00:52:46.64</td>\n      <td>-26:34:07.4</td>\n      <td>R0</td>\n      <td>0.6777</td>\n      <td>15.18</td>\n      <td>1.12</td>\n      <td>V</td>\n      <td>RR0</td>\n      <td>NaN</td>\n      <td>NaN</td>\n      <td>NaN</td>\n    </tr>\n    <tr>\n      <th>2</th>\n      <td>3</td>\n      <td>00:52:40.21</td>\n      <td>-26:32:28.8</td>\n      <td>R0</td>\n      <td>0.4302</td>\n      <td>15.14</td>\n      <td>0.45</td>\n      <td>V</td>\n      <td>RR1</td>\n      <td>NaN</td>\n      <td>NaN</td>\n      <td>NaN</td>\n    </tr>\n    <tr>\n      <th>3</th>\n      <td>4</td>\n      <td>00:52:42.80</td>\n      <td>-26:34:45.4</td>\n      <td>R0</td>\n      <td>0.0791</td>\n      <td>17.24</td>\n      <td>0.30</td>\n      <td>V</td>\n      <td>SXPHE</td>\n      <td>NaN</td>\n      <td>NaN</td>\n      <td>NaN</td>\n    </tr>\n    <tr>\n      <th>4</th>\n      <td>5</td>\n      <td>00:52:44.98</td>\n      <td>-26:33:52.1</td>\n      <td>R0</td>\n      <td>0.0511</td>\n      <td>17.54</td>\n      <td>0.46</td>\n      <td>V</td>\n      <td>SXPHE</td>\n      <td>NaN</td>\n      <td>NaN</td>\n      <td>NaN</td>\n    </tr>\n    <tr>\n      <th>5</th>\n      <td>6</td>\n      <td>00:52:42.40</td>\n      <td>-26:34:54.6</td>\n      <td>R0</td>\n      <td>0.0672</td>\n      <td>17.28</td>\n      <td>0.41</td>\n      <td>V</td>\n      <td>SXPHE</td>\n      <td>NaN</td>\n      <td>NaN</td>\n      <td>NaN</td>\n    </tr>\n    <tr>\n      <th>6</th>\n      <td>7</td>\n      <td>00:52:41.39</td>\n      <td>-26:33:59.7</td>\n      <td>R0</td>\n      <td>0.0400</td>\n      <td>17.92</td>\n      <td>0.06</td>\n      <td>V</td>\n      <td>SXPHE</td>\n      <td>NaN</td>\n      <td>NaN</td>\n      <td>NaN</td>\n    </tr>\n    <tr>\n      <th>7</th>\n      <td>8</td>\n      <td>00:52:44.27</td>\n      <td>-26:33:59.6</td>\n      <td>R0</td>\n      <td>0.0465</td>\n      <td>17.78</td>\n      <td>0.06</td>\n      <td>V</td>\n      <td>SXPHE</td>\n      <td>NaN</td>\n      <td>NaN</td>\n      <td>NaN</td>\n    </tr>\n    <tr>\n      <th>8</th>\n      <td>9</td>\n      <td>00:52:42.88</td>\n      <td>-26:34:09.6</td>\n      <td>R0</td>\n      <td>0.0394</td>\n      <td>17.52</td>\n      <td>0.05</td>\n      <td>V</td>\n      <td>SXPHE</td>\n      <td>NaN</td>\n      <td>NaN</td>\n      <td>NaN</td>\n    </tr>\n    <tr>\n      <th>9</th>\n      <td>10</td>\n      <td>00:52:47.86</td>\n      <td>-26:33:01.9</td>\n      <td>R0</td>\n      <td>0.4387</td>\n      <td>19.09</td>\n      <td>0.38</td>\n      <td>V</td>\n      <td>EC</td>\n      <td>max;Note</td>\n      <td>NaN</td>\n      <td>NaN</td>\n    </tr>\n  </tbody>\n</table>\n</div>"
     },
     "execution_count": 182,
     "metadata": {},
     "output_type": "execute_result"
    }
   ],
   "source": [
    "\n",
    "\n",
    "mylist = re.split(r\"=\", h)\n",
    "mylist = list(dict.fromkeys(mylist))\n",
    "data = StringIO(mylist[7])\n",
    "\n",
    "header = mylist[6]\n",
    "header = header.split(\" \")\n",
    "header = list(dict.fromkeys(header))\n",
    "header.remove('')\n",
    "\n",
    "df = pd.read_csv(data, sep = \"\\s+\", names = header)\n",
    "df"
   ],
   "metadata": {
    "collapsed": false,
    "pycharm": {
     "name": "#%%\n"
    }
   }
  },
  {
   "cell_type": "code",
   "execution_count": 183,
   "outputs": [],
   "source": [
    "clusterName = list(re.findall(\">.*\\n*\", mylist[3])[0])\n",
    "clusterName.remove('>')\n",
    "clusterName.remove('\\n')\n",
    "clusterName = ''.join(clusterName)"
   ],
   "metadata": {
    "collapsed": false,
    "pycharm": {
     "name": "#%%\n"
    }
   }
  },
  {
   "cell_type": "code",
   "execution_count": 184,
   "outputs": [
    {
     "name": "stderr",
     "output_type": "stream",
     "text": [
      "C:\\Users\\cuco2\\AppData\\Local\\Temp\\ipykernel_26100\\2954064726.py:2: SettingWithCopyWarning: \n",
      "A value is trying to be set on a copy of a slice from a DataFrame\n",
      "\n",
      "See the caveats in the documentation: https://pandas.pydata.org/pandas-docs/stable/user_guide/indexing.html#returning-a-view-versus-a-copy\n",
      "  df[\"\\nID\"].loc[i] = f\"{clusterName}_{i+1}\"\n"
     ]
    }
   ],
   "source": [
    "for i in range(len(df[\"\\nID\"])):\n",
    "    df[\"\\nID\"].loc[i] = f\"{clusterName}_{i+1}\""
   ],
   "metadata": {
    "collapsed": false,
    "pycharm": {
     "name": "#%%\n"
    }
   }
  },
  {
   "cell_type": "code",
   "execution_count": 185,
   "outputs": [],
   "source": [],
   "metadata": {
    "collapsed": false,
    "pycharm": {
     "name": "#%%\n"
    }
   }
  }
 ],
 "metadata": {
  "kernelspec": {
   "display_name": "Python 3",
   "language": "python",
   "name": "python3"
  },
  "language_info": {
   "codemirror_mode": {
    "name": "ipython",
    "version": 2
   },
   "file_extension": ".py",
   "mimetype": "text/x-python",
   "name": "python",
   "nbconvert_exporter": "python",
   "pygments_lexer": "ipython2",
   "version": "2.7.6"
  }
 },
 "nbformat": 4,
 "nbformat_minor": 0
}