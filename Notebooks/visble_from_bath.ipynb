{
 "cells": [
  {
   "cell_type": "markdown",
   "source": [
    "# Some setup stuff\n",
    "\n",
    "Here we will be setting up some stuff that will be helpful going forward, such as the location of Bath and the time of the Vernal Equinox of the year 2022."
   ],
   "metadata": {
    "collapsed": false,
    "pycharm": {
     "name": "#%% md\n"
    }
   }
  },
  {
   "cell_type": "code",
   "execution_count": 2,
   "outputs": [],
   "source": [
    "bath_latitude = 51.37\n",
    "bath_longitude = -2.36"
   ],
   "metadata": {
    "collapsed": false,
    "pycharm": {
     "name": "#%%\n"
    }
   }
  },
  {
   "cell_type": "markdown",
   "source": [
    "## Increasing the RA\n",
    "\n",
    "The Right Ascension in most databases is measured at the vernal equinox, the 20th of March. However, since the Earth moves around the Sun it is not the same all year around. Each day the Earth covers 360/365 degrees of its rotation, and each hour, since it rotates a full 360º it covers 15º. As such, each day the RA increases\n",
    "\n",
    "$$\\Delta RA = \\frac{360}{365*15}$$\n",
    "\n",
    "This cell will end up not being relevant to the calculations, but it is still useful to understand how RA works. This [video](https://www.youtube.com/watch?v=kejolGai7X8&list=PLX2gX-ftPVXU3BfWLJfmXfGD08cIit5CI&index=9) I have found explains it quite well."
   ],
   "metadata": {
    "collapsed": false,
    "pycharm": {
     "name": "#%% md\n"
    }
   }
  },
  {
   "cell_type": "markdown",
   "source": [
    "## The sidereal time\n",
    "\n",
    "For these observations we use sidereal time. A sidereal day takes a little less than a solar day, 23h 56 min instead of the usual 24h. This is the time it takes for the Earth to fully rotate around its axis. This is useful because any object crosses the upper meridian when the sidereal time is equal to the object's Right Ascension ([source](https://lco.global/spacebook/sky/sidereal-time/)).\n",
    "\n",
    "A solar day lasts 24h because it takes that amount of time for the same spot in the Earth to be facing the Sun, since not only does the Earth rotate, but it also moves around the Sun.\n",
    "\n",
    "Here we are simply computing the sidereal time at Bath right now (whenever _now_ is). This is UTC time, which matches the GMT timezone. At the time of writing this (19th of October), the timezone in Bath is GMT + 1, but that will change on the 30th of October when Daylight saving time is implemented, and we will be back in the GMT/UTC timezone."
   ],
   "metadata": {
    "collapsed": false,
    "pycharm": {
     "name": "#%% md\n"
    }
   }
  },
  {
   "cell_type": "code",
   "execution_count": 3,
   "outputs": [],
   "source": [
    "# Obtain sidereal time\n",
    "from astropy.coordinates import EarthLocation\n",
    "from astropy.time import Time\n",
    "from astropy import units as u\n",
    "import datetime\n",
    "\n",
    "observing_location = EarthLocation(lat=bath_latitude*u.deg, lon=bath_longitude*u.deg)\n",
    "observing_time = Time(datetime.datetime.utcnow(), scale='utc', location=observing_location)\n",
    "LST = observing_time.sidereal_time('mean')"
   ],
   "metadata": {
    "collapsed": false,
    "pycharm": {
     "name": "#%%\n"
    }
   }
  },
  {
   "cell_type": "markdown",
   "source": [
    "## The sidereal time at the time of observation\n",
    "\n",
    "Following the same procedure as above, we can compute the sidereal time of the day of observation. I have coded the program to automatically use the day of whenever it's ran on, but it can be changed to any random date. Since we are currently UTC + 1 I have coded the observation to start at 19:15 (20:15 Bath time) and finishing at 1:00 (2:00 Bath time). This has to be changed manually in the 30th, and an hour added to both cases.\n",
    "\n",
    "Once we have the sidereal times of both the start and the end, we can use it to find which stars are visible."
   ],
   "metadata": {
    "collapsed": false,
    "pycharm": {
     "name": "#%% md\n"
    }
   }
  },
  {
   "cell_type": "code",
   "execution_count": 4,
   "outputs": [],
   "source": [
    "date_today = datetime.datetime.today().strftime('%Y-%m-%d')\n",
    "date_tomorrow = (datetime.datetime.today() + datetime.timedelta(days=1)).strftime('%Y-%m-%d')\n",
    "times = [f'{date_today}T19:15:00', f'{date_tomorrow}T1:00:00']# In UTC, change on 30th October\n",
    "\n",
    "t = Time(times, format='isot', scale='utc')"
   ],
   "metadata": {
    "collapsed": false,
    "pycharm": {
     "name": "#%%\n"
    }
   }
  },
  {
   "cell_type": "code",
   "execution_count": 5,
   "outputs": [],
   "source": [
    "import re\n",
    "\n",
    "start_end_times = re.split(' ',str(t.sidereal_time('apparent', bath_longitude)))\n",
    "start_sidereal_time = start_end_times[0].strip('[]')[:-5] # Keeping it to 4 decimals\n",
    "end_sidereal_time = start_end_times[1].strip('[]')[:-5]\n",
    "\n",
    "# Formatting it to hh mm ss so it has the same format as the RA\n",
    "\n",
    "start_sidereal_time = start_sidereal_time.replace('h', ' ').replace('m', ' ')\n",
    "end_sidereal_time = end_sidereal_time.replace('h', ' ').replace('m', ' ')"
   ],
   "metadata": {
    "collapsed": false,
    "pycharm": {
     "name": "#%%\n"
    }
   }
  },
  {
   "cell_type": "markdown",
   "source": [
    "## Getting the right ascension of all stars of our query\n",
    "\n",
    "Here we are importing the dataframe with the stars of the Monson et al paper, which I saved as a pickle in that notebook. We also split the Right Ascension column into hours minutes and seconds to make calculations later on a bit simpler. With such a small dataset, the impact on performance is not huge, and it makes things much easier."
   ],
   "metadata": {
    "collapsed": false,
    "pycharm": {
     "name": "#%% md\n"
    }
   }
  },
  {
   "cell_type": "code",
   "execution_count": 6,
   "outputs": [],
   "source": [
    "import pandas as pd\n",
    "simbad_df = pd.read_pickle('Monson_stars_simbad.pkl')"
   ],
   "metadata": {
    "collapsed": false,
    "pycharm": {
     "name": "#%%\n"
    }
   }
  },
  {
   "cell_type": "markdown",
   "source": [
    "## Getting the declination of all stars of our query\n",
    "\n",
    "Same thing as before, but now we do it with the declination column. It's split into three: degrees, minutes and seconds."
   ],
   "metadata": {
    "collapsed": false,
    "pycharm": {
     "name": "#%% md\n"
    }
   }
  },
  {
   "cell_type": "code",
   "execution_count": 7,
   "outputs": [],
   "source": [
    "simbad_df['DEC degrees'] = simbad_df['DEC'].str[0:3].astype(float)\n",
    "simbad_df['DEC minutes'] = simbad_df['DEC'].str[4:6].astype(float)\n",
    "simbad_df['DEC seconds'] = simbad_df['DEC'].str[7:].astype(float)"
   ],
   "metadata": {
    "collapsed": false,
    "pycharm": {
     "name": "#%%\n"
    }
   }
  },
  {
   "cell_type": "markdown",
   "source": [
    "# Finding the hour angle of different stars\n",
    "\n",
    "In order to actually compute which stars are visible we are using the hour angle, i.e. how far away from the meridian it is at the beginning and end of our observations. In order to calculate the hour angle we are using the following formula:\n",
    "\n",
    "$$\\mathrm{LHA}_{\\mathrm{object}} = \\mathrm{LST}-\\alpha_{\\mathrm{object}}$$\n",
    "\n",
    "where $\\mathrm{LHA}_{\\mathrm{object}}$ is the Local Hour Angle of the given object, LST is the local sidereal time and $\\alpha_{\\mathrm{object}}$ is the Right Ascension of the object. We split it into hours, minutes and seconds and then put it back together."
   ],
   "metadata": {
    "collapsed": false,
    "pycharm": {
     "name": "#%% md\n"
    }
   }
  },
  {
   "cell_type": "code",
   "execution_count": 8,
   "outputs": [],
   "source": [
    "def formatTimedelta(td):\n",
    "    \"\"\"\n",
    "    format a timedelta object to string, in HH:MM:SS format (seconds floored).\n",
    "    negative timedeltas will be prefixed with a minus, '-'.\n",
    "    \"\"\"\n",
    "    total = td.total_seconds()\n",
    "    prefix, total = ('-', total*-1) if total < 0 else ('', total)\n",
    "    h, r = divmod(total, 3600)\n",
    "    m, s = divmod(r, 60)\n",
    "    return f\"{prefix}{int(h):02d}:{int(m):02d}:{int(s):02d}\"\n",
    "\n",
    "simbad_df['start sidereal time'] = start_sidereal_time\n",
    "simbad_df['end sidereal time'] = end_sidereal_time\n",
    "\n",
    "FMT = '%H %M %S.%f'\n",
    "simbad_df['RA'] = pd.to_datetime(simbad_df['RA'], format = FMT)\n",
    "simbad_df['start sidereal time'] = pd.to_datetime(simbad_df['start sidereal time'], format = FMT)\n",
    "simbad_df['end sidereal time'] = pd.to_datetime(simbad_df['end sidereal time'], format = FMT)\n",
    "\n",
    "\n",
    "\n",
    "\n",
    "simbad_df['Start hour angle'] = ((simbad_df['start sidereal time'] - simbad_df['RA'])).apply(formatTimedelta)\n",
    "simbad_df['End hour angle'] = ((simbad_df['end sidereal time']-simbad_df['RA'])).apply(formatTimedelta)\n",
    "# simbad_df['Time observable'] = (simbad_df['Start hour angle'] - simbad_df['End hour angle'])"
   ],
   "metadata": {
    "collapsed": false,
    "pycharm": {
     "name": "#%%\n"
    }
   }
  },
  {
   "cell_type": "code",
   "execution_count": 9,
   "outputs": [],
   "source": [
    "\n",
    "\n",
    "fmt = '%H:%M:%S'\n",
    "neg_fmt = '-%H:%M:%S'\n",
    "\n",
    "midday = datetime.datetime.strptime('1 Jan 1900 12:00:00', '%d %b %Y %H:%M:%S')\n",
    "midnight = datetime.datetime.strptime('2 Jan 1900 00:00:00', '%d %b %Y %H:%M:%S')\n",
    "\n",
    "start_ha_series = simbad_df['Start hour angle'].reset_index(drop = True)\n",
    "end_ha_series = simbad_df['End hour angle'].reset_index(drop = True)\n",
    "for start_ha, start_ha_index, end_ha, end_ha_index in zip(start_ha_series, start_ha_series.index, end_ha_series, end_ha_series.index):\n",
    "    try:\n",
    "        start_dt = datetime.datetime.strptime(start_ha, fmt)\n",
    "        if start_dt > midday:\n",
    "            corrected_start_time = midnight-start_dt\n",
    "            corrected_start_time_string = f\"-{corrected_start_time}\"\n",
    "        else:\n",
    "            corrected_start_time_string = start_dt.strftime('%H:%M:%S')\n",
    "\n",
    "\n",
    "    except ValueError:\n",
    "        start_dt = datetime.datetime.strptime(start_ha, neg_fmt)\n",
    "        if start_dt < midday:\n",
    "            corrected_start_time_string = f\"-{start_dt.strftime('%H:%M:%S')}\"\n",
    "        else:\n",
    "            corrected_start_time = midnight-start_dt\n",
    "            corrected_start_time_string = f\"-{corrected_start_time}\"\n",
    "    finally:\n",
    "        start_ha_series.iloc[start_ha_index] = corrected_start_time_string\n",
    "\n",
    "    try:\n",
    "        end_dt = datetime.datetime.strptime(end_ha, fmt)\n",
    "        if end_dt > midday:\n",
    "            corrected_end_time = midnight-end_dt\n",
    "            corrected_end_time_string = f\"-{corrected_end_time}\"\n",
    "        else:\n",
    "            corrected_end_time_string = end_dt.strftime('%H:%M:%S')\n",
    "\n",
    "    except ValueError:\n",
    "        end_dt = datetime.datetime.strptime(end_ha, neg_fmt)\n",
    "        if end_dt < midday:\n",
    "            corrected_end_time_string = f\"-{end_dt.strftime('%H:%M:%S')}\"\n",
    "        else:\n",
    "            corrected_end_time = midnight-end_dt\n",
    "            corrected_end_time_string = f\"-{corrected_end_time}\"\n",
    "    finally:\n",
    "        end_ha_series.iloc[end_ha_index] = corrected_end_time_string"
   ],
   "metadata": {
    "collapsed": false,
    "pycharm": {
     "name": "#%%\n"
    }
   }
  },
  {
   "cell_type": "code",
   "execution_count": 10,
   "outputs": [],
   "source": [
    "simbad_df['Start hour angle folded'] = start_ha_series.values\n",
    "simbad_df['End hour angle folded'] = end_ha_series.values"
   ],
   "metadata": {
    "collapsed": false,
    "pycharm": {
     "name": "#%%\n"
    }
   }
  },
  {
   "cell_type": "markdown",
   "source": [
    "# Finding the observable stars\n",
    "\n"
   ],
   "metadata": {
    "collapsed": false,
    "pycharm": {
     "name": "#%% md\n"
    }
   }
  },
  {
   "cell_type": "markdown",
   "source": [
    "## Circumpolar star\n",
    "\n",
    "A circumpolar star never sets, but it rotates around the celestial north pole. The amount of circumpolar stars depends on latitude. There are, for example, no circumpolar stars in the equator, and all of the stars are circumpolar at the poles. A star will be circumpolar if\n",
    "$$ \\theta + \\delta > 90º$$\n",
    "\n",
    "where $\\theta$ is the latitude and $\\delta$ is the declination."
   ],
   "metadata": {
    "collapsed": false,
    "pycharm": {
     "name": "#%% md\n"
    }
   }
  },
  {
   "cell_type": "code",
   "execution_count": 11,
   "outputs": [],
   "source": [
    "circumpolar_stars = simbad_df[simbad_df['DEC degrees'] + bath_latitude > 90]"
   ],
   "metadata": {
    "collapsed": false,
    "pycharm": {
     "name": "#%%\n"
    }
   }
  },
  {
   "cell_type": "markdown",
   "source": [
    "## Discriminating based on RA and Dec\n",
    "\n",
    "Aside from the circumpolar stars, we want something that will be close to the Meridian at the time of observation. This means an hour angle of $\\pm3$ hrs or less, which amounts to $\\pm 45$º in the East to West plane. Each hour it will move 15º, so that something that starts with an HA = 3hrs at 8pm will cross the meridian at 11pm. Using the hour angle allows us to circumvent calculating which stars are not observable in this coordinate, since anything not visible will have an hour angle too large.\n",
    "\n",
    "In terms of declination, we want something that is visible from Bath. Since we are not at the equator, the stars will not be where its declination says (in the North to South direction), but instead the following correction must be applied:\n",
    "\n",
    "$$\\mathrm{Dec}_{\\mathrm{Bath}} = \\mathrm{Dec} - \\mathrm{lat}$$\n",
    "\n",
    "This will tell us what angle the star has with respect to the zenith. To avoid light pollution and trees we can limit the observable declination to 30º in each direction, so that we are left with a small circle in the sky with our observable stars."
   ],
   "metadata": {
    "collapsed": false,
    "pycharm": {
     "name": "#%% md\n"
    }
   }
  },
  {
   "cell_type": "code",
   "execution_count": 12,
   "outputs": [],
   "source": [
    "def compare_ha(hour_angle):\n",
    "    h, m, s = re.split(':',hour_angle)\n",
    "    if 3 > int(h) > -3:\n",
    "        return True\n",
    "    else:\n",
    "        return False\n",
    "\n",
    "def visible_for_calculator(hour_angle):\n",
    "    h, m, s = re.split(':', hour_angle)\n",
    "    h = int(h)\n",
    "    m = int(m)\n",
    "    s = int(s)\n",
    "    if 3 > h > 0:\n",
    "        seconds = 60 - s\n",
    "        minutes = 60 - m - 1\n",
    "        hours = 3 - h - 1\n",
    "        return(f'{hours}:{minutes}:{seconds}')\n",
    "    elif -3 < h < 0:\n",
    "        seconds = s\n",
    "        minutes = m\n",
    "        hours = 3 - h\n",
    "        return(f'{hours}:{minutes}:{seconds}')\n",
    "    elif h == 0:\n",
    "        if hour_angle[0] == '-':\n",
    "            seconds = s\n",
    "            minutes = m\n",
    "            hours = 3\n",
    "            return(f'{hours}:{minutes}:{seconds}')\n",
    "        else:\n",
    "            seconds = 60 - s\n",
    "            minutes = 60 - m - 1\n",
    "            hours = 2\n",
    "            return(f'{hours}:{minutes}:{seconds}')\n",
    "    elif -3 < h + 6 <= 3:\n",
    "        final_hour = h + 6\n",
    "        foo = final_hour + 3 - 1\n",
    "        minutes = 60 - m - 1\n",
    "        seconds = 60 - s\n",
    "        return(f'{foo}:{minutes}:{seconds}')\n",
    "    else:\n",
    "        return(\"Not observable\")\n",
    "\n"
   ],
   "metadata": {
    "collapsed": false,
    "pycharm": {
     "name": "#%%\n"
    }
   }
  },
  {
   "cell_type": "code",
   "execution_count": 13,
   "outputs": [],
   "source": [
    "pd.options.mode.chained_assignment = None\n",
    "\n",
    "ra_observable = simbad_df[simbad_df['Start hour angle folded'].apply(compare_ha)]\n",
    "ra_observable['Visible for'] = ra_observable['Start hour angle folded'].apply(visible_for_calculator)\n",
    "\n",
    "dec_observable = ra_observable[(ra_observable['DEC degrees']-bath_latitude < 30) & (ra_observable['DEC degrees']-bath_latitude > -30)]\n",
    "\n",
    "# dec_observable = pd.concat([dec_observable, circumpolar_stars])\n",
    "# Here I just get rid of the columns I made for the operations\n",
    "dec_observable = dec_observable.drop(columns = ['DEC degrees', 'DEC minutes', 'DEC seconds', 'start sidereal time', 'end sidereal time', 'Start hour angle', 'End hour angle'])\n"
   ],
   "metadata": {
    "collapsed": false,
    "pycharm": {
     "name": "#%%\n"
    }
   }
  },
  {
   "cell_type": "code",
   "execution_count": 14,
   "outputs": [
    {
     "data": {
      "text/plain": "     MAIN_ID                         RA            DEC  RA_PREC  DEC_PREC  \\\n0  V* UY Cyg 1900-01-01 20:56:28.303000  +30 25 40.327       14        14   \n0  V* XZ Cyg 1900-01-01 19:32:29.305000  +56 23 17.494       14        14   \n0  V* RR Lyr 1900-01-01 19:25:27.912900  +42 47 03.693       14        14   \n0  V* AV Peg 1900-01-01 21:52:02.794500  +22 34 29.376       14        14   \n0  V* RZ Cep 1900-01-01 22:39:13.176800  +64 51 30.611       14        14   \n\n   COO_ERR_MAJA  COO_ERR_MINA  COO_ERR_ANGLE COO_QUAL COO_WAVELENGTH  ...  \\\n0        0.0102        0.0154             90        A              O  ...   \n0        0.0135        0.0147             90        A              O  ...   \n0        0.0224        0.0242             90        A              O  ...   \n0        0.0144        0.0134             90        A              O  ...   \n0        0.0108        0.0099             90        A              O  ...   \n\n  Distance_method     Distance_bibcode FLUX_K     FLUX_G  FLUX_R  FLUX_B  \\\n0           paral  2020yCat.1350....0G  9.715  11.017679     NaN   11.37   \n0           paral  2020yCat.1350....0G  8.884   9.913754     NaN    9.94   \n0           paral  2020yCat.1350....0G  6.648   7.618805     7.6    7.36   \n0           paral  2020yCat.1350....0G  9.322  10.531158     NaN   10.07   \n0           paral  2020yCat.1350....0G  7.968   9.294270     9.3    9.48   \n\n  SCRIPT_NUMBER_ID Start hour angle folded  End hour angle folded  Visible for  \n0                1                00:21:45               -6:07:43      2:38:15  \n0                1                01:45:44               -7:31:42      1:14:16  \n0                1                01:52:46               -7:38:43       1:7:14  \n0                1               -00:33:48               -5:12:08      3:33:48  \n0                1               -01:20:59               -4:24:58      4:20:59  \n\n[5 rows x 26 columns]",
      "text/html": "<div>\n<style scoped>\n    .dataframe tbody tr th:only-of-type {\n        vertical-align: middle;\n    }\n\n    .dataframe tbody tr th {\n        vertical-align: top;\n    }\n\n    .dataframe thead th {\n        text-align: right;\n    }\n</style>\n<table border=\"1\" class=\"dataframe\">\n  <thead>\n    <tr style=\"text-align: right;\">\n      <th></th>\n      <th>MAIN_ID</th>\n      <th>RA</th>\n      <th>DEC</th>\n      <th>RA_PREC</th>\n      <th>DEC_PREC</th>\n      <th>COO_ERR_MAJA</th>\n      <th>COO_ERR_MINA</th>\n      <th>COO_ERR_ANGLE</th>\n      <th>COO_QUAL</th>\n      <th>COO_WAVELENGTH</th>\n      <th>...</th>\n      <th>Distance_method</th>\n      <th>Distance_bibcode</th>\n      <th>FLUX_K</th>\n      <th>FLUX_G</th>\n      <th>FLUX_R</th>\n      <th>FLUX_B</th>\n      <th>SCRIPT_NUMBER_ID</th>\n      <th>Start hour angle folded</th>\n      <th>End hour angle folded</th>\n      <th>Visible for</th>\n    </tr>\n  </thead>\n  <tbody>\n    <tr>\n      <th>0</th>\n      <td>V* UY Cyg</td>\n      <td>1900-01-01 20:56:28.303000</td>\n      <td>+30 25 40.327</td>\n      <td>14</td>\n      <td>14</td>\n      <td>0.0102</td>\n      <td>0.0154</td>\n      <td>90</td>\n      <td>A</td>\n      <td>O</td>\n      <td>...</td>\n      <td>paral</td>\n      <td>2020yCat.1350....0G</td>\n      <td>9.715</td>\n      <td>11.017679</td>\n      <td>NaN</td>\n      <td>11.37</td>\n      <td>1</td>\n      <td>00:21:45</td>\n      <td>-6:07:43</td>\n      <td>2:38:15</td>\n    </tr>\n    <tr>\n      <th>0</th>\n      <td>V* XZ Cyg</td>\n      <td>1900-01-01 19:32:29.305000</td>\n      <td>+56 23 17.494</td>\n      <td>14</td>\n      <td>14</td>\n      <td>0.0135</td>\n      <td>0.0147</td>\n      <td>90</td>\n      <td>A</td>\n      <td>O</td>\n      <td>...</td>\n      <td>paral</td>\n      <td>2020yCat.1350....0G</td>\n      <td>8.884</td>\n      <td>9.913754</td>\n      <td>NaN</td>\n      <td>9.94</td>\n      <td>1</td>\n      <td>01:45:44</td>\n      <td>-7:31:42</td>\n      <td>1:14:16</td>\n    </tr>\n    <tr>\n      <th>0</th>\n      <td>V* RR Lyr</td>\n      <td>1900-01-01 19:25:27.912900</td>\n      <td>+42 47 03.693</td>\n      <td>14</td>\n      <td>14</td>\n      <td>0.0224</td>\n      <td>0.0242</td>\n      <td>90</td>\n      <td>A</td>\n      <td>O</td>\n      <td>...</td>\n      <td>paral</td>\n      <td>2020yCat.1350....0G</td>\n      <td>6.648</td>\n      <td>7.618805</td>\n      <td>7.6</td>\n      <td>7.36</td>\n      <td>1</td>\n      <td>01:52:46</td>\n      <td>-7:38:43</td>\n      <td>1:7:14</td>\n    </tr>\n    <tr>\n      <th>0</th>\n      <td>V* AV Peg</td>\n      <td>1900-01-01 21:52:02.794500</td>\n      <td>+22 34 29.376</td>\n      <td>14</td>\n      <td>14</td>\n      <td>0.0144</td>\n      <td>0.0134</td>\n      <td>90</td>\n      <td>A</td>\n      <td>O</td>\n      <td>...</td>\n      <td>paral</td>\n      <td>2020yCat.1350....0G</td>\n      <td>9.322</td>\n      <td>10.531158</td>\n      <td>NaN</td>\n      <td>10.07</td>\n      <td>1</td>\n      <td>-00:33:48</td>\n      <td>-5:12:08</td>\n      <td>3:33:48</td>\n    </tr>\n    <tr>\n      <th>0</th>\n      <td>V* RZ Cep</td>\n      <td>1900-01-01 22:39:13.176800</td>\n      <td>+64 51 30.611</td>\n      <td>14</td>\n      <td>14</td>\n      <td>0.0108</td>\n      <td>0.0099</td>\n      <td>90</td>\n      <td>A</td>\n      <td>O</td>\n      <td>...</td>\n      <td>paral</td>\n      <td>2020yCat.1350....0G</td>\n      <td>7.968</td>\n      <td>9.294270</td>\n      <td>9.3</td>\n      <td>9.48</td>\n      <td>1</td>\n      <td>-01:20:59</td>\n      <td>-4:24:58</td>\n      <td>4:20:59</td>\n    </tr>\n  </tbody>\n</table>\n<p>5 rows × 26 columns</p>\n</div>"
     },
     "execution_count": 14,
     "metadata": {},
     "output_type": "execute_result"
    }
   ],
   "source": [
    "dec_observable"
   ],
   "metadata": {
    "collapsed": false,
    "pycharm": {
     "name": "#%%\n"
    }
   }
  },
  {
   "cell_type": "code",
   "execution_count": 15,
   "outputs": [],
   "source": [
    "# Drop the duplicates in case there are any\n",
    "dec_observable = dec_observable.drop_duplicates()"
   ],
   "metadata": {
    "collapsed": false,
    "pycharm": {
     "name": "#%%\n"
    }
   }
  },
  {
   "cell_type": "code",
   "execution_count": 16,
   "outputs": [
    {
     "data": {
      "text/plain": "0    2:38:15\n0    1:14:16\n0     1:7:14\n0    3:33:48\n0    4:20:59\nName: Visible for, dtype: object"
     },
     "execution_count": 16,
     "metadata": {},
     "output_type": "execute_result"
    }
   ],
   "source": [
    "dec_observable['Visible for']"
   ],
   "metadata": {
    "collapsed": false,
    "pycharm": {
     "name": "#%%\n"
    }
   }
  },
  {
   "cell_type": "code",
   "execution_count": 22,
   "outputs": [
    {
     "data": {
      "text/plain": "     MAIN_ID                         RA            DEC  RA_PREC  DEC_PREC  \\\n0  V* RZ Cep 1900-01-01 22:39:13.176800  +64 51 30.611       14        14   \n0  V* AV Peg 1900-01-01 21:52:02.794500  +22 34 29.376       14        14   \n0  V* UY Cyg 1900-01-01 20:56:28.303000  +30 25 40.327       14        14   \n0  V* XZ Cyg 1900-01-01 19:32:29.305000  +56 23 17.494       14        14   \n0  V* RR Lyr 1900-01-01 19:25:27.912900  +42 47 03.693       14        14   \n\n   COO_ERR_MAJA  COO_ERR_MINA  COO_ERR_ANGLE COO_QUAL COO_WAVELENGTH  ...  \\\n0        0.0108        0.0099             90        A              O  ...   \n0        0.0144        0.0134             90        A              O  ...   \n0        0.0102        0.0154             90        A              O  ...   \n0        0.0135        0.0147             90        A              O  ...   \n0        0.0224        0.0242             90        A              O  ...   \n\n      Distance_bibcode  FLUX_K     FLUX_G FLUX_R  FLUX_B  SCRIPT_NUMBER_ID  \\\n0  2020yCat.1350....0G   7.968   9.294270    9.3    9.48                 1   \n0  2020yCat.1350....0G   9.322  10.531158    NaN   10.07                 1   \n0  2020yCat.1350....0G   9.715  11.017679    NaN   11.37                 1   \n0  2020yCat.1350....0G   8.884   9.913754    NaN    9.94                 1   \n0  2020yCat.1350....0G   6.648   7.618805    7.6    7.36                 1   \n\n  Start hour angle folded End hour angle folded  Visible for  \\\n0               -01:20:59              -4:24:58      4:20:59   \n0               -00:33:48              -5:12:08      3:33:48   \n0                00:21:45              -6:07:43      2:38:15   \n0                01:45:44              -7:31:42      1:14:16   \n0                01:52:46              -7:38:43       1:7:14   \n\n   Visible for in seconds  \n0                   15659  \n0                   12828  \n0                    9495  \n0                    4456  \n0                    4034  \n\n[5 rows x 27 columns]",
      "text/html": "<div>\n<style scoped>\n    .dataframe tbody tr th:only-of-type {\n        vertical-align: middle;\n    }\n\n    .dataframe tbody tr th {\n        vertical-align: top;\n    }\n\n    .dataframe thead th {\n        text-align: right;\n    }\n</style>\n<table border=\"1\" class=\"dataframe\">\n  <thead>\n    <tr style=\"text-align: right;\">\n      <th></th>\n      <th>MAIN_ID</th>\n      <th>RA</th>\n      <th>DEC</th>\n      <th>RA_PREC</th>\n      <th>DEC_PREC</th>\n      <th>COO_ERR_MAJA</th>\n      <th>COO_ERR_MINA</th>\n      <th>COO_ERR_ANGLE</th>\n      <th>COO_QUAL</th>\n      <th>COO_WAVELENGTH</th>\n      <th>...</th>\n      <th>Distance_bibcode</th>\n      <th>FLUX_K</th>\n      <th>FLUX_G</th>\n      <th>FLUX_R</th>\n      <th>FLUX_B</th>\n      <th>SCRIPT_NUMBER_ID</th>\n      <th>Start hour angle folded</th>\n      <th>End hour angle folded</th>\n      <th>Visible for</th>\n      <th>Visible for in seconds</th>\n    </tr>\n  </thead>\n  <tbody>\n    <tr>\n      <th>0</th>\n      <td>V* RZ Cep</td>\n      <td>1900-01-01 22:39:13.176800</td>\n      <td>+64 51 30.611</td>\n      <td>14</td>\n      <td>14</td>\n      <td>0.0108</td>\n      <td>0.0099</td>\n      <td>90</td>\n      <td>A</td>\n      <td>O</td>\n      <td>...</td>\n      <td>2020yCat.1350....0G</td>\n      <td>7.968</td>\n      <td>9.294270</td>\n      <td>9.3</td>\n      <td>9.48</td>\n      <td>1</td>\n      <td>-01:20:59</td>\n      <td>-4:24:58</td>\n      <td>4:20:59</td>\n      <td>15659</td>\n    </tr>\n    <tr>\n      <th>0</th>\n      <td>V* AV Peg</td>\n      <td>1900-01-01 21:52:02.794500</td>\n      <td>+22 34 29.376</td>\n      <td>14</td>\n      <td>14</td>\n      <td>0.0144</td>\n      <td>0.0134</td>\n      <td>90</td>\n      <td>A</td>\n      <td>O</td>\n      <td>...</td>\n      <td>2020yCat.1350....0G</td>\n      <td>9.322</td>\n      <td>10.531158</td>\n      <td>NaN</td>\n      <td>10.07</td>\n      <td>1</td>\n      <td>-00:33:48</td>\n      <td>-5:12:08</td>\n      <td>3:33:48</td>\n      <td>12828</td>\n    </tr>\n    <tr>\n      <th>0</th>\n      <td>V* UY Cyg</td>\n      <td>1900-01-01 20:56:28.303000</td>\n      <td>+30 25 40.327</td>\n      <td>14</td>\n      <td>14</td>\n      <td>0.0102</td>\n      <td>0.0154</td>\n      <td>90</td>\n      <td>A</td>\n      <td>O</td>\n      <td>...</td>\n      <td>2020yCat.1350....0G</td>\n      <td>9.715</td>\n      <td>11.017679</td>\n      <td>NaN</td>\n      <td>11.37</td>\n      <td>1</td>\n      <td>00:21:45</td>\n      <td>-6:07:43</td>\n      <td>2:38:15</td>\n      <td>9495</td>\n    </tr>\n    <tr>\n      <th>0</th>\n      <td>V* XZ Cyg</td>\n      <td>1900-01-01 19:32:29.305000</td>\n      <td>+56 23 17.494</td>\n      <td>14</td>\n      <td>14</td>\n      <td>0.0135</td>\n      <td>0.0147</td>\n      <td>90</td>\n      <td>A</td>\n      <td>O</td>\n      <td>...</td>\n      <td>2020yCat.1350....0G</td>\n      <td>8.884</td>\n      <td>9.913754</td>\n      <td>NaN</td>\n      <td>9.94</td>\n      <td>1</td>\n      <td>01:45:44</td>\n      <td>-7:31:42</td>\n      <td>1:14:16</td>\n      <td>4456</td>\n    </tr>\n    <tr>\n      <th>0</th>\n      <td>V* RR Lyr</td>\n      <td>1900-01-01 19:25:27.912900</td>\n      <td>+42 47 03.693</td>\n      <td>14</td>\n      <td>14</td>\n      <td>0.0224</td>\n      <td>0.0242</td>\n      <td>90</td>\n      <td>A</td>\n      <td>O</td>\n      <td>...</td>\n      <td>2020yCat.1350....0G</td>\n      <td>6.648</td>\n      <td>7.618805</td>\n      <td>7.6</td>\n      <td>7.36</td>\n      <td>1</td>\n      <td>01:52:46</td>\n      <td>-7:38:43</td>\n      <td>1:7:14</td>\n      <td>4034</td>\n    </tr>\n  </tbody>\n</table>\n<p>5 rows × 27 columns</p>\n</div>"
     },
     "execution_count": 22,
     "metadata": {},
     "output_type": "execute_result"
    }
   ],
   "source": [
    "def organizer(string):\n",
    "    h, m, s = re.split(':', string)\n",
    "    h = int(h)\n",
    "    m = int(m)\n",
    "    s = int(s)\n",
    "    ts = h * 3600 + m * 60 + s\n",
    "    return ts\n",
    "\n",
    "dec_observable['Visible for in seconds'] = dec_observable['Visible for'].apply(organizer)\n",
    "dec_observable.sort_values(by=['Visible for in seconds'], ascending = False)"
   ],
   "metadata": {
    "collapsed": false,
    "pycharm": {
     "name": "#%%\n"
    }
   }
  }
 ],
 "metadata": {
  "kernelspec": {
   "display_name": "Python 3",
   "language": "python",
   "name": "python3"
  },
  "language_info": {
   "codemirror_mode": {
    "name": "ipython",
    "version": 2
   },
   "file_extension": ".py",
   "mimetype": "text/x-python",
   "name": "python",
   "nbconvert_exporter": "python",
   "pygments_lexer": "ipython2",
   "version": "2.7.6"
  }
 },
 "nbformat": 4,
 "nbformat_minor": 0
}