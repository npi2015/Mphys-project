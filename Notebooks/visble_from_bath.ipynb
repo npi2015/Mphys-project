{
 "cells": [
  {
   "cell_type": "markdown",
   "source": [
    "# Some setup stuff\n",
    "\n",
    "Here we will be setting up some stuff that will be helpful going forward, such as the location of Bath and the time of the Vernal Equinox of the year 2022."
   ],
   "metadata": {
    "collapsed": false,
    "pycharm": {
     "name": "#%% md\n"
    }
   }
  },
  {
   "cell_type": "code",
   "execution_count": 1,
   "outputs": [],
   "source": [
    "bath_latitude = 51.37\n",
    "bath_longitude = -2.36"
   ],
   "metadata": {
    "collapsed": false,
    "pycharm": {
     "name": "#%%\n"
    }
   }
  },
  {
   "cell_type": "markdown",
   "source": [
    "## Increasing the RA\n",
    "\n",
    "The Right Ascension in most databases is measured at the vernal equinox, the 20th of March. However, since the Earth moves around the Sun it is not the same all year around. Each day the Earth covers 360/365 degrees of its rotation, and each hour, since it rotates a full 360º it covers 15º. As such, each day the RA increases\n",
    "\n",
    "$$\\Delta RA = \\frac{360}{365*15}$$\n",
    "\n",
    "This cell will end up not being relevant to the calculations, but it is still useful to understand how RA works. This [video](https://www.youtube.com/watch?v=kejolGai7X8&list=PLX2gX-ftPVXU3BfWLJfmXfGD08cIit5CI&index=9) I have found explains it quite well."
   ],
   "metadata": {
    "collapsed": false,
    "pycharm": {
     "name": "#%% md\n"
    }
   }
  },
  {
   "cell_type": "markdown",
   "source": [
    "## The sidereal time\n",
    "\n",
    "For these observations we use sidereal time. A sidereal day takes a little less than a solar day, 23h 56 min instead of the usual 24h. This is the time it takes for the Earth to fully rotate around its axis. This is useful because any object crosses the upper meridian when the sidereal time is equal to the object's Right Ascension ([source](https://lco.global/spacebook/sky/sidereal-time/)).\n",
    "\n",
    "A solar day lasts 24h because it takes that amount of time for the same spot in the Earth to be facing the Sun, since not only does the Earth rotate, but it also moves around the Sun.\n",
    "\n",
    "Here we are simply computing the sidereal time at Bath right now (whenever _now_ is). This is UTC time, which matches the GMT timezone. At the time of writing this (19th of October), the timezone in Bath is GMT + 1, but that will change on the 30th of October when Daylight saving time is implemented, and we will be back in the GMT/UTC timezone."
   ],
   "metadata": {
    "collapsed": false,
    "pycharm": {
     "name": "#%% md\n"
    }
   }
  },
  {
   "cell_type": "code",
   "execution_count": 2,
   "outputs": [],
   "source": [
    "# Obtain sidereal time\n",
    "from astropy.coordinates import EarthLocation\n",
    "from astropy.time import Time\n",
    "from astropy import units as u\n",
    "import datetime\n",
    "\n",
    "observing_location = EarthLocation(lat=bath_latitude*u.deg, lon=bath_longitude*u.deg)\n",
    "observing_time = Time(datetime.datetime.utcnow(), scale='utc', location=observing_location)\n",
    "LST = observing_time.sidereal_time('mean')"
   ],
   "metadata": {
    "collapsed": false,
    "pycharm": {
     "name": "#%%\n"
    }
   }
  },
  {
   "cell_type": "markdown",
   "source": [
    "## The sidereal time at the time of observation\n",
    "\n",
    "Following the same procedure as above, we can compute the sidereal time of the day of observation. I have coded the program to automatically use the day of whenever it's ran on, but it can be changed to any random date. Since we are currently UTC + 1 I have coded the observation to start at 19:15 (20:15 Bath time) and finishing at 1:00 (2:00 Bath time). This has to be changed manually in the 30th, and an hour added to both cases.\n",
    "\n",
    "Once we have the sidereal times of both the start and the end, we can use it to find which stars are visible."
   ],
   "metadata": {
    "collapsed": false,
    "pycharm": {
     "name": "#%% md\n"
    }
   }
  },
  {
   "cell_type": "code",
   "execution_count": 3,
   "outputs": [],
   "source": [
    "date_today = datetime.datetime.today().strftime('%Y-%m-%d')\n",
    "date_tomorrow = (datetime.datetime.today() + datetime.timedelta(days=1)).strftime('%Y-%m-%d')\n",
    "times = [f'{date_today}T18:00:00', f'{date_tomorrow}T2:00:00']# In UTC, change on 30th October\n",
    "\n",
    "t = Time(times, format='isot', scale='utc')"
   ],
   "metadata": {
    "collapsed": false,
    "pycharm": {
     "name": "#%%\n"
    }
   }
  },
  {
   "cell_type": "code",
   "execution_count": 4,
   "outputs": [],
   "source": [
    "import re\n",
    "\n",
    "start_end_times = re.split(' ',str(t.sidereal_time('apparent', bath_longitude)))\n",
    "start_sidereal_time = start_end_times[0].strip('[]')[:-5] # Keeping it to 4 decimals\n",
    "end_sidereal_time = start_end_times[1].strip('[]')[:-5]\n",
    "\n",
    "# Formatting it to hh mm ss so it has the same format as the RA\n",
    "\n",
    "start_sidereal_time = start_sidereal_time.replace('h', ' ').replace('m', ' ')\n",
    "end_sidereal_time = end_sidereal_time.replace('h', ' ').replace('m', ' ')"
   ],
   "metadata": {
    "collapsed": false,
    "pycharm": {
     "name": "#%%\n"
    }
   }
  },
  {
   "cell_type": "markdown",
   "source": [
    "## Getting the right ascension of all stars of our query\n",
    "\n",
    "Here we are importing the dataframe with the stars of the Monson et al paper, which I saved as a pickle in that notebook. We also split the Right Ascension column into hours minutes and seconds to make calculations later on a bit simpler. With such a small dataset, the impact on performance is not huge, and it makes things much easier."
   ],
   "metadata": {
    "collapsed": false,
    "pycharm": {
     "name": "#%% md\n"
    }
   }
  },
  {
   "cell_type": "code",
   "execution_count": 5,
   "outputs": [],
   "source": [
    "import pandas as pd\n",
    "simbad_df = pd.read_pickle('Monson_stars_simbad.pkl')"
   ],
   "metadata": {
    "collapsed": false,
    "pycharm": {
     "name": "#%%\n"
    }
   }
  },
  {
   "cell_type": "markdown",
   "source": [
    "## Getting the declination of all stars of our query\n",
    "\n",
    "Same thing as before, but now we do it with the declination column. It's split into three: degrees, minutes and seconds."
   ],
   "metadata": {
    "collapsed": false,
    "pycharm": {
     "name": "#%% md\n"
    }
   }
  },
  {
   "cell_type": "code",
   "execution_count": 6,
   "outputs": [],
   "source": [
    "simbad_df['DEC degrees'] = simbad_df['DEC'].str[0:3].astype(float)\n",
    "simbad_df['DEC minutes'] = simbad_df['DEC'].str[4:6].astype(float)\n",
    "simbad_df['DEC seconds'] = simbad_df['DEC'].str[7:].astype(float)"
   ],
   "metadata": {
    "collapsed": false,
    "pycharm": {
     "name": "#%%\n"
    }
   }
  },
  {
   "cell_type": "markdown",
   "source": [
    "# Finding the hour angle of different stars\n",
    "\n",
    "In order to actually compute which stars are visible we are using the hour angle, i.e. how far away from the meridian it is at the beginning and end of our observations. In order to calculate the hour angle we are using the following formula:\n",
    "\n",
    "$$\\mathrm{LHA}_{\\mathrm{object}} = \\mathrm{LST}-\\alpha_{\\mathrm{object}}$$\n",
    "\n",
    "where $\\mathrm{LHA}_{\\mathrm{object}}$ is the Local Hour Angle of the given object, LST is the local sidereal time and $\\alpha_{\\mathrm{object}}$ is the Right Ascension of the object. We split it into hours, minutes and seconds and then put it back together."
   ],
   "metadata": {
    "collapsed": false,
    "pycharm": {
     "name": "#%% md\n"
    }
   }
  },
  {
   "cell_type": "code",
   "execution_count": 7,
   "outputs": [],
   "source": [
    "def formatTimedelta(td):\n",
    "    \"\"\"\n",
    "    format a timedelta object to string, in HH:MM:SS format (seconds floored).\n",
    "    negative timedeltas will be prefixed with a minus, '-'.\n",
    "    \"\"\"\n",
    "    total = td.total_seconds()\n",
    "    prefix, total = ('-', total*-1) if total < 0 else ('', total)\n",
    "    h, r = divmod(total, 3600)\n",
    "    m, s = divmod(r, 60)\n",
    "    return f\"{prefix}{int(h):02d}:{int(m):02d}:{int(s):02d}\"\n",
    "\n",
    "simbad_df['start sidereal time'] = start_sidereal_time\n",
    "simbad_df['end sidereal time'] = end_sidereal_time\n",
    "\n",
    "FMT = '%H %M %S.%f'\n",
    "simbad_df['RA'] = pd.to_datetime(simbad_df['RA'], format = FMT)\n",
    "simbad_df['start sidereal time'] = pd.to_datetime(simbad_df['start sidereal time'], format = FMT)\n",
    "simbad_df['end sidereal time'] = pd.to_datetime(simbad_df['end sidereal time'], format = FMT)\n",
    "\n",
    "\n",
    "\n",
    "\n",
    "simbad_df['Start hour angle'] = ((simbad_df['start sidereal time'] - simbad_df['RA'])).apply(formatTimedelta)\n",
    "simbad_df['End hour angle'] = ((simbad_df['end sidereal time']-simbad_df['RA'])).apply(formatTimedelta)\n",
    "# simbad_df['Time observable'] = (simbad_df['Start hour angle'] - simbad_df['End hour angle'])"
   ],
   "metadata": {
    "collapsed": false,
    "pycharm": {
     "name": "#%%\n"
    }
   }
  },
  {
   "cell_type": "code",
   "execution_count": 8,
   "outputs": [],
   "source": [
    "\n",
    "\n",
    "fmt = '%H:%M:%S'\n",
    "neg_fmt = '-%H:%M:%S'\n",
    "\n",
    "midday = datetime.datetime.strptime('1 Jan 1900 12:00:00', '%d %b %Y %H:%M:%S')\n",
    "midnight = datetime.datetime.strptime('2 Jan 1900 00:00:00', '%d %b %Y %H:%M:%S')\n",
    "\n",
    "start_ha_series = simbad_df['Start hour angle'].reset_index(drop = True)\n",
    "end_ha_series = simbad_df['End hour angle'].reset_index(drop = True)\n",
    "for start_ha, start_ha_index, end_ha, end_ha_index in zip(start_ha_series, start_ha_series.index, end_ha_series, end_ha_series.index):\n",
    "    try:\n",
    "        start_dt = datetime.datetime.strptime(start_ha, fmt)\n",
    "        if start_dt > midday:\n",
    "            corrected_start_time = midnight-start_dt\n",
    "            corrected_start_time_string = f\"-{corrected_start_time}\"\n",
    "        else:\n",
    "            corrected_start_time_string = start_dt.strftime('%H:%M:%S')\n",
    "\n",
    "\n",
    "    except ValueError:\n",
    "        start_dt = datetime.datetime.strptime(start_ha, neg_fmt)\n",
    "        if start_dt < midday:\n",
    "            corrected_start_time_string = f\"-{start_dt.strftime('%H:%M:%S')}\"\n",
    "        else:\n",
    "            corrected_start_time = midnight-start_dt\n",
    "            corrected_start_time_string = f\"{corrected_start_time}\"\n",
    "    finally:\n",
    "        start_ha_series.iloc[start_ha_index] = corrected_start_time_string\n",
    "\n",
    "    try:\n",
    "        end_dt = datetime.datetime.strptime(end_ha, fmt)\n",
    "        if end_dt > midday:\n",
    "            corrected_end_time = midnight-end_dt\n",
    "            corrected_end_time_string = f\"-{corrected_end_time}\"\n",
    "        else:\n",
    "            corrected_end_time_string = end_dt.strftime('%H:%M:%S')\n",
    "\n",
    "    except ValueError:\n",
    "        end_dt = datetime.datetime.strptime(end_ha, neg_fmt)\n",
    "        if end_dt < midday:\n",
    "            corrected_end_time_string = f\"-{end_dt.strftime('%H:%M:%S')}\"\n",
    "        else:\n",
    "            corrected_end_time = midnight-end_dt\n",
    "            corrected_end_time_string = f\"{corrected_end_time}\"\n",
    "    finally:\n",
    "        end_ha_series.iloc[end_ha_index] = corrected_end_time_string"
   ],
   "metadata": {
    "collapsed": false,
    "pycharm": {
     "name": "#%%\n"
    }
   }
  },
  {
   "cell_type": "code",
   "execution_count": 9,
   "outputs": [],
   "source": [
    "simbad_df['Start hour angle folded'] = start_ha_series.values\n",
    "simbad_df['End hour angle folded'] = end_ha_series.values"
   ],
   "metadata": {
    "collapsed": false,
    "pycharm": {
     "name": "#%%\n"
    }
   }
  },
  {
   "cell_type": "code",
   "execution_count": 23,
   "outputs": [
    {
     "data": {
      "text/plain": "     MAIN_ID                         RA            DEC  RA_PREC  DEC_PREC  \\\n0  V* SW And 1900-01-01 00:23:43.089600  +29 24 03.626       14        14   \n0  V* XX And 1900-01-01 01:17:27.414200  +38 57 02.047       14        14   \n0  V* WY Ant 1900-01-01 10:16:04.946100  -29 43 42.417       14        14   \n0   V* X Ari 1900-01-01 03:08:30.884600  +10 26 45.218       14        14   \n0  V* ST Boo 1900-01-01 15:30:39.229900  +35 47 04.311       14        14   \n0  V* UY Boo 1900-01-01 13:58:46.336700  +12 57 06.457       14        14   \n0  V* RR Cet 1900-01-01 01:32:08.173100  +01 20 30.230       14        14   \n0   V* W Crt 1900-01-01 11:26:29.645200  -17 54 51.700       14        14   \n0  V* UY Cyg 1900-01-01 20:56:28.303000  +30 25 40.327       14        14   \n0  V* XZ Cyg 1900-01-01 19:32:29.305000  +56 23 17.494       14        14   \n0  V* DX Del 1900-01-01 20:47:28.355500  +12 27 50.682       14        14   \n0  V* SU Dra 1900-01-01 11:37:56.607100  +67 19 47.060       14        14   \n0  V* SW Dra 1900-01-01 12:17:46.628300  +69 30 38.233       14        14   \n0  V* RX Eri 1900-01-01 04:49:44.291500  -15 44 28.242       14        14   \n0  V* SV Eri 1900-01-01 03:11:52.107400  -11 21 14.067       14        14   \n0  V* RR Gem 1900-01-01 07:21:33.531200  +30 52 59.459       14        14   \n0  V* TW Her 1900-01-01 17:54:31.200300  +30 24 37.680       14        14   \n0  V* VX Her 1900-01-01 16:30:40.802700  +18 22 00.573       14        14   \n0  V* SV Hya 1900-01-01 12:30:30.503100  -26 02 51.113       14        14   \n0   V* V Ind 1900-01-01 21:11:29.901900  -45 04 28.391       14        14   \n0  V* RR Leo 1900-01-01 10:07:43.460500  +23 59 30.318       14        14   \n0  V* TT Lyn 1900-01-01 09:03:07.786400  +44 35 08.119       14        14   \n0  V* RR Lyr 1900-01-01 19:25:27.912900  +42 47 03.693       14        14   \n0  V* RV Oct 1900-01-01 13:46:31.744200  -84 24 06.384       14        14   \n0  V* UV Oct 1900-01-01 16:32:25.536100  -83 54 10.495       14        14   \n0  V* AV Peg 1900-01-01 21:52:02.794500  +22 34 29.376       14        14   \n0  V* BH Peg 1900-01-01 22:53:01.036900  +15 47 16.609       14        14   \n0  V* BB Pup 1900-01-01 08:24:22.643300  -19 32 31.408       14        14   \n0  V* HK Pup 1900-01-01 07:44:46.802800  -13 05 56.312       14        14   \n0  V* RU Scl 1900-01-01 00:02:48.107000  -24 56 43.074       14        14   \n0  V* AN Ser 1900-01-01 15:53:31.053100  +12 57 40.112       14        14   \n0  V* AB UMa 1900-01-01 12:11:14.589000  +47 49 43.794       14        14   \n0  V* RV UMa 1900-01-01 13:33:18.083800  +53 59 14.598       14        14   \n0  V* TU UMa 1900-01-01 11:29:48.489300  +30 04 02.379       14        14   \n0  V* UU Vir 1900-01-01 12:08:35.072400  -00 27 24.308       14        14   \n0  V* AE Boo 1900-01-01 14:47:35.265100  +16 50 43.552       14        14   \n0  V* TV Boo 1900-01-01 14:16:36.581400  +42 21 35.712       14        14   \n0  V* ST CVn 1900-01-01 13:57:34.058900  +29 51 28.715       14        14   \n0  V* UY Cam 1900-01-01 07:58:58.882500  +72 47 15.402       14        14   \n0  V* YZ Cap 1900-01-01 21:19:32.413000  -15 07 01.141       14        14   \n0  V* RZ Cep 1900-01-01 22:39:13.176800  +64 51 30.611       14        14   \n0  V* RV CrB 1900-01-01 16:19:25.851500  +29 42 47.638       14        14   \n0  V* CS Eri 1900-01-01 02:37:05.758800  -42 57 48.035       14        14   \n0  V* BX Leo 1900-01-01 11:38:02.062900  +16 32 36.195       14        14   \n0  V* DH Peg 1900-01-01 22:15:25.639700  +06 49 21.439       14        14   \n0  V* RU Psc 1900-01-01 01:14:26.037100  +24 24 56.367       14        14   \n0  V* SV Scl 1900-01-01 01:44:59.662700  -30 03 33.385       14        14   \n0  V* AP Ser 1900-01-01 15:14:00.921300  +09 58 51.853       14        14   \n0   V* T Sex 1900-01-01 09:53:28.399900  +02 03 26.346       14        14   \n0  V* MT Tel 1900-01-01 19:02:12.279200  -46 39 12.083       14        14   \n0  V* AM Tuc 1900-01-01 01:18:30.649500  -67 55 04.962       14        14   \n0  V* SX UMa 1900-01-01 13:26:13.459200  +56 15 25.053       14        14   \n0  V* CU Com 1900-01-01 12:24:46.609400  +22 24 28.241       14        14   \n0  V* RV UMa 1900-01-01 13:33:18.083800  +53 59 14.598       14        14   \n\n   COO_ERR_MAJA  COO_ERR_MINA  COO_ERR_ANGLE COO_QUAL COO_WAVELENGTH  ...  \\\n0        0.0216        0.0176             90        A              O  ...   \n0        0.0149        0.0152             90        A              O  ...   \n0        0.0162        0.0159             90        A              O  ...   \n0        0.0171        0.0145             90        A              O  ...   \n0        0.0154        0.0173             90        A              O  ...   \n0        0.0193        0.0152             90        A              O  ...   \n0        0.0152        0.0118             90        A              O  ...   \n0        0.0198        0.0176             90        A              O  ...   \n0        0.0102        0.0154             90        A              O  ...   \n0        0.0135        0.0147             90        A              O  ...   \n0        0.0125        0.0072             90        A              O  ...   \n0        0.0115        0.0117             90        A              O  ...   \n0        0.0169        0.0159             90        A              O  ...   \n0        0.0157        0.0142             90        A              O  ...   \n0        0.0174        0.0167             90        A              O  ...   \n0        0.0292        0.0274             90        A              O  ...   \n0        0.0104        0.0134             90        A              O  ...   \n0        0.0189        0.0162             90        A              O  ...   \n0        0.0195        0.0135             90        A              O  ...   \n0        0.0160        0.0124             90        A              O  ...   \n0        0.0183        0.0166             90        A              O  ...   \n0        0.0127        0.0102             90        A              O  ...   \n0        0.0224        0.0242             90        A              O  ...   \n0        0.0106        0.0105             90        A              O  ...   \n0        0.0105        0.0111             90        A              O  ...   \n0        0.0144        0.0134             90        A              O  ...   \n0        0.0181        0.0173             90        A              O  ...   \n0        0.0127        0.0131             90        A              O  ...   \n0        0.0133        0.0121             90        A              O  ...   \n0        0.0186        0.0210             90        A              O  ...   \n0        0.0166        0.0143             90        A              O  ...   \n0        0.0084        0.0123             90        A              O  ...   \n0        0.0106        0.0120             90        A              O  ...   \n0        0.0150        0.0265             90        A              O  ...   \n0        0.0391        0.0326             90        A              O  ...   \n0        0.0129        0.0146             90        A              O  ...   \n0        0.0109        0.0128             90        A              O  ...   \n0        0.0160        0.0147             90        A              O  ...   \n0        0.0120        0.0157             90        A              O  ...   \n0        0.0255        0.0206             90        A              O  ...   \n0        0.0108        0.0099             90        A              O  ...   \n0        0.0109        0.0125             90        A              O  ...   \n0        0.0110        0.0128             90        A              O  ...   \n0        0.0195        0.0173             90        A              O  ...   \n0        0.0230        0.0293             90        A              O  ...   \n0        0.0249        0.0164             90        A              O  ...   \n0        0.0186        0.0166             90        A              O  ...   \n0        0.0145        0.0135             90        A              O  ...   \n0        0.0200        0.0191             90        A              O  ...   \n0        0.0244        0.0262             90        A              O  ...   \n0        0.0153        0.0122             90        A              O  ...   \n0        0.0115        0.0114             90        A              O  ...   \n0        0.0137        0.0115             90        A              O  ...   \n0        0.0106        0.0120             90        A              O  ...   \n\n  SCRIPT_NUMBER_ID  DEC degrees DEC minutes DEC seconds  \\\n0                1         29.0        24.0       3.626   \n0                1         38.0        57.0       2.047   \n0                1        -29.0        43.0      42.417   \n0                1         10.0        26.0      45.218   \n0                1         35.0        47.0       4.311   \n0                1         12.0        57.0       6.457   \n0                1          1.0        20.0      30.230   \n0                1        -17.0        54.0      51.700   \n0                1         30.0        25.0      40.327   \n0                1         56.0        23.0      17.494   \n0                1         12.0        27.0      50.682   \n0                1         67.0        19.0      47.060   \n0                1         69.0        30.0      38.233   \n0                1        -15.0        44.0      28.242   \n0                1        -11.0        21.0      14.067   \n0                1         30.0        52.0      59.459   \n0                1         30.0        24.0      37.680   \n0                1         18.0        22.0       0.573   \n0                1        -26.0         2.0      51.113   \n0                1        -45.0         4.0      28.391   \n0                1         23.0        59.0      30.318   \n0                1         44.0        35.0       8.119   \n0                1         42.0        47.0       3.693   \n0                1        -84.0        24.0       6.384   \n0                1        -83.0        54.0      10.495   \n0                1         22.0        34.0      29.376   \n0                1         15.0        47.0      16.609   \n0                1        -19.0        32.0      31.408   \n0                1        -13.0         5.0      56.312   \n0                1        -24.0        56.0      43.074   \n0                1         12.0        57.0      40.112   \n0                1         47.0        49.0      43.794   \n0                1         53.0        59.0      14.598   \n0                1         30.0         4.0       2.379   \n0                1         -0.0        27.0      24.308   \n0                1         16.0        50.0      43.552   \n0                1         42.0        21.0      35.712   \n0                1         29.0        51.0      28.715   \n0                1         72.0        47.0      15.402   \n0                1        -15.0         7.0       1.141   \n0                1         64.0        51.0      30.611   \n0                1         29.0        42.0      47.638   \n0                1        -42.0        57.0      48.035   \n0                1         16.0        32.0      36.195   \n0                1          6.0        49.0      21.439   \n0                1         24.0        24.0      56.367   \n0                1        -30.0         3.0      33.385   \n0                1          9.0        58.0      51.853   \n0                1          2.0         3.0      26.346   \n0                1        -46.0        39.0      12.083   \n0                1        -67.0        55.0       4.962   \n0                1         56.0        15.0      25.053   \n0                1         22.0        24.0      28.241   \n0                1         53.0        59.0      14.598   \n\n         start sidereal time          end sidereal time Start hour angle  \\\n0 1900-01-01 00:54:47.081900 1900-01-01 08:56:05.936400         00:31:03   \n0 1900-01-01 00:54:47.081900 1900-01-01 08:56:05.936400        -00:22:40   \n0 1900-01-01 00:54:47.081900 1900-01-01 08:56:05.936400        -09:21:17   \n0 1900-01-01 00:54:47.081900 1900-01-01 08:56:05.936400        -02:13:43   \n0 1900-01-01 00:54:47.081900 1900-01-01 08:56:05.936400        -14:35:52   \n0 1900-01-01 00:54:47.081900 1900-01-01 08:56:05.936400        -13:03:59   \n0 1900-01-01 00:54:47.081900 1900-01-01 08:56:05.936400        -00:37:21   \n0 1900-01-01 00:54:47.081900 1900-01-01 08:56:05.936400        -10:31:42   \n0 1900-01-01 00:54:47.081900 1900-01-01 08:56:05.936400        -20:01:41   \n0 1900-01-01 00:54:47.081900 1900-01-01 08:56:05.936400        -18:37:42   \n0 1900-01-01 00:54:47.081900 1900-01-01 08:56:05.936400        -19:52:41   \n0 1900-01-01 00:54:47.081900 1900-01-01 08:56:05.936400        -10:43:09   \n0 1900-01-01 00:54:47.081900 1900-01-01 08:56:05.936400        -11:22:59   \n0 1900-01-01 00:54:47.081900 1900-01-01 08:56:05.936400        -03:54:57   \n0 1900-01-01 00:54:47.081900 1900-01-01 08:56:05.936400        -02:17:05   \n0 1900-01-01 00:54:47.081900 1900-01-01 08:56:05.936400        -06:26:46   \n0 1900-01-01 00:54:47.081900 1900-01-01 08:56:05.936400        -16:59:44   \n0 1900-01-01 00:54:47.081900 1900-01-01 08:56:05.936400        -15:35:53   \n0 1900-01-01 00:54:47.081900 1900-01-01 08:56:05.936400        -11:35:43   \n0 1900-01-01 00:54:47.081900 1900-01-01 08:56:05.936400        -20:16:42   \n0 1900-01-01 00:54:47.081900 1900-01-01 08:56:05.936400        -09:12:56   \n0 1900-01-01 00:54:47.081900 1900-01-01 08:56:05.936400        -08:08:20   \n0 1900-01-01 00:54:47.081900 1900-01-01 08:56:05.936400        -18:30:40   \n0 1900-01-01 00:54:47.081900 1900-01-01 08:56:05.936400        -12:51:44   \n0 1900-01-01 00:54:47.081900 1900-01-01 08:56:05.936400        -15:37:38   \n0 1900-01-01 00:54:47.081900 1900-01-01 08:56:05.936400        -20:57:15   \n0 1900-01-01 00:54:47.081900 1900-01-01 08:56:05.936400        -21:58:13   \n0 1900-01-01 00:54:47.081900 1900-01-01 08:56:05.936400        -07:29:35   \n0 1900-01-01 00:54:47.081900 1900-01-01 08:56:05.936400        -06:49:59   \n0 1900-01-01 00:54:47.081900 1900-01-01 08:56:05.936400         00:51:58   \n0 1900-01-01 00:54:47.081900 1900-01-01 08:56:05.936400        -14:58:43   \n0 1900-01-01 00:54:47.081900 1900-01-01 08:56:05.936400        -11:16:27   \n0 1900-01-01 00:54:47.081900 1900-01-01 08:56:05.936400        -12:38:31   \n0 1900-01-01 00:54:47.081900 1900-01-01 08:56:05.936400        -10:35:01   \n0 1900-01-01 00:54:47.081900 1900-01-01 08:56:05.936400        -11:13:47   \n0 1900-01-01 00:54:47.081900 1900-01-01 08:56:05.936400        -13:52:48   \n0 1900-01-01 00:54:47.081900 1900-01-01 08:56:05.936400        -13:21:49   \n0 1900-01-01 00:54:47.081900 1900-01-01 08:56:05.936400        -13:02:46   \n0 1900-01-01 00:54:47.081900 1900-01-01 08:56:05.936400        -07:04:11   \n0 1900-01-01 00:54:47.081900 1900-01-01 08:56:05.936400        -20:24:45   \n0 1900-01-01 00:54:47.081900 1900-01-01 08:56:05.936400        -21:44:26   \n0 1900-01-01 00:54:47.081900 1900-01-01 08:56:05.936400        -15:24:38   \n0 1900-01-01 00:54:47.081900 1900-01-01 08:56:05.936400        -01:42:18   \n0 1900-01-01 00:54:47.081900 1900-01-01 08:56:05.936400        -10:43:14   \n0 1900-01-01 00:54:47.081900 1900-01-01 08:56:05.936400        -21:20:38   \n0 1900-01-01 00:54:47.081900 1900-01-01 08:56:05.936400        -00:19:38   \n0 1900-01-01 00:54:47.081900 1900-01-01 08:56:05.936400        -00:50:12   \n0 1900-01-01 00:54:47.081900 1900-01-01 08:56:05.936400        -14:19:13   \n0 1900-01-01 00:54:47.081900 1900-01-01 08:56:05.936400        -08:58:41   \n0 1900-01-01 00:54:47.081900 1900-01-01 08:56:05.936400        -18:07:25   \n0 1900-01-01 00:54:47.081900 1900-01-01 08:56:05.936400        -00:23:43   \n0 1900-01-01 00:54:47.081900 1900-01-01 08:56:05.936400        -12:31:26   \n0 1900-01-01 00:54:47.081900 1900-01-01 08:56:05.936400        -11:29:59   \n0 1900-01-01 00:54:47.081900 1900-01-01 08:56:05.936400        -12:38:31   \n\n  End hour angle  Start hour angle folded  End hour angle folded  \n0       08:32:22                 00:31:03               08:32:22  \n0       07:38:38                -00:22:40               07:38:38  \n0      -01:19:59                -09:21:17              -01:19:59  \n0       05:47:35                -02:13:43               05:47:35  \n0      -06:34:33                  9:24:08              -06:34:33  \n0      -05:02:40                 10:56:01              -05:02:40  \n0       07:23:57                -00:37:21               07:23:57  \n0      -02:30:23                -10:31:42              -02:30:23  \n0      -12:00:22                  3:58:19               11:59:38  \n0      -10:36:23                  5:22:18              -10:36:23  \n0      -11:51:22                  4:07:19              -11:51:22  \n0      -02:41:50                -10:43:09              -02:41:50  \n0      -03:21:40                -11:22:59              -03:21:40  \n0       04:06:21                -03:54:57               04:06:21  \n0       05:44:13                -02:17:05               05:44:13  \n0       01:34:32                -06:26:46               01:34:32  \n0      -08:58:25                  7:00:16              -08:58:25  \n0      -07:34:34                  8:24:07              -07:34:34  \n0      -03:34:24                -11:35:43              -03:34:24  \n0      -12:15:23                  3:43:18               11:44:37  \n0      -01:11:37                -09:12:56              -01:11:37  \n0      -00:07:01                -08:08:20              -00:07:01  \n0      -10:29:21                  5:29:20              -10:29:21  \n0      -04:50:25                 11:08:16              -04:50:25  \n0      -07:36:19                  8:22:22              -07:36:19  \n0      -12:55:56                  3:02:45               11:04:04  \n0      -13:56:55                  2:01:47               10:03:05  \n0       00:31:43                -07:29:35               00:31:43  \n0       01:11:19                -06:49:59               01:11:19  \n0       08:53:17                 00:51:58               08:53:17  \n0      -06:57:25                  9:01:17              -06:57:25  \n0      -03:15:08                -11:16:27              -03:15:08  \n0      -04:37:12                 11:21:29              -04:37:12  \n0      -02:33:42                -10:35:01              -02:33:42  \n0      -03:12:29                -11:13:47              -03:12:29  \n0      -05:51:29                 10:07:12              -05:51:29  \n0      -05:20:30                 10:38:11              -05:20:30  \n0      -05:01:28                 10:57:14              -05:01:28  \n0       00:57:07                -07:04:11               00:57:07  \n0      -12:23:26                  3:35:15               11:36:34  \n0      -13:43:07                  2:15:34               10:16:53  \n0      -07:23:19                  8:35:22              -07:23:19  \n0       06:19:00                -01:42:18               06:19:00  \n0      -02:41:56                -10:43:14              -02:41:56  \n0      -13:19:19                  2:39:22               10:40:41  \n0       07:41:39                -00:19:38               07:41:39  \n0       07:11:06                -00:50:12               07:11:06  \n0      -06:17:54                  9:40:47              -06:17:54  \n0      -00:57:22                -08:58:41              -00:57:22  \n0      -10:06:06                  5:52:35              -10:06:06  \n0       07:37:35                -00:23:43               07:37:35  \n0      -04:30:07                 11:28:34              -04:30:07  \n0      -03:28:40                -11:29:59              -03:28:40  \n0      -04:37:12                 11:21:29              -04:37:12  \n\n[54 rows x 32 columns]",
      "text/html": "<div>\n<style scoped>\n    .dataframe tbody tr th:only-of-type {\n        vertical-align: middle;\n    }\n\n    .dataframe tbody tr th {\n        vertical-align: top;\n    }\n\n    .dataframe thead th {\n        text-align: right;\n    }\n</style>\n<table border=\"1\" class=\"dataframe\">\n  <thead>\n    <tr style=\"text-align: right;\">\n      <th></th>\n      <th>MAIN_ID</th>\n      <th>RA</th>\n      <th>DEC</th>\n      <th>RA_PREC</th>\n      <th>DEC_PREC</th>\n      <th>COO_ERR_MAJA</th>\n      <th>COO_ERR_MINA</th>\n      <th>COO_ERR_ANGLE</th>\n      <th>COO_QUAL</th>\n      <th>COO_WAVELENGTH</th>\n      <th>...</th>\n      <th>SCRIPT_NUMBER_ID</th>\n      <th>DEC degrees</th>\n      <th>DEC minutes</th>\n      <th>DEC seconds</th>\n      <th>start sidereal time</th>\n      <th>end sidereal time</th>\n      <th>Start hour angle</th>\n      <th>End hour angle</th>\n      <th>Start hour angle folded</th>\n      <th>End hour angle folded</th>\n    </tr>\n  </thead>\n  <tbody>\n    <tr>\n      <th>0</th>\n      <td>V* SW And</td>\n      <td>1900-01-01 00:23:43.089600</td>\n      <td>+29 24 03.626</td>\n      <td>14</td>\n      <td>14</td>\n      <td>0.0216</td>\n      <td>0.0176</td>\n      <td>90</td>\n      <td>A</td>\n      <td>O</td>\n      <td>...</td>\n      <td>1</td>\n      <td>29.0</td>\n      <td>24.0</td>\n      <td>3.626</td>\n      <td>1900-01-01 00:54:47.081900</td>\n      <td>1900-01-01 08:56:05.936400</td>\n      <td>00:31:03</td>\n      <td>08:32:22</td>\n      <td>00:31:03</td>\n      <td>08:32:22</td>\n    </tr>\n    <tr>\n      <th>0</th>\n      <td>V* XX And</td>\n      <td>1900-01-01 01:17:27.414200</td>\n      <td>+38 57 02.047</td>\n      <td>14</td>\n      <td>14</td>\n      <td>0.0149</td>\n      <td>0.0152</td>\n      <td>90</td>\n      <td>A</td>\n      <td>O</td>\n      <td>...</td>\n      <td>1</td>\n      <td>38.0</td>\n      <td>57.0</td>\n      <td>2.047</td>\n      <td>1900-01-01 00:54:47.081900</td>\n      <td>1900-01-01 08:56:05.936400</td>\n      <td>-00:22:40</td>\n      <td>07:38:38</td>\n      <td>-00:22:40</td>\n      <td>07:38:38</td>\n    </tr>\n    <tr>\n      <th>0</th>\n      <td>V* WY Ant</td>\n      <td>1900-01-01 10:16:04.946100</td>\n      <td>-29 43 42.417</td>\n      <td>14</td>\n      <td>14</td>\n      <td>0.0162</td>\n      <td>0.0159</td>\n      <td>90</td>\n      <td>A</td>\n      <td>O</td>\n      <td>...</td>\n      <td>1</td>\n      <td>-29.0</td>\n      <td>43.0</td>\n      <td>42.417</td>\n      <td>1900-01-01 00:54:47.081900</td>\n      <td>1900-01-01 08:56:05.936400</td>\n      <td>-09:21:17</td>\n      <td>-01:19:59</td>\n      <td>-09:21:17</td>\n      <td>-01:19:59</td>\n    </tr>\n    <tr>\n      <th>0</th>\n      <td>V* X Ari</td>\n      <td>1900-01-01 03:08:30.884600</td>\n      <td>+10 26 45.218</td>\n      <td>14</td>\n      <td>14</td>\n      <td>0.0171</td>\n      <td>0.0145</td>\n      <td>90</td>\n      <td>A</td>\n      <td>O</td>\n      <td>...</td>\n      <td>1</td>\n      <td>10.0</td>\n      <td>26.0</td>\n      <td>45.218</td>\n      <td>1900-01-01 00:54:47.081900</td>\n      <td>1900-01-01 08:56:05.936400</td>\n      <td>-02:13:43</td>\n      <td>05:47:35</td>\n      <td>-02:13:43</td>\n      <td>05:47:35</td>\n    </tr>\n    <tr>\n      <th>0</th>\n      <td>V* ST Boo</td>\n      <td>1900-01-01 15:30:39.229900</td>\n      <td>+35 47 04.311</td>\n      <td>14</td>\n      <td>14</td>\n      <td>0.0154</td>\n      <td>0.0173</td>\n      <td>90</td>\n      <td>A</td>\n      <td>O</td>\n      <td>...</td>\n      <td>1</td>\n      <td>35.0</td>\n      <td>47.0</td>\n      <td>4.311</td>\n      <td>1900-01-01 00:54:47.081900</td>\n      <td>1900-01-01 08:56:05.936400</td>\n      <td>-14:35:52</td>\n      <td>-06:34:33</td>\n      <td>9:24:08</td>\n      <td>-06:34:33</td>\n    </tr>\n    <tr>\n      <th>0</th>\n      <td>V* UY Boo</td>\n      <td>1900-01-01 13:58:46.336700</td>\n      <td>+12 57 06.457</td>\n      <td>14</td>\n      <td>14</td>\n      <td>0.0193</td>\n      <td>0.0152</td>\n      <td>90</td>\n      <td>A</td>\n      <td>O</td>\n      <td>...</td>\n      <td>1</td>\n      <td>12.0</td>\n      <td>57.0</td>\n      <td>6.457</td>\n      <td>1900-01-01 00:54:47.081900</td>\n      <td>1900-01-01 08:56:05.936400</td>\n      <td>-13:03:59</td>\n      <td>-05:02:40</td>\n      <td>10:56:01</td>\n      <td>-05:02:40</td>\n    </tr>\n    <tr>\n      <th>0</th>\n      <td>V* RR Cet</td>\n      <td>1900-01-01 01:32:08.173100</td>\n      <td>+01 20 30.230</td>\n      <td>14</td>\n      <td>14</td>\n      <td>0.0152</td>\n      <td>0.0118</td>\n      <td>90</td>\n      <td>A</td>\n      <td>O</td>\n      <td>...</td>\n      <td>1</td>\n      <td>1.0</td>\n      <td>20.0</td>\n      <td>30.230</td>\n      <td>1900-01-01 00:54:47.081900</td>\n      <td>1900-01-01 08:56:05.936400</td>\n      <td>-00:37:21</td>\n      <td>07:23:57</td>\n      <td>-00:37:21</td>\n      <td>07:23:57</td>\n    </tr>\n    <tr>\n      <th>0</th>\n      <td>V* W Crt</td>\n      <td>1900-01-01 11:26:29.645200</td>\n      <td>-17 54 51.700</td>\n      <td>14</td>\n      <td>14</td>\n      <td>0.0198</td>\n      <td>0.0176</td>\n      <td>90</td>\n      <td>A</td>\n      <td>O</td>\n      <td>...</td>\n      <td>1</td>\n      <td>-17.0</td>\n      <td>54.0</td>\n      <td>51.700</td>\n      <td>1900-01-01 00:54:47.081900</td>\n      <td>1900-01-01 08:56:05.936400</td>\n      <td>-10:31:42</td>\n      <td>-02:30:23</td>\n      <td>-10:31:42</td>\n      <td>-02:30:23</td>\n    </tr>\n    <tr>\n      <th>0</th>\n      <td>V* UY Cyg</td>\n      <td>1900-01-01 20:56:28.303000</td>\n      <td>+30 25 40.327</td>\n      <td>14</td>\n      <td>14</td>\n      <td>0.0102</td>\n      <td>0.0154</td>\n      <td>90</td>\n      <td>A</td>\n      <td>O</td>\n      <td>...</td>\n      <td>1</td>\n      <td>30.0</td>\n      <td>25.0</td>\n      <td>40.327</td>\n      <td>1900-01-01 00:54:47.081900</td>\n      <td>1900-01-01 08:56:05.936400</td>\n      <td>-20:01:41</td>\n      <td>-12:00:22</td>\n      <td>3:58:19</td>\n      <td>11:59:38</td>\n    </tr>\n    <tr>\n      <th>0</th>\n      <td>V* XZ Cyg</td>\n      <td>1900-01-01 19:32:29.305000</td>\n      <td>+56 23 17.494</td>\n      <td>14</td>\n      <td>14</td>\n      <td>0.0135</td>\n      <td>0.0147</td>\n      <td>90</td>\n      <td>A</td>\n      <td>O</td>\n      <td>...</td>\n      <td>1</td>\n      <td>56.0</td>\n      <td>23.0</td>\n      <td>17.494</td>\n      <td>1900-01-01 00:54:47.081900</td>\n      <td>1900-01-01 08:56:05.936400</td>\n      <td>-18:37:42</td>\n      <td>-10:36:23</td>\n      <td>5:22:18</td>\n      <td>-10:36:23</td>\n    </tr>\n    <tr>\n      <th>0</th>\n      <td>V* DX Del</td>\n      <td>1900-01-01 20:47:28.355500</td>\n      <td>+12 27 50.682</td>\n      <td>14</td>\n      <td>14</td>\n      <td>0.0125</td>\n      <td>0.0072</td>\n      <td>90</td>\n      <td>A</td>\n      <td>O</td>\n      <td>...</td>\n      <td>1</td>\n      <td>12.0</td>\n      <td>27.0</td>\n      <td>50.682</td>\n      <td>1900-01-01 00:54:47.081900</td>\n      <td>1900-01-01 08:56:05.936400</td>\n      <td>-19:52:41</td>\n      <td>-11:51:22</td>\n      <td>4:07:19</td>\n      <td>-11:51:22</td>\n    </tr>\n    <tr>\n      <th>0</th>\n      <td>V* SU Dra</td>\n      <td>1900-01-01 11:37:56.607100</td>\n      <td>+67 19 47.060</td>\n      <td>14</td>\n      <td>14</td>\n      <td>0.0115</td>\n      <td>0.0117</td>\n      <td>90</td>\n      <td>A</td>\n      <td>O</td>\n      <td>...</td>\n      <td>1</td>\n      <td>67.0</td>\n      <td>19.0</td>\n      <td>47.060</td>\n      <td>1900-01-01 00:54:47.081900</td>\n      <td>1900-01-01 08:56:05.936400</td>\n      <td>-10:43:09</td>\n      <td>-02:41:50</td>\n      <td>-10:43:09</td>\n      <td>-02:41:50</td>\n    </tr>\n    <tr>\n      <th>0</th>\n      <td>V* SW Dra</td>\n      <td>1900-01-01 12:17:46.628300</td>\n      <td>+69 30 38.233</td>\n      <td>14</td>\n      <td>14</td>\n      <td>0.0169</td>\n      <td>0.0159</td>\n      <td>90</td>\n      <td>A</td>\n      <td>O</td>\n      <td>...</td>\n      <td>1</td>\n      <td>69.0</td>\n      <td>30.0</td>\n      <td>38.233</td>\n      <td>1900-01-01 00:54:47.081900</td>\n      <td>1900-01-01 08:56:05.936400</td>\n      <td>-11:22:59</td>\n      <td>-03:21:40</td>\n      <td>-11:22:59</td>\n      <td>-03:21:40</td>\n    </tr>\n    <tr>\n      <th>0</th>\n      <td>V* RX Eri</td>\n      <td>1900-01-01 04:49:44.291500</td>\n      <td>-15 44 28.242</td>\n      <td>14</td>\n      <td>14</td>\n      <td>0.0157</td>\n      <td>0.0142</td>\n      <td>90</td>\n      <td>A</td>\n      <td>O</td>\n      <td>...</td>\n      <td>1</td>\n      <td>-15.0</td>\n      <td>44.0</td>\n      <td>28.242</td>\n      <td>1900-01-01 00:54:47.081900</td>\n      <td>1900-01-01 08:56:05.936400</td>\n      <td>-03:54:57</td>\n      <td>04:06:21</td>\n      <td>-03:54:57</td>\n      <td>04:06:21</td>\n    </tr>\n    <tr>\n      <th>0</th>\n      <td>V* SV Eri</td>\n      <td>1900-01-01 03:11:52.107400</td>\n      <td>-11 21 14.067</td>\n      <td>14</td>\n      <td>14</td>\n      <td>0.0174</td>\n      <td>0.0167</td>\n      <td>90</td>\n      <td>A</td>\n      <td>O</td>\n      <td>...</td>\n      <td>1</td>\n      <td>-11.0</td>\n      <td>21.0</td>\n      <td>14.067</td>\n      <td>1900-01-01 00:54:47.081900</td>\n      <td>1900-01-01 08:56:05.936400</td>\n      <td>-02:17:05</td>\n      <td>05:44:13</td>\n      <td>-02:17:05</td>\n      <td>05:44:13</td>\n    </tr>\n    <tr>\n      <th>0</th>\n      <td>V* RR Gem</td>\n      <td>1900-01-01 07:21:33.531200</td>\n      <td>+30 52 59.459</td>\n      <td>14</td>\n      <td>14</td>\n      <td>0.0292</td>\n      <td>0.0274</td>\n      <td>90</td>\n      <td>A</td>\n      <td>O</td>\n      <td>...</td>\n      <td>1</td>\n      <td>30.0</td>\n      <td>52.0</td>\n      <td>59.459</td>\n      <td>1900-01-01 00:54:47.081900</td>\n      <td>1900-01-01 08:56:05.936400</td>\n      <td>-06:26:46</td>\n      <td>01:34:32</td>\n      <td>-06:26:46</td>\n      <td>01:34:32</td>\n    </tr>\n    <tr>\n      <th>0</th>\n      <td>V* TW Her</td>\n      <td>1900-01-01 17:54:31.200300</td>\n      <td>+30 24 37.680</td>\n      <td>14</td>\n      <td>14</td>\n      <td>0.0104</td>\n      <td>0.0134</td>\n      <td>90</td>\n      <td>A</td>\n      <td>O</td>\n      <td>...</td>\n      <td>1</td>\n      <td>30.0</td>\n      <td>24.0</td>\n      <td>37.680</td>\n      <td>1900-01-01 00:54:47.081900</td>\n      <td>1900-01-01 08:56:05.936400</td>\n      <td>-16:59:44</td>\n      <td>-08:58:25</td>\n      <td>7:00:16</td>\n      <td>-08:58:25</td>\n    </tr>\n    <tr>\n      <th>0</th>\n      <td>V* VX Her</td>\n      <td>1900-01-01 16:30:40.802700</td>\n      <td>+18 22 00.573</td>\n      <td>14</td>\n      <td>14</td>\n      <td>0.0189</td>\n      <td>0.0162</td>\n      <td>90</td>\n      <td>A</td>\n      <td>O</td>\n      <td>...</td>\n      <td>1</td>\n      <td>18.0</td>\n      <td>22.0</td>\n      <td>0.573</td>\n      <td>1900-01-01 00:54:47.081900</td>\n      <td>1900-01-01 08:56:05.936400</td>\n      <td>-15:35:53</td>\n      <td>-07:34:34</td>\n      <td>8:24:07</td>\n      <td>-07:34:34</td>\n    </tr>\n    <tr>\n      <th>0</th>\n      <td>V* SV Hya</td>\n      <td>1900-01-01 12:30:30.503100</td>\n      <td>-26 02 51.113</td>\n      <td>14</td>\n      <td>14</td>\n      <td>0.0195</td>\n      <td>0.0135</td>\n      <td>90</td>\n      <td>A</td>\n      <td>O</td>\n      <td>...</td>\n      <td>1</td>\n      <td>-26.0</td>\n      <td>2.0</td>\n      <td>51.113</td>\n      <td>1900-01-01 00:54:47.081900</td>\n      <td>1900-01-01 08:56:05.936400</td>\n      <td>-11:35:43</td>\n      <td>-03:34:24</td>\n      <td>-11:35:43</td>\n      <td>-03:34:24</td>\n    </tr>\n    <tr>\n      <th>0</th>\n      <td>V* V Ind</td>\n      <td>1900-01-01 21:11:29.901900</td>\n      <td>-45 04 28.391</td>\n      <td>14</td>\n      <td>14</td>\n      <td>0.0160</td>\n      <td>0.0124</td>\n      <td>90</td>\n      <td>A</td>\n      <td>O</td>\n      <td>...</td>\n      <td>1</td>\n      <td>-45.0</td>\n      <td>4.0</td>\n      <td>28.391</td>\n      <td>1900-01-01 00:54:47.081900</td>\n      <td>1900-01-01 08:56:05.936400</td>\n      <td>-20:16:42</td>\n      <td>-12:15:23</td>\n      <td>3:43:18</td>\n      <td>11:44:37</td>\n    </tr>\n    <tr>\n      <th>0</th>\n      <td>V* RR Leo</td>\n      <td>1900-01-01 10:07:43.460500</td>\n      <td>+23 59 30.318</td>\n      <td>14</td>\n      <td>14</td>\n      <td>0.0183</td>\n      <td>0.0166</td>\n      <td>90</td>\n      <td>A</td>\n      <td>O</td>\n      <td>...</td>\n      <td>1</td>\n      <td>23.0</td>\n      <td>59.0</td>\n      <td>30.318</td>\n      <td>1900-01-01 00:54:47.081900</td>\n      <td>1900-01-01 08:56:05.936400</td>\n      <td>-09:12:56</td>\n      <td>-01:11:37</td>\n      <td>-09:12:56</td>\n      <td>-01:11:37</td>\n    </tr>\n    <tr>\n      <th>0</th>\n      <td>V* TT Lyn</td>\n      <td>1900-01-01 09:03:07.786400</td>\n      <td>+44 35 08.119</td>\n      <td>14</td>\n      <td>14</td>\n      <td>0.0127</td>\n      <td>0.0102</td>\n      <td>90</td>\n      <td>A</td>\n      <td>O</td>\n      <td>...</td>\n      <td>1</td>\n      <td>44.0</td>\n      <td>35.0</td>\n      <td>8.119</td>\n      <td>1900-01-01 00:54:47.081900</td>\n      <td>1900-01-01 08:56:05.936400</td>\n      <td>-08:08:20</td>\n      <td>-00:07:01</td>\n      <td>-08:08:20</td>\n      <td>-00:07:01</td>\n    </tr>\n    <tr>\n      <th>0</th>\n      <td>V* RR Lyr</td>\n      <td>1900-01-01 19:25:27.912900</td>\n      <td>+42 47 03.693</td>\n      <td>14</td>\n      <td>14</td>\n      <td>0.0224</td>\n      <td>0.0242</td>\n      <td>90</td>\n      <td>A</td>\n      <td>O</td>\n      <td>...</td>\n      <td>1</td>\n      <td>42.0</td>\n      <td>47.0</td>\n      <td>3.693</td>\n      <td>1900-01-01 00:54:47.081900</td>\n      <td>1900-01-01 08:56:05.936400</td>\n      <td>-18:30:40</td>\n      <td>-10:29:21</td>\n      <td>5:29:20</td>\n      <td>-10:29:21</td>\n    </tr>\n    <tr>\n      <th>0</th>\n      <td>V* RV Oct</td>\n      <td>1900-01-01 13:46:31.744200</td>\n      <td>-84 24 06.384</td>\n      <td>14</td>\n      <td>14</td>\n      <td>0.0106</td>\n      <td>0.0105</td>\n      <td>90</td>\n      <td>A</td>\n      <td>O</td>\n      <td>...</td>\n      <td>1</td>\n      <td>-84.0</td>\n      <td>24.0</td>\n      <td>6.384</td>\n      <td>1900-01-01 00:54:47.081900</td>\n      <td>1900-01-01 08:56:05.936400</td>\n      <td>-12:51:44</td>\n      <td>-04:50:25</td>\n      <td>11:08:16</td>\n      <td>-04:50:25</td>\n    </tr>\n    <tr>\n      <th>0</th>\n      <td>V* UV Oct</td>\n      <td>1900-01-01 16:32:25.536100</td>\n      <td>-83 54 10.495</td>\n      <td>14</td>\n      <td>14</td>\n      <td>0.0105</td>\n      <td>0.0111</td>\n      <td>90</td>\n      <td>A</td>\n      <td>O</td>\n      <td>...</td>\n      <td>1</td>\n      <td>-83.0</td>\n      <td>54.0</td>\n      <td>10.495</td>\n      <td>1900-01-01 00:54:47.081900</td>\n      <td>1900-01-01 08:56:05.936400</td>\n      <td>-15:37:38</td>\n      <td>-07:36:19</td>\n      <td>8:22:22</td>\n      <td>-07:36:19</td>\n    </tr>\n    <tr>\n      <th>0</th>\n      <td>V* AV Peg</td>\n      <td>1900-01-01 21:52:02.794500</td>\n      <td>+22 34 29.376</td>\n      <td>14</td>\n      <td>14</td>\n      <td>0.0144</td>\n      <td>0.0134</td>\n      <td>90</td>\n      <td>A</td>\n      <td>O</td>\n      <td>...</td>\n      <td>1</td>\n      <td>22.0</td>\n      <td>34.0</td>\n      <td>29.376</td>\n      <td>1900-01-01 00:54:47.081900</td>\n      <td>1900-01-01 08:56:05.936400</td>\n      <td>-20:57:15</td>\n      <td>-12:55:56</td>\n      <td>3:02:45</td>\n      <td>11:04:04</td>\n    </tr>\n    <tr>\n      <th>0</th>\n      <td>V* BH Peg</td>\n      <td>1900-01-01 22:53:01.036900</td>\n      <td>+15 47 16.609</td>\n      <td>14</td>\n      <td>14</td>\n      <td>0.0181</td>\n      <td>0.0173</td>\n      <td>90</td>\n      <td>A</td>\n      <td>O</td>\n      <td>...</td>\n      <td>1</td>\n      <td>15.0</td>\n      <td>47.0</td>\n      <td>16.609</td>\n      <td>1900-01-01 00:54:47.081900</td>\n      <td>1900-01-01 08:56:05.936400</td>\n      <td>-21:58:13</td>\n      <td>-13:56:55</td>\n      <td>2:01:47</td>\n      <td>10:03:05</td>\n    </tr>\n    <tr>\n      <th>0</th>\n      <td>V* BB Pup</td>\n      <td>1900-01-01 08:24:22.643300</td>\n      <td>-19 32 31.408</td>\n      <td>14</td>\n      <td>14</td>\n      <td>0.0127</td>\n      <td>0.0131</td>\n      <td>90</td>\n      <td>A</td>\n      <td>O</td>\n      <td>...</td>\n      <td>1</td>\n      <td>-19.0</td>\n      <td>32.0</td>\n      <td>31.408</td>\n      <td>1900-01-01 00:54:47.081900</td>\n      <td>1900-01-01 08:56:05.936400</td>\n      <td>-07:29:35</td>\n      <td>00:31:43</td>\n      <td>-07:29:35</td>\n      <td>00:31:43</td>\n    </tr>\n    <tr>\n      <th>0</th>\n      <td>V* HK Pup</td>\n      <td>1900-01-01 07:44:46.802800</td>\n      <td>-13 05 56.312</td>\n      <td>14</td>\n      <td>14</td>\n      <td>0.0133</td>\n      <td>0.0121</td>\n      <td>90</td>\n      <td>A</td>\n      <td>O</td>\n      <td>...</td>\n      <td>1</td>\n      <td>-13.0</td>\n      <td>5.0</td>\n      <td>56.312</td>\n      <td>1900-01-01 00:54:47.081900</td>\n      <td>1900-01-01 08:56:05.936400</td>\n      <td>-06:49:59</td>\n      <td>01:11:19</td>\n      <td>-06:49:59</td>\n      <td>01:11:19</td>\n    </tr>\n    <tr>\n      <th>0</th>\n      <td>V* RU Scl</td>\n      <td>1900-01-01 00:02:48.107000</td>\n      <td>-24 56 43.074</td>\n      <td>14</td>\n      <td>14</td>\n      <td>0.0186</td>\n      <td>0.0210</td>\n      <td>90</td>\n      <td>A</td>\n      <td>O</td>\n      <td>...</td>\n      <td>1</td>\n      <td>-24.0</td>\n      <td>56.0</td>\n      <td>43.074</td>\n      <td>1900-01-01 00:54:47.081900</td>\n      <td>1900-01-01 08:56:05.936400</td>\n      <td>00:51:58</td>\n      <td>08:53:17</td>\n      <td>00:51:58</td>\n      <td>08:53:17</td>\n    </tr>\n    <tr>\n      <th>0</th>\n      <td>V* AN Ser</td>\n      <td>1900-01-01 15:53:31.053100</td>\n      <td>+12 57 40.112</td>\n      <td>14</td>\n      <td>14</td>\n      <td>0.0166</td>\n      <td>0.0143</td>\n      <td>90</td>\n      <td>A</td>\n      <td>O</td>\n      <td>...</td>\n      <td>1</td>\n      <td>12.0</td>\n      <td>57.0</td>\n      <td>40.112</td>\n      <td>1900-01-01 00:54:47.081900</td>\n      <td>1900-01-01 08:56:05.936400</td>\n      <td>-14:58:43</td>\n      <td>-06:57:25</td>\n      <td>9:01:17</td>\n      <td>-06:57:25</td>\n    </tr>\n    <tr>\n      <th>0</th>\n      <td>V* AB UMa</td>\n      <td>1900-01-01 12:11:14.589000</td>\n      <td>+47 49 43.794</td>\n      <td>14</td>\n      <td>14</td>\n      <td>0.0084</td>\n      <td>0.0123</td>\n      <td>90</td>\n      <td>A</td>\n      <td>O</td>\n      <td>...</td>\n      <td>1</td>\n      <td>47.0</td>\n      <td>49.0</td>\n      <td>43.794</td>\n      <td>1900-01-01 00:54:47.081900</td>\n      <td>1900-01-01 08:56:05.936400</td>\n      <td>-11:16:27</td>\n      <td>-03:15:08</td>\n      <td>-11:16:27</td>\n      <td>-03:15:08</td>\n    </tr>\n    <tr>\n      <th>0</th>\n      <td>V* RV UMa</td>\n      <td>1900-01-01 13:33:18.083800</td>\n      <td>+53 59 14.598</td>\n      <td>14</td>\n      <td>14</td>\n      <td>0.0106</td>\n      <td>0.0120</td>\n      <td>90</td>\n      <td>A</td>\n      <td>O</td>\n      <td>...</td>\n      <td>1</td>\n      <td>53.0</td>\n      <td>59.0</td>\n      <td>14.598</td>\n      <td>1900-01-01 00:54:47.081900</td>\n      <td>1900-01-01 08:56:05.936400</td>\n      <td>-12:38:31</td>\n      <td>-04:37:12</td>\n      <td>11:21:29</td>\n      <td>-04:37:12</td>\n    </tr>\n    <tr>\n      <th>0</th>\n      <td>V* TU UMa</td>\n      <td>1900-01-01 11:29:48.489300</td>\n      <td>+30 04 02.379</td>\n      <td>14</td>\n      <td>14</td>\n      <td>0.0150</td>\n      <td>0.0265</td>\n      <td>90</td>\n      <td>A</td>\n      <td>O</td>\n      <td>...</td>\n      <td>1</td>\n      <td>30.0</td>\n      <td>4.0</td>\n      <td>2.379</td>\n      <td>1900-01-01 00:54:47.081900</td>\n      <td>1900-01-01 08:56:05.936400</td>\n      <td>-10:35:01</td>\n      <td>-02:33:42</td>\n      <td>-10:35:01</td>\n      <td>-02:33:42</td>\n    </tr>\n    <tr>\n      <th>0</th>\n      <td>V* UU Vir</td>\n      <td>1900-01-01 12:08:35.072400</td>\n      <td>-00 27 24.308</td>\n      <td>14</td>\n      <td>14</td>\n      <td>0.0391</td>\n      <td>0.0326</td>\n      <td>90</td>\n      <td>A</td>\n      <td>O</td>\n      <td>...</td>\n      <td>1</td>\n      <td>-0.0</td>\n      <td>27.0</td>\n      <td>24.308</td>\n      <td>1900-01-01 00:54:47.081900</td>\n      <td>1900-01-01 08:56:05.936400</td>\n      <td>-11:13:47</td>\n      <td>-03:12:29</td>\n      <td>-11:13:47</td>\n      <td>-03:12:29</td>\n    </tr>\n    <tr>\n      <th>0</th>\n      <td>V* AE Boo</td>\n      <td>1900-01-01 14:47:35.265100</td>\n      <td>+16 50 43.552</td>\n      <td>14</td>\n      <td>14</td>\n      <td>0.0129</td>\n      <td>0.0146</td>\n      <td>90</td>\n      <td>A</td>\n      <td>O</td>\n      <td>...</td>\n      <td>1</td>\n      <td>16.0</td>\n      <td>50.0</td>\n      <td>43.552</td>\n      <td>1900-01-01 00:54:47.081900</td>\n      <td>1900-01-01 08:56:05.936400</td>\n      <td>-13:52:48</td>\n      <td>-05:51:29</td>\n      <td>10:07:12</td>\n      <td>-05:51:29</td>\n    </tr>\n    <tr>\n      <th>0</th>\n      <td>V* TV Boo</td>\n      <td>1900-01-01 14:16:36.581400</td>\n      <td>+42 21 35.712</td>\n      <td>14</td>\n      <td>14</td>\n      <td>0.0109</td>\n      <td>0.0128</td>\n      <td>90</td>\n      <td>A</td>\n      <td>O</td>\n      <td>...</td>\n      <td>1</td>\n      <td>42.0</td>\n      <td>21.0</td>\n      <td>35.712</td>\n      <td>1900-01-01 00:54:47.081900</td>\n      <td>1900-01-01 08:56:05.936400</td>\n      <td>-13:21:49</td>\n      <td>-05:20:30</td>\n      <td>10:38:11</td>\n      <td>-05:20:30</td>\n    </tr>\n    <tr>\n      <th>0</th>\n      <td>V* ST CVn</td>\n      <td>1900-01-01 13:57:34.058900</td>\n      <td>+29 51 28.715</td>\n      <td>14</td>\n      <td>14</td>\n      <td>0.0160</td>\n      <td>0.0147</td>\n      <td>90</td>\n      <td>A</td>\n      <td>O</td>\n      <td>...</td>\n      <td>1</td>\n      <td>29.0</td>\n      <td>51.0</td>\n      <td>28.715</td>\n      <td>1900-01-01 00:54:47.081900</td>\n      <td>1900-01-01 08:56:05.936400</td>\n      <td>-13:02:46</td>\n      <td>-05:01:28</td>\n      <td>10:57:14</td>\n      <td>-05:01:28</td>\n    </tr>\n    <tr>\n      <th>0</th>\n      <td>V* UY Cam</td>\n      <td>1900-01-01 07:58:58.882500</td>\n      <td>+72 47 15.402</td>\n      <td>14</td>\n      <td>14</td>\n      <td>0.0120</td>\n      <td>0.0157</td>\n      <td>90</td>\n      <td>A</td>\n      <td>O</td>\n      <td>...</td>\n      <td>1</td>\n      <td>72.0</td>\n      <td>47.0</td>\n      <td>15.402</td>\n      <td>1900-01-01 00:54:47.081900</td>\n      <td>1900-01-01 08:56:05.936400</td>\n      <td>-07:04:11</td>\n      <td>00:57:07</td>\n      <td>-07:04:11</td>\n      <td>00:57:07</td>\n    </tr>\n    <tr>\n      <th>0</th>\n      <td>V* YZ Cap</td>\n      <td>1900-01-01 21:19:32.413000</td>\n      <td>-15 07 01.141</td>\n      <td>14</td>\n      <td>14</td>\n      <td>0.0255</td>\n      <td>0.0206</td>\n      <td>90</td>\n      <td>A</td>\n      <td>O</td>\n      <td>...</td>\n      <td>1</td>\n      <td>-15.0</td>\n      <td>7.0</td>\n      <td>1.141</td>\n      <td>1900-01-01 00:54:47.081900</td>\n      <td>1900-01-01 08:56:05.936400</td>\n      <td>-20:24:45</td>\n      <td>-12:23:26</td>\n      <td>3:35:15</td>\n      <td>11:36:34</td>\n    </tr>\n    <tr>\n      <th>0</th>\n      <td>V* RZ Cep</td>\n      <td>1900-01-01 22:39:13.176800</td>\n      <td>+64 51 30.611</td>\n      <td>14</td>\n      <td>14</td>\n      <td>0.0108</td>\n      <td>0.0099</td>\n      <td>90</td>\n      <td>A</td>\n      <td>O</td>\n      <td>...</td>\n      <td>1</td>\n      <td>64.0</td>\n      <td>51.0</td>\n      <td>30.611</td>\n      <td>1900-01-01 00:54:47.081900</td>\n      <td>1900-01-01 08:56:05.936400</td>\n      <td>-21:44:26</td>\n      <td>-13:43:07</td>\n      <td>2:15:34</td>\n      <td>10:16:53</td>\n    </tr>\n    <tr>\n      <th>0</th>\n      <td>V* RV CrB</td>\n      <td>1900-01-01 16:19:25.851500</td>\n      <td>+29 42 47.638</td>\n      <td>14</td>\n      <td>14</td>\n      <td>0.0109</td>\n      <td>0.0125</td>\n      <td>90</td>\n      <td>A</td>\n      <td>O</td>\n      <td>...</td>\n      <td>1</td>\n      <td>29.0</td>\n      <td>42.0</td>\n      <td>47.638</td>\n      <td>1900-01-01 00:54:47.081900</td>\n      <td>1900-01-01 08:56:05.936400</td>\n      <td>-15:24:38</td>\n      <td>-07:23:19</td>\n      <td>8:35:22</td>\n      <td>-07:23:19</td>\n    </tr>\n    <tr>\n      <th>0</th>\n      <td>V* CS Eri</td>\n      <td>1900-01-01 02:37:05.758800</td>\n      <td>-42 57 48.035</td>\n      <td>14</td>\n      <td>14</td>\n      <td>0.0110</td>\n      <td>0.0128</td>\n      <td>90</td>\n      <td>A</td>\n      <td>O</td>\n      <td>...</td>\n      <td>1</td>\n      <td>-42.0</td>\n      <td>57.0</td>\n      <td>48.035</td>\n      <td>1900-01-01 00:54:47.081900</td>\n      <td>1900-01-01 08:56:05.936400</td>\n      <td>-01:42:18</td>\n      <td>06:19:00</td>\n      <td>-01:42:18</td>\n      <td>06:19:00</td>\n    </tr>\n    <tr>\n      <th>0</th>\n      <td>V* BX Leo</td>\n      <td>1900-01-01 11:38:02.062900</td>\n      <td>+16 32 36.195</td>\n      <td>14</td>\n      <td>14</td>\n      <td>0.0195</td>\n      <td>0.0173</td>\n      <td>90</td>\n      <td>A</td>\n      <td>O</td>\n      <td>...</td>\n      <td>1</td>\n      <td>16.0</td>\n      <td>32.0</td>\n      <td>36.195</td>\n      <td>1900-01-01 00:54:47.081900</td>\n      <td>1900-01-01 08:56:05.936400</td>\n      <td>-10:43:14</td>\n      <td>-02:41:56</td>\n      <td>-10:43:14</td>\n      <td>-02:41:56</td>\n    </tr>\n    <tr>\n      <th>0</th>\n      <td>V* DH Peg</td>\n      <td>1900-01-01 22:15:25.639700</td>\n      <td>+06 49 21.439</td>\n      <td>14</td>\n      <td>14</td>\n      <td>0.0230</td>\n      <td>0.0293</td>\n      <td>90</td>\n      <td>A</td>\n      <td>O</td>\n      <td>...</td>\n      <td>1</td>\n      <td>6.0</td>\n      <td>49.0</td>\n      <td>21.439</td>\n      <td>1900-01-01 00:54:47.081900</td>\n      <td>1900-01-01 08:56:05.936400</td>\n      <td>-21:20:38</td>\n      <td>-13:19:19</td>\n      <td>2:39:22</td>\n      <td>10:40:41</td>\n    </tr>\n    <tr>\n      <th>0</th>\n      <td>V* RU Psc</td>\n      <td>1900-01-01 01:14:26.037100</td>\n      <td>+24 24 56.367</td>\n      <td>14</td>\n      <td>14</td>\n      <td>0.0249</td>\n      <td>0.0164</td>\n      <td>90</td>\n      <td>A</td>\n      <td>O</td>\n      <td>...</td>\n      <td>1</td>\n      <td>24.0</td>\n      <td>24.0</td>\n      <td>56.367</td>\n      <td>1900-01-01 00:54:47.081900</td>\n      <td>1900-01-01 08:56:05.936400</td>\n      <td>-00:19:38</td>\n      <td>07:41:39</td>\n      <td>-00:19:38</td>\n      <td>07:41:39</td>\n    </tr>\n    <tr>\n      <th>0</th>\n      <td>V* SV Scl</td>\n      <td>1900-01-01 01:44:59.662700</td>\n      <td>-30 03 33.385</td>\n      <td>14</td>\n      <td>14</td>\n      <td>0.0186</td>\n      <td>0.0166</td>\n      <td>90</td>\n      <td>A</td>\n      <td>O</td>\n      <td>...</td>\n      <td>1</td>\n      <td>-30.0</td>\n      <td>3.0</td>\n      <td>33.385</td>\n      <td>1900-01-01 00:54:47.081900</td>\n      <td>1900-01-01 08:56:05.936400</td>\n      <td>-00:50:12</td>\n      <td>07:11:06</td>\n      <td>-00:50:12</td>\n      <td>07:11:06</td>\n    </tr>\n    <tr>\n      <th>0</th>\n      <td>V* AP Ser</td>\n      <td>1900-01-01 15:14:00.921300</td>\n      <td>+09 58 51.853</td>\n      <td>14</td>\n      <td>14</td>\n      <td>0.0145</td>\n      <td>0.0135</td>\n      <td>90</td>\n      <td>A</td>\n      <td>O</td>\n      <td>...</td>\n      <td>1</td>\n      <td>9.0</td>\n      <td>58.0</td>\n      <td>51.853</td>\n      <td>1900-01-01 00:54:47.081900</td>\n      <td>1900-01-01 08:56:05.936400</td>\n      <td>-14:19:13</td>\n      <td>-06:17:54</td>\n      <td>9:40:47</td>\n      <td>-06:17:54</td>\n    </tr>\n    <tr>\n      <th>0</th>\n      <td>V* T Sex</td>\n      <td>1900-01-01 09:53:28.399900</td>\n      <td>+02 03 26.346</td>\n      <td>14</td>\n      <td>14</td>\n      <td>0.0200</td>\n      <td>0.0191</td>\n      <td>90</td>\n      <td>A</td>\n      <td>O</td>\n      <td>...</td>\n      <td>1</td>\n      <td>2.0</td>\n      <td>3.0</td>\n      <td>26.346</td>\n      <td>1900-01-01 00:54:47.081900</td>\n      <td>1900-01-01 08:56:05.936400</td>\n      <td>-08:58:41</td>\n      <td>-00:57:22</td>\n      <td>-08:58:41</td>\n      <td>-00:57:22</td>\n    </tr>\n    <tr>\n      <th>0</th>\n      <td>V* MT Tel</td>\n      <td>1900-01-01 19:02:12.279200</td>\n      <td>-46 39 12.083</td>\n      <td>14</td>\n      <td>14</td>\n      <td>0.0244</td>\n      <td>0.0262</td>\n      <td>90</td>\n      <td>A</td>\n      <td>O</td>\n      <td>...</td>\n      <td>1</td>\n      <td>-46.0</td>\n      <td>39.0</td>\n      <td>12.083</td>\n      <td>1900-01-01 00:54:47.081900</td>\n      <td>1900-01-01 08:56:05.936400</td>\n      <td>-18:07:25</td>\n      <td>-10:06:06</td>\n      <td>5:52:35</td>\n      <td>-10:06:06</td>\n    </tr>\n    <tr>\n      <th>0</th>\n      <td>V* AM Tuc</td>\n      <td>1900-01-01 01:18:30.649500</td>\n      <td>-67 55 04.962</td>\n      <td>14</td>\n      <td>14</td>\n      <td>0.0153</td>\n      <td>0.0122</td>\n      <td>90</td>\n      <td>A</td>\n      <td>O</td>\n      <td>...</td>\n      <td>1</td>\n      <td>-67.0</td>\n      <td>55.0</td>\n      <td>4.962</td>\n      <td>1900-01-01 00:54:47.081900</td>\n      <td>1900-01-01 08:56:05.936400</td>\n      <td>-00:23:43</td>\n      <td>07:37:35</td>\n      <td>-00:23:43</td>\n      <td>07:37:35</td>\n    </tr>\n    <tr>\n      <th>0</th>\n      <td>V* SX UMa</td>\n      <td>1900-01-01 13:26:13.459200</td>\n      <td>+56 15 25.053</td>\n      <td>14</td>\n      <td>14</td>\n      <td>0.0115</td>\n      <td>0.0114</td>\n      <td>90</td>\n      <td>A</td>\n      <td>O</td>\n      <td>...</td>\n      <td>1</td>\n      <td>56.0</td>\n      <td>15.0</td>\n      <td>25.053</td>\n      <td>1900-01-01 00:54:47.081900</td>\n      <td>1900-01-01 08:56:05.936400</td>\n      <td>-12:31:26</td>\n      <td>-04:30:07</td>\n      <td>11:28:34</td>\n      <td>-04:30:07</td>\n    </tr>\n    <tr>\n      <th>0</th>\n      <td>V* CU Com</td>\n      <td>1900-01-01 12:24:46.609400</td>\n      <td>+22 24 28.241</td>\n      <td>14</td>\n      <td>14</td>\n      <td>0.0137</td>\n      <td>0.0115</td>\n      <td>90</td>\n      <td>A</td>\n      <td>O</td>\n      <td>...</td>\n      <td>1</td>\n      <td>22.0</td>\n      <td>24.0</td>\n      <td>28.241</td>\n      <td>1900-01-01 00:54:47.081900</td>\n      <td>1900-01-01 08:56:05.936400</td>\n      <td>-11:29:59</td>\n      <td>-03:28:40</td>\n      <td>-11:29:59</td>\n      <td>-03:28:40</td>\n    </tr>\n    <tr>\n      <th>0</th>\n      <td>V* RV UMa</td>\n      <td>1900-01-01 13:33:18.083800</td>\n      <td>+53 59 14.598</td>\n      <td>14</td>\n      <td>14</td>\n      <td>0.0106</td>\n      <td>0.0120</td>\n      <td>90</td>\n      <td>A</td>\n      <td>O</td>\n      <td>...</td>\n      <td>1</td>\n      <td>53.0</td>\n      <td>59.0</td>\n      <td>14.598</td>\n      <td>1900-01-01 00:54:47.081900</td>\n      <td>1900-01-01 08:56:05.936400</td>\n      <td>-12:38:31</td>\n      <td>-04:37:12</td>\n      <td>11:21:29</td>\n      <td>-04:37:12</td>\n    </tr>\n  </tbody>\n</table>\n<p>54 rows × 32 columns</p>\n</div>"
     },
     "execution_count": 23,
     "metadata": {},
     "output_type": "execute_result"
    }
   ],
   "source": [
    "simbad_df"
   ],
   "metadata": {
    "collapsed": false,
    "pycharm": {
     "name": "#%%\n"
    }
   }
  },
  {
   "cell_type": "markdown",
   "source": [
    "# Finding the observable stars\n",
    "\n"
   ],
   "metadata": {
    "collapsed": false,
    "pycharm": {
     "name": "#%% md\n"
    }
   }
  },
  {
   "cell_type": "markdown",
   "source": [
    "## Circumpolar star\n",
    "\n",
    "A circumpolar star never sets, but it rotates around the celestial north pole. The amount of circumpolar stars depends on latitude. There are, for example, no circumpolar stars in the equator, and all of the stars are circumpolar at the poles. A star will be circumpolar if\n",
    "$$ \\theta + \\delta > 90º$$\n",
    "\n",
    "where $\\theta$ is the latitude and $\\delta$ is the declination."
   ],
   "metadata": {
    "collapsed": false,
    "pycharm": {
     "name": "#%% md\n"
    }
   }
  },
  {
   "cell_type": "code",
   "execution_count": 11,
   "outputs": [],
   "source": [
    "circumpolar_stars = simbad_df[simbad_df['DEC degrees'] + bath_latitude > 90]"
   ],
   "metadata": {
    "collapsed": false,
    "pycharm": {
     "name": "#%%\n"
    }
   }
  },
  {
   "cell_type": "markdown",
   "source": [
    "## Discriminating based on RA and Dec\n",
    "\n",
    "Aside from the circumpolar stars, we want something that will be close to the Meridian at the time of observation. This means an hour angle of $\\pm3$ hrs or less, which amounts to $\\pm 45$º in the East to West plane. Each hour it will move 15º, so that something that starts with an HA = 3hrs at 8pm will cross the meridian at 11pm. Using the hour angle allows us to circumvent calculating which stars are not observable in this coordinate, since anything not visible will have an hour angle too large.\n",
    "\n",
    "In terms of declination, we want something that is visible from Bath. Since we are not at the equator, the stars will not be where its declination says (in the North to South direction), but instead the following correction must be applied:\n",
    "\n",
    "$$\\mathrm{Dec}_{\\mathrm{Bath}} = \\mathrm{Dec} - \\mathrm{lat}$$\n",
    "\n",
    "This will tell us what angle the star has with respect to the zenith. To avoid light pollution and trees we can limit the observable declination to 30º in each direction, so that we are left with a small circle in the sky with our observable stars."
   ],
   "metadata": {
    "collapsed": false,
    "pycharm": {
     "name": "#%% md\n"
    }
   }
  },
  {
   "cell_type": "code",
   "execution_count": 12,
   "outputs": [],
   "source": [
    "def compare_ha(hour_angle):\n",
    "    h, m, s = re.split(':',hour_angle)\n",
    "    return 3 > int(h) > -3\n",
    "\n",
    "def visible_for_calculator(hour_angle):\n",
    "    h, m, s = re.split(':', hour_angle)\n",
    "    h = int(h)\n",
    "    m = int(m)\n",
    "    s = int(s)\n",
    "    if 3 > h > 0:\n",
    "        seconds = 60 - s\n",
    "        minutes = 60 - m - 1\n",
    "        hours = 3 - h - 1\n",
    "        return(f'{hours}:{minutes}:{seconds}')\n",
    "    elif -3 < h < 0:\n",
    "        seconds = s\n",
    "        minutes = m\n",
    "        hours = 3 - h\n",
    "        return(f'{hours}:{minutes}:{seconds}')\n",
    "    elif h == 0:\n",
    "        if hour_angle[0] == '-':\n",
    "            seconds = s\n",
    "            minutes = m\n",
    "            hours = 3\n",
    "            return(f'{hours}:{minutes}:{seconds}')\n",
    "        else:\n",
    "            seconds = 60 - s\n",
    "            minutes = 60 - m - 1\n",
    "            hours = 2\n",
    "            return(f'{hours}:{minutes}:{seconds}')\n",
    "    elif -3 < h + 6 <= 3:\n",
    "        final_hour = h + 6\n",
    "        foo = final_hour + 3 - 1\n",
    "        minutes = 60 - m - 1\n",
    "        seconds = 60 - s\n",
    "        return(f'{foo}:{minutes}:{seconds}')\n",
    "    else:\n",
    "        return(\"Not observable\")\n",
    "\n"
   ],
   "metadata": {
    "collapsed": false,
    "pycharm": {
     "name": "#%%\n"
    }
   }
  },
  {
   "cell_type": "code",
   "execution_count": 24,
   "outputs": [
    {
     "name": "stdout",
     "output_type": "stream",
     "text": [
      "(13, 33)\n",
      "(4, 33)\n"
     ]
    }
   ],
   "source": [
    "pd.options.mode.chained_assignment = None\n",
    "\n",
    "ra_observable = simbad_df[simbad_df['Start hour angle folded'].apply(compare_ha)]\n",
    "ra_observable['Visible for'] = ra_observable['Start hour angle folded'].apply(visible_for_calculator)\n",
    "print(ra_observable.shape)\n",
    "\n",
    "dec_observable = ra_observable[(ra_observable['DEC degrees']-bath_latitude < 30) & (ra_observable['DEC degrees']-bath_latitude > -30)]\n",
    "\n",
    "print(dec_observable.shape)\n",
    "\n",
    "# dec_observable = pd.concat([dec_observable, circumpolar_stars])\n",
    "# Here I just get rid of the columns I made for the operations\n",
    "dec_observable = dec_observable.drop(columns = ['DEC degrees', 'DEC minutes', 'DEC seconds', 'start sidereal time', 'end sidereal time', 'Start hour angle', 'End hour angle'])\n"
   ],
   "metadata": {
    "collapsed": false,
    "pycharm": {
     "name": "#%%\n"
    }
   }
  },
  {
   "cell_type": "code",
   "execution_count": 14,
   "outputs": [],
   "source": [
    "# Drop the duplicates in case there are any\n",
    "dec_observable = dec_observable.drop_duplicates()"
   ],
   "metadata": {
    "collapsed": false,
    "pycharm": {
     "name": "#%%\n"
    }
   }
  },
  {
   "cell_type": "code",
   "execution_count": 15,
   "outputs": [
    {
     "data": {
      "text/plain": "     MAIN_ID                         RA            DEC  RA_PREC  DEC_PREC  \\\n0  V* XX And 1900-01-01 01:17:27.414200  +38 57 02.047       14        14   \n0  V* RU Psc 1900-01-01 01:14:26.037100  +24 24 56.367       14        14   \n0  V* SW And 1900-01-01 00:23:43.089600  +29 24 03.626       14        14   \n0  V* RZ Cep 1900-01-01 22:39:13.176800  +64 51 30.611       14        14   \n\n   COO_ERR_MAJA  COO_ERR_MINA  COO_ERR_ANGLE COO_QUAL COO_WAVELENGTH  ...  \\\n0        0.0149        0.0152             90        A              O  ...   \n0        0.0249        0.0164             90        A              O  ...   \n0        0.0216        0.0176             90        A              O  ...   \n0        0.0108        0.0099             90        A              O  ...   \n\n      Distance_bibcode  FLUX_K     FLUX_G FLUX_R  FLUX_B  SCRIPT_NUMBER_ID  \\\n0  2020yCat.1350....0G   9.336  10.681514    NaN   11.00                 1   \n0  2020yCat.1350....0G   9.068  10.129585    NaN   10.34                 1   \n0  2020yCat.1350....0G   8.444   9.705101    NaN    9.34                 1   \n0  2020yCat.1350....0G   7.968   9.294270    9.3    9.48                 1   \n\n  Start hour angle folded End hour angle folded  Visible for  \\\n0               -00:22:40              07:38:38      3:22:40   \n0               -00:19:38              07:41:39      3:19:38   \n0                00:31:03              08:32:22      2:28:57   \n0                 2:15:34              10:16:53      0:44:26   \n\n   Visible for in seconds  \n0                   12160  \n0                   11978  \n0                    8937  \n0                    2666  \n\n[4 rows x 27 columns]",
      "text/html": "<div>\n<style scoped>\n    .dataframe tbody tr th:only-of-type {\n        vertical-align: middle;\n    }\n\n    .dataframe tbody tr th {\n        vertical-align: top;\n    }\n\n    .dataframe thead th {\n        text-align: right;\n    }\n</style>\n<table border=\"1\" class=\"dataframe\">\n  <thead>\n    <tr style=\"text-align: right;\">\n      <th></th>\n      <th>MAIN_ID</th>\n      <th>RA</th>\n      <th>DEC</th>\n      <th>RA_PREC</th>\n      <th>DEC_PREC</th>\n      <th>COO_ERR_MAJA</th>\n      <th>COO_ERR_MINA</th>\n      <th>COO_ERR_ANGLE</th>\n      <th>COO_QUAL</th>\n      <th>COO_WAVELENGTH</th>\n      <th>...</th>\n      <th>Distance_bibcode</th>\n      <th>FLUX_K</th>\n      <th>FLUX_G</th>\n      <th>FLUX_R</th>\n      <th>FLUX_B</th>\n      <th>SCRIPT_NUMBER_ID</th>\n      <th>Start hour angle folded</th>\n      <th>End hour angle folded</th>\n      <th>Visible for</th>\n      <th>Visible for in seconds</th>\n    </tr>\n  </thead>\n  <tbody>\n    <tr>\n      <th>0</th>\n      <td>V* XX And</td>\n      <td>1900-01-01 01:17:27.414200</td>\n      <td>+38 57 02.047</td>\n      <td>14</td>\n      <td>14</td>\n      <td>0.0149</td>\n      <td>0.0152</td>\n      <td>90</td>\n      <td>A</td>\n      <td>O</td>\n      <td>...</td>\n      <td>2020yCat.1350....0G</td>\n      <td>9.336</td>\n      <td>10.681514</td>\n      <td>NaN</td>\n      <td>11.00</td>\n      <td>1</td>\n      <td>-00:22:40</td>\n      <td>07:38:38</td>\n      <td>3:22:40</td>\n      <td>12160</td>\n    </tr>\n    <tr>\n      <th>0</th>\n      <td>V* RU Psc</td>\n      <td>1900-01-01 01:14:26.037100</td>\n      <td>+24 24 56.367</td>\n      <td>14</td>\n      <td>14</td>\n      <td>0.0249</td>\n      <td>0.0164</td>\n      <td>90</td>\n      <td>A</td>\n      <td>O</td>\n      <td>...</td>\n      <td>2020yCat.1350....0G</td>\n      <td>9.068</td>\n      <td>10.129585</td>\n      <td>NaN</td>\n      <td>10.34</td>\n      <td>1</td>\n      <td>-00:19:38</td>\n      <td>07:41:39</td>\n      <td>3:19:38</td>\n      <td>11978</td>\n    </tr>\n    <tr>\n      <th>0</th>\n      <td>V* SW And</td>\n      <td>1900-01-01 00:23:43.089600</td>\n      <td>+29 24 03.626</td>\n      <td>14</td>\n      <td>14</td>\n      <td>0.0216</td>\n      <td>0.0176</td>\n      <td>90</td>\n      <td>A</td>\n      <td>O</td>\n      <td>...</td>\n      <td>2020yCat.1350....0G</td>\n      <td>8.444</td>\n      <td>9.705101</td>\n      <td>NaN</td>\n      <td>9.34</td>\n      <td>1</td>\n      <td>00:31:03</td>\n      <td>08:32:22</td>\n      <td>2:28:57</td>\n      <td>8937</td>\n    </tr>\n    <tr>\n      <th>0</th>\n      <td>V* RZ Cep</td>\n      <td>1900-01-01 22:39:13.176800</td>\n      <td>+64 51 30.611</td>\n      <td>14</td>\n      <td>14</td>\n      <td>0.0108</td>\n      <td>0.0099</td>\n      <td>90</td>\n      <td>A</td>\n      <td>O</td>\n      <td>...</td>\n      <td>2020yCat.1350....0G</td>\n      <td>7.968</td>\n      <td>9.294270</td>\n      <td>9.3</td>\n      <td>9.48</td>\n      <td>1</td>\n      <td>2:15:34</td>\n      <td>10:16:53</td>\n      <td>0:44:26</td>\n      <td>2666</td>\n    </tr>\n  </tbody>\n</table>\n<p>4 rows × 27 columns</p>\n</div>"
     },
     "execution_count": 15,
     "metadata": {},
     "output_type": "execute_result"
    }
   ],
   "source": [
    "def organizer(string):\n",
    "    h, m, s = re.split(':', string)\n",
    "    h = int(h)\n",
    "    m = int(m)\n",
    "    s = int(s)\n",
    "    ts = h * 3600 + m * 60 + s\n",
    "    return ts\n",
    "\n",
    "dec_observable['Visible for in seconds'] = dec_observable['Visible for'].apply(organizer)\n",
    "dec_observable.sort_values(by=['Visible for in seconds'], ascending = False)"
   ],
   "metadata": {
    "collapsed": false,
    "pycharm": {
     "name": "#%%\n"
    }
   }
  },
  {
   "cell_type": "code",
   "execution_count": 16,
   "outputs": [],
   "source": [
    "# To do:\n",
    "# Fix observable for calculation so that it accounts for start and end times"
   ],
   "metadata": {
    "collapsed": false,
    "pycharm": {
     "name": "#%%\n"
    }
   }
  },
  {
   "cell_type": "code",
   "execution_count": 17,
   "outputs": [
    {
     "data": {
      "text/plain": "15.729886271849844"
     },
     "execution_count": 17,
     "metadata": {},
     "output_type": "execute_result"
    }
   ],
   "source": [
    "16 * 10**((10.681514 - 10.7)/2.5)"
   ],
   "metadata": {
    "collapsed": false,
    "pycharm": {
     "name": "#%%\n"
    }
   }
  },
  {
   "cell_type": "code",
   "execution_count": 18,
   "outputs": [
    {
     "name": "stdout",
     "output_type": "stream",
     "text": [
      "V* SW And:5.53 seconds exposure\n",
      "V* RU Psc:8.18 seconds exposure\n",
      "V* RZ Cep:3.79 seconds exposure\n",
      "V* XX And:13.60 seconds exposure\n"
     ]
    }
   ],
   "source": [
    "for id, flux in set(zip(dec_observable['MAIN_ID'], dec_observable['FLUX_G'])):\n",
    "    print(f'{id}:{16 * 10**((flux - 10.858340)/2.5):.2f} seconds exposure')"
   ],
   "metadata": {
    "collapsed": false,
    "pycharm": {
     "name": "#%%\n"
    }
   }
  },
  {
   "cell_type": "raw",
   "source": [
    "from exposure_time import exposure_time\n",
    "\n",
    "telescope = 'Ritchey-Chretien'\n",
    "filter = 'L'\n",
    "\n",
    "for id, flux in set(zip(dec_observable['MAIN_ID'], dec_observable['FLUX_G'])):\n",
    "    print(f'{id}: {exposure_time(flux, telescope, filter):.2f} seconds exposure')"
   ],
   "metadata": {
    "collapsed": false,
    "pycharm": {
     "name": "#%% raw\n"
    }
   }
  },
  {
   "cell_type": "code",
   "execution_count": 19,
   "outputs": [],
   "source": [
    "dec_observable.to_csv('Observable_tonight.csv')"
   ],
   "metadata": {
    "collapsed": false,
    "pycharm": {
     "name": "#%%\n"
    }
   }
  },
  {
   "cell_type": "code",
   "execution_count": 20,
   "outputs": [
    {
     "ename": "FileNotFoundError",
     "evalue": "[Errno 2] No such file or directory: 'C:/Users/cuco2/OneDrive/Escritorio/Physics/Year 4/Final year project/MphysProject/2022_03_20/RV_UMa/Light/Luminance/RV_Uma_Light_Luminance_16_secs_011.fits'",
     "output_type": "error",
     "traceback": [
      "\u001B[1;31m---------------------------------------------------------------------------\u001B[0m",
      "\u001B[1;31mFileNotFoundError\u001B[0m                         Traceback (most recent call last)",
      "Input \u001B[1;32mIn [20]\u001B[0m, in \u001B[0;36m<cell line: 4>\u001B[1;34m()\u001B[0m\n\u001B[0;32m      1\u001B[0m \u001B[38;5;28;01mfrom\u001B[39;00m \u001B[38;5;21;01mastropy\u001B[39;00m\u001B[38;5;21;01m.\u001B[39;00m\u001B[38;5;21;01mio\u001B[39;00m \u001B[38;5;28;01mimport\u001B[39;00m fits\n\u001B[0;32m      3\u001B[0m path \u001B[38;5;241m=\u001B[39m \u001B[38;5;124m'\u001B[39m\u001B[38;5;124mC:/Users/cuco2/OneDrive/Escritorio/Physics/Year 4/Final year project/MphysProject/2022_03_20/RV_UMa/Light/Luminance/RV_Uma_Light_Luminance_16_secs_011.fits\u001B[39m\u001B[38;5;124m'\u001B[39m\n\u001B[1;32m----> 4\u001B[0m test \u001B[38;5;241m=\u001B[39m \u001B[43mfits\u001B[49m\u001B[38;5;241;43m.\u001B[39;49m\u001B[43mopen\u001B[49m\u001B[43m(\u001B[49m\u001B[43mpath\u001B[49m\u001B[43m)\u001B[49m\n\u001B[0;32m      5\u001B[0m test\u001B[38;5;241m.\u001B[39minfo()\n\u001B[0;32m      6\u001B[0m hdr \u001B[38;5;241m=\u001B[39mtest[\u001B[38;5;241m0\u001B[39m]\u001B[38;5;241m.\u001B[39mheader\n",
      "File \u001B[1;32m~\\anaconda3\\lib\\site-packages\\astropy\\io\\fits\\hdu\\hdulist.py:175\u001B[0m, in \u001B[0;36mfitsopen\u001B[1;34m(name, mode, memmap, save_backup, cache, lazy_load_hdus, ignore_missing_simple, **kwargs)\u001B[0m\n\u001B[0;32m    172\u001B[0m \u001B[38;5;28;01mif\u001B[39;00m \u001B[38;5;129;01mnot\u001B[39;00m name:\n\u001B[0;32m    173\u001B[0m     \u001B[38;5;28;01mraise\u001B[39;00m \u001B[38;5;167;01mValueError\u001B[39;00m(\u001B[38;5;124mf\u001B[39m\u001B[38;5;124m'\u001B[39m\u001B[38;5;124mEmpty filename: \u001B[39m\u001B[38;5;132;01m{\u001B[39;00mname\u001B[38;5;132;01m!r}\u001B[39;00m\u001B[38;5;124m'\u001B[39m)\n\u001B[1;32m--> 175\u001B[0m \u001B[38;5;28;01mreturn\u001B[39;00m HDUList\u001B[38;5;241m.\u001B[39mfromfile(name, mode, memmap, save_backup, cache,\n\u001B[0;32m    176\u001B[0m                         lazy_load_hdus, ignore_missing_simple, \u001B[38;5;241m*\u001B[39m\u001B[38;5;241m*\u001B[39mkwargs)\n",
      "File \u001B[1;32m~\\anaconda3\\lib\\site-packages\\astropy\\io\\fits\\hdu\\hdulist.py:410\u001B[0m, in \u001B[0;36mHDUList.fromfile\u001B[1;34m(cls, fileobj, mode, memmap, save_backup, cache, lazy_load_hdus, ignore_missing_simple, **kwargs)\u001B[0m\n\u001B[0;32m    398\u001B[0m \u001B[38;5;129m@classmethod\u001B[39m\n\u001B[0;32m    399\u001B[0m \u001B[38;5;28;01mdef\u001B[39;00m \u001B[38;5;21mfromfile\u001B[39m(\u001B[38;5;28mcls\u001B[39m, fileobj, mode\u001B[38;5;241m=\u001B[39m\u001B[38;5;28;01mNone\u001B[39;00m, memmap\u001B[38;5;241m=\u001B[39m\u001B[38;5;28;01mNone\u001B[39;00m,\n\u001B[0;32m    400\u001B[0m              save_backup\u001B[38;5;241m=\u001B[39m\u001B[38;5;28;01mFalse\u001B[39;00m, cache\u001B[38;5;241m=\u001B[39m\u001B[38;5;28;01mTrue\u001B[39;00m, lazy_load_hdus\u001B[38;5;241m=\u001B[39m\u001B[38;5;28;01mTrue\u001B[39;00m,\n\u001B[0;32m    401\u001B[0m              ignore_missing_simple\u001B[38;5;241m=\u001B[39m\u001B[38;5;28;01mFalse\u001B[39;00m, \u001B[38;5;241m*\u001B[39m\u001B[38;5;241m*\u001B[39mkwargs):\n\u001B[0;32m    402\u001B[0m     \u001B[38;5;124;03m\"\"\"\u001B[39;00m\n\u001B[0;32m    403\u001B[0m \u001B[38;5;124;03m    Creates an `HDUList` instance from a file-like object.\u001B[39;00m\n\u001B[0;32m    404\u001B[0m \n\u001B[1;32m   (...)\u001B[0m\n\u001B[0;32m    407\u001B[0m \u001B[38;5;124;03m    documentation for details of the parameters accepted by this method).\u001B[39;00m\n\u001B[0;32m    408\u001B[0m \u001B[38;5;124;03m    \"\"\"\u001B[39;00m\n\u001B[1;32m--> 410\u001B[0m     \u001B[38;5;28;01mreturn\u001B[39;00m \u001B[38;5;28mcls\u001B[39m\u001B[38;5;241m.\u001B[39m_readfrom(fileobj\u001B[38;5;241m=\u001B[39mfileobj, mode\u001B[38;5;241m=\u001B[39mmode, memmap\u001B[38;5;241m=\u001B[39mmemmap,\n\u001B[0;32m    411\u001B[0m                          save_backup\u001B[38;5;241m=\u001B[39msave_backup, cache\u001B[38;5;241m=\u001B[39mcache,\n\u001B[0;32m    412\u001B[0m                          ignore_missing_simple\u001B[38;5;241m=\u001B[39mignore_missing_simple,\n\u001B[0;32m    413\u001B[0m                          lazy_load_hdus\u001B[38;5;241m=\u001B[39mlazy_load_hdus, \u001B[38;5;241m*\u001B[39m\u001B[38;5;241m*\u001B[39mkwargs)\n",
      "File \u001B[1;32m~\\anaconda3\\lib\\site-packages\\astropy\\io\\fits\\hdu\\hdulist.py:1060\u001B[0m, in \u001B[0;36mHDUList._readfrom\u001B[1;34m(cls, fileobj, data, mode, memmap, cache, lazy_load_hdus, ignore_missing_simple, **kwargs)\u001B[0m\n\u001B[0;32m   1057\u001B[0m \u001B[38;5;28;01mif\u001B[39;00m fileobj \u001B[38;5;129;01mis\u001B[39;00m \u001B[38;5;129;01mnot\u001B[39;00m \u001B[38;5;28;01mNone\u001B[39;00m:\n\u001B[0;32m   1058\u001B[0m     \u001B[38;5;28;01mif\u001B[39;00m \u001B[38;5;129;01mnot\u001B[39;00m \u001B[38;5;28misinstance\u001B[39m(fileobj, _File):\n\u001B[0;32m   1059\u001B[0m         \u001B[38;5;66;03m# instantiate a FITS file object (ffo)\u001B[39;00m\n\u001B[1;32m-> 1060\u001B[0m         fileobj \u001B[38;5;241m=\u001B[39m \u001B[43m_File\u001B[49m\u001B[43m(\u001B[49m\u001B[43mfileobj\u001B[49m\u001B[43m,\u001B[49m\u001B[43m \u001B[49m\u001B[43mmode\u001B[49m\u001B[38;5;241;43m=\u001B[39;49m\u001B[43mmode\u001B[49m\u001B[43m,\u001B[49m\u001B[43m \u001B[49m\u001B[43mmemmap\u001B[49m\u001B[38;5;241;43m=\u001B[39;49m\u001B[43mmemmap\u001B[49m\u001B[43m,\u001B[49m\u001B[43m \u001B[49m\u001B[43mcache\u001B[49m\u001B[38;5;241;43m=\u001B[39;49m\u001B[43mcache\u001B[49m\u001B[43m)\u001B[49m\n\u001B[0;32m   1061\u001B[0m     \u001B[38;5;66;03m# The Astropy mode is determined by the _File initializer if the\u001B[39;00m\n\u001B[0;32m   1062\u001B[0m     \u001B[38;5;66;03m# supplied mode was None\u001B[39;00m\n\u001B[0;32m   1063\u001B[0m     mode \u001B[38;5;241m=\u001B[39m fileobj\u001B[38;5;241m.\u001B[39mmode\n",
      "File \u001B[1;32m~\\anaconda3\\lib\\site-packages\\astropy\\io\\fits\\file.py:170\u001B[0m, in \u001B[0;36m_File.__init__\u001B[1;34m(self, fileobj, mode, memmap, overwrite, cache)\u001B[0m\n\u001B[0;32m    168\u001B[0m     \u001B[38;5;28mself\u001B[39m\u001B[38;5;241m.\u001B[39m_open_fileobj(fileobj, mode, overwrite)\n\u001B[0;32m    169\u001B[0m \u001B[38;5;28;01melif\u001B[39;00m \u001B[38;5;28misinstance\u001B[39m(fileobj, (\u001B[38;5;28mstr\u001B[39m, \u001B[38;5;28mbytes\u001B[39m)):\n\u001B[1;32m--> 170\u001B[0m     \u001B[38;5;28;43mself\u001B[39;49m\u001B[38;5;241;43m.\u001B[39;49m\u001B[43m_open_filename\u001B[49m\u001B[43m(\u001B[49m\u001B[43mfileobj\u001B[49m\u001B[43m,\u001B[49m\u001B[43m \u001B[49m\u001B[43mmode\u001B[49m\u001B[43m,\u001B[49m\u001B[43m \u001B[49m\u001B[43moverwrite\u001B[49m\u001B[43m)\u001B[49m\n\u001B[0;32m    171\u001B[0m \u001B[38;5;28;01melse\u001B[39;00m:\n\u001B[0;32m    172\u001B[0m     \u001B[38;5;28mself\u001B[39m\u001B[38;5;241m.\u001B[39m_open_filelike(fileobj, mode, overwrite)\n",
      "File \u001B[1;32m~\\anaconda3\\lib\\site-packages\\astropy\\io\\fits\\file.py:562\u001B[0m, in \u001B[0;36m_File._open_filename\u001B[1;34m(self, filename, mode, overwrite)\u001B[0m\n\u001B[0;32m    559\u001B[0m ext \u001B[38;5;241m=\u001B[39m os\u001B[38;5;241m.\u001B[39mpath\u001B[38;5;241m.\u001B[39msplitext(\u001B[38;5;28mself\u001B[39m\u001B[38;5;241m.\u001B[39mname)[\u001B[38;5;241m1\u001B[39m]\n\u001B[0;32m    561\u001B[0m \u001B[38;5;28;01mif\u001B[39;00m \u001B[38;5;129;01mnot\u001B[39;00m \u001B[38;5;28mself\u001B[39m\u001B[38;5;241m.\u001B[39m_try_read_compressed(\u001B[38;5;28mself\u001B[39m\u001B[38;5;241m.\u001B[39mname, magic, mode, ext\u001B[38;5;241m=\u001B[39mext):\n\u001B[1;32m--> 562\u001B[0m     \u001B[38;5;28mself\u001B[39m\u001B[38;5;241m.\u001B[39m_file \u001B[38;5;241m=\u001B[39m \u001B[38;5;28;43mopen\u001B[39;49m\u001B[43m(\u001B[49m\u001B[38;5;28;43mself\u001B[39;49m\u001B[38;5;241;43m.\u001B[39;49m\u001B[43mname\u001B[49m\u001B[43m,\u001B[49m\u001B[43m \u001B[49m\u001B[43mIO_FITS_MODES\u001B[49m\u001B[43m[\u001B[49m\u001B[43mmode\u001B[49m\u001B[43m]\u001B[49m\u001B[43m)\u001B[49m\n\u001B[0;32m    563\u001B[0m     \u001B[38;5;28mself\u001B[39m\u001B[38;5;241m.\u001B[39mclose_on_error \u001B[38;5;241m=\u001B[39m \u001B[38;5;28;01mTrue\u001B[39;00m\n\u001B[0;32m    565\u001B[0m \u001B[38;5;66;03m# Make certain we're back at the beginning of the file\u001B[39;00m\n\u001B[0;32m    566\u001B[0m \u001B[38;5;66;03m# BZ2File does not support seek when the file is open for writing, but\u001B[39;00m\n\u001B[0;32m    567\u001B[0m \u001B[38;5;66;03m# when opening a file for write, bz2.BZ2File always truncates anyway.\u001B[39;00m\n",
      "\u001B[1;31mFileNotFoundError\u001B[0m: [Errno 2] No such file or directory: 'C:/Users/cuco2/OneDrive/Escritorio/Physics/Year 4/Final year project/MphysProject/2022_03_20/RV_UMa/Light/Luminance/RV_Uma_Light_Luminance_16_secs_011.fits'"
     ]
    }
   ],
   "source": [
    "from astropy.io import fits\n",
    "\n",
    "path = 'C:/Users/cuco2/OneDrive/Escritorio/Physics/Year 4/Final year project/MphysProject/2022_03_20/RV_UMa/Light/Luminance/RV_Uma_Light_Luminance_16_secs_011.fits'\n",
    "test = fits.open(path)\n",
    "test.info()\n",
    "hdr =test[0].header\n",
    "hdr"
   ],
   "metadata": {
    "collapsed": false,
    "pycharm": {
     "name": "#%%\n"
    }
   }
  },
  {
   "cell_type": "code",
   "execution_count": null,
   "outputs": [],
   "source": [],
   "metadata": {
    "collapsed": false,
    "pycharm": {
     "name": "#%%\n"
    }
   }
  }
 ],
 "metadata": {
  "kernelspec": {
   "display_name": "Python 3",
   "language": "python",
   "name": "python3"
  },
  "language_info": {
   "codemirror_mode": {
    "name": "ipython",
    "version": 2
   },
   "file_extension": ".py",
   "mimetype": "text/x-python",
   "name": "python",
   "nbconvert_exporter": "python",
   "pygments_lexer": "ipython2",
   "version": "2.7.6"
  }
 },
 "nbformat": 4,
 "nbformat_minor": 0
}