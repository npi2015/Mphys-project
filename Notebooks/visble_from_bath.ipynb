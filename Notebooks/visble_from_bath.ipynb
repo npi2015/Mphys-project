{
 "cells": [
  {
   "cell_type": "markdown",
   "source": [
    "# Some setup stuff\n",
    "\n",
    "Here we will be setting up some stuff that will be helpful going forward, such as the location of Bath and the time of the Vernal Equinox of the year 2022."
   ],
   "metadata": {
    "collapsed": false,
    "pycharm": {
     "name": "#%% md\n"
    }
   }
  },
  {
   "cell_type": "code",
   "execution_count": 22,
   "outputs": [],
   "source": [
    "bath_latitude = 51.37\n",
    "bath_longitude = -2.36"
   ],
   "metadata": {
    "collapsed": false,
    "pycharm": {
     "name": "#%%\n"
    }
   }
  },
  {
   "cell_type": "markdown",
   "source": [
    "## Increasing the RA\n",
    "\n",
    "The Right Ascension in most databases is measured at the vernal equinox, the 20th of March. However, since the Earth moves around the Sun it is not the same all year around. Each day the Earth covers 360/365 degrees of its rotation, and each hour, since it rotates a full 360º it covers 15º. As such, each day the RA increases\n",
    "\n",
    "$$\\Delta RA = \\frac{360}{365*15}$$\n",
    "\n",
    "This cell will end up not being relevant to the calculations, but it is still useful to understand how RA works. This [video](https://www.youtube.com/watch?v=kejolGai7X8&list=PLX2gX-ftPVXU3BfWLJfmXfGD08cIit5CI&index=9) I have found explains it quite well."
   ],
   "metadata": {
    "collapsed": false,
    "pycharm": {
     "name": "#%% md\n"
    }
   }
  },
  {
   "cell_type": "markdown",
   "source": [
    "## The sidereal time\n",
    "\n",
    "For these observations we use sidereal time. A sidereal day takes a little less than a solar day, 23h 56 min instead of the usual 24h. This is the time it takes for the Earth to fully rotate around its axis. This is useful because any object crosses the upper meridian when the sidereal time is equal to the object's Right Ascension ([source](https://lco.global/spacebook/sky/sidereal-time/)).\n",
    "\n",
    "A solar day lasts 24h because it takes that amount of time for the same spot in the Earth to be facing the Sun, since not only does the Earth rotate, but it also moves around the Sun.\n",
    "\n",
    "Here we are simply computing the sidereal time at Bath right now (whenever _now_ is). This is UTC time, which matches the GMT timezone. At the time of writing this (19th of October), the timezone in Bath is GMT + 1, but that will change on the 30th of October when Daylight saving time is implemented, and we will be back in the GMT/UTC timezone."
   ],
   "metadata": {
    "collapsed": false,
    "pycharm": {
     "name": "#%% md\n"
    }
   }
  },
  {
   "cell_type": "code",
   "execution_count": 23,
   "outputs": [],
   "source": [
    "# Obtain sidereal time\n",
    "from astropy.coordinates import EarthLocation\n",
    "from astropy.time import Time\n",
    "from astropy import units as u\n",
    "import datetime\n",
    "\n",
    "observing_location = EarthLocation(lat=bath_latitude*u.deg, lon=bath_longitude*u.deg)\n",
    "observing_time = Time(datetime.datetime.utcnow(), scale='utc', location=observing_location)\n",
    "LST = observing_time.sidereal_time('mean')"
   ],
   "metadata": {
    "collapsed": false,
    "pycharm": {
     "name": "#%%\n"
    }
   }
  },
  {
   "cell_type": "markdown",
   "source": [
    "## The sidereal time at the time of observation\n",
    "\n",
    "Following the same procedure as above, we can compute the sidereal time of the day of observation. I have coded the program to automatically use the day of whenever it's ran on, but it can be changed to any random date. Since we are currently UTC + 1 I have coded the observation to start at 19:15 (20:15 Bath time) and finishing at 1:00 (2:00 Bath time). This has to be changed manually in the 30th, and an hour added to both cases.\n",
    "\n",
    "Once we have the sidereal times of both the start and the end, we can use it to find which stars are visible."
   ],
   "metadata": {
    "collapsed": false,
    "pycharm": {
     "name": "#%% md\n"
    }
   }
  },
  {
   "cell_type": "code",
   "execution_count": 24,
   "outputs": [],
   "source": [
    "date_today = datetime.datetime.today().strftime('%Y-%m-%d')\n",
    "date_tomorrow = (datetime.datetime.today() + datetime.timedelta(days=1)).strftime('%Y-%m-%d')\n",
    "times = [f'{date_today}T18:00:00', f'{date_tomorrow}T2:00:00']# In UTC, change on 30th October\n",
    "\n",
    "t = Time(times, format='isot', scale='utc')"
   ],
   "metadata": {
    "collapsed": false,
    "pycharm": {
     "name": "#%%\n"
    }
   }
  },
  {
   "cell_type": "code",
   "execution_count": 25,
   "outputs": [],
   "source": [
    "import re\n",
    "\n",
    "start_end_times = re.split(' ',str(t.sidereal_time('apparent', bath_longitude)))\n",
    "start_sidereal_time = start_end_times[0].strip('[]')[:-5] # Keeping it to 4 decimals\n",
    "end_sidereal_time = start_end_times[1].strip('[]')[:-5]\n",
    "\n",
    "# Formatting it to hh mm ss so it has the same format as the RA\n",
    "\n",
    "start_sidereal_time = start_sidereal_time.replace('h', ' ').replace('m', ' ')\n",
    "end_sidereal_time = end_sidereal_time.replace('h', ' ').replace('m', ' ')"
   ],
   "metadata": {
    "collapsed": false,
    "pycharm": {
     "name": "#%%\n"
    }
   }
  },
  {
   "cell_type": "markdown",
   "source": [
    "## Getting the right ascension of all stars of our query\n",
    "\n",
    "Here we are importing the dataframe with the stars of the Monson et al paper, which I saved as a pickle in that notebook. We also split the Right Ascension column into hours minutes and seconds to make calculations later on a bit simpler. With such a small dataset, the impact on performance is not huge, and it makes things much easier."
   ],
   "metadata": {
    "collapsed": false,
    "pycharm": {
     "name": "#%% md\n"
    }
   }
  },
  {
   "cell_type": "code",
   "execution_count": 26,
   "outputs": [],
   "source": [
    "import pandas as pd\n",
    "simbad_df = pd.read_pickle('Monson_stars_simbad.pkl')"
   ],
   "metadata": {
    "collapsed": false,
    "pycharm": {
     "name": "#%%\n"
    }
   }
  },
  {
   "cell_type": "markdown",
   "source": [
    "## Getting the declination of all stars of our query\n",
    "\n",
    "Same thing as before, but now we do it with the declination column. It's split into three: degrees, minutes and seconds."
   ],
   "metadata": {
    "collapsed": false,
    "pycharm": {
     "name": "#%% md\n"
    }
   }
  },
  {
   "cell_type": "code",
   "execution_count": 27,
   "outputs": [],
   "source": [
    "simbad_df['DEC degrees'] = simbad_df['DEC'].str[0:3].astype(float)\n",
    "simbad_df['DEC minutes'] = simbad_df['DEC'].str[4:6].astype(float)\n",
    "simbad_df['DEC seconds'] = simbad_df['DEC'].str[7:].astype(float)"
   ],
   "metadata": {
    "collapsed": false,
    "pycharm": {
     "name": "#%%\n"
    }
   }
  },
  {
   "cell_type": "markdown",
   "source": [
    "# Finding the hour angle of different stars\n",
    "\n",
    "In order to actually compute which stars are visible we are using the hour angle, i.e. how far away from the meridian it is at the beginning and end of our observations. In order to calculate the hour angle we are using the following formula:\n",
    "\n",
    "$$\\mathrm{LHA}_{\\mathrm{object}} = \\mathrm{LST}-\\alpha_{\\mathrm{object}}$$\n",
    "\n",
    "where $\\mathrm{LHA}_{\\mathrm{object}}$ is the Local Hour Angle of the given object, LST is the local sidereal time and $\\alpha_{\\mathrm{object}}$ is the Right Ascension of the object. We split it into hours, minutes and seconds and then put it back together."
   ],
   "metadata": {
    "collapsed": false,
    "pycharm": {
     "name": "#%% md\n"
    }
   }
  },
  {
   "cell_type": "code",
   "execution_count": 28,
   "outputs": [],
   "source": [
    "def formatTimedelta(td):\n",
    "    \"\"\"\n",
    "    format a timedelta object to string, in HH:MM:SS format (seconds floored).\n",
    "    negative timedeltas will be prefixed with a minus, '-'.\n",
    "    \"\"\"\n",
    "    total = td.total_seconds()\n",
    "    prefix, total = ('-', total*-1) if total < 0 else ('', total)\n",
    "    h, r = divmod(total, 3600)\n",
    "    m, s = divmod(r, 60)\n",
    "    return f\"{prefix}{int(h):02d}:{int(m):02d}:{int(s):02d}\"\n",
    "\n",
    "simbad_df['start sidereal time'] = start_sidereal_time\n",
    "simbad_df['end sidereal time'] = end_sidereal_time\n",
    "\n",
    "FMT = '%H %M %S.%f'\n",
    "simbad_df['RA'] = pd.to_datetime(simbad_df['RA'], format = FMT)\n",
    "simbad_df['start sidereal time'] = pd.to_datetime(simbad_df['start sidereal time'], format = FMT)\n",
    "simbad_df['end sidereal time'] = pd.to_datetime(simbad_df['end sidereal time'], format = FMT)\n",
    "\n",
    "\n",
    "\n",
    "\n",
    "simbad_df['Start hour angle'] = ((simbad_df['start sidereal time'] - simbad_df['RA'])).apply(formatTimedelta)\n",
    "simbad_df['End hour angle'] = ((simbad_df['end sidereal time']-simbad_df['RA'])).apply(formatTimedelta)\n",
    "# simbad_df['Time observable'] = (simbad_df['Start hour angle'] - simbad_df['End hour angle'])"
   ],
   "metadata": {
    "collapsed": false,
    "pycharm": {
     "name": "#%%\n"
    }
   }
  },
  {
   "cell_type": "code",
   "execution_count": 29,
   "outputs": [],
   "source": [
    "\n",
    "\n",
    "fmt = '%H:%M:%S'\n",
    "neg_fmt = '-%H:%M:%S'\n",
    "\n",
    "midday = datetime.datetime.strptime('1 Jan 1900 12:00:00', '%d %b %Y %H:%M:%S')\n",
    "midnight = datetime.datetime.strptime('2 Jan 1900 00:00:00', '%d %b %Y %H:%M:%S')\n",
    "\n",
    "start_ha_series = simbad_df['Start hour angle'].reset_index(drop = True)\n",
    "end_ha_series = simbad_df['End hour angle'].reset_index(drop = True)\n",
    "for start_ha, start_ha_index, end_ha, end_ha_index in zip(start_ha_series, start_ha_series.index, end_ha_series, end_ha_series.index):\n",
    "    try:\n",
    "        start_dt = datetime.datetime.strptime(start_ha, fmt)\n",
    "        if start_dt > midday:\n",
    "            corrected_start_time = midnight-start_dt\n",
    "            corrected_start_time_string = f\"-{corrected_start_time}\"\n",
    "        else:\n",
    "            corrected_start_time_string = start_dt.strftime('%H:%M:%S')\n",
    "\n",
    "\n",
    "    except ValueError:\n",
    "        start_dt = datetime.datetime.strptime(start_ha, neg_fmt)\n",
    "        if start_dt < midday:\n",
    "            corrected_start_time_string = f\"-{start_dt.strftime('%H:%M:%S')}\"\n",
    "        else:\n",
    "            corrected_start_time = midnight-start_dt\n",
    "            corrected_start_time_string = f\"{corrected_start_time}\"\n",
    "    finally:\n",
    "        start_ha_series.iloc[start_ha_index] = corrected_start_time_string\n",
    "\n",
    "    try:\n",
    "        end_dt = datetime.datetime.strptime(end_ha, fmt)\n",
    "        if end_dt > midday:\n",
    "            corrected_end_time = midnight-end_dt\n",
    "            corrected_end_time_string = f\"-{corrected_end_time}\"\n",
    "        else:\n",
    "            corrected_end_time_string = end_dt.strftime('%H:%M:%S')\n",
    "\n",
    "    except ValueError:\n",
    "        end_dt = datetime.datetime.strptime(end_ha, neg_fmt)\n",
    "        if end_dt < midday:\n",
    "            corrected_end_time_string = f\"-{end_dt.strftime('%H:%M:%S')}\"\n",
    "        else:\n",
    "            corrected_end_time = midnight-end_dt\n",
    "            corrected_end_time_string = f\"{corrected_end_time}\"\n",
    "    finally:\n",
    "        end_ha_series.iloc[end_ha_index] = corrected_end_time_string"
   ],
   "metadata": {
    "collapsed": false,
    "pycharm": {
     "name": "#%%\n"
    }
   }
  },
  {
   "cell_type": "code",
   "execution_count": 30,
   "outputs": [],
   "source": [
    "simbad_df['Start hour angle folded'] = start_ha_series.values\n",
    "simbad_df['End hour angle folded'] = end_ha_series.values"
   ],
   "metadata": {
    "collapsed": false,
    "pycharm": {
     "name": "#%%\n"
    }
   }
  },
  {
   "cell_type": "code",
   "execution_count": 31,
   "outputs": [
    {
     "data": {
      "text/plain": "     MAIN_ID                         RA            DEC  RA_PREC  DEC_PREC  \\\n0  V* SW And 1900-01-01 00:23:43.089600  +29 24 03.626       14        14   \n0  V* XX And 1900-01-01 01:17:27.414200  +38 57 02.047       14        14   \n0  V* WY Ant 1900-01-01 10:16:04.946100  -29 43 42.417       14        14   \n0   V* X Ari 1900-01-01 03:08:30.884600  +10 26 45.218       14        14   \n0  V* ST Boo 1900-01-01 15:30:39.229900  +35 47 04.311       14        14   \n0  V* UY Boo 1900-01-01 13:58:46.336700  +12 57 06.457       14        14   \n0  V* RR Cet 1900-01-01 01:32:08.173100  +01 20 30.230       14        14   \n0   V* W Crt 1900-01-01 11:26:29.645200  -17 54 51.700       14        14   \n0  V* UY Cyg 1900-01-01 20:56:28.303000  +30 25 40.327       14        14   \n0  V* XZ Cyg 1900-01-01 19:32:29.305000  +56 23 17.494       14        14   \n0  V* DX Del 1900-01-01 20:47:28.355500  +12 27 50.682       14        14   \n0  V* SU Dra 1900-01-01 11:37:56.607100  +67 19 47.060       14        14   \n0  V* SW Dra 1900-01-01 12:17:46.628300  +69 30 38.233       14        14   \n0  V* RX Eri 1900-01-01 04:49:44.291500  -15 44 28.242       14        14   \n0  V* SV Eri 1900-01-01 03:11:52.107400  -11 21 14.067       14        14   \n0  V* RR Gem 1900-01-01 07:21:33.531200  +30 52 59.459       14        14   \n0  V* TW Her 1900-01-01 17:54:31.200300  +30 24 37.680       14        14   \n0  V* VX Her 1900-01-01 16:30:40.802700  +18 22 00.573       14        14   \n0  V* SV Hya 1900-01-01 12:30:30.503100  -26 02 51.113       14        14   \n0   V* V Ind 1900-01-01 21:11:29.901900  -45 04 28.391       14        14   \n0  V* RR Leo 1900-01-01 10:07:43.460500  +23 59 30.318       14        14   \n0  V* TT Lyn 1900-01-01 09:03:07.786400  +44 35 08.119       14        14   \n0  V* RR Lyr 1900-01-01 19:25:27.912900  +42 47 03.693       14        14   \n0  V* RV Oct 1900-01-01 13:46:31.744200  -84 24 06.384       14        14   \n0  V* UV Oct 1900-01-01 16:32:25.536100  -83 54 10.495       14        14   \n0  V* AV Peg 1900-01-01 21:52:02.794500  +22 34 29.376       14        14   \n0  V* BH Peg 1900-01-01 22:53:01.036900  +15 47 16.609       14        14   \n0  V* BB Pup 1900-01-01 08:24:22.643300  -19 32 31.408       14        14   \n0  V* HK Pup 1900-01-01 07:44:46.802800  -13 05 56.312       14        14   \n0  V* RU Scl 1900-01-01 00:02:48.107000  -24 56 43.074       14        14   \n0  V* AN Ser 1900-01-01 15:53:31.053100  +12 57 40.112       14        14   \n0  V* AB UMa 1900-01-01 12:11:14.589000  +47 49 43.794       14        14   \n0  V* RV UMa 1900-01-01 13:33:18.083800  +53 59 14.598       14        14   \n0  V* TU UMa 1900-01-01 11:29:48.489300  +30 04 02.379       14        14   \n0  V* UU Vir 1900-01-01 12:08:35.072400  -00 27 24.308       14        14   \n0  V* AE Boo 1900-01-01 14:47:35.265100  +16 50 43.552       14        14   \n0  V* TV Boo 1900-01-01 14:16:36.581400  +42 21 35.712       14        14   \n0  V* ST CVn 1900-01-01 13:57:34.058900  +29 51 28.715       14        14   \n0  V* UY Cam 1900-01-01 07:58:58.882500  +72 47 15.402       14        14   \n0  V* YZ Cap 1900-01-01 21:19:32.413000  -15 07 01.141       14        14   \n0  V* RZ Cep 1900-01-01 22:39:13.176800  +64 51 30.611       14        14   \n0  V* RV CrB 1900-01-01 16:19:25.851500  +29 42 47.638       14        14   \n0  V* CS Eri 1900-01-01 02:37:05.758800  -42 57 48.035       14        14   \n0  V* BX Leo 1900-01-01 11:38:02.062900  +16 32 36.195       14        14   \n0  V* DH Peg 1900-01-01 22:15:25.639700  +06 49 21.439       14        14   \n0  V* RU Psc 1900-01-01 01:14:26.037100  +24 24 56.367       14        14   \n0  V* SV Scl 1900-01-01 01:44:59.662700  -30 03 33.385       14        14   \n0  V* AP Ser 1900-01-01 15:14:00.921300  +09 58 51.853       14        14   \n0   V* T Sex 1900-01-01 09:53:28.399900  +02 03 26.346       14        14   \n0  V* MT Tel 1900-01-01 19:02:12.279200  -46 39 12.083       14        14   \n0  V* AM Tuc 1900-01-01 01:18:30.649500  -67 55 04.962       14        14   \n0  V* SX UMa 1900-01-01 13:26:13.459200  +56 15 25.053       14        14   \n0  V* CU Com 1900-01-01 12:24:46.609400  +22 24 28.241       14        14   \n0  V* RV UMa 1900-01-01 13:33:18.083800  +53 59 14.598       14        14   \n\n   COO_ERR_MAJA  COO_ERR_MINA  COO_ERR_ANGLE COO_QUAL COO_WAVELENGTH  ...  \\\n0        0.0216        0.0176             90        A              O  ...   \n0        0.0149        0.0152             90        A              O  ...   \n0        0.0162        0.0159             90        A              O  ...   \n0        0.0171        0.0145             90        A              O  ...   \n0        0.0154        0.0173             90        A              O  ...   \n0        0.0193        0.0152             90        A              O  ...   \n0        0.0152        0.0118             90        A              O  ...   \n0        0.0198        0.0176             90        A              O  ...   \n0        0.0102        0.0154             90        A              O  ...   \n0        0.0135        0.0147             90        A              O  ...   \n0        0.0125        0.0072             90        A              O  ...   \n0        0.0115        0.0117             90        A              O  ...   \n0        0.0169        0.0159             90        A              O  ...   \n0        0.0157        0.0142             90        A              O  ...   \n0        0.0174        0.0167             90        A              O  ...   \n0        0.0292        0.0274             90        A              O  ...   \n0        0.0104        0.0134             90        A              O  ...   \n0        0.0189        0.0162             90        A              O  ...   \n0        0.0195        0.0135             90        A              O  ...   \n0        0.0160        0.0124             90        A              O  ...   \n0        0.0183        0.0166             90        A              O  ...   \n0        0.0127        0.0102             90        A              O  ...   \n0        0.0224        0.0242             90        A              O  ...   \n0        0.0106        0.0105             90        A              O  ...   \n0        0.0105        0.0111             90        A              O  ...   \n0        0.0144        0.0134             90        A              O  ...   \n0        0.0181        0.0173             90        A              O  ...   \n0        0.0127        0.0131             90        A              O  ...   \n0        0.0133        0.0121             90        A              O  ...   \n0        0.0186        0.0210             90        A              O  ...   \n0        0.0166        0.0143             90        A              O  ...   \n0        0.0084        0.0123             90        A              O  ...   \n0        0.0106        0.0120             90        A              O  ...   \n0        0.0150        0.0265             90        A              O  ...   \n0        0.0391        0.0326             90        A              O  ...   \n0        0.0129        0.0146             90        A              O  ...   \n0        0.0109        0.0128             90        A              O  ...   \n0        0.0160        0.0147             90        A              O  ...   \n0        0.0120        0.0157             90        A              O  ...   \n0        0.0255        0.0206             90        A              O  ...   \n0        0.0108        0.0099             90        A              O  ...   \n0        0.0109        0.0125             90        A              O  ...   \n0        0.0110        0.0128             90        A              O  ...   \n0        0.0195        0.0173             90        A              O  ...   \n0        0.0230        0.0293             90        A              O  ...   \n0        0.0249        0.0164             90        A              O  ...   \n0        0.0186        0.0166             90        A              O  ...   \n0        0.0145        0.0135             90        A              O  ...   \n0        0.0200        0.0191             90        A              O  ...   \n0        0.0244        0.0262             90        A              O  ...   \n0        0.0153        0.0122             90        A              O  ...   \n0        0.0115        0.0114             90        A              O  ...   \n0        0.0137        0.0115             90        A              O  ...   \n0        0.0106        0.0120             90        A              O  ...   \n\n  SCRIPT_NUMBER_ID  DEC degrees DEC minutes DEC seconds  \\\n0                1         29.0        24.0       3.626   \n0                1         38.0        57.0       2.047   \n0                1        -29.0        43.0      42.417   \n0                1         10.0        26.0      45.218   \n0                1         35.0        47.0       4.311   \n0                1         12.0        57.0       6.457   \n0                1          1.0        20.0      30.230   \n0                1        -17.0        54.0      51.700   \n0                1         30.0        25.0      40.327   \n0                1         56.0        23.0      17.494   \n0                1         12.0        27.0      50.682   \n0                1         67.0        19.0      47.060   \n0                1         69.0        30.0      38.233   \n0                1        -15.0        44.0      28.242   \n0                1        -11.0        21.0      14.067   \n0                1         30.0        52.0      59.459   \n0                1         30.0        24.0      37.680   \n0                1         18.0        22.0       0.573   \n0                1        -26.0         2.0      51.113   \n0                1        -45.0         4.0      28.391   \n0                1         23.0        59.0      30.318   \n0                1         44.0        35.0       8.119   \n0                1         42.0        47.0       3.693   \n0                1        -84.0        24.0       6.384   \n0                1        -83.0        54.0      10.495   \n0                1         22.0        34.0      29.376   \n0                1         15.0        47.0      16.609   \n0                1        -19.0        32.0      31.408   \n0                1        -13.0         5.0      56.312   \n0                1        -24.0        56.0      43.074   \n0                1         12.0        57.0      40.112   \n0                1         47.0        49.0      43.794   \n0                1         53.0        59.0      14.598   \n0                1         30.0         4.0       2.379   \n0                1         -0.0        27.0      24.308   \n0                1         16.0        50.0      43.552   \n0                1         42.0        21.0      35.712   \n0                1         29.0        51.0      28.715   \n0                1         72.0        47.0      15.402   \n0                1        -15.0         7.0       1.141   \n0                1         64.0        51.0      30.611   \n0                1         29.0        42.0      47.638   \n0                1        -42.0        57.0      48.035   \n0                1         16.0        32.0      36.195   \n0                1          6.0        49.0      21.439   \n0                1         24.0        24.0      56.367   \n0                1        -30.0         3.0      33.385   \n0                1          9.0        58.0      51.853   \n0                1          2.0         3.0      26.346   \n0                1        -46.0        39.0      12.083   \n0                1        -67.0        55.0       4.962   \n0                1         56.0        15.0      25.053   \n0                1         22.0        24.0      28.241   \n0                1         53.0        59.0      14.598   \n\n         start sidereal time          end sidereal time Start hour angle  \\\n0 1900-01-01 21:41:35.703500 1900-01-01 05:42:54.553500         21:17:52   \n0 1900-01-01 21:41:35.703500 1900-01-01 05:42:54.553500         20:24:08   \n0 1900-01-01 21:41:35.703500 1900-01-01 05:42:54.553500         11:25:30   \n0 1900-01-01 21:41:35.703500 1900-01-01 05:42:54.553500         18:33:04   \n0 1900-01-01 21:41:35.703500 1900-01-01 05:42:54.553500         06:10:56   \n0 1900-01-01 21:41:35.703500 1900-01-01 05:42:54.553500         07:42:49   \n0 1900-01-01 21:41:35.703500 1900-01-01 05:42:54.553500         20:09:27   \n0 1900-01-01 21:41:35.703500 1900-01-01 05:42:54.553500         10:15:06   \n0 1900-01-01 21:41:35.703500 1900-01-01 05:42:54.553500         00:45:07   \n0 1900-01-01 21:41:35.703500 1900-01-01 05:42:54.553500         02:09:06   \n0 1900-01-01 21:41:35.703500 1900-01-01 05:42:54.553500         00:54:07   \n0 1900-01-01 21:41:35.703500 1900-01-01 05:42:54.553500         10:03:39   \n0 1900-01-01 21:41:35.703500 1900-01-01 05:42:54.553500         09:23:49   \n0 1900-01-01 21:41:35.703500 1900-01-01 05:42:54.553500         16:51:51   \n0 1900-01-01 21:41:35.703500 1900-01-01 05:42:54.553500         18:29:43   \n0 1900-01-01 21:41:35.703500 1900-01-01 05:42:54.553500         14:20:02   \n0 1900-01-01 21:41:35.703500 1900-01-01 05:42:54.553500         03:47:04   \n0 1900-01-01 21:41:35.703500 1900-01-01 05:42:54.553500         05:10:54   \n0 1900-01-01 21:41:35.703500 1900-01-01 05:42:54.553500         09:11:05   \n0 1900-01-01 21:41:35.703500 1900-01-01 05:42:54.553500         00:30:05   \n0 1900-01-01 21:41:35.703500 1900-01-01 05:42:54.553500         11:33:52   \n0 1900-01-01 21:41:35.703500 1900-01-01 05:42:54.553500         12:38:27   \n0 1900-01-01 21:41:35.703500 1900-01-01 05:42:54.553500         02:16:07   \n0 1900-01-01 21:41:35.703500 1900-01-01 05:42:54.553500         07:55:03   \n0 1900-01-01 21:41:35.703500 1900-01-01 05:42:54.553500         05:09:10   \n0 1900-01-01 21:41:35.703500 1900-01-01 05:42:54.553500        -00:10:27   \n0 1900-01-01 21:41:35.703500 1900-01-01 05:42:54.553500        -01:11:25   \n0 1900-01-01 21:41:35.703500 1900-01-01 05:42:54.553500         13:17:13   \n0 1900-01-01 21:41:35.703500 1900-01-01 05:42:54.553500         13:56:48   \n0 1900-01-01 21:41:35.703500 1900-01-01 05:42:54.553500         21:38:47   \n0 1900-01-01 21:41:35.703500 1900-01-01 05:42:54.553500         05:48:04   \n0 1900-01-01 21:41:35.703500 1900-01-01 05:42:54.553500         09:30:21   \n0 1900-01-01 21:41:35.703500 1900-01-01 05:42:54.553500         08:08:17   \n0 1900-01-01 21:41:35.703500 1900-01-01 05:42:54.553500         10:11:47   \n0 1900-01-01 21:41:35.703500 1900-01-01 05:42:54.553500         09:33:00   \n0 1900-01-01 21:41:35.703500 1900-01-01 05:42:54.553500         06:54:00   \n0 1900-01-01 21:41:35.703500 1900-01-01 05:42:54.553500         07:24:59   \n0 1900-01-01 21:41:35.703500 1900-01-01 05:42:54.553500         07:44:01   \n0 1900-01-01 21:41:35.703500 1900-01-01 05:42:54.553500         13:42:36   \n0 1900-01-01 21:41:35.703500 1900-01-01 05:42:54.553500         00:22:03   \n0 1900-01-01 21:41:35.703500 1900-01-01 05:42:54.553500        -00:57:37   \n0 1900-01-01 21:41:35.703500 1900-01-01 05:42:54.553500         05:22:09   \n0 1900-01-01 21:41:35.703500 1900-01-01 05:42:54.553500         19:04:29   \n0 1900-01-01 21:41:35.703500 1900-01-01 05:42:54.553500         10:03:33   \n0 1900-01-01 21:41:35.703500 1900-01-01 05:42:54.553500        -00:33:49   \n0 1900-01-01 21:41:35.703500 1900-01-01 05:42:54.553500         20:27:09   \n0 1900-01-01 21:41:35.703500 1900-01-01 05:42:54.553500         19:56:36   \n0 1900-01-01 21:41:35.703500 1900-01-01 05:42:54.553500         06:27:34   \n0 1900-01-01 21:41:35.703500 1900-01-01 05:42:54.553500         11:48:07   \n0 1900-01-01 21:41:35.703500 1900-01-01 05:42:54.553500         02:39:23   \n0 1900-01-01 21:41:35.703500 1900-01-01 05:42:54.553500         20:23:05   \n0 1900-01-01 21:41:35.703500 1900-01-01 05:42:54.553500         08:15:22   \n0 1900-01-01 21:41:35.703500 1900-01-01 05:42:54.553500         09:16:49   \n0 1900-01-01 21:41:35.703500 1900-01-01 05:42:54.553500         08:08:17   \n\n  End hour angle  Start hour angle folded  End hour angle folded  \n0       05:19:11                 -2:42:08               05:19:11  \n0       04:25:27                 -3:35:52               04:25:27  \n0      -04:33:10                 11:25:30              -04:33:10  \n0       02:34:23                 -5:26:56               02:34:23  \n0      -09:47:44                 06:10:56              -09:47:44  \n0      -08:15:51                 07:42:49              -08:15:51  \n0       04:10:46                 -3:50:33               04:10:46  \n0      -05:43:35                 10:15:06              -05:43:35  \n0      -15:13:33                 00:45:07                8:46:27  \n0      -13:49:34                 02:09:06               10:10:26  \n0      -15:04:33                 00:54:07                8:55:27  \n0      -05:55:02                 10:03:39              -05:55:02  \n0      -06:34:52                 09:23:49              -06:34:52  \n0       00:53:10                 -7:08:09               00:53:10  \n0       02:31:02                 -5:30:17               02:31:02  \n0      -01:38:38                 -9:39:58              -01:38:38  \n0      -12:11:36                 03:47:04               11:48:24  \n0      -10:47:46                 05:10:54              -10:47:46  \n0      -06:47:35                 09:11:05              -06:47:35  \n0      -15:28:35                 00:30:05                8:31:25  \n0      -04:24:48                 11:33:52              -04:24:48  \n0      -03:20:13                -11:21:33              -03:20:13  \n0      -13:42:33                 02:16:07               10:17:27  \n0      -08:03:37                 07:55:03              -08:03:37  \n0      -10:49:30                 05:09:10              -10:49:30  \n0      -16:09:08                -00:10:27                7:50:52  \n0      -17:10:06                -01:11:25                6:49:54  \n0      -02:41:28                -10:42:47              -02:41:28  \n0      -02:01:52                -10:03:12              -02:01:52  \n0       05:40:06                 -2:21:13               05:40:06  \n0      -10:10:36                 05:48:04              -10:10:36  \n0      -06:28:20                 09:30:21              -06:28:20  \n0      -07:50:23                 08:08:17              -07:50:23  \n0      -05:46:53                 10:11:47              -05:46:53  \n0      -06:25:40                 09:33:00              -06:25:40  \n0      -09:04:40                 06:54:00              -09:04:40  \n0      -08:33:42                 07:24:59              -08:33:42  \n0      -08:14:39                 07:44:01              -08:14:39  \n0      -02:16:04                -10:17:24              -02:16:04  \n0      -15:36:37                 00:22:03                8:23:23  \n0      -16:56:18                -00:57:37                7:03:42  \n0      -10:36:31                 05:22:09              -10:36:31  \n0       03:05:48                 -4:55:31               03:05:48  \n0      -05:55:07                 10:03:33              -05:55:07  \n0      -16:32:31                -00:33:49                7:27:29  \n0       04:28:28                 -3:32:51               04:28:28  \n0       03:57:54                 -4:03:24               03:57:54  \n0      -09:31:06                 06:27:34              -09:31:06  \n0      -04:10:33                 11:48:07              -04:10:33  \n0      -13:19:17                 02:39:23               10:40:43  \n0       04:24:23                 -3:36:55               04:24:23  \n0      -07:43:18                 08:15:22              -07:43:18  \n0      -06:41:52                 09:16:49              -06:41:52  \n0      -07:50:23                 08:08:17              -07:50:23  \n\n[54 rows x 32 columns]",
      "text/html": "<div>\n<style scoped>\n    .dataframe tbody tr th:only-of-type {\n        vertical-align: middle;\n    }\n\n    .dataframe tbody tr th {\n        vertical-align: top;\n    }\n\n    .dataframe thead th {\n        text-align: right;\n    }\n</style>\n<table border=\"1\" class=\"dataframe\">\n  <thead>\n    <tr style=\"text-align: right;\">\n      <th></th>\n      <th>MAIN_ID</th>\n      <th>RA</th>\n      <th>DEC</th>\n      <th>RA_PREC</th>\n      <th>DEC_PREC</th>\n      <th>COO_ERR_MAJA</th>\n      <th>COO_ERR_MINA</th>\n      <th>COO_ERR_ANGLE</th>\n      <th>COO_QUAL</th>\n      <th>COO_WAVELENGTH</th>\n      <th>...</th>\n      <th>SCRIPT_NUMBER_ID</th>\n      <th>DEC degrees</th>\n      <th>DEC minutes</th>\n      <th>DEC seconds</th>\n      <th>start sidereal time</th>\n      <th>end sidereal time</th>\n      <th>Start hour angle</th>\n      <th>End hour angle</th>\n      <th>Start hour angle folded</th>\n      <th>End hour angle folded</th>\n    </tr>\n  </thead>\n  <tbody>\n    <tr>\n      <th>0</th>\n      <td>V* SW And</td>\n      <td>1900-01-01 00:23:43.089600</td>\n      <td>+29 24 03.626</td>\n      <td>14</td>\n      <td>14</td>\n      <td>0.0216</td>\n      <td>0.0176</td>\n      <td>90</td>\n      <td>A</td>\n      <td>O</td>\n      <td>...</td>\n      <td>1</td>\n      <td>29.0</td>\n      <td>24.0</td>\n      <td>3.626</td>\n      <td>1900-01-01 21:41:35.703500</td>\n      <td>1900-01-01 05:42:54.553500</td>\n      <td>21:17:52</td>\n      <td>05:19:11</td>\n      <td>-2:42:08</td>\n      <td>05:19:11</td>\n    </tr>\n    <tr>\n      <th>0</th>\n      <td>V* XX And</td>\n      <td>1900-01-01 01:17:27.414200</td>\n      <td>+38 57 02.047</td>\n      <td>14</td>\n      <td>14</td>\n      <td>0.0149</td>\n      <td>0.0152</td>\n      <td>90</td>\n      <td>A</td>\n      <td>O</td>\n      <td>...</td>\n      <td>1</td>\n      <td>38.0</td>\n      <td>57.0</td>\n      <td>2.047</td>\n      <td>1900-01-01 21:41:35.703500</td>\n      <td>1900-01-01 05:42:54.553500</td>\n      <td>20:24:08</td>\n      <td>04:25:27</td>\n      <td>-3:35:52</td>\n      <td>04:25:27</td>\n    </tr>\n    <tr>\n      <th>0</th>\n      <td>V* WY Ant</td>\n      <td>1900-01-01 10:16:04.946100</td>\n      <td>-29 43 42.417</td>\n      <td>14</td>\n      <td>14</td>\n      <td>0.0162</td>\n      <td>0.0159</td>\n      <td>90</td>\n      <td>A</td>\n      <td>O</td>\n      <td>...</td>\n      <td>1</td>\n      <td>-29.0</td>\n      <td>43.0</td>\n      <td>42.417</td>\n      <td>1900-01-01 21:41:35.703500</td>\n      <td>1900-01-01 05:42:54.553500</td>\n      <td>11:25:30</td>\n      <td>-04:33:10</td>\n      <td>11:25:30</td>\n      <td>-04:33:10</td>\n    </tr>\n    <tr>\n      <th>0</th>\n      <td>V* X Ari</td>\n      <td>1900-01-01 03:08:30.884600</td>\n      <td>+10 26 45.218</td>\n      <td>14</td>\n      <td>14</td>\n      <td>0.0171</td>\n      <td>0.0145</td>\n      <td>90</td>\n      <td>A</td>\n      <td>O</td>\n      <td>...</td>\n      <td>1</td>\n      <td>10.0</td>\n      <td>26.0</td>\n      <td>45.218</td>\n      <td>1900-01-01 21:41:35.703500</td>\n      <td>1900-01-01 05:42:54.553500</td>\n      <td>18:33:04</td>\n      <td>02:34:23</td>\n      <td>-5:26:56</td>\n      <td>02:34:23</td>\n    </tr>\n    <tr>\n      <th>0</th>\n      <td>V* ST Boo</td>\n      <td>1900-01-01 15:30:39.229900</td>\n      <td>+35 47 04.311</td>\n      <td>14</td>\n      <td>14</td>\n      <td>0.0154</td>\n      <td>0.0173</td>\n      <td>90</td>\n      <td>A</td>\n      <td>O</td>\n      <td>...</td>\n      <td>1</td>\n      <td>35.0</td>\n      <td>47.0</td>\n      <td>4.311</td>\n      <td>1900-01-01 21:41:35.703500</td>\n      <td>1900-01-01 05:42:54.553500</td>\n      <td>06:10:56</td>\n      <td>-09:47:44</td>\n      <td>06:10:56</td>\n      <td>-09:47:44</td>\n    </tr>\n    <tr>\n      <th>0</th>\n      <td>V* UY Boo</td>\n      <td>1900-01-01 13:58:46.336700</td>\n      <td>+12 57 06.457</td>\n      <td>14</td>\n      <td>14</td>\n      <td>0.0193</td>\n      <td>0.0152</td>\n      <td>90</td>\n      <td>A</td>\n      <td>O</td>\n      <td>...</td>\n      <td>1</td>\n      <td>12.0</td>\n      <td>57.0</td>\n      <td>6.457</td>\n      <td>1900-01-01 21:41:35.703500</td>\n      <td>1900-01-01 05:42:54.553500</td>\n      <td>07:42:49</td>\n      <td>-08:15:51</td>\n      <td>07:42:49</td>\n      <td>-08:15:51</td>\n    </tr>\n    <tr>\n      <th>0</th>\n      <td>V* RR Cet</td>\n      <td>1900-01-01 01:32:08.173100</td>\n      <td>+01 20 30.230</td>\n      <td>14</td>\n      <td>14</td>\n      <td>0.0152</td>\n      <td>0.0118</td>\n      <td>90</td>\n      <td>A</td>\n      <td>O</td>\n      <td>...</td>\n      <td>1</td>\n      <td>1.0</td>\n      <td>20.0</td>\n      <td>30.230</td>\n      <td>1900-01-01 21:41:35.703500</td>\n      <td>1900-01-01 05:42:54.553500</td>\n      <td>20:09:27</td>\n      <td>04:10:46</td>\n      <td>-3:50:33</td>\n      <td>04:10:46</td>\n    </tr>\n    <tr>\n      <th>0</th>\n      <td>V* W Crt</td>\n      <td>1900-01-01 11:26:29.645200</td>\n      <td>-17 54 51.700</td>\n      <td>14</td>\n      <td>14</td>\n      <td>0.0198</td>\n      <td>0.0176</td>\n      <td>90</td>\n      <td>A</td>\n      <td>O</td>\n      <td>...</td>\n      <td>1</td>\n      <td>-17.0</td>\n      <td>54.0</td>\n      <td>51.700</td>\n      <td>1900-01-01 21:41:35.703500</td>\n      <td>1900-01-01 05:42:54.553500</td>\n      <td>10:15:06</td>\n      <td>-05:43:35</td>\n      <td>10:15:06</td>\n      <td>-05:43:35</td>\n    </tr>\n    <tr>\n      <th>0</th>\n      <td>V* UY Cyg</td>\n      <td>1900-01-01 20:56:28.303000</td>\n      <td>+30 25 40.327</td>\n      <td>14</td>\n      <td>14</td>\n      <td>0.0102</td>\n      <td>0.0154</td>\n      <td>90</td>\n      <td>A</td>\n      <td>O</td>\n      <td>...</td>\n      <td>1</td>\n      <td>30.0</td>\n      <td>25.0</td>\n      <td>40.327</td>\n      <td>1900-01-01 21:41:35.703500</td>\n      <td>1900-01-01 05:42:54.553500</td>\n      <td>00:45:07</td>\n      <td>-15:13:33</td>\n      <td>00:45:07</td>\n      <td>8:46:27</td>\n    </tr>\n    <tr>\n      <th>0</th>\n      <td>V* XZ Cyg</td>\n      <td>1900-01-01 19:32:29.305000</td>\n      <td>+56 23 17.494</td>\n      <td>14</td>\n      <td>14</td>\n      <td>0.0135</td>\n      <td>0.0147</td>\n      <td>90</td>\n      <td>A</td>\n      <td>O</td>\n      <td>...</td>\n      <td>1</td>\n      <td>56.0</td>\n      <td>23.0</td>\n      <td>17.494</td>\n      <td>1900-01-01 21:41:35.703500</td>\n      <td>1900-01-01 05:42:54.553500</td>\n      <td>02:09:06</td>\n      <td>-13:49:34</td>\n      <td>02:09:06</td>\n      <td>10:10:26</td>\n    </tr>\n    <tr>\n      <th>0</th>\n      <td>V* DX Del</td>\n      <td>1900-01-01 20:47:28.355500</td>\n      <td>+12 27 50.682</td>\n      <td>14</td>\n      <td>14</td>\n      <td>0.0125</td>\n      <td>0.0072</td>\n      <td>90</td>\n      <td>A</td>\n      <td>O</td>\n      <td>...</td>\n      <td>1</td>\n      <td>12.0</td>\n      <td>27.0</td>\n      <td>50.682</td>\n      <td>1900-01-01 21:41:35.703500</td>\n      <td>1900-01-01 05:42:54.553500</td>\n      <td>00:54:07</td>\n      <td>-15:04:33</td>\n      <td>00:54:07</td>\n      <td>8:55:27</td>\n    </tr>\n    <tr>\n      <th>0</th>\n      <td>V* SU Dra</td>\n      <td>1900-01-01 11:37:56.607100</td>\n      <td>+67 19 47.060</td>\n      <td>14</td>\n      <td>14</td>\n      <td>0.0115</td>\n      <td>0.0117</td>\n      <td>90</td>\n      <td>A</td>\n      <td>O</td>\n      <td>...</td>\n      <td>1</td>\n      <td>67.0</td>\n      <td>19.0</td>\n      <td>47.060</td>\n      <td>1900-01-01 21:41:35.703500</td>\n      <td>1900-01-01 05:42:54.553500</td>\n      <td>10:03:39</td>\n      <td>-05:55:02</td>\n      <td>10:03:39</td>\n      <td>-05:55:02</td>\n    </tr>\n    <tr>\n      <th>0</th>\n      <td>V* SW Dra</td>\n      <td>1900-01-01 12:17:46.628300</td>\n      <td>+69 30 38.233</td>\n      <td>14</td>\n      <td>14</td>\n      <td>0.0169</td>\n      <td>0.0159</td>\n      <td>90</td>\n      <td>A</td>\n      <td>O</td>\n      <td>...</td>\n      <td>1</td>\n      <td>69.0</td>\n      <td>30.0</td>\n      <td>38.233</td>\n      <td>1900-01-01 21:41:35.703500</td>\n      <td>1900-01-01 05:42:54.553500</td>\n      <td>09:23:49</td>\n      <td>-06:34:52</td>\n      <td>09:23:49</td>\n      <td>-06:34:52</td>\n    </tr>\n    <tr>\n      <th>0</th>\n      <td>V* RX Eri</td>\n      <td>1900-01-01 04:49:44.291500</td>\n      <td>-15 44 28.242</td>\n      <td>14</td>\n      <td>14</td>\n      <td>0.0157</td>\n      <td>0.0142</td>\n      <td>90</td>\n      <td>A</td>\n      <td>O</td>\n      <td>...</td>\n      <td>1</td>\n      <td>-15.0</td>\n      <td>44.0</td>\n      <td>28.242</td>\n      <td>1900-01-01 21:41:35.703500</td>\n      <td>1900-01-01 05:42:54.553500</td>\n      <td>16:51:51</td>\n      <td>00:53:10</td>\n      <td>-7:08:09</td>\n      <td>00:53:10</td>\n    </tr>\n    <tr>\n      <th>0</th>\n      <td>V* SV Eri</td>\n      <td>1900-01-01 03:11:52.107400</td>\n      <td>-11 21 14.067</td>\n      <td>14</td>\n      <td>14</td>\n      <td>0.0174</td>\n      <td>0.0167</td>\n      <td>90</td>\n      <td>A</td>\n      <td>O</td>\n      <td>...</td>\n      <td>1</td>\n      <td>-11.0</td>\n      <td>21.0</td>\n      <td>14.067</td>\n      <td>1900-01-01 21:41:35.703500</td>\n      <td>1900-01-01 05:42:54.553500</td>\n      <td>18:29:43</td>\n      <td>02:31:02</td>\n      <td>-5:30:17</td>\n      <td>02:31:02</td>\n    </tr>\n    <tr>\n      <th>0</th>\n      <td>V* RR Gem</td>\n      <td>1900-01-01 07:21:33.531200</td>\n      <td>+30 52 59.459</td>\n      <td>14</td>\n      <td>14</td>\n      <td>0.0292</td>\n      <td>0.0274</td>\n      <td>90</td>\n      <td>A</td>\n      <td>O</td>\n      <td>...</td>\n      <td>1</td>\n      <td>30.0</td>\n      <td>52.0</td>\n      <td>59.459</td>\n      <td>1900-01-01 21:41:35.703500</td>\n      <td>1900-01-01 05:42:54.553500</td>\n      <td>14:20:02</td>\n      <td>-01:38:38</td>\n      <td>-9:39:58</td>\n      <td>-01:38:38</td>\n    </tr>\n    <tr>\n      <th>0</th>\n      <td>V* TW Her</td>\n      <td>1900-01-01 17:54:31.200300</td>\n      <td>+30 24 37.680</td>\n      <td>14</td>\n      <td>14</td>\n      <td>0.0104</td>\n      <td>0.0134</td>\n      <td>90</td>\n      <td>A</td>\n      <td>O</td>\n      <td>...</td>\n      <td>1</td>\n      <td>30.0</td>\n      <td>24.0</td>\n      <td>37.680</td>\n      <td>1900-01-01 21:41:35.703500</td>\n      <td>1900-01-01 05:42:54.553500</td>\n      <td>03:47:04</td>\n      <td>-12:11:36</td>\n      <td>03:47:04</td>\n      <td>11:48:24</td>\n    </tr>\n    <tr>\n      <th>0</th>\n      <td>V* VX Her</td>\n      <td>1900-01-01 16:30:40.802700</td>\n      <td>+18 22 00.573</td>\n      <td>14</td>\n      <td>14</td>\n      <td>0.0189</td>\n      <td>0.0162</td>\n      <td>90</td>\n      <td>A</td>\n      <td>O</td>\n      <td>...</td>\n      <td>1</td>\n      <td>18.0</td>\n      <td>22.0</td>\n      <td>0.573</td>\n      <td>1900-01-01 21:41:35.703500</td>\n      <td>1900-01-01 05:42:54.553500</td>\n      <td>05:10:54</td>\n      <td>-10:47:46</td>\n      <td>05:10:54</td>\n      <td>-10:47:46</td>\n    </tr>\n    <tr>\n      <th>0</th>\n      <td>V* SV Hya</td>\n      <td>1900-01-01 12:30:30.503100</td>\n      <td>-26 02 51.113</td>\n      <td>14</td>\n      <td>14</td>\n      <td>0.0195</td>\n      <td>0.0135</td>\n      <td>90</td>\n      <td>A</td>\n      <td>O</td>\n      <td>...</td>\n      <td>1</td>\n      <td>-26.0</td>\n      <td>2.0</td>\n      <td>51.113</td>\n      <td>1900-01-01 21:41:35.703500</td>\n      <td>1900-01-01 05:42:54.553500</td>\n      <td>09:11:05</td>\n      <td>-06:47:35</td>\n      <td>09:11:05</td>\n      <td>-06:47:35</td>\n    </tr>\n    <tr>\n      <th>0</th>\n      <td>V* V Ind</td>\n      <td>1900-01-01 21:11:29.901900</td>\n      <td>-45 04 28.391</td>\n      <td>14</td>\n      <td>14</td>\n      <td>0.0160</td>\n      <td>0.0124</td>\n      <td>90</td>\n      <td>A</td>\n      <td>O</td>\n      <td>...</td>\n      <td>1</td>\n      <td>-45.0</td>\n      <td>4.0</td>\n      <td>28.391</td>\n      <td>1900-01-01 21:41:35.703500</td>\n      <td>1900-01-01 05:42:54.553500</td>\n      <td>00:30:05</td>\n      <td>-15:28:35</td>\n      <td>00:30:05</td>\n      <td>8:31:25</td>\n    </tr>\n    <tr>\n      <th>0</th>\n      <td>V* RR Leo</td>\n      <td>1900-01-01 10:07:43.460500</td>\n      <td>+23 59 30.318</td>\n      <td>14</td>\n      <td>14</td>\n      <td>0.0183</td>\n      <td>0.0166</td>\n      <td>90</td>\n      <td>A</td>\n      <td>O</td>\n      <td>...</td>\n      <td>1</td>\n      <td>23.0</td>\n      <td>59.0</td>\n      <td>30.318</td>\n      <td>1900-01-01 21:41:35.703500</td>\n      <td>1900-01-01 05:42:54.553500</td>\n      <td>11:33:52</td>\n      <td>-04:24:48</td>\n      <td>11:33:52</td>\n      <td>-04:24:48</td>\n    </tr>\n    <tr>\n      <th>0</th>\n      <td>V* TT Lyn</td>\n      <td>1900-01-01 09:03:07.786400</td>\n      <td>+44 35 08.119</td>\n      <td>14</td>\n      <td>14</td>\n      <td>0.0127</td>\n      <td>0.0102</td>\n      <td>90</td>\n      <td>A</td>\n      <td>O</td>\n      <td>...</td>\n      <td>1</td>\n      <td>44.0</td>\n      <td>35.0</td>\n      <td>8.119</td>\n      <td>1900-01-01 21:41:35.703500</td>\n      <td>1900-01-01 05:42:54.553500</td>\n      <td>12:38:27</td>\n      <td>-03:20:13</td>\n      <td>-11:21:33</td>\n      <td>-03:20:13</td>\n    </tr>\n    <tr>\n      <th>0</th>\n      <td>V* RR Lyr</td>\n      <td>1900-01-01 19:25:27.912900</td>\n      <td>+42 47 03.693</td>\n      <td>14</td>\n      <td>14</td>\n      <td>0.0224</td>\n      <td>0.0242</td>\n      <td>90</td>\n      <td>A</td>\n      <td>O</td>\n      <td>...</td>\n      <td>1</td>\n      <td>42.0</td>\n      <td>47.0</td>\n      <td>3.693</td>\n      <td>1900-01-01 21:41:35.703500</td>\n      <td>1900-01-01 05:42:54.553500</td>\n      <td>02:16:07</td>\n      <td>-13:42:33</td>\n      <td>02:16:07</td>\n      <td>10:17:27</td>\n    </tr>\n    <tr>\n      <th>0</th>\n      <td>V* RV Oct</td>\n      <td>1900-01-01 13:46:31.744200</td>\n      <td>-84 24 06.384</td>\n      <td>14</td>\n      <td>14</td>\n      <td>0.0106</td>\n      <td>0.0105</td>\n      <td>90</td>\n      <td>A</td>\n      <td>O</td>\n      <td>...</td>\n      <td>1</td>\n      <td>-84.0</td>\n      <td>24.0</td>\n      <td>6.384</td>\n      <td>1900-01-01 21:41:35.703500</td>\n      <td>1900-01-01 05:42:54.553500</td>\n      <td>07:55:03</td>\n      <td>-08:03:37</td>\n      <td>07:55:03</td>\n      <td>-08:03:37</td>\n    </tr>\n    <tr>\n      <th>0</th>\n      <td>V* UV Oct</td>\n      <td>1900-01-01 16:32:25.536100</td>\n      <td>-83 54 10.495</td>\n      <td>14</td>\n      <td>14</td>\n      <td>0.0105</td>\n      <td>0.0111</td>\n      <td>90</td>\n      <td>A</td>\n      <td>O</td>\n      <td>...</td>\n      <td>1</td>\n      <td>-83.0</td>\n      <td>54.0</td>\n      <td>10.495</td>\n      <td>1900-01-01 21:41:35.703500</td>\n      <td>1900-01-01 05:42:54.553500</td>\n      <td>05:09:10</td>\n      <td>-10:49:30</td>\n      <td>05:09:10</td>\n      <td>-10:49:30</td>\n    </tr>\n    <tr>\n      <th>0</th>\n      <td>V* AV Peg</td>\n      <td>1900-01-01 21:52:02.794500</td>\n      <td>+22 34 29.376</td>\n      <td>14</td>\n      <td>14</td>\n      <td>0.0144</td>\n      <td>0.0134</td>\n      <td>90</td>\n      <td>A</td>\n      <td>O</td>\n      <td>...</td>\n      <td>1</td>\n      <td>22.0</td>\n      <td>34.0</td>\n      <td>29.376</td>\n      <td>1900-01-01 21:41:35.703500</td>\n      <td>1900-01-01 05:42:54.553500</td>\n      <td>-00:10:27</td>\n      <td>-16:09:08</td>\n      <td>-00:10:27</td>\n      <td>7:50:52</td>\n    </tr>\n    <tr>\n      <th>0</th>\n      <td>V* BH Peg</td>\n      <td>1900-01-01 22:53:01.036900</td>\n      <td>+15 47 16.609</td>\n      <td>14</td>\n      <td>14</td>\n      <td>0.0181</td>\n      <td>0.0173</td>\n      <td>90</td>\n      <td>A</td>\n      <td>O</td>\n      <td>...</td>\n      <td>1</td>\n      <td>15.0</td>\n      <td>47.0</td>\n      <td>16.609</td>\n      <td>1900-01-01 21:41:35.703500</td>\n      <td>1900-01-01 05:42:54.553500</td>\n      <td>-01:11:25</td>\n      <td>-17:10:06</td>\n      <td>-01:11:25</td>\n      <td>6:49:54</td>\n    </tr>\n    <tr>\n      <th>0</th>\n      <td>V* BB Pup</td>\n      <td>1900-01-01 08:24:22.643300</td>\n      <td>-19 32 31.408</td>\n      <td>14</td>\n      <td>14</td>\n      <td>0.0127</td>\n      <td>0.0131</td>\n      <td>90</td>\n      <td>A</td>\n      <td>O</td>\n      <td>...</td>\n      <td>1</td>\n      <td>-19.0</td>\n      <td>32.0</td>\n      <td>31.408</td>\n      <td>1900-01-01 21:41:35.703500</td>\n      <td>1900-01-01 05:42:54.553500</td>\n      <td>13:17:13</td>\n      <td>-02:41:28</td>\n      <td>-10:42:47</td>\n      <td>-02:41:28</td>\n    </tr>\n    <tr>\n      <th>0</th>\n      <td>V* HK Pup</td>\n      <td>1900-01-01 07:44:46.802800</td>\n      <td>-13 05 56.312</td>\n      <td>14</td>\n      <td>14</td>\n      <td>0.0133</td>\n      <td>0.0121</td>\n      <td>90</td>\n      <td>A</td>\n      <td>O</td>\n      <td>...</td>\n      <td>1</td>\n      <td>-13.0</td>\n      <td>5.0</td>\n      <td>56.312</td>\n      <td>1900-01-01 21:41:35.703500</td>\n      <td>1900-01-01 05:42:54.553500</td>\n      <td>13:56:48</td>\n      <td>-02:01:52</td>\n      <td>-10:03:12</td>\n      <td>-02:01:52</td>\n    </tr>\n    <tr>\n      <th>0</th>\n      <td>V* RU Scl</td>\n      <td>1900-01-01 00:02:48.107000</td>\n      <td>-24 56 43.074</td>\n      <td>14</td>\n      <td>14</td>\n      <td>0.0186</td>\n      <td>0.0210</td>\n      <td>90</td>\n      <td>A</td>\n      <td>O</td>\n      <td>...</td>\n      <td>1</td>\n      <td>-24.0</td>\n      <td>56.0</td>\n      <td>43.074</td>\n      <td>1900-01-01 21:41:35.703500</td>\n      <td>1900-01-01 05:42:54.553500</td>\n      <td>21:38:47</td>\n      <td>05:40:06</td>\n      <td>-2:21:13</td>\n      <td>05:40:06</td>\n    </tr>\n    <tr>\n      <th>0</th>\n      <td>V* AN Ser</td>\n      <td>1900-01-01 15:53:31.053100</td>\n      <td>+12 57 40.112</td>\n      <td>14</td>\n      <td>14</td>\n      <td>0.0166</td>\n      <td>0.0143</td>\n      <td>90</td>\n      <td>A</td>\n      <td>O</td>\n      <td>...</td>\n      <td>1</td>\n      <td>12.0</td>\n      <td>57.0</td>\n      <td>40.112</td>\n      <td>1900-01-01 21:41:35.703500</td>\n      <td>1900-01-01 05:42:54.553500</td>\n      <td>05:48:04</td>\n      <td>-10:10:36</td>\n      <td>05:48:04</td>\n      <td>-10:10:36</td>\n    </tr>\n    <tr>\n      <th>0</th>\n      <td>V* AB UMa</td>\n      <td>1900-01-01 12:11:14.589000</td>\n      <td>+47 49 43.794</td>\n      <td>14</td>\n      <td>14</td>\n      <td>0.0084</td>\n      <td>0.0123</td>\n      <td>90</td>\n      <td>A</td>\n      <td>O</td>\n      <td>...</td>\n      <td>1</td>\n      <td>47.0</td>\n      <td>49.0</td>\n      <td>43.794</td>\n      <td>1900-01-01 21:41:35.703500</td>\n      <td>1900-01-01 05:42:54.553500</td>\n      <td>09:30:21</td>\n      <td>-06:28:20</td>\n      <td>09:30:21</td>\n      <td>-06:28:20</td>\n    </tr>\n    <tr>\n      <th>0</th>\n      <td>V* RV UMa</td>\n      <td>1900-01-01 13:33:18.083800</td>\n      <td>+53 59 14.598</td>\n      <td>14</td>\n      <td>14</td>\n      <td>0.0106</td>\n      <td>0.0120</td>\n      <td>90</td>\n      <td>A</td>\n      <td>O</td>\n      <td>...</td>\n      <td>1</td>\n      <td>53.0</td>\n      <td>59.0</td>\n      <td>14.598</td>\n      <td>1900-01-01 21:41:35.703500</td>\n      <td>1900-01-01 05:42:54.553500</td>\n      <td>08:08:17</td>\n      <td>-07:50:23</td>\n      <td>08:08:17</td>\n      <td>-07:50:23</td>\n    </tr>\n    <tr>\n      <th>0</th>\n      <td>V* TU UMa</td>\n      <td>1900-01-01 11:29:48.489300</td>\n      <td>+30 04 02.379</td>\n      <td>14</td>\n      <td>14</td>\n      <td>0.0150</td>\n      <td>0.0265</td>\n      <td>90</td>\n      <td>A</td>\n      <td>O</td>\n      <td>...</td>\n      <td>1</td>\n      <td>30.0</td>\n      <td>4.0</td>\n      <td>2.379</td>\n      <td>1900-01-01 21:41:35.703500</td>\n      <td>1900-01-01 05:42:54.553500</td>\n      <td>10:11:47</td>\n      <td>-05:46:53</td>\n      <td>10:11:47</td>\n      <td>-05:46:53</td>\n    </tr>\n    <tr>\n      <th>0</th>\n      <td>V* UU Vir</td>\n      <td>1900-01-01 12:08:35.072400</td>\n      <td>-00 27 24.308</td>\n      <td>14</td>\n      <td>14</td>\n      <td>0.0391</td>\n      <td>0.0326</td>\n      <td>90</td>\n      <td>A</td>\n      <td>O</td>\n      <td>...</td>\n      <td>1</td>\n      <td>-0.0</td>\n      <td>27.0</td>\n      <td>24.308</td>\n      <td>1900-01-01 21:41:35.703500</td>\n      <td>1900-01-01 05:42:54.553500</td>\n      <td>09:33:00</td>\n      <td>-06:25:40</td>\n      <td>09:33:00</td>\n      <td>-06:25:40</td>\n    </tr>\n    <tr>\n      <th>0</th>\n      <td>V* AE Boo</td>\n      <td>1900-01-01 14:47:35.265100</td>\n      <td>+16 50 43.552</td>\n      <td>14</td>\n      <td>14</td>\n      <td>0.0129</td>\n      <td>0.0146</td>\n      <td>90</td>\n      <td>A</td>\n      <td>O</td>\n      <td>...</td>\n      <td>1</td>\n      <td>16.0</td>\n      <td>50.0</td>\n      <td>43.552</td>\n      <td>1900-01-01 21:41:35.703500</td>\n      <td>1900-01-01 05:42:54.553500</td>\n      <td>06:54:00</td>\n      <td>-09:04:40</td>\n      <td>06:54:00</td>\n      <td>-09:04:40</td>\n    </tr>\n    <tr>\n      <th>0</th>\n      <td>V* TV Boo</td>\n      <td>1900-01-01 14:16:36.581400</td>\n      <td>+42 21 35.712</td>\n      <td>14</td>\n      <td>14</td>\n      <td>0.0109</td>\n      <td>0.0128</td>\n      <td>90</td>\n      <td>A</td>\n      <td>O</td>\n      <td>...</td>\n      <td>1</td>\n      <td>42.0</td>\n      <td>21.0</td>\n      <td>35.712</td>\n      <td>1900-01-01 21:41:35.703500</td>\n      <td>1900-01-01 05:42:54.553500</td>\n      <td>07:24:59</td>\n      <td>-08:33:42</td>\n      <td>07:24:59</td>\n      <td>-08:33:42</td>\n    </tr>\n    <tr>\n      <th>0</th>\n      <td>V* ST CVn</td>\n      <td>1900-01-01 13:57:34.058900</td>\n      <td>+29 51 28.715</td>\n      <td>14</td>\n      <td>14</td>\n      <td>0.0160</td>\n      <td>0.0147</td>\n      <td>90</td>\n      <td>A</td>\n      <td>O</td>\n      <td>...</td>\n      <td>1</td>\n      <td>29.0</td>\n      <td>51.0</td>\n      <td>28.715</td>\n      <td>1900-01-01 21:41:35.703500</td>\n      <td>1900-01-01 05:42:54.553500</td>\n      <td>07:44:01</td>\n      <td>-08:14:39</td>\n      <td>07:44:01</td>\n      <td>-08:14:39</td>\n    </tr>\n    <tr>\n      <th>0</th>\n      <td>V* UY Cam</td>\n      <td>1900-01-01 07:58:58.882500</td>\n      <td>+72 47 15.402</td>\n      <td>14</td>\n      <td>14</td>\n      <td>0.0120</td>\n      <td>0.0157</td>\n      <td>90</td>\n      <td>A</td>\n      <td>O</td>\n      <td>...</td>\n      <td>1</td>\n      <td>72.0</td>\n      <td>47.0</td>\n      <td>15.402</td>\n      <td>1900-01-01 21:41:35.703500</td>\n      <td>1900-01-01 05:42:54.553500</td>\n      <td>13:42:36</td>\n      <td>-02:16:04</td>\n      <td>-10:17:24</td>\n      <td>-02:16:04</td>\n    </tr>\n    <tr>\n      <th>0</th>\n      <td>V* YZ Cap</td>\n      <td>1900-01-01 21:19:32.413000</td>\n      <td>-15 07 01.141</td>\n      <td>14</td>\n      <td>14</td>\n      <td>0.0255</td>\n      <td>0.0206</td>\n      <td>90</td>\n      <td>A</td>\n      <td>O</td>\n      <td>...</td>\n      <td>1</td>\n      <td>-15.0</td>\n      <td>7.0</td>\n      <td>1.141</td>\n      <td>1900-01-01 21:41:35.703500</td>\n      <td>1900-01-01 05:42:54.553500</td>\n      <td>00:22:03</td>\n      <td>-15:36:37</td>\n      <td>00:22:03</td>\n      <td>8:23:23</td>\n    </tr>\n    <tr>\n      <th>0</th>\n      <td>V* RZ Cep</td>\n      <td>1900-01-01 22:39:13.176800</td>\n      <td>+64 51 30.611</td>\n      <td>14</td>\n      <td>14</td>\n      <td>0.0108</td>\n      <td>0.0099</td>\n      <td>90</td>\n      <td>A</td>\n      <td>O</td>\n      <td>...</td>\n      <td>1</td>\n      <td>64.0</td>\n      <td>51.0</td>\n      <td>30.611</td>\n      <td>1900-01-01 21:41:35.703500</td>\n      <td>1900-01-01 05:42:54.553500</td>\n      <td>-00:57:37</td>\n      <td>-16:56:18</td>\n      <td>-00:57:37</td>\n      <td>7:03:42</td>\n    </tr>\n    <tr>\n      <th>0</th>\n      <td>V* RV CrB</td>\n      <td>1900-01-01 16:19:25.851500</td>\n      <td>+29 42 47.638</td>\n      <td>14</td>\n      <td>14</td>\n      <td>0.0109</td>\n      <td>0.0125</td>\n      <td>90</td>\n      <td>A</td>\n      <td>O</td>\n      <td>...</td>\n      <td>1</td>\n      <td>29.0</td>\n      <td>42.0</td>\n      <td>47.638</td>\n      <td>1900-01-01 21:41:35.703500</td>\n      <td>1900-01-01 05:42:54.553500</td>\n      <td>05:22:09</td>\n      <td>-10:36:31</td>\n      <td>05:22:09</td>\n      <td>-10:36:31</td>\n    </tr>\n    <tr>\n      <th>0</th>\n      <td>V* CS Eri</td>\n      <td>1900-01-01 02:37:05.758800</td>\n      <td>-42 57 48.035</td>\n      <td>14</td>\n      <td>14</td>\n      <td>0.0110</td>\n      <td>0.0128</td>\n      <td>90</td>\n      <td>A</td>\n      <td>O</td>\n      <td>...</td>\n      <td>1</td>\n      <td>-42.0</td>\n      <td>57.0</td>\n      <td>48.035</td>\n      <td>1900-01-01 21:41:35.703500</td>\n      <td>1900-01-01 05:42:54.553500</td>\n      <td>19:04:29</td>\n      <td>03:05:48</td>\n      <td>-4:55:31</td>\n      <td>03:05:48</td>\n    </tr>\n    <tr>\n      <th>0</th>\n      <td>V* BX Leo</td>\n      <td>1900-01-01 11:38:02.062900</td>\n      <td>+16 32 36.195</td>\n      <td>14</td>\n      <td>14</td>\n      <td>0.0195</td>\n      <td>0.0173</td>\n      <td>90</td>\n      <td>A</td>\n      <td>O</td>\n      <td>...</td>\n      <td>1</td>\n      <td>16.0</td>\n      <td>32.0</td>\n      <td>36.195</td>\n      <td>1900-01-01 21:41:35.703500</td>\n      <td>1900-01-01 05:42:54.553500</td>\n      <td>10:03:33</td>\n      <td>-05:55:07</td>\n      <td>10:03:33</td>\n      <td>-05:55:07</td>\n    </tr>\n    <tr>\n      <th>0</th>\n      <td>V* DH Peg</td>\n      <td>1900-01-01 22:15:25.639700</td>\n      <td>+06 49 21.439</td>\n      <td>14</td>\n      <td>14</td>\n      <td>0.0230</td>\n      <td>0.0293</td>\n      <td>90</td>\n      <td>A</td>\n      <td>O</td>\n      <td>...</td>\n      <td>1</td>\n      <td>6.0</td>\n      <td>49.0</td>\n      <td>21.439</td>\n      <td>1900-01-01 21:41:35.703500</td>\n      <td>1900-01-01 05:42:54.553500</td>\n      <td>-00:33:49</td>\n      <td>-16:32:31</td>\n      <td>-00:33:49</td>\n      <td>7:27:29</td>\n    </tr>\n    <tr>\n      <th>0</th>\n      <td>V* RU Psc</td>\n      <td>1900-01-01 01:14:26.037100</td>\n      <td>+24 24 56.367</td>\n      <td>14</td>\n      <td>14</td>\n      <td>0.0249</td>\n      <td>0.0164</td>\n      <td>90</td>\n      <td>A</td>\n      <td>O</td>\n      <td>...</td>\n      <td>1</td>\n      <td>24.0</td>\n      <td>24.0</td>\n      <td>56.367</td>\n      <td>1900-01-01 21:41:35.703500</td>\n      <td>1900-01-01 05:42:54.553500</td>\n      <td>20:27:09</td>\n      <td>04:28:28</td>\n      <td>-3:32:51</td>\n      <td>04:28:28</td>\n    </tr>\n    <tr>\n      <th>0</th>\n      <td>V* SV Scl</td>\n      <td>1900-01-01 01:44:59.662700</td>\n      <td>-30 03 33.385</td>\n      <td>14</td>\n      <td>14</td>\n      <td>0.0186</td>\n      <td>0.0166</td>\n      <td>90</td>\n      <td>A</td>\n      <td>O</td>\n      <td>...</td>\n      <td>1</td>\n      <td>-30.0</td>\n      <td>3.0</td>\n      <td>33.385</td>\n      <td>1900-01-01 21:41:35.703500</td>\n      <td>1900-01-01 05:42:54.553500</td>\n      <td>19:56:36</td>\n      <td>03:57:54</td>\n      <td>-4:03:24</td>\n      <td>03:57:54</td>\n    </tr>\n    <tr>\n      <th>0</th>\n      <td>V* AP Ser</td>\n      <td>1900-01-01 15:14:00.921300</td>\n      <td>+09 58 51.853</td>\n      <td>14</td>\n      <td>14</td>\n      <td>0.0145</td>\n      <td>0.0135</td>\n      <td>90</td>\n      <td>A</td>\n      <td>O</td>\n      <td>...</td>\n      <td>1</td>\n      <td>9.0</td>\n      <td>58.0</td>\n      <td>51.853</td>\n      <td>1900-01-01 21:41:35.703500</td>\n      <td>1900-01-01 05:42:54.553500</td>\n      <td>06:27:34</td>\n      <td>-09:31:06</td>\n      <td>06:27:34</td>\n      <td>-09:31:06</td>\n    </tr>\n    <tr>\n      <th>0</th>\n      <td>V* T Sex</td>\n      <td>1900-01-01 09:53:28.399900</td>\n      <td>+02 03 26.346</td>\n      <td>14</td>\n      <td>14</td>\n      <td>0.0200</td>\n      <td>0.0191</td>\n      <td>90</td>\n      <td>A</td>\n      <td>O</td>\n      <td>...</td>\n      <td>1</td>\n      <td>2.0</td>\n      <td>3.0</td>\n      <td>26.346</td>\n      <td>1900-01-01 21:41:35.703500</td>\n      <td>1900-01-01 05:42:54.553500</td>\n      <td>11:48:07</td>\n      <td>-04:10:33</td>\n      <td>11:48:07</td>\n      <td>-04:10:33</td>\n    </tr>\n    <tr>\n      <th>0</th>\n      <td>V* MT Tel</td>\n      <td>1900-01-01 19:02:12.279200</td>\n      <td>-46 39 12.083</td>\n      <td>14</td>\n      <td>14</td>\n      <td>0.0244</td>\n      <td>0.0262</td>\n      <td>90</td>\n      <td>A</td>\n      <td>O</td>\n      <td>...</td>\n      <td>1</td>\n      <td>-46.0</td>\n      <td>39.0</td>\n      <td>12.083</td>\n      <td>1900-01-01 21:41:35.703500</td>\n      <td>1900-01-01 05:42:54.553500</td>\n      <td>02:39:23</td>\n      <td>-13:19:17</td>\n      <td>02:39:23</td>\n      <td>10:40:43</td>\n    </tr>\n    <tr>\n      <th>0</th>\n      <td>V* AM Tuc</td>\n      <td>1900-01-01 01:18:30.649500</td>\n      <td>-67 55 04.962</td>\n      <td>14</td>\n      <td>14</td>\n      <td>0.0153</td>\n      <td>0.0122</td>\n      <td>90</td>\n      <td>A</td>\n      <td>O</td>\n      <td>...</td>\n      <td>1</td>\n      <td>-67.0</td>\n      <td>55.0</td>\n      <td>4.962</td>\n      <td>1900-01-01 21:41:35.703500</td>\n      <td>1900-01-01 05:42:54.553500</td>\n      <td>20:23:05</td>\n      <td>04:24:23</td>\n      <td>-3:36:55</td>\n      <td>04:24:23</td>\n    </tr>\n    <tr>\n      <th>0</th>\n      <td>V* SX UMa</td>\n      <td>1900-01-01 13:26:13.459200</td>\n      <td>+56 15 25.053</td>\n      <td>14</td>\n      <td>14</td>\n      <td>0.0115</td>\n      <td>0.0114</td>\n      <td>90</td>\n      <td>A</td>\n      <td>O</td>\n      <td>...</td>\n      <td>1</td>\n      <td>56.0</td>\n      <td>15.0</td>\n      <td>25.053</td>\n      <td>1900-01-01 21:41:35.703500</td>\n      <td>1900-01-01 05:42:54.553500</td>\n      <td>08:15:22</td>\n      <td>-07:43:18</td>\n      <td>08:15:22</td>\n      <td>-07:43:18</td>\n    </tr>\n    <tr>\n      <th>0</th>\n      <td>V* CU Com</td>\n      <td>1900-01-01 12:24:46.609400</td>\n      <td>+22 24 28.241</td>\n      <td>14</td>\n      <td>14</td>\n      <td>0.0137</td>\n      <td>0.0115</td>\n      <td>90</td>\n      <td>A</td>\n      <td>O</td>\n      <td>...</td>\n      <td>1</td>\n      <td>22.0</td>\n      <td>24.0</td>\n      <td>28.241</td>\n      <td>1900-01-01 21:41:35.703500</td>\n      <td>1900-01-01 05:42:54.553500</td>\n      <td>09:16:49</td>\n      <td>-06:41:52</td>\n      <td>09:16:49</td>\n      <td>-06:41:52</td>\n    </tr>\n    <tr>\n      <th>0</th>\n      <td>V* RV UMa</td>\n      <td>1900-01-01 13:33:18.083800</td>\n      <td>+53 59 14.598</td>\n      <td>14</td>\n      <td>14</td>\n      <td>0.0106</td>\n      <td>0.0120</td>\n      <td>90</td>\n      <td>A</td>\n      <td>O</td>\n      <td>...</td>\n      <td>1</td>\n      <td>53.0</td>\n      <td>59.0</td>\n      <td>14.598</td>\n      <td>1900-01-01 21:41:35.703500</td>\n      <td>1900-01-01 05:42:54.553500</td>\n      <td>08:08:17</td>\n      <td>-07:50:23</td>\n      <td>08:08:17</td>\n      <td>-07:50:23</td>\n    </tr>\n  </tbody>\n</table>\n<p>54 rows × 32 columns</p>\n</div>"
     },
     "execution_count": 31,
     "metadata": {},
     "output_type": "execute_result"
    }
   ],
   "source": [
    "simbad_df"
   ],
   "metadata": {
    "collapsed": false,
    "pycharm": {
     "name": "#%%\n"
    }
   }
  },
  {
   "cell_type": "markdown",
   "source": [
    "# Finding the observable stars\n",
    "\n"
   ],
   "metadata": {
    "collapsed": false,
    "pycharm": {
     "name": "#%% md\n"
    }
   }
  },
  {
   "cell_type": "markdown",
   "source": [
    "## Circumpolar star\n",
    "\n",
    "A circumpolar star never sets, but it rotates around the celestial north pole. The amount of circumpolar stars depends on latitude. There are, for example, no circumpolar stars in the equator, and all of the stars are circumpolar at the poles. A star will be circumpolar if\n",
    "$$ \\theta + \\delta > 90º$$\n",
    "\n",
    "where $\\theta$ is the latitude and $\\delta$ is the declination."
   ],
   "metadata": {
    "collapsed": false,
    "pycharm": {
     "name": "#%% md\n"
    }
   }
  },
  {
   "cell_type": "code",
   "execution_count": 32,
   "outputs": [],
   "source": [
    "circumpolar_stars = simbad_df[simbad_df['DEC degrees'] + bath_latitude > 90]"
   ],
   "metadata": {
    "collapsed": false,
    "pycharm": {
     "name": "#%%\n"
    }
   }
  },
  {
   "cell_type": "markdown",
   "source": [
    "## Discriminating based on RA and Dec\n",
    "\n",
    "Aside from the circumpolar stars, we want something that will be close to the Meridian at the time of observation. This means an hour angle of $\\pm3$ hrs or less, which amounts to $\\pm 45$º in the East to West plane. Each hour it will move 15º, so that something that starts with an HA = 3hrs at 8pm will cross the meridian at 11pm. Using the hour angle allows us to circumvent calculating which stars are not observable in this coordinate, since anything not visible will have an hour angle too large.\n",
    "\n",
    "In terms of declination, we want something that is visible from Bath. Since we are not at the equator, the stars will not be where its declination says (in the North to South direction), but instead the following correction must be applied:\n",
    "\n",
    "$$\\mathrm{Dec}_{\\mathrm{Bath}} = \\mathrm{Dec} - \\mathrm{lat}$$\n",
    "\n",
    "This will tell us what angle the star has with respect to the zenith. To avoid light pollution and trees we can limit the observable declination to 30º in each direction, so that we are left with a small circle in the sky with our observable stars."
   ],
   "metadata": {
    "collapsed": false,
    "pycharm": {
     "name": "#%% md\n"
    }
   }
  },
  {
   "cell_type": "code",
   "execution_count": 33,
   "outputs": [],
   "source": [
    "def compare_ha(hour_angle):\n",
    "    h, m, s = re.split(':',hour_angle)\n",
    "    return 3 > int(h) > -3\n",
    "\n",
    "def visible_for_calculator(hour_angle):\n",
    "    h, m, s = re.split(':', hour_angle)\n",
    "    h = int(h)\n",
    "    m = int(m)\n",
    "    s = int(s)\n",
    "    if 3 > h > 0:\n",
    "        seconds = 60 - s\n",
    "        minutes = 60 - m - 1\n",
    "        hours = 3 - h - 1\n",
    "        return(f'{hours}:{minutes}:{seconds}')\n",
    "    elif -3 < h < 0:\n",
    "        seconds = s\n",
    "        minutes = m\n",
    "        hours = 3 - h\n",
    "        return(f'{hours}:{minutes}:{seconds}')\n",
    "    elif h == 0:\n",
    "        if hour_angle[0] == '-':\n",
    "            seconds = s\n",
    "            minutes = m\n",
    "            hours = 3\n",
    "            return(f'{hours}:{minutes}:{seconds}')\n",
    "        else:\n",
    "            seconds = 60 - s\n",
    "            minutes = 60 - m - 1\n",
    "            hours = 2\n",
    "            return(f'{hours}:{minutes}:{seconds}')\n",
    "    elif -3 < h + 6 <= 3:\n",
    "        final_hour = h + 6\n",
    "        foo = final_hour + 3 - 1\n",
    "        minutes = 60 - m - 1\n",
    "        seconds = 60 - s\n",
    "        return(f'{foo}:{minutes}:{seconds}')\n",
    "    else:\n",
    "        return(\"Not observable\")\n",
    "\n"
   ],
   "metadata": {
    "collapsed": false,
    "pycharm": {
     "name": "#%%\n"
    }
   }
  },
  {
   "cell_type": "code",
   "execution_count": 34,
   "outputs": [],
   "source": [
    "pd.options.mode.chained_assignment = None\n",
    "\n",
    "ra_observable = simbad_df[simbad_df['Start hour angle folded'].apply(compare_ha)]\n",
    "ra_observable['Visible for'] = ra_observable['Start hour angle folded'].apply(visible_for_calculator)\n",
    "\n",
    "dec_observable = ra_observable[(ra_observable['DEC degrees']-bath_latitude < 30) & (ra_observable['DEC degrees']-bath_latitude > -30)]\n",
    "\n",
    "# dec_observable = pd.concat([dec_observable, circumpolar_stars])\n",
    "# Here I just get rid of the columns I made for the operations\n",
    "dec_observable = dec_observable.drop(columns = ['DEC degrees', 'DEC minutes', 'DEC seconds', 'start sidereal time', 'end sidereal time', 'Start hour angle', 'End hour angle'])\n"
   ],
   "metadata": {
    "collapsed": false,
    "pycharm": {
     "name": "#%%\n"
    }
   }
  },
  {
   "cell_type": "code",
   "execution_count": 35,
   "outputs": [],
   "source": [
    "# Drop the duplicates in case there are any\n",
    "dec_observable = dec_observable.drop_duplicates()"
   ],
   "metadata": {
    "collapsed": false,
    "pycharm": {
     "name": "#%%\n"
    }
   }
  },
  {
   "cell_type": "code",
   "execution_count": 36,
   "outputs": [
    {
     "data": {
      "text/plain": "     MAIN_ID                         RA            DEC  RA_PREC  DEC_PREC  \\\n0  V* SW And 1900-01-01 00:23:43.089600  +29 24 03.626       14        14   \n0  V* RZ Cep 1900-01-01 22:39:13.176800  +64 51 30.611       14        14   \n0  V* AV Peg 1900-01-01 21:52:02.794500  +22 34 29.376       14        14   \n0  V* UY Cyg 1900-01-01 20:56:28.303000  +30 25 40.327       14        14   \n0  V* XZ Cyg 1900-01-01 19:32:29.305000  +56 23 17.494       14        14   \n0  V* RR Lyr 1900-01-01 19:25:27.912900  +42 47 03.693       14        14   \n\n   COO_ERR_MAJA  COO_ERR_MINA  COO_ERR_ANGLE COO_QUAL COO_WAVELENGTH  ...  \\\n0        0.0216        0.0176             90        A              O  ...   \n0        0.0108        0.0099             90        A              O  ...   \n0        0.0144        0.0134             90        A              O  ...   \n0        0.0102        0.0154             90        A              O  ...   \n0        0.0135        0.0147             90        A              O  ...   \n0        0.0224        0.0242             90        A              O  ...   \n\n      Distance_bibcode  FLUX_K     FLUX_G FLUX_R  FLUX_B  SCRIPT_NUMBER_ID  \\\n0  2020yCat.1350....0G   8.444   9.705101    NaN    9.34                 1   \n0  2020yCat.1350....0G   7.968   9.294270    9.3    9.48                 1   \n0  2020yCat.1350....0G   9.322  10.531158    NaN   10.07                 1   \n0  2020yCat.1350....0G   9.715  11.017679    NaN   11.37                 1   \n0  2020yCat.1350....0G   8.884   9.913754    NaN    9.94                 1   \n0  2020yCat.1350....0G   6.648   7.618805    7.6    7.36                 1   \n\n  Start hour angle folded End hour angle folded  Visible for  \\\n0                -2:42:08              05:19:11       5:42:8   \n0               -00:57:37               7:03:42      3:57:37   \n0               -00:10:27               7:50:52      3:10:27   \n0                00:45:07               8:46:27      2:14:53   \n0                02:09:06              10:10:26      0:50:54   \n0                02:16:07              10:17:27      0:43:53   \n\n   Visible for in seconds  \n0                   20528  \n0                   14257  \n0                   11427  \n0                    8093  \n0                    3054  \n0                    2633  \n\n[6 rows x 27 columns]",
      "text/html": "<div>\n<style scoped>\n    .dataframe tbody tr th:only-of-type {\n        vertical-align: middle;\n    }\n\n    .dataframe tbody tr th {\n        vertical-align: top;\n    }\n\n    .dataframe thead th {\n        text-align: right;\n    }\n</style>\n<table border=\"1\" class=\"dataframe\">\n  <thead>\n    <tr style=\"text-align: right;\">\n      <th></th>\n      <th>MAIN_ID</th>\n      <th>RA</th>\n      <th>DEC</th>\n      <th>RA_PREC</th>\n      <th>DEC_PREC</th>\n      <th>COO_ERR_MAJA</th>\n      <th>COO_ERR_MINA</th>\n      <th>COO_ERR_ANGLE</th>\n      <th>COO_QUAL</th>\n      <th>COO_WAVELENGTH</th>\n      <th>...</th>\n      <th>Distance_bibcode</th>\n      <th>FLUX_K</th>\n      <th>FLUX_G</th>\n      <th>FLUX_R</th>\n      <th>FLUX_B</th>\n      <th>SCRIPT_NUMBER_ID</th>\n      <th>Start hour angle folded</th>\n      <th>End hour angle folded</th>\n      <th>Visible for</th>\n      <th>Visible for in seconds</th>\n    </tr>\n  </thead>\n  <tbody>\n    <tr>\n      <th>0</th>\n      <td>V* SW And</td>\n      <td>1900-01-01 00:23:43.089600</td>\n      <td>+29 24 03.626</td>\n      <td>14</td>\n      <td>14</td>\n      <td>0.0216</td>\n      <td>0.0176</td>\n      <td>90</td>\n      <td>A</td>\n      <td>O</td>\n      <td>...</td>\n      <td>2020yCat.1350....0G</td>\n      <td>8.444</td>\n      <td>9.705101</td>\n      <td>NaN</td>\n      <td>9.34</td>\n      <td>1</td>\n      <td>-2:42:08</td>\n      <td>05:19:11</td>\n      <td>5:42:8</td>\n      <td>20528</td>\n    </tr>\n    <tr>\n      <th>0</th>\n      <td>V* RZ Cep</td>\n      <td>1900-01-01 22:39:13.176800</td>\n      <td>+64 51 30.611</td>\n      <td>14</td>\n      <td>14</td>\n      <td>0.0108</td>\n      <td>0.0099</td>\n      <td>90</td>\n      <td>A</td>\n      <td>O</td>\n      <td>...</td>\n      <td>2020yCat.1350....0G</td>\n      <td>7.968</td>\n      <td>9.294270</td>\n      <td>9.3</td>\n      <td>9.48</td>\n      <td>1</td>\n      <td>-00:57:37</td>\n      <td>7:03:42</td>\n      <td>3:57:37</td>\n      <td>14257</td>\n    </tr>\n    <tr>\n      <th>0</th>\n      <td>V* AV Peg</td>\n      <td>1900-01-01 21:52:02.794500</td>\n      <td>+22 34 29.376</td>\n      <td>14</td>\n      <td>14</td>\n      <td>0.0144</td>\n      <td>0.0134</td>\n      <td>90</td>\n      <td>A</td>\n      <td>O</td>\n      <td>...</td>\n      <td>2020yCat.1350....0G</td>\n      <td>9.322</td>\n      <td>10.531158</td>\n      <td>NaN</td>\n      <td>10.07</td>\n      <td>1</td>\n      <td>-00:10:27</td>\n      <td>7:50:52</td>\n      <td>3:10:27</td>\n      <td>11427</td>\n    </tr>\n    <tr>\n      <th>0</th>\n      <td>V* UY Cyg</td>\n      <td>1900-01-01 20:56:28.303000</td>\n      <td>+30 25 40.327</td>\n      <td>14</td>\n      <td>14</td>\n      <td>0.0102</td>\n      <td>0.0154</td>\n      <td>90</td>\n      <td>A</td>\n      <td>O</td>\n      <td>...</td>\n      <td>2020yCat.1350....0G</td>\n      <td>9.715</td>\n      <td>11.017679</td>\n      <td>NaN</td>\n      <td>11.37</td>\n      <td>1</td>\n      <td>00:45:07</td>\n      <td>8:46:27</td>\n      <td>2:14:53</td>\n      <td>8093</td>\n    </tr>\n    <tr>\n      <th>0</th>\n      <td>V* XZ Cyg</td>\n      <td>1900-01-01 19:32:29.305000</td>\n      <td>+56 23 17.494</td>\n      <td>14</td>\n      <td>14</td>\n      <td>0.0135</td>\n      <td>0.0147</td>\n      <td>90</td>\n      <td>A</td>\n      <td>O</td>\n      <td>...</td>\n      <td>2020yCat.1350....0G</td>\n      <td>8.884</td>\n      <td>9.913754</td>\n      <td>NaN</td>\n      <td>9.94</td>\n      <td>1</td>\n      <td>02:09:06</td>\n      <td>10:10:26</td>\n      <td>0:50:54</td>\n      <td>3054</td>\n    </tr>\n    <tr>\n      <th>0</th>\n      <td>V* RR Lyr</td>\n      <td>1900-01-01 19:25:27.912900</td>\n      <td>+42 47 03.693</td>\n      <td>14</td>\n      <td>14</td>\n      <td>0.0224</td>\n      <td>0.0242</td>\n      <td>90</td>\n      <td>A</td>\n      <td>O</td>\n      <td>...</td>\n      <td>2020yCat.1350....0G</td>\n      <td>6.648</td>\n      <td>7.618805</td>\n      <td>7.6</td>\n      <td>7.36</td>\n      <td>1</td>\n      <td>02:16:07</td>\n      <td>10:17:27</td>\n      <td>0:43:53</td>\n      <td>2633</td>\n    </tr>\n  </tbody>\n</table>\n<p>6 rows × 27 columns</p>\n</div>"
     },
     "execution_count": 36,
     "metadata": {},
     "output_type": "execute_result"
    }
   ],
   "source": [
    "def organizer(string):\n",
    "    h, m, s = re.split(':', string)\n",
    "    h = int(h)\n",
    "    m = int(m)\n",
    "    s = int(s)\n",
    "    ts = h * 3600 + m * 60 + s\n",
    "    return ts\n",
    "\n",
    "dec_observable['Visible for in seconds'] = dec_observable['Visible for'].apply(organizer)\n",
    "dec_observable.sort_values(by=['Visible for in seconds'], ascending = False)"
   ],
   "metadata": {
    "collapsed": false,
    "pycharm": {
     "name": "#%%\n"
    }
   }
  },
  {
   "cell_type": "code",
   "execution_count": 37,
   "outputs": [],
   "source": [
    "# To do:\n",
    "# Fix observable for calculation so that it accounts for start and end times"
   ],
   "metadata": {
    "collapsed": false,
    "pycharm": {
     "name": "#%%\n"
    }
   }
  },
  {
   "cell_type": "code",
   "execution_count": 38,
   "outputs": [
    {
     "data": {
      "text/plain": "15.729886271849844"
     },
     "execution_count": 38,
     "metadata": {},
     "output_type": "execute_result"
    }
   ],
   "source": [
    "16 * 10**((10.681514 - 10.7)/2.5)"
   ],
   "metadata": {
    "collapsed": false,
    "pycharm": {
     "name": "#%%\n"
    }
   }
  },
  {
   "cell_type": "code",
   "execution_count": 39,
   "outputs": [
    {
     "name": "stdout",
     "output_type": "stream",
     "text": [
      "V* XZ Cyg:6.70 seconds exposure\n",
      "V* RZ Cep:3.79 seconds exposure\n",
      "V* UY Cyg:18.53 seconds exposure\n",
      "V* AV Peg:11.84 seconds exposure\n",
      "V* SW And:5.53 seconds exposure\n",
      "V* RR Lyr:0.81 seconds exposure\n"
     ]
    }
   ],
   "source": [
    "for id, flux in set(zip(dec_observable['MAIN_ID'], dec_observable['FLUX_G'])):\n",
    "    print(f'{id}:{16 * 10**((flux - 10.858340)/2.5):.2f} seconds exposure')"
   ],
   "metadata": {
    "collapsed": false,
    "pycharm": {
     "name": "#%%\n"
    }
   }
  },
  {
   "cell_type": "raw",
   "source": [
    "from exposure_time import exposure_time\n",
    "\n",
    "telescope = 'Ritchey-Chretien'\n",
    "filter = 'L'\n",
    "\n",
    "for id, flux in set(zip(dec_observable['MAIN_ID'], dec_observable['FLUX_G'])):\n",
    "    print(f'{id}: {exposure_time(flux, telescope, filter):.2f} seconds exposure')"
   ],
   "metadata": {
    "collapsed": false,
    "pycharm": {
     "name": "#%% raw\n"
    }
   }
  },
  {
   "cell_type": "code",
   "execution_count": 40,
   "outputs": [],
   "source": [
    "dec_observable.to_csv('Observable_tonight.csv')"
   ],
   "metadata": {
    "collapsed": false,
    "pycharm": {
     "name": "#%%\n"
    }
   }
  },
  {
   "cell_type": "code",
   "execution_count": 41,
   "outputs": [
    {
     "name": "stdout",
     "output_type": "stream",
     "text": [
      "Filename: C:/Users/cuco2/OneDrive/Escritorio/Physics/Year 4/Final year project/MphysProject/2022_03_20/RV_UMa/Light/Luminance/RV_Uma_Light_Luminance_16_secs_011.fits\n",
      "No.    Name      Ver    Type      Cards   Dimensions   Format\n",
      "  0  PRIMARY       1 PrimaryHDU      43   (4656, 3520)   int16 (rescales to uint16)   \n"
     ]
    },
    {
     "data": {
      "text/plain": "SIMPLE  =                    T / file does conform to FITS standard             \nBITPIX  =                   16 / number of bits per data pixel                  \nNAXIS   =                    2 / number of data axes                            \nNAXIS1  =                 4656 / length of data axis 1                          \nNAXIS2  =                 3520 / length of data axis 2                          \nEXTEND  =                    T / FITS dataset may contain extensions            \nCOMMENT   FITS (Flexible Image Transport System) format is defined in 'Astronomy\nCOMMENT   and Astrophysics', volume 376, page 359; bibcode: 2001A&A...376..359H \nBZERO   =                32768 / offset data range to that of unsigned short    \nBSCALE  =                    1 / default scaling factor                         \nROWORDER= 'TOP-DOWN'           / Row Order                                      \nINSTRUME= 'ZWO CCD ASI1600MM Pro' / CCD Name                                    \nTELESCOP= 'SynScan '           / Telescope name                                 \nOBSERVER= 'Unknown '           / Observer name                                  \nOBJECT  = 'RV_UMa  '           / Object name                                    \nEXPTIME =         1.600000E+01 / Total Exposure Time (s)                        \nCCD-TEMP=           -5.000E+00 / CCD Temperature (Celsius)                      \nPIXSIZE1=         3.800000E+00 / Pixel Size 1 (microns)                         \nPIXSIZE2=         3.800000E+00 / Pixel Size 2 (microns)                         \nXBINNING=                    1 / Binning factor in width                        \nYBINNING=                    1 / Binning factor in height                       \nXPIXSZ  =         3.800000E+00 / X binned pixel size in microns                 \nYPIXSZ  =         3.800000E+00 / Y binned pixel size in microns                 \nFRAME   = 'Light   '           / Frame Type                                     \nIMAGETYP= 'Light Frame'        / Frame Type                                     \nFILTER  = 'Luminance'          / Filter                                         \nFOCALLEN=            1.600E+03 / Focal Length (mm)                              \nAPTDIA  =            2.000E+02 / Telescope diameter (mm)                        \nSCALE   =         4.899625E-01 / arcsecs per pixel                              \nSITELAT =         5.137284E+01 / Latitude of the imaging site in degrees        \nSITELONG=        -2.319207E+00 / Longitude of the imaging site in degrees       \nAIRMASS =         1.207444E+00 / Airmass                                        \nOBJCTAZ =         6.263170E+01 / Azimuth of center of image in Degrees          \nOBJCTALT=         5.588797E+01 / Altitude of center of image in Degrees         \nOBJCTRA = '13 33 19.69'        / Object J2000 RA in Hours                       \nOBJCTDEC= '53 59 50.01'        / Object J2000 DEC in Degrees                    \nRA      =         2.033320E+02 / Object J2000 RA in Degrees                     \nDEC     =         5.399722E+01 / Object J2000 DEC in Degrees                    \nEQUINOX =                 2000 / Equinox                                        \nDATE-OBS= '2022-03-20T21:58:57.892' / UTC start date of observation             \nCOMMENT Generated by INDI                                                       \nGAIN    =                 139. / Gain                                           \nOFFSET  =                  10. / Offset                                         "
     },
     "execution_count": 41,
     "metadata": {},
     "output_type": "execute_result"
    }
   ],
   "source": [
    "from astropy.io import fits\n",
    "\n",
    "path = 'C:/Users/cuco2/OneDrive/Escritorio/Physics/Year 4/Final year project/MphysProject/2022_03_20/RV_UMa/Light/Luminance/RV_Uma_Light_Luminance_16_secs_011.fits'\n",
    "test = fits.open(path)\n",
    "test.info()\n",
    "hdr =test[0].header\n",
    "hdr"
   ],
   "metadata": {
    "collapsed": false,
    "pycharm": {
     "name": "#%%\n"
    }
   }
  },
  {
   "cell_type": "code",
   "execution_count": 41,
   "outputs": [],
   "source": [],
   "metadata": {
    "collapsed": false,
    "pycharm": {
     "name": "#%%\n"
    }
   }
  }
 ],
 "metadata": {
  "kernelspec": {
   "display_name": "Python 3",
   "language": "python",
   "name": "python3"
  },
  "language_info": {
   "codemirror_mode": {
    "name": "ipython",
    "version": 2
   },
   "file_extension": ".py",
   "mimetype": "text/x-python",
   "name": "python",
   "nbconvert_exporter": "python",
   "pygments_lexer": "ipython2",
   "version": "2.7.6"
  }
 },
 "nbformat": 4,
 "nbformat_minor": 0
}