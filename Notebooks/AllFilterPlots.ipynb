{
 "cells": [
  {
   "cell_type": "code",
   "execution_count": 1,
   "outputs": [],
   "source": [
    "import re\n",
    "from ast import literal_eval\n",
    "import numpy as np"
   ],
   "metadata": {
    "collapsed": false,
    "pycharm": {
     "name": "#%%\n"
    }
   }
  },
  {
   "cell_type": "code",
   "execution_count": 8,
   "outputs": [
    {
     "name": "stdout",
     "output_type": "stream",
     "text": [
      "14.143250389846152 0.011273665794871796\n"
     ]
    }
   ],
   "source": [
    "filter = 'red'\n",
    "with open(f'RV_UMaData{filter.upper()}.txt', 'r') as file:\n",
    "    red_string = file.read()\n",
    "\n",
    "data_red = re.split(r'\\*+', red_string)\n",
    "red_phase_string = data_red[1]\n",
    "red_mags_string = data_red[2]\n",
    "red_error_string = data_red[3]\n",
    "red_julian_dates_string = data_red[4]\n",
    "\n",
    "red_phase = literal_eval(re.sub('\\s+', ',',red_phase_string.strip('\\n')))\n",
    "red_mags = eval(re.sub('\\s+', ',',red_mags_string.strip('\\n').replace('nan', 'np.nan')))\n",
    "red_error = eval(re.sub('\\s+', ',',red_error_string.strip('\\n').replace('nan', 'np.nan')))\n",
    "red_julian_date = eval(re.sub('\\s+', ',',red_julian_dates_string.strip('\\n').replace('nan', 'np.nan')))\n",
    "\n",
    "print(np.nanmean(red_mags), np.nanmean(red_error))"
   ],
   "metadata": {
    "collapsed": false,
    "pycharm": {
     "name": "#%%\n"
    }
   }
  },
  {
   "cell_type": "code",
   "execution_count": 9,
   "outputs": [
    {
     "name": "stdout",
     "output_type": "stream",
     "text": [
      "13.725081205 0.011194270625000002\n"
     ]
    }
   ],
   "source": [
    "filter = 'blue'\n",
    "with open(f'RV_UMaData{filter.upper()}.txt', 'r') as file:\n",
    "    blue_string = file.read()\n",
    "\n",
    "data_blue = re.split(r'\\*+', blue_string)\n",
    "blue_phase_string = data_blue[1]\n",
    "blue_mags_string = data_blue[2]\n",
    "blue_error_string = data_blue[3]\n",
    "blue_julian_dates_string = data_blue[4]\n",
    "\n",
    "blue_phase = literal_eval(re.sub('\\s+', ',',blue_phase_string.strip('\\n')))\n",
    "blue_mags = eval(re.sub('\\s+', ',',blue_mags_string.strip('\\n').replace('nan', 'np.nan')))\n",
    "blue_error = eval(re.sub('\\s+', ',',blue_error_string.strip('\\n').replace('nan', 'np.nan')))\n",
    "blue_julian_date = eval(re.sub('\\s+', ',',blue_julian_dates_string.strip('\\n').replace('nan', 'np.nan')))\n",
    "\n",
    "print(np.nanmean(blue_mags), np.nanmean(blue_error))"
   ],
   "metadata": {
    "collapsed": false,
    "pycharm": {
     "name": "#%%\n"
    }
   }
  },
  {
   "cell_type": "code",
   "execution_count": 10,
   "outputs": [
    {
     "data": {
      "text/plain": "[<matplotlib.lines.Line2D at 0x17c61b80340>]"
     },
     "execution_count": 10,
     "metadata": {},
     "output_type": "execute_result"
    },
    {
     "data": {
      "text/plain": "<Figure size 640x480 with 1 Axes>",
      "image/png": "[encoded data removed]"
     },
     "metadata": {},
     "output_type": "display_data"
    }
   ],
   "source": [
    "import matplotlib.pyplot as plt\n",
    "\n",
    "plt.plot(blue_phase, blue_mags)"
   ],
   "metadata": {
    "collapsed": false,
    "pycharm": {
     "name": "#%%\n"
    }
   }
  },
  {
   "cell_type": "code",
   "execution_count": 11,
   "outputs": [
    {
     "name": "stdout",
     "output_type": "stream",
     "text": [
      "13.885825684639176 0.009842425154639173\n"
     ]
    }
   ],
   "source": [
    "filter = 'green'\n",
    "with open(f'RV_UMaData{filter.upper()}.txt', 'r') as file:\n",
    "    green_string = file.read()\n",
    "\n",
    "data_green = re.split(r'\\*+', green_string)\n",
    "green_phase_string = data_green[1]\n",
    "green_mags_string = data_green[2]\n",
    "green_error_string = data_green[3]\n",
    "green_julian_dates_string = data_green[4]\n",
    "\n",
    "green_phase = literal_eval(re.sub('\\s+', ',',green_phase_string.strip('\\n')))\n",
    "green_mags = eval(re.sub('\\s+', ',',green_mags_string.strip('\\n').replace('nan', 'np.nan')))\n",
    "green_error = eval(re.sub('\\s+', ',',green_error_string.strip('\\n').replace('nan', 'np.nan')))\n",
    "green_julian_date = eval(re.sub('\\s+', ',',green_julian_dates_string.strip('\\n').replace('nan', 'np.nan')))\n",
    "\n",
    "print(np.nanmean(green_mags), np.nanmean(green_error))"
   ],
   "metadata": {
    "collapsed": false,
    "pycharm": {
     "name": "#%%\n"
    }
   }
  },
  {
   "cell_type": "code",
   "execution_count": 12,
   "outputs": [
    {
     "name": "stdout",
     "output_type": "stream",
     "text": [
      "13.415189182410256 0.009457128666666667\n"
     ]
    }
   ],
   "source": [
    "filter = 'luminance'\n",
    "with open(f'RV_UMaData{filter.upper()}.txt', 'r') as file:\n",
    "    luminance_string = file.read()\n",
    "\n",
    "data_luminance = re.split(r'\\*+', luminance_string)\n",
    "luminance_phase_string = data_luminance[1]\n",
    "luminance_mags_string = data_luminance[2]\n",
    "luminance_error_string = data_luminance[3]\n",
    "luminance_julian_dates_string = data_luminance[4]\n",
    "\n",
    "luminance_phase = literal_eval(re.sub('\\s+', ',',luminance_phase_string.strip('\\n')))\n",
    "luminance_mags = eval(re.sub('\\s+', ',',luminance_mags_string.strip('\\n').replace('nan', 'np.nan')))\n",
    "luminance_error = eval(re.sub('\\s+', ',',luminance_error_string.strip('\\n').replace('nan', 'np.nan')))\n",
    "luminance_julian_date = eval(re.sub('\\s+', ',',luminance_julian_dates_string.strip('\\n').replace('nan', 'np.nan')))\n",
    "\n",
    "print(np.nanmean(luminance_mags), np.nanmean(luminance_error))"
   ],
   "metadata": {
    "collapsed": false,
    "pycharm": {
     "name": "#%%\n"
    }
   }
  },
  {
   "cell_type": "code",
   "execution_count": null,
   "outputs": [],
   "source": [
    "import matplotlib.pyplot as plt\n",
    "plt.style.use('guide.mplstyle')\n",
    "\n",
    "\n",
    "plt.plot(red_phase, red_mags, '.', color = 'red', label = 'R')\n",
    "plt.errorbar(red_phase, red_mags, yerr = red_error, color = 'red', capsize = 5, fmt = 'none')\n",
    "\n",
    "plt.plot(green_phase, green_mags, '.', color = 'green', label = 'G')\n",
    "plt.errorbar(green_phase, green_mags, yerr = green_error, color = 'green', capsize = 5, fmt = 'none')\n",
    "\n",
    "plt.plot(blue_phase, blue_mags, '.', color = 'blue', label = 'B')\n",
    "plt.errorbar(blue_phase, blue_mags, yerr = blue_error, color = 'blue', capsize = 5, fmt = 'none')\n",
    "\n",
    "plt.plot(luminance_phase, luminance_mags, '.', color = 'black', label = 'L')\n",
    "plt.errorbar(luminance_phase, luminance_mags, yerr = luminance_error, color = 'black', capsize = 5, fmt = 'none')\n",
    "plt.gca().invert_yaxis()\n",
    "plt.legend()\n",
    "plt.xlabel('Phase')\n",
    "plt.ylabel('Magnitude')\n",
    "plt.savefig('AllFilters')"
   ],
   "metadata": {
    "collapsed": false,
    "pycharm": {
     "name": "#%%\n"
    }
   }
  },
  {
   "cell_type": "markdown",
   "source": [
    "# GAIA Data"
   ],
   "metadata": {
    "collapsed": false,
    "pycharm": {
     "name": "#%% md\n"
    }
   }
  },
  {
   "cell_type": "code",
   "execution_count": null,
   "outputs": [],
   "source": [
    "from astroquery.gaia import Gaia"
   ],
   "metadata": {
    "collapsed": false,
    "pycharm": {
     "name": "#%%\n"
    }
   }
  },
  {
   "cell_type": "code",
   "execution_count": null,
   "outputs": [],
   "source": [
    "\n",
    "\n",
    "def extract_dl_ind(datalink_dict, key, figsize = [15,5], fontsize = 12, linewidth = 2, show_legend = True, show_grid = True):\n",
    "    \"\"\n",
    "    \"Extract individual DataLink products and export them to an Astropy Table\"\n",
    "    \"\"\n",
    "    dl_out  = datalink_dict[key][0].to_table()\n",
    "    if 'time' in dl_out.keys():\n",
    "        plot_e_phot(dl_out, colours  = ['green', 'red', 'blue'], title = 'Epoch photometry', fontsize = fontsize, show_legend = show_legend, show_grid = show_grid, figsize = figsize)\n",
    "    if 'wavelength' in dl_out.keys():\n",
    "        if len(dl_out) == 343:  title = 'XP Sampled'\n",
    "        if len(dl_out) == 2401: title = 'RVS'\n",
    "        plot_sampled_spec(dl_out, color = 'blue', title = title, fontsize = fontsize, show_legend = False, show_grid = show_grid, linewidth = linewidth, legend = '', figsize = figsize)\n",
    "    return dl_out\n",
    "\n",
    "\n",
    "def plot_e_phot(inp_table, colours  = ['green', 'red', 'blue'], title = 'Epoch photometry', fontsize = 12, show_legend = True, show_grid = True, figsize = [15,5]):\n",
    "    \"\"\n",
    "    \"Epoch photometry plotter. 'inp_table' MUST be an Astropy-table object.\"\n",
    "    \"\"\n",
    "    fig      = plt.figure(figsize=figsize)\n",
    "    xlabel   = f'JD date [{inp_table[\"time\"].unit}]'\n",
    "    ylabel   = f'magnitude [{inp_table[\"mag\"].unit}]'\n",
    "    gbands   = ['G', 'RP', 'BP']\n",
    "    colours  = iter(colours)\n",
    "\n",
    "    plt.gca().invert_yaxis()\n",
    "    for band in gbands:\n",
    "        phot_set = inp_table[inp_table['band'] == band]\n",
    "        plt.plot(phot_set['time'], phot_set['mag'], 'o', label = band, color = next(colours))\n",
    "    make_canvas(title = title, xlabel = xlabel, ylabel = ylabel, fontsize= fontsize, show_legend=show_legend, show_grid = show_grid)\n",
    "    plt.show()\n",
    "\n",
    "\n",
    "def plot_sampled_spec(inp_table, color = 'blue', title = '', fontsize = 14, show_legend = True, show_grid = True, linewidth = 2, legend = '', figsize = [12,4], show_plot = True):\n",
    "    \"\"\n",
    "    \"RVS & XP sampled spectrum plotter. 'inp_table' MUST be an Astropy-table object.\"\n",
    "    \"\"\n",
    "    if show_plot:\n",
    "        fig      = plt.figure(figsize=figsize)\n",
    "    xlabel   = f'Wavelength [{inp_table[\"wavelength\"].unit}]'\n",
    "    ylabel   = f'Flux [{inp_table[\"flux\"].unit}]'\n",
    "    plt.plot(inp_table['wavelength'], inp_table['flux'], '-', linewidth = linewidth, label = legend)\n",
    "    make_canvas(title = title, xlabel = xlabel, ylabel = ylabel, fontsize= fontsize, show_legend=show_legend, show_grid = show_grid)\n",
    "    if show_plot:\n",
    "        plt.show()\n",
    "\n",
    "\n",
    "def make_canvas(title = '', xlabel = '', ylabel = '', show_grid = False, show_legend = False, fontsize = 12):\n",
    "    \"\"\n",
    "    \"Create generic canvas for plots\"\n",
    "    \"\"\n",
    "    plt.title(title,    fontsize = fontsize)\n",
    "    plt.xlabel(xlabel,  fontsize = fontsize)\n",
    "    plt.ylabel(ylabel , fontsize = fontsize)\n",
    "    plt.xticks(fontsize = fontsize)\n",
    "    plt.yticks(fontsize = fontsize)\n",
    "    if show_grid:\n",
    "        plt.grid()\n",
    "    if show_legend:\n",
    "        plt.legend(fontsize = fontsize*0.75)"
   ],
   "metadata": {
    "collapsed": false,
    "pycharm": {
     "name": "#%%\n"
    }
   }
  },
  {
   "cell_type": "code",
   "execution_count": null,
   "outputs": [],
   "source": [
    "query = f\"SELECT source_id, ra, dec, pmra, pmdec, parallax \\\n",
    "FROM gaiadr3.gaia_source \\\n",
    "WHERE has_epoch_photometry = 'True' \\\n",
    "AND source_id = 1561928427003019520\"\n",
    "\n",
    "\n",
    "job     = Gaia.launch_job_async(query)\n",
    "results = job.get_results()\n",
    "print(f'Table size (rows): {len(results)}')\n",
    "print(results['dec'])"
   ],
   "metadata": {
    "collapsed": false,
    "pycharm": {
     "name": "#%%\n"
    }
   }
  },
  {
   "cell_type": "code",
   "execution_count": null,
   "outputs": [],
   "source": [
    "retrieval_type = 'EPOCH_PHOTOMETRY'          # Options are: 'EPOCH_PHOTOMETRY', 'MCMC_GSPPHOT', 'MCMC_MSC', 'XP_SAMPLED', 'XP_CONTINUOUS', 'RVS', 'ALL'\n",
    "data_structure = 'INDIVIDUAL'   # Options are: 'INDIVIDUAL', 'COMBINED', 'RAW'\n",
    "data_release   = 'Gaia DR3'     # Options are: 'Gaia DR3' (default), 'Gaia DR2'\n",
    "\n",
    "\n",
    "datalink = Gaia.load_data(ids=results['source_id'], data_release = data_release, retrieval_type=retrieval_type, data_structure = data_structure, verbose = False, output_file = None)\n",
    "dl_keys  = [inp for inp in datalink.keys()]\n",
    "dl_keys.sort()\n",
    "\n",
    "print()\n",
    "print(f'The following Datalink products have been downloaded:')\n",
    "for dl_key in dl_keys:\n",
    "    print(f' * {dl_key}')"
   ],
   "metadata": {
    "collapsed": false,
    "pycharm": {
     "name": "#%%\n"
    }
   }
  },
  {
   "cell_type": "code",
   "execution_count": null,
   "outputs": [],
   "source": [
    "dl_key = 'EPOCH_PHOTOMETRY-Gaia DR3 1561928427003019520.xml'"
   ],
   "metadata": {
    "collapsed": false,
    "pycharm": {
     "name": "#%%\n"
    }
   }
  },
  {
   "cell_type": "code",
   "execution_count": null,
   "outputs": [],
   "source": [
    "dl_out  = extract_dl_ind(datalink, dl_key, figsize=[20,7])   # Change the figsize to e.g. figsize=[20,7] to increase the size of the displayed image."
   ],
   "metadata": {
    "collapsed": false,
    "pycharm": {
     "name": "#%%\n"
    }
   }
  },
  {
   "cell_type": "code",
   "execution_count": null,
   "outputs": [],
   "source": [
    "product  = datalink[dl_key][0]\n",
    "prod_tab = product.to_table().to_pandas()"
   ],
   "metadata": {
    "collapsed": false,
    "pycharm": {
     "name": "#%%\n"
    }
   }
  },
  {
   "cell_type": "code",
   "execution_count": null,
   "outputs": [],
   "source": [
    "g_filter = prod_tab.where(prod_tab['band'] == 'G').dropna().reset_index(drop = True)\n",
    "bp_filter = prod_tab.where(prod_tab['band'] == 'BP').dropna().reset_index(drop = True)\n",
    "rp_filter = prod_tab.where(prod_tab['band'] == 'RP').dropna().reset_index(drop = True)"
   ],
   "metadata": {
    "collapsed": false,
    "pycharm": {
     "name": "#%%\n"
    }
   }
  },
  {
   "cell_type": "code",
   "execution_count": null,
   "outputs": [],
   "source": [
    "t_g = g_filter['time']\n",
    "t_bp = bp_filter['time']\n",
    "t_rp = rp_filter['time']"
   ],
   "metadata": {
    "collapsed": false,
    "pycharm": {
     "name": "#%%\n"
    }
   }
  },
  {
   "cell_type": "code",
   "execution_count": null,
   "outputs": [],
   "source": [
    "import numpy as np\n",
    "\n",
    "period = 0.46806 # period in days\n",
    "\n",
    "\n",
    "phase_g  = np.array(t_g)/period - np.floor(np.array(t_g)/period)\n",
    "phase_bp  = np.array(t_bp)/period - np.floor(np.array(t_bp)/period)\n",
    "phase_rp  = np.array(t_rp)/period - np.floor(np.array(t_rp)/period)\n",
    "\n",
    "g_mags = g_filter['mag']\n",
    "bp_mags = bp_filter['mag']\n",
    "rp_mags = rp_filter['mag']"
   ],
   "metadata": {
    "collapsed": false,
    "pycharm": {
     "name": "#%%\n"
    }
   }
  },
  {
   "cell_type": "code",
   "execution_count": null,
   "outputs": [],
   "source": [
    "plt.plot(np.array(red_julian_date)/period - np.floor(np.array(red_julian_date)/period), red_mags, 'x', color = 'red', label = 'R')\n",
    "plt.plot(np.array(green_julian_date)/period - np.floor(np.array(green_julian_date)/period), green_mags, 'x', color = 'green', label = 'G')\n",
    "plt.plot(np.array(blue_julian_date)/period - np.floor(np.array(blue_julian_date)/period), blue_mags, 'x', color = 'blue', label = 'B')\n",
    "plt.plot(np.array(luminance_julian_date)/period - np.floor(np.array(luminance_julian_date)/period), luminance_mags, 'x', color = 'black', label = 'L')\n",
    "plt.plot(phase_bp, bp_mags + 2.6, 'o', label = 'GAIA BP')\n",
    "plt.plot(phase_g, g_mags + 2.6, 'o', label = 'GAIA G')\n",
    "plt.plot(phase_rp, rp_mags + 2.6, 'o', label = 'GAIA RP')\n",
    "plt.gca().invert_yaxis()\n",
    "plt.legend()\n",
    "plt.xlabel('Phase')\n",
    "plt.ylabel('Magnitude')"
   ],
   "metadata": {
    "collapsed": false,
    "pycharm": {
     "name": "#%%\n"
    }
   }
  },
  {
   "cell_type": "code",
   "execution_count": null,
   "outputs": [],
   "source": [
    "\n",
    "plt.plot(np.array(luminance_julian_date)/period - np.floor(np.array(luminance_julian_date)/period), np.array(luminance_mags) - 2.6, 'x', color = 'black', label = 'L - offset by -2.6')\n",
    "plt.plot(phase_bp, bp_mags, 'o', color = 'blue', label = 'GAIA BP')\n",
    "plt.plot(1+np.array(luminance_julian_date)/period - np.floor(np.array(luminance_julian_date)/period), np.array(luminance_mags) - 2.6, 'x', color = 'black')\n",
    "plt.plot(1+phase_bp, bp_mags, 'o',color = 'blue')\n",
    "plt.plot(2+np.array(luminance_julian_date)/period - np.floor(np.array(luminance_julian_date)/period), np.array(luminance_mags) - 2.6, 'x', color = 'black')\n",
    "plt.plot(2+phase_bp, bp_mags, 'o',color = 'blue')\n",
    "plt.ylim(10, 11.5)\n",
    "plt.gca().invert_yaxis()\n",
    "plt.legend()\n",
    "plt.xlabel('Phase')\n",
    "plt.ylabel('Magnitude');\n",
    "plt.savefig('./Images/GAIA_comparison.png')"
   ],
   "metadata": {
    "collapsed": false,
    "pycharm": {
     "name": "#%%\n"
    }
   }
  },
  {
   "cell_type": "code",
   "execution_count": null,
   "outputs": [],
   "source": [],
   "metadata": {
    "collapsed": false,
    "pycharm": {
     "name": "#%%\n"
    }
   }
  },
  {
   "cell_type": "code",
   "execution_count": null,
   "outputs": [],
   "source": [
    "np.array(luminance_julian_date)/period - np.floor(np.array(luminance_julian_date)/period)"
   ],
   "metadata": {
    "collapsed": false,
    "pycharm": {
     "name": "#%%\n"
    }
   }
  },
  {
   "cell_type": "code",
   "execution_count": null,
   "outputs": [],
   "source": [
    "np.mean(luminance_mags) - np.mean(bp_mags)"
   ],
   "metadata": {
    "collapsed": false,
    "pycharm": {
     "name": "#%%\n"
    }
   }
  },
  {
   "cell_type": "code",
   "execution_count": null,
   "outputs": [],
   "source": [
    "# plt.plot(red_phase, red_mags, 'x', color = 'red', label = 'R')\n",
    "# plt.plot(green_phase, green_mags, 'x', color = 'green', label = 'G')\n",
    "# plt.plot(blue_phase, blue_mags, 'x', color = 'blue', label = 'B')\n",
    "plt.plot(luminance_phase, np.array(luminance_mags) - 2.6, 'x', color = 'black', label = 'L')\n",
    "# plt.plot(phase_bp, bp_mags, 'o', label = 'GAIA BP')\n",
    "plt.plot(phase_g, g_mags, 'o', label = 'GAIA G')\n",
    "# plt.plot(phase_rp, rp_mags, 'o', label = 'GAIA RP')\n",
    "plt.gca().invert_yaxis()\n",
    "plt.legend()\n",
    "plt.xlabel('Phase')\n",
    "plt.ylabel('Magnitude')"
   ],
   "metadata": {
    "collapsed": false,
    "pycharm": {
     "name": "#%%\n"
    }
   }
  },
  {
   "cell_type": "markdown",
   "source": [
    "# GAIA filters"
   ],
   "metadata": {
    "collapsed": false,
    "pycharm": {
     "name": "#%% md\n"
    }
   }
  },
  {
   "cell_type": "code",
   "execution_count": null,
   "outputs": [],
   "source": [
    "import pandas as pd\n",
    "\n",
    "column_labels = ['lambda', 'GPb', 'eGPb', 'BPPb', 'e_BPPb', 'RPPb', 'e_RPPb']\n",
    "\n",
    "passbands = pd.read_csv('../GAIA_DR3_passbands/passband.dat', sep = '\\s+', names = column_labels)\n",
    "passbands"
   ],
   "metadata": {
    "collapsed": false,
    "pycharm": {
     "name": "#%%\n"
    }
   }
  },
  {
   "cell_type": "code",
   "execution_count": null,
   "outputs": [],
   "source": [
    "GPb_mask = passbands['GPb'] < 99.99\n",
    "BPPb_mask = passbands['BPPb'] < 99.99\n",
    "RPPb_mask = passbands['RPPb'] < 99.99\n",
    "plt.plot(passbands['lambda'][GPb_mask], passbands['GPb'][GPb_mask], label = 'G', alpha = 1)\n",
    "plt.plot(passbands['lambda'][BPPb_mask], passbands['BPPb'][BPPb_mask], label = 'B', alpha = 1)\n",
    "plt.plot(passbands['lambda'][RPPb_mask], passbands['RPPb'][RPPb_mask], label = 'R', alpha = 1)\n",
    "plt.legend()\n",
    "plt.savefig('./Images/GAIA_filters')"
   ],
   "metadata": {
    "collapsed": false,
    "pycharm": {
     "name": "#%%\n"
    }
   }
  },
  {
   "cell_type": "code",
   "execution_count": null,
   "outputs": [],
   "source": [
    "abs(passbands['lambda'][passbands['BPPb']<99.99].iloc[0] - passbands['lambda'][passbands['BPPb']<99.99].iloc[-1])/2 + passbands['lambda'][passbands['BPPb']<99.99].iloc[0]"
   ],
   "metadata": {
    "collapsed": false,
    "pycharm": {
     "name": "#%%\n"
    }
   }
  },
  {
   "cell_type": "code",
   "execution_count": null,
   "outputs": [],
   "source": [
    "passbands['lambda'][GPb_mask]"
   ],
   "metadata": {
    "collapsed": false,
    "pycharm": {
     "name": "#%%\n"
    }
   }
  },
  {
   "cell_type": "code",
   "execution_count": null,
   "outputs": [],
   "source": [
    "np.argpartition(abs(max(passbands['BPPb'][BPPb_mask])/2 - passbands['BPPb'][BPPb_mask]), 4)[:4]"
   ],
   "metadata": {
    "collapsed": false,
    "pycharm": {
     "name": "#%%\n"
    }
   }
  },
  {
   "cell_type": "code",
   "execution_count": null,
   "outputs": [],
   "source": [
    "np.argmin(abs(max(passbands['GPb'][GPb_mask])/2 - passbands['GPb'][GPb_mask]))"
   ],
   "metadata": {
    "collapsed": false,
    "pycharm": {
     "name": "#%%\n"
    }
   }
  },
  {
   "cell_type": "code",
   "execution_count": null,
   "outputs": [],
   "source": [
    "passbands['lambda'][68]"
   ],
   "metadata": {
    "collapsed": false,
    "pycharm": {
     "name": "#%%\n"
    }
   }
  },
  {
   "cell_type": "code",
   "execution_count": null,
   "outputs": [],
   "source": [
    "passbands['lambda'][335]"
   ],
   "metadata": {
    "collapsed": false,
    "pycharm": {
     "name": "#%%\n"
    }
   }
  },
  {
   "cell_type": "code",
   "execution_count": null,
   "outputs": [],
   "source": [
    "655-388"
   ],
   "metadata": {
    "collapsed": false,
    "pycharm": {
     "name": "#%%\n"
    }
   }
  },
  {
   "cell_type": "code",
   "execution_count": null,
   "outputs": [],
   "source": [],
   "metadata": {
    "collapsed": false,
    "pycharm": {
     "name": "#%%\n"
    }
   }
  }
 ],
 "metadata": {
  "kernelspec": {
   "display_name": "Python 3",
   "language": "python",
   "name": "python3"
  },
  "language_info": {
   "codemirror_mode": {
    "name": "ipython",
    "version": 2
   },
   "file_extension": ".py",
   "mimetype": "text/x-python",
   "name": "python",
   "nbconvert_exporter": "python",
   "pygments_lexer": "ipython2",
   "version": "2.7.6"
  }
 },
 "nbformat": 4,
 "nbformat_minor": 0
}