{
 "cells": [
  {
   "cell_type": "code",
   "execution_count": 4,
   "outputs": [],
   "source": [
    "from astropy.io import fits\n",
    "import matplotlib.pyplot as plt\n",
    "from astropy.stats import sigma_clipped_stats\n",
    "from photutils.detection import DAOStarFinder\n",
    "import ccdproc as ccdp\n",
    "\n",
    "import numpy as np\n",
    "from astropy.visualization import SqrtStretch\n",
    "from astropy.visualization.mpl_normalize import ImageNormalize\n",
    "from photutils.aperture import CircularAperture"
   ],
   "metadata": {
    "collapsed": false,
    "pycharm": {
     "name": "#%%\n"
    }
   }
  },
  {
   "cell_type": "code",
   "execution_count": 5,
   "outputs": [],
   "source": [
    "light_file_collection = ccdp.ImageFileCollection('../reduced-lights_2022_03_20/Luminance')\n",
    "data = [i for i in light_file_collection.data()]\n",
    "headers = [i for i in light_file_collection.headers()]"
   ],
   "metadata": {
    "collapsed": false,
    "pycharm": {
     "name": "#%%\n"
    }
   }
  },
  {
   "cell_type": "code",
   "execution_count": 6,
   "outputs": [],
   "source": [
    "import pandas as pd\n",
    "\n",
    "def find_sources(array):\n",
    "    mean, median, std = sigma_clipped_stats(array, sigma=2.5)\n",
    "    daofind = DAOStarFinder(fwhm=9.0, threshold=5.*std)\n",
    "    sources = daofind(array - median) # Needs to be changed to local bg\n",
    "    return sources\n",
    "\n",
    "def image_trimmer(sources, array):\n",
    "    local_df = sources.to_pandas()\n",
    "    image_size = array.shape\n",
    "    x_trim = image_size[1] * 0.05\n",
    "    y_trim = image_size[0] * 0.05\n",
    "    local_df = local_df[(local_df['xcentroid'] - x_trim > 0) & (local_df['xcentroid'] + x_trim < image_size[1])]\n",
    "    local_df = local_df[(local_df['ycentroid'] - y_trim > 0) & (local_df['ycentroid'] + y_trim < image_size[0])]\n",
    "    return local_df.reset_index(drop = True).drop('id', axis = 'columns')\n",
    "\n",
    "def excluding_duplicates(df, fwhm):\n",
    "    #Taking initial comparison values from first row\n",
    "    xcenter, ycenter, flux = df.iloc[0][['xcentroid', 'ycentroid', 'flux']]\n",
    "    last_index = 0\n",
    "    #Including first row in result\n",
    "    filters = [True]\n",
    "\n",
    "    #Skipping first row in comparisons\n",
    "    for index, row in df.iloc[1:].iterrows():\n",
    "        if (xcenter - 3*fwhm <= row['xcentroid'] <= 3*fwhm + xcenter) or (ycenter - 3*fwhm <= row[\n",
    "            'ycentroid'] <= 3*fwhm + ycenter):\n",
    "            # Once we have the two that are very close to each other we want to keep the one with the highest flux\n",
    "            if df.iloc[last_index]['flux'] > row['flux']:\n",
    "                filters.append(False)\n",
    "            else:\n",
    "                filters[last_index] = False\n",
    "                filters.append(True)\n",
    "                xcenter = row['xcentroid']\n",
    "                ycenter = row['ycentroid']\n",
    "                last_index = index\n",
    "        else:\n",
    "            filters.append(True)\n",
    "            # Updating values to compare based on latest accepted row\n",
    "            xcenter = row['xcentroid']\n",
    "            ycenter = row['ycentroid']\n",
    "            last_index = index\n",
    "    result = df.loc[filters]\n",
    "    return result.reset_index(drop=True)\n",
    "\n",
    "def find_nearest(sources_1, sources_2):\n",
    "    positions = np.transpose((sources_1['xcentroid'], sources_1['ycentroid']))\n",
    "    positions_2 = np.transpose((sources_2['xcentroid'], sources_2['ycentroid']))\n",
    "    mapping_dict = dict()\n",
    "    for index, value in enumerate(positions):\n",
    "        difference = np.subtract(positions_2, value)\n",
    "        squared_difference = np.square(difference)\n",
    "        min_index = np.sqrt(squared_difference.sum(axis = 1)).argmin()\n",
    "        if index in mapping_dict:\n",
    "            old_difference_in_flux = abs(sources_1['flux'][index] - sources_2['flux'][mapping_dict[index]])\n",
    "            new_difference_in_flux = abs(sources_1['flux'][index] - sources_2['flux'][min_index])\n",
    "            if old_difference_in_flux > new_difference_in_flux:\n",
    "                mapping_dict[index] = min_index\n",
    "        else:\n",
    "            mapping_dict[index] = min_index\n",
    "    for key, item in mapping_dict.items():\n",
    "        x_1, y_1 = sources_1.iloc[key]['xcentroid'], sources_1.iloc[key]['ycentroid']\n",
    "        x_2, y_2 = sources_2.iloc[item]['xcentroid'], sources_2.iloc[item]['ycentroid']\n",
    "        distance = np.sqrt((x_1-x_2)**2+(y_1-y_2)**2)\n",
    "        if distance > 60:\n",
    "            mapping_dict[key] = np.nan\n",
    "    return mapping_dict\n",
    "\n"
   ],
   "metadata": {
    "collapsed": false,
    "pycharm": {
     "name": "#%%\n"
    }
   }
  },
  {
   "cell_type": "code",
   "execution_count": null,
   "outputs": [],
   "source": [
    "dictionary_list = list()\n",
    "sources_first_array = find_sources(data[0])\n",
    "trimmed_sources_first_array = image_trimmer(sources_first_array, data[0])\n",
    "sources_first_array_no_duplicates = excluding_duplicates(trimmed_sources_first_array, 9)\n",
    "\n",
    "for index in range(1, len(data)):\n",
    "    sources_next_array = find_sources(data[index])\n",
    "    trimmed_sources_next_array = image_trimmer(sources_next_array, data[index])\n",
    "    sources_next_array_no_duplicates = excluding_duplicates(trimmed_sources_next_array, 9)\n",
    "    mapping_dictionary = find_nearest(sources_first_array_no_duplicates, sources_next_array_no_duplicates)\n",
    "    dictionary_list.append(mapping_dictionary)"
   ],
   "metadata": {
    "collapsed": false,
    "pycharm": {
     "name": "#%%\n",
     "is_executing": true
    }
   }
  },
  {
   "cell_type": "code",
   "execution_count": null,
   "outputs": [],
   "source": [
    "method_2_dict = dict()\n",
    "method_2_dict[0] = list(dictionary_list[0].keys())\n",
    "for index, dictionary in enumerate(dictionary_list):\n",
    "    method_2_dict[index+1] = list(dictionary.values())"
   ],
   "metadata": {
    "collapsed": false,
    "pycharm": {
     "name": "#%%\n",
     "is_executing": true
    }
   }
  },
  {
   "cell_type": "code",
   "execution_count": null,
   "outputs": [],
   "source": [
    "method_2_list_sources = list()\n",
    "\n",
    "for key, item in method_2_dict.items():\n",
    "    temp_list = list()\n",
    "    found_sources = find_sources(data[key])\n",
    "    trimmed_image = image_trimmer(found_sources, data[key])\n",
    "    final_df = excluding_duplicates(trimmed_image, 9)\n",
    "    for i in item:\n",
    "        if i is np.nan:\n",
    "            temp_list.append(np.nan)\n",
    "        else:\n",
    "            # temp_list.append(final_df.iloc[i]['flux'])\n",
    "            temp_list.append((final_df.iloc[i]['xcentroid'], final_df.iloc[i]['ycentroid']))\n",
    "    method_2_list_sources.append(temp_list)"
   ],
   "metadata": {
    "collapsed": false,
    "pycharm": {
     "name": "#%%\n",
     "is_executing": true
    }
   }
  },
  {
   "cell_type": "code",
   "execution_count": null,
   "outputs": [],
   "source": [
    "all_positions_dict = dict()\n",
    "for lst in method_2_list_sources:\n",
    "    for index, item in enumerate(lst):\n",
    "        if index not in all_positions_dict.keys():\n",
    "            all_positions_dict[index] = list()\n",
    "            all_positions_dict[index].append(item)\n",
    "        else:\n",
    "            all_positions_dict[index].append(item)"
   ],
   "metadata": {
    "collapsed": false,
    "pycharm": {
     "name": "#%%\n",
     "is_executing": true
    }
   }
  },
  {
   "cell_type": "code",
   "execution_count": null,
   "outputs": [],
   "source": [
    "position_df = pd.DataFrame(all_positions_dict)"
   ],
   "metadata": {
    "collapsed": false,
    "pycharm": {
     "name": "#%%\n",
     "is_executing": true
    }
   }
  },
  {
   "cell_type": "code",
   "execution_count": null,
   "outputs": [],
   "source": [
    "list(position_df.loc[0])"
   ],
   "metadata": {
    "collapsed": false,
    "pycharm": {
     "name": "#%%\n",
     "is_executing": true
    }
   }
  },
  {
   "cell_type": "raw",
   "source": [
    "rows = 2\n",
    "columns = 3\n",
    "index = 0\n",
    "\n",
    "fig, axs = plt.subplots(rows, columns, figsize=(60, 15))\n",
    "\n",
    "for row in range(rows):\n",
    "    for column in range(columns):\n",
    "        axs[row, column].plot(range(len(all_positions_dict[index])), all_positions_dict[index], 'x')\n",
    "        index += 1"
   ],
   "metadata": {
    "collapsed": false,
    "pycharm": {
     "name": "#%% raw\n"
    }
   }
  },
  {
   "cell_type": "code",
   "execution_count": null,
   "outputs": [],
   "source": [
    "from photutils.aperture import CircularAperture, CircularAnnulus, ApertureStats, aperture_photometry\n",
    "from astropy.stats import SigmaClip\n",
    "import itertools\n",
    "\n",
    "def signal_to_noise_ratio_v3(image_array, positions_df, r_start, r_end, step_size, delta_r, return_df = False):\n",
    "    sigclip = SigmaClip(sigma=3, maxiters=5)\n",
    "    # List of the aperture radius\n",
    "    aperture_radius = list()\n",
    "\n",
    "    # List of lists with the signal-to-noise ratios at each aperture\n",
    "    all_snr_list = list()\n",
    "\n",
    "    # Empty dataframe for putting everything in later\n",
    "    snr_df = pd.DataFrame()\n",
    "\n",
    "    # Get the positions that have a nan in them and ignore them\n",
    "    nan_indexes = np.argwhere(pd.isnull(positions_df))\n",
    "    if nan_indexes.size > 0: # Only works with a np.array\n",
    "        no_nan_positions = list(positions_df[~pd.isnull(positions_df)])\n",
    "    else: # Only works with a list\n",
    "        no_nan_positions = list(positions_df)\n",
    "\n",
    "    for r in np.arange(r_start, r_end + step_size, step_size):\n",
    "\n",
    "        annulus_aperture = CircularAnnulus(no_nan_positions, r_in = r, r_out = r + delta_r)\n",
    "        bkg_stats = ApertureStats(image_array, annulus_aperture, sigma_clip=sigclip)\n",
    "        bkg_median = bkg_stats.median\n",
    "        apertures = CircularAperture(no_nan_positions, r)\n",
    "        phot_table = aperture_photometry(image_array, apertures)\n",
    "        aper_stats = ApertureStats(image_array, apertures, sigma_clip=None)\n",
    "        aperture_area = aper_stats.sum_aper_area.value\n",
    "        total_bkg = bkg_median * aperture_area\n",
    "        phot_bkgsub = phot_table['aperture_sum'] - total_bkg\n",
    "        signal_to_noise_ratio = list(phot_bkgsub / total_bkg)\n",
    "        aperture_radius.append(r)\n",
    "        for nan_index in nan_indexes:\n",
    "            signal_to_noise_ratio.insert(nan_index[0], np.nan)\n",
    "        all_snr_list.append(signal_to_noise_ratio)\n",
    "\n",
    "    # Transpose the snr list\n",
    "    stars_snr = list(map(list, itertools.zip_longest(*all_snr_list, fillvalue=None)))\n",
    "\n",
    "    # Add the aperture radii in the first column\n",
    "    snr_df['Aperture radii'] = aperture_radius\n",
    "\n",
    "    # Create a column with the snr of each star at different radii\n",
    "    for star_index, snr_list in enumerate(stars_snr):\n",
    "        snr_df[f'Star {star_index}'] = snr_list\n",
    "\n",
    "    indexes_of_max_snr = list(snr_df.idxmax())[1:] # Exclude the first one since it's the aperture radii\n",
    "\n",
    "    optimal_radii = [snr_df['Aperture radii'].iloc[int(i)] if not np.isnan(i) else np.nan for i in indexes_of_max_snr]\n",
    "    optimal_radius = np.nanmean(optimal_radii)\n",
    "\n",
    "    if return_df:\n",
    "        return snr_df\n",
    "    else:\n",
    "        return optimal_radius"
   ],
   "metadata": {
    "collapsed": false,
    "pycharm": {
     "name": "#%%\n",
     "is_executing": true
    }
   }
  },
  {
   "cell_type": "code",
   "execution_count": null,
   "outputs": [],
   "source": [
    "def aperture_calculation(image_array, positions_df, r, delta_r, exp_time, gain, return_table = False):\n",
    "    sigclip = SigmaClip(sigma=3, maxiters=5)\n",
    "    magnitudes_list = list()\n",
    "    fluxes_list = list()\n",
    "    for position in positions_df:\n",
    "        if position is not np.nan:\n",
    "            annulus_aperture = CircularAnnulus(position, r_in = r, r_out = r + delta_r)\n",
    "            bkg_stats = ApertureStats(image_array, annulus_aperture, sigma_clip=sigclip)\n",
    "            bkg_median = bkg_stats.median\n",
    "            apertures = CircularAperture(position, r)\n",
    "            phot_table = aperture_photometry(image_array, apertures)\n",
    "            aper_stats = ApertureStats(image_array, apertures, sigma_clip=None)\n",
    "            aperture_area = aper_stats.sum_aper_area.value\n",
    "            total_bkg = bkg_median * aperture_area\n",
    "            phot_bkgsub = phot_table['aperture_sum'] - total_bkg\n",
    "            phot_table['aperture_sum_bkgsub'] = phot_bkgsub\n",
    "            flux = (gain * phot_bkgsub) / exp_time\n",
    "            mag = 25 - 2.5 * np.log10(flux)\n",
    "            magnitudes_list.append(mag[0])\n",
    "            fluxes_list.append(flux[0])\n",
    "        else:\n",
    "            magnitudes_list.append(np.nan)\n",
    "            fluxes_list.append(np.nan)\n",
    "    if return_table:\n",
    "        return phot_table\n",
    "    else:\n",
    "        return magnitudes_list, fluxes_list"
   ],
   "metadata": {
    "collapsed": false,
    "pycharm": {
     "name": "#%%\n",
     "is_executing": true
    }
   }
  },
  {
   "cell_type": "code",
   "execution_count": null,
   "outputs": [],
   "source": [
    "def calculate_magnitude(flux):\n",
    "    return 25 - 2.5 * np.log10(flux)"
   ],
   "metadata": {
    "collapsed": false,
    "pycharm": {
     "name": "#%%\n",
     "is_executing": true
    }
   }
  },
  {
   "cell_type": "code",
   "execution_count": null,
   "outputs": [],
   "source": [
    "all_magnitudes = list()\n",
    "all_fluxes = list()\n",
    "for index in range(len(position_df)):\n",
    "    print(index)\n",
    "    positions = np.array(position_df.loc[index])\n",
    "    array = data[index]\n",
    "    optimal_aperture_list = signal_to_noise_ratio_v3(array, positions, 1, 30, 0.1, 10)\n",
    "    magnitudes, fluxes = aperture_calculation(array, positions, optimal_aperture_list, 10, 16, 1)\n",
    "    all_fluxes.append(fluxes)\n",
    "    all_magnitudes.append(magnitudes)"
   ],
   "metadata": {
    "collapsed": false,
    "pycharm": {
     "name": "#%%\n",
     "is_executing": true
    }
   }
  },
  {
   "cell_type": "code",
   "execution_count": null,
   "outputs": [],
   "source": [
    " # Transposing the array of all magnitudes to get the magnitudes of each star in the same list across all arrays\n",
    "\n",
    "all_magnitudes_transposed = list(map(list, itertools.zip_longest(*all_magnitudes, fillvalue=None)))\n",
    "all_fluxes_transposed = list(map(list, itertools.zip_longest(*all_fluxes, fillvalue=None)))"
   ],
   "metadata": {
    "collapsed": false,
    "pycharm": {
     "name": "#%%\n",
     "is_executing": true
    }
   }
  },
  {
   "cell_type": "markdown",
   "source": [
    "## Finding all the stars in the image\n",
    "\n",
    "To find the stars in the first array we are going to use astrometry to find the RA and Dec of the image, get the corrected header and then use this to pass all the coordinates to sky coordinates. If we do this in the first array, we can then use these coordinates to find out which of the detected stars are non - variable and can be used as standards."
   ],
   "metadata": {
    "collapsed": false,
    "pycharm": {
     "name": "#%% md\n"
    }
   }
  },
  {
   "cell_type": "code",
   "execution_count": null,
   "outputs": [],
   "source": [
    "from astropy.io import fits\n",
    "from astropy.wcs import WCS\n",
    "\n",
    "# First, find all the sources in the first image\n",
    "\n",
    "sources_first_image = excluding_duplicates(image_trimmer(find_sources(data[0]), data[0]), 9)\n",
    "\n",
    "positions_first_image = list(zip(sources_first_image['xcentroid'], sources_first_image['ycentroid']))\n",
    "\n",
    "for i, j in enumerate(positions_first_image):\n",
    "    print(i, j)\n"
   ],
   "metadata": {
    "collapsed": false,
    "pycharm": {
     "name": "#%%\n",
     "is_executing": true
    }
   }
  },
  {
   "cell_type": "code",
   "execution_count": null,
   "outputs": [],
   "source": [
    "sources_first_image"
   ],
   "metadata": {
    "collapsed": false,
    "pycharm": {
     "name": "#%%\n",
     "is_executing": true
    }
   }
  },
  {
   "cell_type": "code",
   "execution_count": null,
   "outputs": [],
   "source": [
    "aperture_calculation(data[0], positions_first_image, 4., 10, 16, 1, return_table= True)"
   ],
   "metadata": {
    "collapsed": false,
    "pycharm": {
     "name": "#%%\n",
     "is_executing": true
    }
   }
  },
  {
   "cell_type": "code",
   "execution_count": null,
   "outputs": [],
   "source": [
    "from convenience_functions import show_image\n",
    "\n",
    "show_image(data[0])\n",
    "for position in positions_first_image:\n",
    "    plt.plot(*position,  marker = 'x', markersize = 5, color = 'green')\n",
    "plt.plot(358.7714824860396, 1044.1420601306495, marker = 'x', color = 'red', markersize = 5)"
   ],
   "metadata": {
    "collapsed": false,
    "pycharm": {
     "name": "#%%\n",
     "is_executing": true
    }
   }
  },
  {
   "cell_type": "code",
   "execution_count": null,
   "outputs": [],
   "source": [
    "f = fits.open('../reduced-lights_2022_03_20/Luminance/new-image.fits')\n",
    "w = WCS(f[0].header)\n",
    "\n",
    "for index, coords in enumerate(positions_first_image):\n",
    "    sky = w.pixel_to_world(coords[0], coords[1]).data\n",
    "    print(index, sky)\n",
    "f.close()"
   ],
   "metadata": {
    "collapsed": false,
    "pycharm": {
     "name": "#%%\n",
     "is_executing": true
    }
   }
  },
  {
   "cell_type": "markdown",
   "source": [
    "By looking at their positions and crossing that with SIMBAD we can see which of these sources are stars we can use as local standards. For this particular case the list is\n",
    "\n",
    "`stars_index = [0,2,13,25,33,34]`\n",
    "\n",
    "and RV UMa is star 34 in the first array"
   ],
   "metadata": {
    "collapsed": false,
    "pycharm": {
     "name": "#%% md\n"
    }
   }
  },
  {
   "cell_type": "code",
   "execution_count": null,
   "outputs": [],
   "source": [
    "RV_UMa_index = 19\n",
    "\n",
    "RV_UMa_magnitudes = [all_magnitudes_transposed[RV_UMa_index]]\n",
    "RV_UMa_fluxes = [all_fluxes_transposed[RV_UMa_index]]"
   ],
   "metadata": {
    "collapsed": false,
    "pycharm": {
     "name": "#%%\n",
     "is_executing": true
    }
   }
  },
  {
   "cell_type": "code",
   "execution_count": null,
   "outputs": [],
   "source": [
    "saturated_stars_and_RV_UMa = [1,11,19,24,35]\n",
    "stars_index =[i for i in range(len(sources_first_image)) if i not in saturated_stars_and_RV_UMa]\n",
    "\n",
    "stars_index"
   ],
   "metadata": {
    "collapsed": false,
    "pycharm": {
     "name": "#%%\n",
     "is_executing": true
    }
   }
  },
  {
   "cell_type": "code",
   "execution_count": null,
   "outputs": [],
   "source": [
    "magnitude_list_standard_stars = [all_magnitudes_transposed[i] for i in stars_index]\n",
    "flux_list_standard_stars = [all_fluxes_transposed[i] for i in stars_index]"
   ],
   "metadata": {
    "collapsed": false,
    "pycharm": {
     "name": "#%%\n",
     "is_executing": true
    }
   }
  },
  {
   "cell_type": "markdown",
   "source": [
    "We can plot all these stars to see which of them can be useful, since the nearest neighbours algorithm is not perfect."
   ],
   "metadata": {
    "collapsed": false,
    "pycharm": {
     "name": "#%% md\n"
    }
   }
  },
  {
   "cell_type": "code",
   "execution_count": null,
   "outputs": [],
   "source": [
    "for index, lst in enumerate(magnitude_list_standard_stars):\n",
    "    plt.plot(lst, 'x')\n",
    "    plt.title(f'Star {stars_index[index]}')\n",
    "    plt.xlabel('Array number')\n",
    "    plt.ylabel('Magnitude')\n",
    "    plt.gca().invert_yaxis()\n",
    "    plt.show()\n",
    "    plt.close()"
   ],
   "metadata": {
    "collapsed": false,
    "pycharm": {
     "name": "#%%\n",
     "is_executing": true
    }
   }
  },
  {
   "cell_type": "markdown",
   "source": [
    "Looking at these images, we can clearly tell there are some problems with star 19, star 41 and star 50. Star 58 also has one in the middle which is clearly not matching the other ones. These ones may be skewing our correction for RV UMa, so let's remove them."
   ],
   "metadata": {
    "collapsed": false,
    "pycharm": {
     "name": "#%% md\n"
    }
   }
  },
  {
   "cell_type": "code",
   "execution_count": null,
   "outputs": [],
   "source": [
    "# Removing the arrays with several errors\n",
    "bad_stars_index = [1,6,7,11,12,15,16,19,20,22,24,26,27,29,30,35]\n",
    "corrected_stars_index = [i for i in range(len(sources_first_image)) if i not in bad_stars_index]\n",
    "\n",
    "flux_list_standard_stars = [all_fluxes_transposed[i] for i in corrected_stars_index]\n",
    "magnitude_list_standard_stars = [all_magnitudes_transposed[i] for i in corrected_stars_index]\n",
    "\n",
    "# Now we remove the item in the last array that is a bit weird and substitute it with a nan\n",
    "\n",
    "max_index = np.nanargmax(flux_list_standard_stars[1])\n",
    "\n",
    "flux_list_standard_stars[1][max_index] = np.nan\n",
    "magnitude_list_standard_stars[1][max_index] = np.nan"
   ],
   "metadata": {
    "collapsed": false,
    "pycharm": {
     "name": "#%%\n",
     "is_executing": true
    }
   }
  },
  {
   "cell_type": "code",
   "execution_count": null,
   "outputs": [],
   "source": [
    "# Check if everything is correct\n",
    "\n",
    "plt.plot(magnitude_list_standard_stars[1], 'x')\n",
    "plt.xlabel('Array number')\n",
    "plt.ylabel('Magnitude')\n",
    "plt.gca().invert_yaxis()"
   ],
   "metadata": {
    "collapsed": false,
    "pycharm": {
     "name": "#%%\n",
     "is_executing": true
    }
   }
  },
  {
   "cell_type": "code",
   "execution_count": null,
   "outputs": [],
   "source": [
    "# Now we transpose the all_magnitudes list so that each list contains all the magnitudes of each star\n",
    "all_flux_offsets_standard_stars = list()\n",
    "all_magnitude_offsets_standard_stars = list()\n",
    "for index, flux_list in enumerate(all_fluxes_transposed):\n",
    "    if index in corrected_stars_index:\n",
    "        offset = [flux_list[0]- i for i in flux_list]\n",
    "        all_flux_offsets_standard_stars.append(offset)\n",
    "\n",
    "for index, flux_list in enumerate(all_magnitudes_transposed):\n",
    "    if index in corrected_stars_index:\n",
    "        offset = [flux_list[0]- i for i in flux_list]\n",
    "        all_magnitude_offsets_standard_stars.append(offset)"
   ],
   "metadata": {
    "collapsed": false,
    "pycharm": {
     "name": "#%%\n",
     "is_executing": true
    }
   }
  },
  {
   "cell_type": "code",
   "execution_count": null,
   "outputs": [],
   "source": [
    "mean_magnitude_offsets = np.nanmean(all_magnitude_offsets_standard_stars, axis = 0)\n",
    "mean_flux_offsets = np.nanmean(all_flux_offsets_standard_stars, axis = 0)\n",
    "\n",
    "std_magnitude_offsets = np.nanstd(all_magnitude_offsets_standard_stars, axis = 0)\n",
    "std_flux_offsets = np.nanstd(all_flux_offsets_standard_stars, axis = 0)"
   ],
   "metadata": {
    "collapsed": false,
    "pycharm": {
     "name": "#%%\n",
     "is_executing": true
    }
   }
  },
  {
   "cell_type": "code",
   "execution_count": null,
   "outputs": [],
   "source": [
    "plt.plot(std_magnitude_offsets, 'x')"
   ],
   "metadata": {
    "collapsed": false,
    "pycharm": {
     "name": "#%%\n",
     "is_executing": true
    }
   }
  },
  {
   "cell_type": "code",
   "execution_count": null,
   "outputs": [],
   "source": [
    "from operator import add\n",
    "corrected_RV_UMa_flux = list(map(add, RV_UMa_fluxes, mean_flux_offsets))[0]\n",
    "corrected_RV_UMa_magnitude = list(map(add, RV_UMa_magnitudes, mean_magnitude_offsets))[0]"
   ],
   "metadata": {
    "collapsed": false,
    "pycharm": {
     "name": "#%%\n",
     "is_executing": true
    }
   }
  },
  {
   "cell_type": "code",
   "execution_count": null,
   "outputs": [],
   "source": [
    "corrected_RV_UMa_magnitude"
   ],
   "metadata": {
    "collapsed": false,
    "pycharm": {
     "name": "#%%\n",
     "is_executing": true
    }
   }
  },
  {
   "cell_type": "markdown",
   "source": [
    "# Stuff for the presentation"
   ],
   "metadata": {
    "collapsed": false,
    "pycharm": {
     "name": "#%% md\n"
    }
   }
  },
  {
   "cell_type": "code",
   "execution_count": null,
   "outputs": [],
   "source": [
    "test_sources_first_array = excluding_duplicates(image_trimmer(find_sources(data[0]), data[0]), 9)\n",
    "test_sources_last_array = excluding_duplicates(image_trimmer(find_sources(data[-1]), data[-1]), 9)"
   ],
   "metadata": {
    "collapsed": false,
    "pycharm": {
     "name": "#%%\n",
     "is_executing": true
    }
   }
  },
  {
   "cell_type": "code",
   "execution_count": null,
   "outputs": [],
   "source": [
    "test_sources_first_array"
   ],
   "metadata": {
    "collapsed": false,
    "pycharm": {
     "name": "#%%\n",
     "is_executing": true
    }
   }
  },
  {
   "cell_type": "code",
   "execution_count": null,
   "outputs": [],
   "source": [
    "test_sources_last_array"
   ],
   "metadata": {
    "collapsed": false,
    "pycharm": {
     "name": "#%%\n",
     "is_executing": true
    }
   }
  },
  {
   "cell_type": "code",
   "execution_count": null,
   "outputs": [],
   "source": [
    "dict_presentation = find_nearest(test_sources_first_array, test_sources_last_array)"
   ],
   "metadata": {
    "collapsed": false,
    "pycharm": {
     "name": "#%%\n",
     "is_executing": true
    }
   }
  },
  {
   "cell_type": "code",
   "execution_count": null,
   "outputs": [],
   "source": [
    "dict_presentation"
   ],
   "metadata": {
    "collapsed": false,
    "pycharm": {
     "name": "#%%\n",
     "is_executing": true
    }
   }
  },
  {
   "cell_type": "code",
   "execution_count": null,
   "outputs": [],
   "source": [
    "for key in dict_presentation.keys():\n",
    "    if key in corrected_stars_index:\n",
    "        print(key, dict_presentation[key])"
   ],
   "metadata": {
    "collapsed": false,
    "pycharm": {
     "name": "#%%\n",
     "is_executing": true
    }
   }
  },
  {
   "cell_type": "code",
   "execution_count": null,
   "outputs": [],
   "source": [
    "last_array_mapping = [2,5,21,39,46,48]"
   ],
   "metadata": {
    "collapsed": false,
    "pycharm": {
     "name": "#%%\n",
     "is_executing": true
    }
   }
  },
  {
   "cell_type": "code",
   "execution_count": null,
   "outputs": [],
   "source": [
    "list(zip(test_sources_first_array.iloc[corrected_stars_index]['xcentroid'], test_sources_first_array.iloc[corrected_stars_index]['ycentroid']))"
   ],
   "metadata": {
    "collapsed": false,
    "pycharm": {
     "name": "#%%\n",
     "is_executing": true
    }
   }
  },
  {
   "cell_type": "code",
   "execution_count": null,
   "outputs": [],
   "source": [
    "list(zip(test_sources_last_array.iloc[last_array_mapping]['xcentroid'], test_sources_last_array.iloc[last_array_mapping]['ycentroid']))"
   ],
   "metadata": {
    "collapsed": false,
    "pycharm": {
     "name": "#%%\n",
     "is_executing": true
    }
   }
  },
  {
   "cell_type": "code",
   "execution_count": null,
   "outputs": [],
   "source": [
    "positions = np.transpose((test_sources_first_array['xcentroid'], test_sources_first_array['ycentroid']))\n",
    "\n",
    "apertures = CircularAperture(positions, r=4.)\n",
    "\n",
    "norm = ImageNormalize(stretch=SqrtStretch())\n",
    "\n",
    "show_image(data[0], cmap = 'gray')\n",
    "\n",
    "apertures.plot(color='blue', lw=1.5, alpha=0.5)\n",
    "\n",
    "plt.plot(2308, 1780, marker = 'x', markersize = 10)\n",
    "\n",
    "plt.axhline(data[0].shape[0]/2)\n",
    "\n",
    "plt.axvline(data[1].shape[1]/2);\n",
    "\n",
    "print(data[0].shape[0]/2, data[1].shape[1]/2)"
   ],
   "metadata": {
    "collapsed": false,
    "pycharm": {
     "name": "#%%\n",
     "is_executing": true
    }
   }
  },
  {
   "cell_type": "code",
   "execution_count": null,
   "outputs": [],
   "source": [
    "from PIL import Image, ImageOps\n",
    "from IPython.display import  display\n",
    "\n",
    "img = Image.open('20220322_detected_sources.jpg')\n",
    "img = ImageOps.flip(img)\n",
    "display(img)"
   ],
   "metadata": {
    "collapsed": false,
    "pycharm": {
     "name": "#%%\n",
     "is_executing": true
    }
   }
  },
  {
   "cell_type": "code",
   "execution_count": null,
   "outputs": [],
   "source": [
    "first_array_sources_positions = [(3156.391593667612, 249.55410761820283),\n",
    "                                 (4241.96236981832, 402.72851815537894),\n",
    "                                 (424.6783347656137, 1374.9292357923953),\n",
    "                                 (345.5587801311043, 2684.932418493146),\n",
    "                                 (1754.1996705503554, 3141.7386564632407),\n",
    "                                 (396.773250967703, 3296.865105632183)]"
   ],
   "metadata": {
    "collapsed": false,
    "pycharm": {
     "name": "#%%\n",
     "is_executing": true
    }
   }
  },
  {
   "cell_type": "code",
   "execution_count": null,
   "outputs": [],
   "source": [
    "last_array_sources_positions = [(3198.6312350867915, 275.13056433320367),\n",
    "                                (4283.939991823673, 429.0982434051284),\n",
    "                                (466.61276952428346, 1399.5207879354884),\n",
    "                                (387.837585300374, 2709.4622790306116),\n",
    "                                (1795.594390834655, 3166.587148487002),\n",
    "                                (438.69571061757875, 3321.373967753316)]"
   ],
   "metadata": {
    "collapsed": false,
    "pycharm": {
     "name": "#%%\n",
     "is_executing": true
    }
   }
  },
  {
   "cell_type": "code",
   "execution_count": null,
   "outputs": [],
   "source": [
    "corrected_stars_index"
   ],
   "metadata": {
    "collapsed": false,
    "pycharm": {
     "name": "#%%\n",
     "is_executing": true
    }
   }
  },
  {
   "cell_type": "code",
   "execution_count": null,
   "outputs": [],
   "source": [
    "show_image(data[0], cmap= 'gray')\n",
    "plt.plot(3156.391593667612, 249.55410761820283, marker = 'x', markersize = 7, color = 'red', label = 'TYC 3850-91-1')\n",
    "plt.plot(4241.96236981832, 402.72851815537894, marker = 'x', markersize = 7, color = 'green', label = 'TYC 3850-738-1')\n",
    "plt.plot(424.6783347656137, 1374.9292357923953, marker = 'x', markersize = 7, color = 'blue', label = 'TYC 3850-209-1')\n",
    "plt.plot(345.5587801311043, 2684.932418493146, marker = 'x', markersize = 7, color = 'purple', label = 'TYC 3850-654-1')\n",
    "plt.plot(1754.1996705503554, 3141.7386564632407, marker = 'x', markersize = 7, color = 'yellow', label = 'TYC 3850-28-1')\n",
    "plt.plot(396.773250967703, 3296.865105632183, marker = 'x', markersize = 7, color = 'peru', label = 'TYC 3850-753-1')\n",
    "plt.legend();"
   ],
   "metadata": {
    "collapsed": false,
    "pycharm": {
     "name": "#%%\n",
     "is_executing": true
    }
   }
  },
  {
   "cell_type": "code",
   "execution_count": null,
   "outputs": [],
   "source": [
    "from convenience_functions import show_image\n",
    "show_image(data[-1], cmap= 'gray')\n",
    "plt.plot(3198.6312350867915, 275.13056433320367, marker = 'x', markersize = 7, color = 'red', label = 'TYC 3850-91-1')\n",
    "plt.plot(4283.939991823673, 429.0982434051284, marker = 'x', markersize = 7, color = 'green', label = 'TYC 3850-738-1')\n",
    "plt.plot(466.61276952428346, 1399.5207879354884, marker = 'x', markersize = 7, color = 'blue', label = 'TYC 3850-209-1')\n",
    "plt.plot(387.837585300374, 2709.4622790306116, marker = 'x', markersize = 7, color = 'purple', label = 'TYC 3850-654-1')\n",
    "plt.plot(1795.594390834655, 3166.587148487002, marker = 'x', markersize = 7, color = 'yellow', label = 'TYC 3850-28-1')\n",
    "plt.plot(438.69571061757875, 3321.373967753316, marker = 'x', markersize = 7, color = 'peru', label = 'TYC 3850-753-1')\n",
    "plt.legend();"
   ],
   "metadata": {
    "collapsed": false,
    "pycharm": {
     "name": "#%%\n",
     "is_executing": true
    }
   }
  },
  {
   "cell_type": "code",
   "execution_count": null,
   "outputs": [],
   "source": [
    "plt.plot(magnitude_list_standard_stars[0], 'x', label = 'Magnitude')\n",
    "plt.axhline(np.nanmean(magnitude_list_standard_stars[0]), label ='Mean magnitude')\n",
    "plt.xlabel('Array number')\n",
    "plt.ylabel('Magnitude')\n",
    "plt.legend();"
   ],
   "metadata": {
    "collapsed": false,
    "pycharm": {
     "name": "#%%\n",
     "is_executing": true
    }
   }
  },
  {
   "cell_type": "code",
   "execution_count": null,
   "outputs": [],
   "source": [
    "rows = 4\n",
    "columns = 3\n",
    "index = 0\n",
    "\n",
    "for index, lst in enumerate(magnitude_list_standard_stars):\n",
    "    plt.plot(lst, 'x')\n",
    "    plt.title(f'Star {index}')\n",
    "    plt.show()\n",
    "    plt.close()"
   ],
   "metadata": {
    "collapsed": false,
    "pycharm": {
     "name": "#%%\n",
     "is_executing": true
    }
   }
  },
  {
   "cell_type": "code",
   "execution_count": null,
   "outputs": [],
   "source": [
    "np.argmax(magnitude_list_standard_stars[9])"
   ],
   "metadata": {
    "collapsed": false,
    "pycharm": {
     "name": "#%%\n",
     "is_executing": true
    }
   }
  },
  {
   "cell_type": "code",
   "execution_count": null,
   "outputs": [],
   "source": [
    "plt.plot(all_magnitude_offsets_standard_stars[0], 'x', color = 'blue', label ='Offset star 0')\n",
    "plt.ylabel('Offset')\n",
    "plt.xlabel('Array number')\n",
    "plt.title('Offset star 0')"
   ],
   "metadata": {
    "collapsed": false,
    "pycharm": {
     "name": "#%%\n",
     "is_executing": true
    }
   }
  },
  {
   "cell_type": "code",
   "execution_count": null,
   "outputs": [],
   "source": [
    "plt.plot(all_magnitude_offsets_standard_stars[3], 'x', color = 'blue', label ='Offset star 0')\n",
    "plt.ylabel('Offset')\n",
    "plt.xlabel('Array number')\n",
    "plt.title('Offset star 3')"
   ],
   "metadata": {
    "collapsed": false,
    "pycharm": {
     "name": "#%%\n",
     "is_executing": true
    }
   }
  },
  {
   "cell_type": "code",
   "execution_count": null,
   "outputs": [],
   "source": [
    "from operator import add\n",
    "test_lst = list(map(add, flux_list_standard_stars[0], all_magnitude_offsets_standard_stars[0]))\n",
    "test_lst"
   ],
   "metadata": {
    "collapsed": false,
    "pycharm": {
     "name": "#%%\n",
     "is_executing": true
    }
   }
  },
  {
   "cell_type": "code",
   "execution_count": null,
   "outputs": [],
   "source": [
    "plt.plot(test_lst, 'x')\n",
    "plt.ylabel('Corrected Flux')\n",
    "plt.xlabel('Array number')\n",
    "plt.title('Corrected magnitude star 0')"
   ],
   "metadata": {
    "collapsed": false,
    "pycharm": {
     "name": "#%%\n",
     "is_executing": true
    }
   }
  },
  {
   "cell_type": "code",
   "execution_count": null,
   "outputs": [],
   "source": [
    "plt.plot(corrected_RV_UMa_flux, 'x')\n",
    "plt.xlabel('Array number')\n",
    "plt.ylabel('Flux')\n",
    "plt.title('Corrected RV UMa magnitude')"
   ],
   "metadata": {
    "collapsed": false,
    "pycharm": {
     "name": "#%%\n",
     "is_executing": true
    }
   }
  },
  {
   "cell_type": "code",
   "execution_count": null,
   "outputs": [],
   "source": [
    "for lst in all_magnitude_offsets_standard_stars:\n",
    "    print(lst[24])"
   ],
   "metadata": {
    "collapsed": false,
    "pycharm": {
     "name": "#%%\n",
     "is_executing": true
    }
   }
  },
  {
   "cell_type": "code",
   "execution_count": null,
   "outputs": [],
   "source": [
    "mean_magnitude_offsets"
   ],
   "metadata": {
    "collapsed": false,
    "pycharm": {
     "name": "#%%\n",
     "is_executing": true
    }
   }
  },
  {
   "cell_type": "code",
   "execution_count": null,
   "outputs": [],
   "source": [
    "find_nearest(test_sources_first_array, excluding_duplicates(image_trimmer(find_sources(data[25]), data[25]), 9))"
   ],
   "metadata": {
    "collapsed": false,
    "pycharm": {
     "name": "#%%\n",
     "is_executing": true
    }
   }
  },
  {
   "cell_type": "code",
   "execution_count": null,
   "outputs": [],
   "source": [
    "excluding_duplicates(image_trimmer(find_sources(data[25]), data[25]), 9)"
   ],
   "metadata": {
    "collapsed": false,
    "pycharm": {
     "name": "#%%\n",
     "is_executing": true
    }
   }
  },
  {
   "cell_type": "code",
   "execution_count": null,
   "outputs": [],
   "source": [
    "show_image(data[25])\n",
    "plt.plot(2351, 1784, marker = 'x', markersize = 5, color = 'green')\n",
    "plt.plot(2331, 1738, marker = 'x', markersize = 5, color = 'red')"
   ],
   "metadata": {
    "collapsed": false,
    "pycharm": {
     "name": "#%%\n",
     "is_executing": true
    }
   }
  },
  {
   "cell_type": "markdown",
   "source": [
    "# Plotting the arrays with time in the x - axis"
   ],
   "metadata": {
    "collapsed": false,
    "pycharm": {
     "name": "#%% md\n"
    }
   }
  },
  {
   "cell_type": "code",
   "execution_count": null,
   "outputs": [],
   "source": [
    "import datetime\n",
    "\n",
    "times = [datetime.datetime.strptime(header[\"DATE-OBS\"], '%Y-%m-%dT%H:%M:%S.%f') for header in headers]\n",
    "t = [(time - times[0]).total_seconds() for time in times]"
   ],
   "metadata": {
    "collapsed": false,
    "pycharm": {
     "name": "#%%\n",
     "is_executing": true
    }
   }
  },
  {
   "cell_type": "code",
   "execution_count": null,
   "outputs": [],
   "source": [
    "plt.plot(t, corrected_RV_UMa_magnitude, 'x')\n",
    "plt.xlabel('time (seconds)')\n",
    "plt.ylabel('Magnitude');"
   ],
   "metadata": {
    "collapsed": false,
    "pycharm": {
     "name": "#%%\n",
     "is_executing": true
    }
   }
  },
  {
   "cell_type": "code",
   "execution_count": null,
   "outputs": [],
   "source": [
    "fwhm_data = pd.read_csv('ds9.dat', sep = ' ', header = None)\n",
    "plt.plot(fwhm_data[0], fwhm_data[1])\n",
    "plt.axhline(max(fwhm_data[1])/2, color = 'green')"
   ],
   "metadata": {
    "collapsed": false,
    "pycharm": {
     "name": "#%%\n",
     "is_executing": true
    }
   }
  },
  {
   "cell_type": "markdown",
   "source": [
    "# TO DO\n",
    "\n",
    "Once the algorithm has been done for all the arrays, check on a plot how the magnitude changes. The last star detected on the first array with the current parameters is very close to two other stars, so that when the last arrays are being ran its nearest neighbour is actually another star. We do not need this star for the photometry, so just ignore it. The 5th star in the first array is RV UMa in the first day. In the second it's number 3"
   ],
   "metadata": {
    "collapsed": false,
    "pycharm": {
     "name": "#%% md\n"
    }
   }
  },
  {
   "cell_type": "code",
   "execution_count": null,
   "outputs": [],
   "source": [
    "# TO DO\n",
    "# 1. Test flux lists with all 55 arrays\n",
    "# 2. Plot the fluxes across all the arrays\n",
    "# 3. Check if any stars are confused with others\n",
    "# 4. Grab the positions of all the stars in the array and their mappings back to the first array\n",
    "# 5. Run the same procedure on the other days\n",
    "\n"
   ],
   "metadata": {
    "collapsed": false,
    "pycharm": {
     "name": "#%%\n",
     "is_executing": true
    }
   }
  },
  {
   "cell_type": "code",
   "execution_count": null,
   "outputs": [],
   "source": [
    "all_sources_all_arrays = list() # list with the sources on all the arrays that correspond to sources in the first image\n",
    "\n",
    "all_sources_all_arrays.append(list(dictionary_list[0].keys()))\n",
    "for index in range(len(dictionary_list)):\n",
    "    sources_n_array = list() # What the sources in array n correspond to in the first array\n",
    "    for key in dictionary_list[0].keys():\n",
    "        sources_n_array.append(dictionary_list[index][key])\n",
    "    all_sources_all_arrays.append(sources_n_array)"
   ],
   "metadata": {
    "collapsed": false,
    "pycharm": {
     "name": "#%%\n",
     "is_executing": true
    }
   }
  },
  {
   "cell_type": "code",
   "execution_count": null,
   "outputs": [],
   "source": [
    "positions_dict = dict()\n",
    "\n",
    "for index, lst in enumerate(all_sources_all_arrays):\n",
    "    found_sources = find_sources(data[index])\n",
    "    trimmed_image = image_trimmer(found_sources, data[index])\n",
    "    final_df = excluding_duplicates(trimmed_image, 9)\n",
    "    for position_first_array, position_nth_array in enumerate(lst):\n",
    "        if position_first_array in positions_dict.keys():\n",
    "            positions_dict[position_first_array].append(position_nth_array)\n",
    "        else:\n",
    "            positions_dict[position_first_array] = list()"
   ],
   "metadata": {
    "collapsed": false,
    "pycharm": {
     "name": "#%%\n",
     "is_executing": true
    }
   }
  },
  {
   "cell_type": "code",
   "execution_count": null,
   "outputs": [],
   "source": [
    "flux_lists = list()\n",
    "for key, chain in positions_dict.items():\n",
    "    fluxes = list()\n",
    "    for i in range(len(chain)):\n",
    "        if i == 0:\n",
    "            found_sources = find_sources(data[i])\n",
    "            trimmed_sources = image_trimmer(found_sources, data[i])\n",
    "            sources_no_duplicates = excluding_duplicates(trimmed_sources, 9)\n",
    "            fluxes.append(sources_no_duplicates.iloc[key]['flux'])\n",
    "        else:\n",
    "            j = chain[i-1]\n",
    "            if j is not np.nan:\n",
    "                found_sources = find_sources(data[i])\n",
    "                trimmed_sources = image_trimmer(found_sources, data[i])\n",
    "                sources_no_duplicates = excluding_duplicates(trimmed_sources, 9)\n",
    "                fluxes.append(sources_no_duplicates.iloc[j]['flux'])\n",
    "            else:\n",
    "                fluxes.append(np.nan)\n",
    "    flux_lists.append(fluxes)"
   ],
   "metadata": {
    "collapsed": false,
    "pycharm": {
     "name": "#%%\n",
     "is_executing": true
    }
   }
  }
 ],
 "metadata": {
  "kernelspec": {
   "display_name": "Python 3",
   "language": "python",
   "name": "python3"
  },
  "language_info": {
   "codemirror_mode": {
    "name": "ipython",
    "version": 2
   },
   "file_extension": ".py",
   "mimetype": "text/x-python",
   "name": "python",
   "nbconvert_exporter": "python",
   "pygments_lexer": "ipython2",
   "version": "2.7.6"
  }
 },
 "nbformat": 4,
 "nbformat_minor": 0
}