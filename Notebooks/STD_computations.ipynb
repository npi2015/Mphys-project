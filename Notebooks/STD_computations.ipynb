{
 "cells": [
  {
   "cell_type": "code",
   "execution_count": 138,
   "outputs": [],
   "source": [
    "from astropy.nddata import CCDData\n",
    "from astropy.stats import mad_std\n",
    "\n",
    "import ccdproc as ccdp\n",
    "import matplotlib.pyplot as plt\n",
    "import numpy as np\n",
    "from scipy.stats import sem\n",
    "from astropy.io import fits\n",
    "\n",
    "from pathlib import Path\n"
   ],
   "metadata": {
    "collapsed": false,
    "pycharm": {
     "name": "#%%\n"
    }
   }
  },
  {
   "cell_type": "code",
   "execution_count": 139,
   "outputs": [],
   "source": [
    "def calculating_stats(path, image_type):\n",
    "    file_collection = ccdp.ImageFileCollection(path)\n",
    "    files = file_collection.summary['imagetyp'] == image_type\n",
    "    times = set(file_collection.summary['exptime'][files])\n",
    "    if times:\n",
    "        for exp_time in sorted(times):\n",
    "            calibrated_files = file_collection.files_filtered(imagetyp=image_type, exptime=exp_time, include_path=True)\n",
    "    else:\n",
    "        raise(TypeError(f'Image type {image_type} does not exist'))\n",
    "    pixel_values = np.empty(shape=(len(calibrated_files), 16389120))\n",
    "    for index, file in enumerate(calibrated_files):\n",
    "        with fits.open(file) as hdul:\n",
    "            data = hdul[0].data.flatten()\n",
    "            pixel_values = np.insert(pixel_values, index, data, axis = 0)\n",
    "    pixel_values = pixel_values[:len(calibrated_files)]\n",
    "    means = np.mean(pixel_values, axis = 0)\n",
    "    std = np.std(pixel_values, axis = 0)\n",
    "    standard_error_mean = sem(pixel_values, axis = 0)\n",
    "    return means, std, standard_error_mean"
   ],
   "metadata": {
    "collapsed": false,
    "pycharm": {
     "name": "#%%\n"
    }
   }
  },
  {
   "cell_type": "code",
   "execution_count": 141,
   "outputs": [],
   "source": [
    "dark_files_path = Path('2022_03_20', 'Dark')\n",
    "dark_imagetype = 'Dark Frame'\n",
    "\n",
    "dark_mean, dark_std, dark_sem = calculating_stats(dark_files_path, dark_imagetype)"
   ],
   "metadata": {
    "collapsed": false,
    "pycharm": {
     "name": "#%%\n"
    }
   }
  },
  {
   "cell_type": "code",
   "execution_count": 142,
   "outputs": [],
   "source": [
    "bias_path = Path('2022_03_20', 'Bias')\n",
    "bias_imagetyp = 'Bias Frame'\n",
    "\n",
    "bias_mean, bias_std, bias_sem = calculating_stats(bias_path, bias_imagetyp)"
   ],
   "metadata": {
    "collapsed": false,
    "pycharm": {
     "name": "#%%\n"
    }
   }
  },
  {
   "cell_type": "code",
   "execution_count": 143,
   "outputs": [],
   "source": [
    "flat_path = Path('2022_03_20', 'Flat', 'Luminance')\n",
    "flat_imagetyp = 'Flat Frame'\n",
    "\n",
    "\n",
    "flat_mean, flat_std, flat_sem = calculating_stats(flat_path, flat_imagetyp)"
   ],
   "metadata": {
    "collapsed": false,
    "pycharm": {
     "name": "#%%\n"
    }
   }
  }
 ],
 "metadata": {
  "kernelspec": {
   "display_name": "Python 3",
   "language": "python",
   "name": "python3"
  },
  "language_info": {
   "codemirror_mode": {
    "name": "ipython",
    "version": 2
   },
   "file_extension": ".py",
   "mimetype": "text/x-python",
   "name": "python",
   "nbconvert_exporter": "python",
   "pygments_lexer": "ipython2",
   "version": "2.7.6"
  }
 },
 "nbformat": 4,
 "nbformat_minor": 0
}