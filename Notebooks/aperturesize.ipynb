{
 "cells": [
  {
   "cell_type": "code",
   "execution_count": 1,
   "outputs": [],
   "source": [
    "import pandas as pd\n",
    "from astropy.stats import sigma_clipped_stats\n",
    "from astropy.stats import SigmaClip\n",
    "import astropy\n",
    "\n",
    "import numpy as np\n",
    "\n",
    "import matplotlib.pyplot as plt"
   ],
   "metadata": {
    "collapsed": false,
    "pycharm": {
     "name": "#%%\n"
    }
   }
  },
  {
   "cell_type": "code",
   "execution_count": 2,
   "metadata": {
    "pycharm": {
     "name": "#%%\n"
    }
   },
   "outputs": [],
   "source": [
    "import ccdproc as ccdp\n",
    "\n",
    "# Import necessary packages to do aperture photometry\n",
    "from photutils import aperture_photometry\n",
    "import photutils"
   ]
  },
  {
   "cell_type": "code",
   "execution_count": 3,
   "metadata": {
    "pycharm": {
     "name": "#%%\n"
    }
   },
   "outputs": [
    {
     "name": "stderr",
     "output_type": "stream",
     "text": [
      "WARNING: no FITS files in the collection. [ccdproc.image_collection]\n"
     ]
    }
   ],
   "source": [
    "light_file_collection = ccdp.ImageFileCollection('../reduced-lights_2022_03_20')\n",
    "data = [i for i in light_file_collection.data()]"
   ]
  },
  {
   "cell_type": "code",
   "execution_count": 10,
   "metadata": {
    "pycharm": {
     "name": "#%%\n"
    }
   },
   "outputs": [],
   "source": [
    "test = data[0]"
   ]
  },
  {
   "cell_type": "code",
   "execution_count": 73,
   "metadata": {
    "pycharm": {
     "name": "#%%\n"
    }
   },
   "outputs": [],
   "source": [
    "from photutils.detection import DAOStarFinder\n",
    "\n",
    "def aperture_photometry_function(array, fwhm = 8.0, threshold = 10000):\n",
    "    mean, median, std = sigma_clipped_stats(array, sigma=2.5)\n",
    "    daofind = DAOStarFinder(fwhm=fwhm, threshold=threshold)\n",
    "    sources = daofind(array - median)\n",
    "    local_positions = np.transpose((sources['xcentroid'], sources['ycentroid']))\n",
    "    local_apertures = CircularAperture(local_positions, r=4.)\n",
    "    local_result = aperture_photometry(test, local_apertures)\n",
    "    return local_result"
   ]
  },
  {
   "cell_type": "code",
   "execution_count": 74,
   "outputs": [],
   "source": [
    "def excluding_duplicates(df):\n",
    "    #Taking initial comparison values from first row\n",
    "    xcenter,ycenter = df.iloc[0][['xcenter','ycenter']]\n",
    "    #Including first row in result\n",
    "    filters = [True]\n",
    "\n",
    "    #Skipping first row in comparisons\n",
    "    for index, row in df.iloc[1:].iterrows():\n",
    "        if 0.99*xcenter <= row['xcenter'] <= 1.01*xcenter and 0.99*ycenter <= row['ycenter'] <= 1.01*ycenter:\n",
    "            filters.append(False)\n",
    "        else:\n",
    "            filters.append(True)\n",
    "            # Updating values to compare based on latest accepted row\n",
    "            xcenter = row['xcenter']\n",
    "            ycenter = row['ycenter']\n",
    "\n",
    "    result = df.loc[filters]\n",
    "    return result.reset_index(drop = True)\n",
    "\n",
    "\n",
    "def image_trimmer(positions, array):\n",
    "    image_size = array.shape\n",
    "    x_trim = image_size[1] * 0.05\n",
    "    y_trim = image_size[0] * 0.05\n",
    "    if isinstance(positions, astropy.table.table.QTable):\n",
    "        positions = positions.to_pandas().drop('id', axis = 'columns')\n",
    "    else:\n",
    "        positions = pd.DataFrame(positions, columns = ['xcenter', 'ycenter'])\n",
    "    positions = positions[(positions['xcenter'] - x_trim > 0) & (positions['xcenter'] + x_trim < image_size[1])]\n",
    "    positions = positions[(positions['ycenter'] - y_trim > 0) & (positions['ycenter'] + y_trim < image_size[0])]\n",
    "    return positions\n",
    "\n"
   ],
   "metadata": {
    "collapsed": false,
    "pycharm": {
     "name": "#%%\n"
    }
   }
  },
  {
   "cell_type": "code",
   "execution_count": 60,
   "outputs": [],
   "source": [
    "values_fwhm = np.arange(5, 30, 1)\n",
    "values_counts = values_fwhm*1000\n",
    "\n",
    "detected_stars_fwhm = [len(excluding_duplicates(image_trimmer(aperture_photometry_function(test, fwhm = fwhm), test))) for fwhm in values_fwhm]\n",
    "detected_stars_counts = [len(excluding_duplicates(image_trimmer(aperture_photometry_function(test, threshold = count),test))) for count in values_counts]"
   ],
   "metadata": {
    "collapsed": false,
    "pycharm": {
     "name": "#%%\n"
    }
   }
  },
  {
   "cell_type": "code",
   "execution_count": 65,
   "outputs": [
    {
     "data": {
      "text/plain": "<Figure size 640x480 with 1 Axes>",
      "image/png": "[encoded data removed]"
     },
     "metadata": {},
     "output_type": "display_data"
    }
   ],
   "source": [
    "plt.plot(values_fwhm, detected_stars_fwhm, 'x')\n",
    "plt.xlabel('FWHM')\n",
    "plt.ylabel('Detected Stars')\n",
    "plt.ylim(0,)\n",
    "plt.savefig('FWHM vs Detected Stars')"
   ],
   "metadata": {
    "collapsed": false,
    "pycharm": {
     "name": "#%%\n"
    }
   }
  },
  {
   "cell_type": "code",
   "execution_count": 66,
   "outputs": [
    {
     "data": {
      "text/plain": "<Figure size 640x480 with 1 Axes>",
      "image/png": "[encoded data removed]"
     },
     "metadata": {},
     "output_type": "display_data"
    }
   ],
   "source": [
    "plt.plot(values_counts, detected_stars_counts, 'x')\n",
    "plt.xlabel('Counts')\n",
    "plt.ylabel('Detected Stars')\n",
    "plt.ylim(0,)\n",
    "plt.savefig('Counts vs Detected Stars')"
   ],
   "metadata": {
    "collapsed": false,
    "pycharm": {
     "name": "#%%\n"
    }
   }
  },
  {
   "cell_type": "code",
   "execution_count": 75,
   "outputs": [
    {
     "ename": "ValueError",
     "evalue": "2 columns passed, passed data had 14 columns",
     "output_type": "error",
     "traceback": [
      "\u001B[1;31m---------------------------------------------------------------------------\u001B[0m",
      "\u001B[1;31mAssertionError\u001B[0m                            Traceback (most recent call last)",
      "File \u001B[1;32m~\\anaconda3\\Lib\\site-packages\\pandas\\core\\internals\\construction.py:982\u001B[0m, in \u001B[0;36m_finalize_columns_and_data\u001B[1;34m(content, columns, dtype)\u001B[0m\n\u001B[0;32m    981\u001B[0m \u001B[38;5;28;01mtry\u001B[39;00m:\n\u001B[1;32m--> 982\u001B[0m     columns \u001B[38;5;241m=\u001B[39m \u001B[43m_validate_or_indexify_columns\u001B[49m\u001B[43m(\u001B[49m\u001B[43mcontents\u001B[49m\u001B[43m,\u001B[49m\u001B[43m \u001B[49m\u001B[43mcolumns\u001B[49m\u001B[43m)\u001B[49m\n\u001B[0;32m    983\u001B[0m \u001B[38;5;28;01mexcept\u001B[39;00m \u001B[38;5;167;01mAssertionError\u001B[39;00m \u001B[38;5;28;01mas\u001B[39;00m err:\n\u001B[0;32m    984\u001B[0m     \u001B[38;5;66;03m# GH#26429 do not raise user-facing AssertionError\u001B[39;00m\n",
      "File \u001B[1;32m~\\anaconda3\\Lib\\site-packages\\pandas\\core\\internals\\construction.py:1030\u001B[0m, in \u001B[0;36m_validate_or_indexify_columns\u001B[1;34m(content, columns)\u001B[0m\n\u001B[0;32m   1028\u001B[0m \u001B[38;5;28;01mif\u001B[39;00m \u001B[38;5;129;01mnot\u001B[39;00m is_mi_list \u001B[38;5;129;01mand\u001B[39;00m \u001B[38;5;28mlen\u001B[39m(columns) \u001B[38;5;241m!=\u001B[39m \u001B[38;5;28mlen\u001B[39m(content):  \u001B[38;5;66;03m# pragma: no cover\u001B[39;00m\n\u001B[0;32m   1029\u001B[0m     \u001B[38;5;66;03m# caller's responsibility to check for this...\u001B[39;00m\n\u001B[1;32m-> 1030\u001B[0m     \u001B[38;5;28;01mraise\u001B[39;00m \u001B[38;5;167;01mAssertionError\u001B[39;00m(\n\u001B[0;32m   1031\u001B[0m         \u001B[38;5;124mf\u001B[39m\u001B[38;5;124m\"\u001B[39m\u001B[38;5;132;01m{\u001B[39;00m\u001B[38;5;28mlen\u001B[39m(columns)\u001B[38;5;132;01m}\u001B[39;00m\u001B[38;5;124m columns passed, passed data had \u001B[39m\u001B[38;5;124m\"\u001B[39m\n\u001B[0;32m   1032\u001B[0m         \u001B[38;5;124mf\u001B[39m\u001B[38;5;124m\"\u001B[39m\u001B[38;5;132;01m{\u001B[39;00m\u001B[38;5;28mlen\u001B[39m(content)\u001B[38;5;132;01m}\u001B[39;00m\u001B[38;5;124m columns\u001B[39m\u001B[38;5;124m\"\u001B[39m\n\u001B[0;32m   1033\u001B[0m     )\n\u001B[0;32m   1034\u001B[0m \u001B[38;5;28;01melif\u001B[39;00m is_mi_list:\n\u001B[0;32m   1035\u001B[0m \n\u001B[0;32m   1036\u001B[0m     \u001B[38;5;66;03m# check if nested list column, length of each sub-list should be equal\u001B[39;00m\n",
      "\u001B[1;31mAssertionError\u001B[0m: 2 columns passed, passed data had 14 columns",
      "\nThe above exception was the direct cause of the following exception:\n",
      "\u001B[1;31mValueError\u001B[0m                                Traceback (most recent call last)",
      "Input \u001B[1;32mIn [75]\u001B[0m, in \u001B[0;36m<cell line: 1>\u001B[1;34m()\u001B[0m\n\u001B[1;32m----> 1\u001B[0m aperture, positions \u001B[38;5;241m=\u001B[39m excluding_duplicates(\u001B[43mimage_trimmer\u001B[49m\u001B[43m(\u001B[49m\u001B[43maperture_photometry_function\u001B[49m\u001B[43m(\u001B[49m\u001B[43mtest\u001B[49m\u001B[43m,\u001B[49m\u001B[43m \u001B[49m\u001B[43mfwhm\u001B[49m\u001B[43m \u001B[49m\u001B[38;5;241;43m=\u001B[39;49m\u001B[43m \u001B[49m\u001B[38;5;241;43m22\u001B[39;49m\u001B[43m,\u001B[49m\u001B[43m \u001B[49m\u001B[43mthreshold\u001B[49m\u001B[43m \u001B[49m\u001B[38;5;241;43m=\u001B[39;49m\u001B[43m \u001B[49m\u001B[38;5;241;43m20000\u001B[39;49m\u001B[43m)\u001B[49m\u001B[43m,\u001B[49m\u001B[43m \u001B[49m\u001B[43mtest\u001B[49m\u001B[43m)\u001B[49m)\n",
      "Input \u001B[1;32mIn [74]\u001B[0m, in \u001B[0;36mimage_trimmer\u001B[1;34m(positions, array)\u001B[0m\n\u001B[0;32m     26\u001B[0m     positions \u001B[38;5;241m=\u001B[39m positions\u001B[38;5;241m.\u001B[39mto_pandas()\u001B[38;5;241m.\u001B[39mdrop(\u001B[38;5;124m'\u001B[39m\u001B[38;5;124mid\u001B[39m\u001B[38;5;124m'\u001B[39m, axis \u001B[38;5;241m=\u001B[39m \u001B[38;5;124m'\u001B[39m\u001B[38;5;124mcolumns\u001B[39m\u001B[38;5;124m'\u001B[39m)\n\u001B[0;32m     27\u001B[0m \u001B[38;5;28;01melse\u001B[39;00m:\n\u001B[1;32m---> 28\u001B[0m     positions \u001B[38;5;241m=\u001B[39m \u001B[43mpd\u001B[49m\u001B[38;5;241;43m.\u001B[39;49m\u001B[43mDataFrame\u001B[49m\u001B[43m(\u001B[49m\u001B[43mpositions\u001B[49m\u001B[43m,\u001B[49m\u001B[43m \u001B[49m\u001B[43mcolumns\u001B[49m\u001B[43m \u001B[49m\u001B[38;5;241;43m=\u001B[39;49m\u001B[43m \u001B[49m\u001B[43m[\u001B[49m\u001B[38;5;124;43m'\u001B[39;49m\u001B[38;5;124;43mxcenter\u001B[39;49m\u001B[38;5;124;43m'\u001B[39;49m\u001B[43m,\u001B[49m\u001B[43m \u001B[49m\u001B[38;5;124;43m'\u001B[39;49m\u001B[38;5;124;43mycenter\u001B[39;49m\u001B[38;5;124;43m'\u001B[39;49m\u001B[43m]\u001B[49m\u001B[43m)\u001B[49m\n\u001B[0;32m     29\u001B[0m positions \u001B[38;5;241m=\u001B[39m positions[(positions[\u001B[38;5;124m'\u001B[39m\u001B[38;5;124mxcenter\u001B[39m\u001B[38;5;124m'\u001B[39m] \u001B[38;5;241m-\u001B[39m x_trim \u001B[38;5;241m>\u001B[39m \u001B[38;5;241m0\u001B[39m) \u001B[38;5;241m&\u001B[39m (positions[\u001B[38;5;124m'\u001B[39m\u001B[38;5;124mxcenter\u001B[39m\u001B[38;5;124m'\u001B[39m] \u001B[38;5;241m+\u001B[39m x_trim \u001B[38;5;241m<\u001B[39m image_size[\u001B[38;5;241m1\u001B[39m])]\n\u001B[0;32m     30\u001B[0m positions \u001B[38;5;241m=\u001B[39m positions[(positions[\u001B[38;5;124m'\u001B[39m\u001B[38;5;124mycenter\u001B[39m\u001B[38;5;124m'\u001B[39m] \u001B[38;5;241m-\u001B[39m y_trim \u001B[38;5;241m>\u001B[39m \u001B[38;5;241m0\u001B[39m) \u001B[38;5;241m&\u001B[39m (positions[\u001B[38;5;124m'\u001B[39m\u001B[38;5;124mycenter\u001B[39m\u001B[38;5;124m'\u001B[39m] \u001B[38;5;241m+\u001B[39m y_trim \u001B[38;5;241m<\u001B[39m image_size[\u001B[38;5;241m0\u001B[39m])]\n",
      "File \u001B[1;32m~\\anaconda3\\Lib\\site-packages\\pandas\\core\\frame.py:721\u001B[0m, in \u001B[0;36mDataFrame.__init__\u001B[1;34m(self, data, index, columns, dtype, copy)\u001B[0m\n\u001B[0;32m    716\u001B[0m     \u001B[38;5;28;01mif\u001B[39;00m columns \u001B[38;5;129;01mis\u001B[39;00m \u001B[38;5;129;01mnot\u001B[39;00m \u001B[38;5;28;01mNone\u001B[39;00m:\n\u001B[0;32m    717\u001B[0m         \u001B[38;5;66;03m# error: Argument 1 to \"ensure_index\" has incompatible type\u001B[39;00m\n\u001B[0;32m    718\u001B[0m         \u001B[38;5;66;03m# \"Collection[Any]\"; expected \"Union[Union[Union[ExtensionArray,\u001B[39;00m\n\u001B[0;32m    719\u001B[0m         \u001B[38;5;66;03m# ndarray], Index, Series], Sequence[Any]]\"\u001B[39;00m\n\u001B[0;32m    720\u001B[0m         columns \u001B[38;5;241m=\u001B[39m ensure_index(columns)  \u001B[38;5;66;03m# type: ignore[arg-type]\u001B[39;00m\n\u001B[1;32m--> 721\u001B[0m     arrays, columns, index \u001B[38;5;241m=\u001B[39m \u001B[43mnested_data_to_arrays\u001B[49m\u001B[43m(\u001B[49m\n\u001B[0;32m    722\u001B[0m \u001B[43m        \u001B[49m\u001B[38;5;66;43;03m# error: Argument 3 to \"nested_data_to_arrays\" has incompatible\u001B[39;49;00m\n\u001B[0;32m    723\u001B[0m \u001B[43m        \u001B[49m\u001B[38;5;66;43;03m# type \"Optional[Collection[Any]]\"; expected \"Optional[Index]\"\u001B[39;49;00m\n\u001B[0;32m    724\u001B[0m \u001B[43m        \u001B[49m\u001B[43mdata\u001B[49m\u001B[43m,\u001B[49m\n\u001B[0;32m    725\u001B[0m \u001B[43m        \u001B[49m\u001B[43mcolumns\u001B[49m\u001B[43m,\u001B[49m\n\u001B[0;32m    726\u001B[0m \u001B[43m        \u001B[49m\u001B[43mindex\u001B[49m\u001B[43m,\u001B[49m\u001B[43m  \u001B[49m\u001B[38;5;66;43;03m# type: ignore[arg-type]\u001B[39;49;00m\n\u001B[0;32m    727\u001B[0m \u001B[43m        \u001B[49m\u001B[43mdtype\u001B[49m\u001B[43m,\u001B[49m\n\u001B[0;32m    728\u001B[0m \u001B[43m    \u001B[49m\u001B[43m)\u001B[49m\n\u001B[0;32m    729\u001B[0m     mgr \u001B[38;5;241m=\u001B[39m arrays_to_mgr(\n\u001B[0;32m    730\u001B[0m         arrays,\n\u001B[0;32m    731\u001B[0m         columns,\n\u001B[1;32m   (...)\u001B[0m\n\u001B[0;32m    734\u001B[0m         typ\u001B[38;5;241m=\u001B[39mmanager,\n\u001B[0;32m    735\u001B[0m     )\n\u001B[0;32m    736\u001B[0m \u001B[38;5;28;01melse\u001B[39;00m:\n",
      "File \u001B[1;32m~\\anaconda3\\Lib\\site-packages\\pandas\\core\\internals\\construction.py:519\u001B[0m, in \u001B[0;36mnested_data_to_arrays\u001B[1;34m(data, columns, index, dtype)\u001B[0m\n\u001B[0;32m    516\u001B[0m \u001B[38;5;28;01mif\u001B[39;00m is_named_tuple(data[\u001B[38;5;241m0\u001B[39m]) \u001B[38;5;129;01mand\u001B[39;00m columns \u001B[38;5;129;01mis\u001B[39;00m \u001B[38;5;28;01mNone\u001B[39;00m:\n\u001B[0;32m    517\u001B[0m     columns \u001B[38;5;241m=\u001B[39m ensure_index(data[\u001B[38;5;241m0\u001B[39m]\u001B[38;5;241m.\u001B[39m_fields)\n\u001B[1;32m--> 519\u001B[0m arrays, columns \u001B[38;5;241m=\u001B[39m \u001B[43mto_arrays\u001B[49m\u001B[43m(\u001B[49m\u001B[43mdata\u001B[49m\u001B[43m,\u001B[49m\u001B[43m \u001B[49m\u001B[43mcolumns\u001B[49m\u001B[43m,\u001B[49m\u001B[43m \u001B[49m\u001B[43mdtype\u001B[49m\u001B[38;5;241;43m=\u001B[39;49m\u001B[43mdtype\u001B[49m\u001B[43m)\u001B[49m\n\u001B[0;32m    520\u001B[0m columns \u001B[38;5;241m=\u001B[39m ensure_index(columns)\n\u001B[0;32m    522\u001B[0m \u001B[38;5;28;01mif\u001B[39;00m index \u001B[38;5;129;01mis\u001B[39;00m \u001B[38;5;28;01mNone\u001B[39;00m:\n",
      "File \u001B[1;32m~\\anaconda3\\Lib\\site-packages\\pandas\\core\\internals\\construction.py:883\u001B[0m, in \u001B[0;36mto_arrays\u001B[1;34m(data, columns, dtype)\u001B[0m\n\u001B[0;32m    880\u001B[0m     data \u001B[38;5;241m=\u001B[39m [\u001B[38;5;28mtuple\u001B[39m(x) \u001B[38;5;28;01mfor\u001B[39;00m x \u001B[38;5;129;01min\u001B[39;00m data]\n\u001B[0;32m    881\u001B[0m     arr \u001B[38;5;241m=\u001B[39m _list_to_arrays(data)\n\u001B[1;32m--> 883\u001B[0m content, columns \u001B[38;5;241m=\u001B[39m \u001B[43m_finalize_columns_and_data\u001B[49m\u001B[43m(\u001B[49m\u001B[43marr\u001B[49m\u001B[43m,\u001B[49m\u001B[43m \u001B[49m\u001B[43mcolumns\u001B[49m\u001B[43m,\u001B[49m\u001B[43m \u001B[49m\u001B[43mdtype\u001B[49m\u001B[43m)\u001B[49m\n\u001B[0;32m    884\u001B[0m \u001B[38;5;28;01mreturn\u001B[39;00m content, columns\n",
      "File \u001B[1;32m~\\anaconda3\\Lib\\site-packages\\pandas\\core\\internals\\construction.py:985\u001B[0m, in \u001B[0;36m_finalize_columns_and_data\u001B[1;34m(content, columns, dtype)\u001B[0m\n\u001B[0;32m    982\u001B[0m     columns \u001B[38;5;241m=\u001B[39m _validate_or_indexify_columns(contents, columns)\n\u001B[0;32m    983\u001B[0m \u001B[38;5;28;01mexcept\u001B[39;00m \u001B[38;5;167;01mAssertionError\u001B[39;00m \u001B[38;5;28;01mas\u001B[39;00m err:\n\u001B[0;32m    984\u001B[0m     \u001B[38;5;66;03m# GH#26429 do not raise user-facing AssertionError\u001B[39;00m\n\u001B[1;32m--> 985\u001B[0m     \u001B[38;5;28;01mraise\u001B[39;00m \u001B[38;5;167;01mValueError\u001B[39;00m(err) \u001B[38;5;28;01mfrom\u001B[39;00m \u001B[38;5;21;01merr\u001B[39;00m\n\u001B[0;32m    987\u001B[0m \u001B[38;5;28;01mif\u001B[39;00m \u001B[38;5;28mlen\u001B[39m(contents) \u001B[38;5;129;01mand\u001B[39;00m contents[\u001B[38;5;241m0\u001B[39m]\u001B[38;5;241m.\u001B[39mdtype \u001B[38;5;241m==\u001B[39m np\u001B[38;5;241m.\u001B[39mobject_:\n\u001B[0;32m    988\u001B[0m     contents \u001B[38;5;241m=\u001B[39m _convert_object_array(contents, dtype\u001B[38;5;241m=\u001B[39mdtype)\n",
      "\u001B[1;31mValueError\u001B[0m: 2 columns passed, passed data had 14 columns"
     ]
    }
   ],
   "source": [
    "aperture, positions = excluding_duplicates(image_trimmer(aperture_photometry_function(test, fwhm = 22, threshold = 20000), test))"
   ],
   "metadata": {
    "collapsed": false,
    "pycharm": {
     "name": "#%%\n"
    }
   }
  },
  {
   "cell_type": "code",
   "execution_count": null,
   "outputs": [],
   "source": [
    "from convenience_functions import show_image, find_magnitude\n",
    "\n",
    "show_image(test, cmap = 'gray')\n",
    "aperture.plot(color='blue', lw=1.5, alpha=0.5);"
   ],
   "metadata": {
    "collapsed": false,
    "pycharm": {
     "name": "#%%\n"
    }
   }
  },
  {
   "cell_type": "code",
   "execution_count": 2,
   "metadata": {
    "pycharm": {
     "name": "#%%\n"
    }
   },
   "outputs": [
    {
     "ename": "NameError",
     "evalue": "name 'sources' is not defined",
     "output_type": "error",
     "traceback": [
      "\u001B[1;31m---------------------------------------------------------------------------\u001B[0m",
      "\u001B[1;31mNameError\u001B[0m                                 Traceback (most recent call last)",
      "Input \u001B[1;32mIn [2]\u001B[0m, in \u001B[0;36m<cell line: 11>\u001B[1;34m()\u001B[0m\n\u001B[0;32m      7\u001B[0m \u001B[38;5;28;01mfrom\u001B[39;00m \u001B[38;5;21;01mastropy\u001B[39;00m\u001B[38;5;21;01m.\u001B[39;00m\u001B[38;5;21;01mvisualization\u001B[39;00m\u001B[38;5;21;01m.\u001B[39;00m\u001B[38;5;21;01mmpl_normalize\u001B[39;00m \u001B[38;5;28;01mimport\u001B[39;00m ImageNormalize\n\u001B[0;32m      9\u001B[0m \u001B[38;5;28;01mfrom\u001B[39;00m \u001B[38;5;21;01mphotutils\u001B[39;00m\u001B[38;5;21;01m.\u001B[39;00m\u001B[38;5;21;01maperture\u001B[39;00m \u001B[38;5;28;01mimport\u001B[39;00m CircularAperture, CircularAnnulus, ApertureStats\n\u001B[1;32m---> 11\u001B[0m positions \u001B[38;5;241m=\u001B[39m np\u001B[38;5;241m.\u001B[39mtranspose((\u001B[43msources\u001B[49m[\u001B[38;5;124m'\u001B[39m\u001B[38;5;124mxcentroid\u001B[39m\u001B[38;5;124m'\u001B[39m], sources[\u001B[38;5;124m'\u001B[39m\u001B[38;5;124mycentroid\u001B[39m\u001B[38;5;124m'\u001B[39m]))\n\u001B[0;32m     13\u001B[0m apertures \u001B[38;5;241m=\u001B[39m CircularAperture(positions, r\u001B[38;5;241m=\u001B[39m\u001B[38;5;241m4.\u001B[39m)\n\u001B[0;32m     15\u001B[0m norm \u001B[38;5;241m=\u001B[39m ImageNormalize(stretch\u001B[38;5;241m=\u001B[39mSqrtStretch())\n",
      "\u001B[1;31mNameError\u001B[0m: name 'sources' is not defined"
     ]
    }
   ],
   "source": [
    "import numpy as np\n",
    "\n",
    "import matplotlib.pyplot as plt\n",
    "\n",
    "from astropy.visualization import SqrtStretch\n",
    "\n",
    "from astropy.visualization.mpl_normalize import ImageNormalize\n",
    "\n",
    "from photutils.aperture import CircularAperture, CircularAnnulus, ApertureStats\n",
    "\n",
    "positions = np.transpose((sources['xcentroid'], sources['ycentroid']))\n",
    "\n",
    "apertures = CircularAperture(positions, r=4.)\n",
    "\n",
    "norm = ImageNormalize(stretch=SqrtStretch())"
   ]
  },
  {
   "cell_type": "code",
   "execution_count": null,
   "metadata": {
    "pycharm": {
     "name": "#%%\n"
    }
   },
   "outputs": [],
   "source": [
    "from convenience_functions import show_image, find_magnitude\n",
    "\n",
    "show_image(test, cmap = 'twilight')\n",
    "apertures.plot(color='black', lw=1.5, alpha=0.5);"
   ]
  },
  {
   "cell_type": "code",
   "execution_count": null,
   "metadata": {
    "pycharm": {
     "name": "#%%\n"
    }
   },
   "outputs": [],
   "source": [
    "from photutils.aperture import aperture_photometry\n",
    "\n",
    "aperture_photometry(test, apertures)"
   ]
  },
  {
   "cell_type": "code",
   "execution_count": 11,
   "metadata": {
    "pycharm": {
     "name": "#%%\n"
    }
   },
   "outputs": [],
   "source": [
    "def aperture_photometry_function(array):\n",
    "    mean, median, std = sigma_clipped_stats(array, sigma=2.5)\n",
    "    daofind = DAOStarFinder(fwhm=3.0, threshold=10000)\n",
    "    sources = daofind(array - median)\n",
    "    positions = np.transpose((sources['xcentroid'], sources['ycentroid']))\n",
    "    apertures = CircularAperture(positions, r=4.)\n",
    "    result = aperture_photometry(test, apertures)\n",
    "    return result"
   ]
  },
  {
   "cell_type": "code",
   "execution_count": null,
   "metadata": {
    "pycharm": {
     "name": "#%%\n",
     "is_executing": true
    },
    "scrolled": true
   },
   "outputs": [],
   "source": [
    "aperture_dict = dict()\n",
    "for index, array in enumerate(data):\n",
    "    aperture_dict[index] = aperture_photometry_function(array)"
   ]
  },
  {
   "cell_type": "code",
   "execution_count": null,
   "metadata": {
    "pycharm": {
     "name": "#%%\n"
    }
   },
   "outputs": [],
   "source": [
    "for key in aperture_dict.keys():\n",
    "    aperture_dict[key] = aperture_dict[key].to_pandas()\n",
    "    aperture_dict[key] = aperture_dict[key].sort_values('aperture_sum', ascending = False)"
   ]
  },
  {
   "cell_type": "code",
   "execution_count": null,
   "metadata": {
    "pycharm": {
     "name": "#%%\n"
    }
   },
   "outputs": [],
   "source": []
  },
  {
   "cell_type": "code",
   "execution_count": 14,
   "metadata": {
    "pycharm": {
     "name": "#%%\n"
    }
   },
   "outputs": [],
   "source": [
    "from astroquery.astrometry_net import AstrometryNet\n",
    "\n",
    "ast = AstrometryNet"
   ]
  },
  {
   "cell_type": "code",
   "execution_count": 15,
   "metadata": {
    "pycharm": {
     "name": "#%%\n"
    }
   },
   "outputs": [
    {
     "ename": "FileNotFoundError",
     "evalue": "[Errno 2] No such file or directory: '../RV_Uma/Luminance/RV_Uma_Light_Luminance_16_secs_001.fits'",
     "output_type": "error",
     "traceback": [
      "\u001B[1;31m---------------------------------------------------------------------------\u001B[0m",
      "\u001B[1;31mFileNotFoundError\u001B[0m                         Traceback (most recent call last)",
      "Input \u001B[1;32mIn [15]\u001B[0m, in \u001B[0;36m<cell line: 7>\u001B[1;34m()\u001B[0m\n\u001B[0;32m      4\u001B[0m ast \u001B[38;5;241m=\u001B[39m AstrometryNet()\n\u001B[0;32m      5\u001B[0m ast\u001B[38;5;241m.\u001B[39mapi_key \u001B[38;5;241m=\u001B[39m \u001B[38;5;124m'\u001B[39m\u001B[38;5;124mvjzfuceldhqgdzxe\u001B[39m\u001B[38;5;124m'\u001B[39m\n\u001B[1;32m----> 7\u001B[0m wcs_header \u001B[38;5;241m=\u001B[39m \u001B[43mast\u001B[49m\u001B[38;5;241;43m.\u001B[39;49m\u001B[43msolve_from_image\u001B[49m\u001B[43m(\u001B[49m\u001B[38;5;124;43m'\u001B[39;49m\u001B[38;5;124;43m../RV_Uma/Luminance/RV_Uma_Light_Luminance_16_secs_001.fits\u001B[39;49m\u001B[38;5;124;43m'\u001B[39;49m\u001B[43m)\u001B[49m\n",
      "File \u001B[1;32m~\\anaconda3\\Lib\\site-packages\\astroquery\\astrometry_net\\core.py:384\u001B[0m, in \u001B[0;36mAstrometryNetClass.solve_from_image\u001B[1;34m(self, image_file_path, force_image_upload, ra_key, dec_key, ra_dec_units, fwhm, detect_threshold, solve_timeout, **settings)\u001B[0m\n\u001B[0;32m    377\u001B[0m \u001B[38;5;28;01melse\u001B[39;00m:\n\u001B[0;32m    378\u001B[0m     \u001B[38;5;66;03m# Detect sources and delegate to solve_from_source_list\u001B[39;00m\n\u001B[0;32m    379\u001B[0m     \u001B[38;5;28;01mif\u001B[39;00m _HAVE_CCDDATA:\n\u001B[0;32m    380\u001B[0m         \u001B[38;5;66;03m# CCDData requires a unit, so provide one. It has absolutely\u001B[39;00m\n\u001B[0;32m    381\u001B[0m         \u001B[38;5;66;03m# no impact on source detection. The reader for CCDData\u001B[39;00m\n\u001B[0;32m    382\u001B[0m         \u001B[38;5;66;03m# tries to find the first ImageHDU in a FITS file, so it\u001B[39;00m\n\u001B[0;32m    383\u001B[0m         \u001B[38;5;66;03m# is the preferred way to get the data.\u001B[39;00m\n\u001B[1;32m--> 384\u001B[0m         ccd \u001B[38;5;241m=\u001B[39m \u001B[43mCCDData\u001B[49m\u001B[38;5;241;43m.\u001B[39;49m\u001B[43mread\u001B[49m\u001B[43m(\u001B[49m\u001B[43mimage_file_path\u001B[49m\u001B[43m,\u001B[49m\u001B[43m \u001B[49m\u001B[43munit\u001B[49m\u001B[38;5;241;43m=\u001B[39;49m\u001B[38;5;124;43m'\u001B[39;49m\u001B[38;5;124;43madu\u001B[39;49m\u001B[38;5;124;43m'\u001B[39;49m\u001B[43m)\u001B[49m\n\u001B[0;32m    385\u001B[0m         data \u001B[38;5;241m=\u001B[39m ccd\u001B[38;5;241m.\u001B[39mdata\n\u001B[0;32m    386\u001B[0m     \u001B[38;5;28;01melse\u001B[39;00m:\n",
      "File \u001B[1;32m~\\anaconda3\\Lib\\site-packages\\astropy\\nddata\\mixins\\ndio.py:59\u001B[0m, in \u001B[0;36mNDDataRead.__call__\u001B[1;34m(self, *args, **kwargs)\u001B[0m\n\u001B[0;32m     58\u001B[0m \u001B[38;5;28;01mdef\u001B[39;00m \u001B[38;5;21m__call__\u001B[39m(\u001B[38;5;28mself\u001B[39m, \u001B[38;5;241m*\u001B[39margs, \u001B[38;5;241m*\u001B[39m\u001B[38;5;241m*\u001B[39mkwargs):\n\u001B[1;32m---> 59\u001B[0m     \u001B[38;5;28;01mreturn\u001B[39;00m \u001B[38;5;28mself\u001B[39m\u001B[38;5;241m.\u001B[39mregistry\u001B[38;5;241m.\u001B[39mread(\u001B[38;5;28mself\u001B[39m\u001B[38;5;241m.\u001B[39m_cls, \u001B[38;5;241m*\u001B[39margs, \u001B[38;5;241m*\u001B[39m\u001B[38;5;241m*\u001B[39mkwargs)\n",
      "File \u001B[1;32m~\\anaconda3\\Lib\\site-packages\\astropy\\io\\registry\\core.py:197\u001B[0m, in \u001B[0;36mUnifiedInputRegistry.read\u001B[1;34m(self, cls, format, cache, *args, **kwargs)\u001B[0m\n\u001B[0;32m    195\u001B[0m \u001B[38;5;28;01mtry\u001B[39;00m:\n\u001B[0;32m    196\u001B[0m     ctx \u001B[38;5;241m=\u001B[39m get_readable_fileobj(args[\u001B[38;5;241m0\u001B[39m], encoding\u001B[38;5;241m=\u001B[39m\u001B[38;5;124m'\u001B[39m\u001B[38;5;124mbinary\u001B[39m\u001B[38;5;124m'\u001B[39m, cache\u001B[38;5;241m=\u001B[39mcache)\n\u001B[1;32m--> 197\u001B[0m     fileobj \u001B[38;5;241m=\u001B[39m \u001B[43mctx\u001B[49m\u001B[38;5;241;43m.\u001B[39;49m\u001B[38;5;21;43m__enter__\u001B[39;49m\u001B[43m(\u001B[49m\u001B[43m)\u001B[49m\n\u001B[0;32m    198\u001B[0m \u001B[38;5;28;01mexcept\u001B[39;00m \u001B[38;5;167;01mOSError\u001B[39;00m:\n\u001B[0;32m    199\u001B[0m     \u001B[38;5;28;01mraise\u001B[39;00m\n",
      "File \u001B[1;32m~\\anaconda3\\Lib\\contextlib.py:119\u001B[0m, in \u001B[0;36m_GeneratorContextManager.__enter__\u001B[1;34m(self)\u001B[0m\n\u001B[0;32m    117\u001B[0m \u001B[38;5;28;01mdel\u001B[39;00m \u001B[38;5;28mself\u001B[39m\u001B[38;5;241m.\u001B[39margs, \u001B[38;5;28mself\u001B[39m\u001B[38;5;241m.\u001B[39mkwds, \u001B[38;5;28mself\u001B[39m\u001B[38;5;241m.\u001B[39mfunc\n\u001B[0;32m    118\u001B[0m \u001B[38;5;28;01mtry\u001B[39;00m:\n\u001B[1;32m--> 119\u001B[0m     \u001B[38;5;28;01mreturn\u001B[39;00m \u001B[38;5;28;43mnext\u001B[39;49m\u001B[43m(\u001B[49m\u001B[38;5;28;43mself\u001B[39;49m\u001B[38;5;241;43m.\u001B[39;49m\u001B[43mgen\u001B[49m\u001B[43m)\u001B[49m\n\u001B[0;32m    120\u001B[0m \u001B[38;5;28;01mexcept\u001B[39;00m \u001B[38;5;167;01mStopIteration\u001B[39;00m:\n\u001B[0;32m    121\u001B[0m     \u001B[38;5;28;01mraise\u001B[39;00m \u001B[38;5;167;01mRuntimeError\u001B[39;00m(\u001B[38;5;124m\"\u001B[39m\u001B[38;5;124mgenerator didn\u001B[39m\u001B[38;5;124m'\u001B[39m\u001B[38;5;124mt yield\u001B[39m\u001B[38;5;124m\"\u001B[39m) \u001B[38;5;28;01mfrom\u001B[39;00m \u001B[38;5;28mNone\u001B[39m\n",
      "File \u001B[1;32m~\\anaconda3\\Lib\\site-packages\\astropy\\utils\\data.py:271\u001B[0m, in \u001B[0;36mget_readable_fileobj\u001B[1;34m(name_or_obj, encoding, cache, show_progress, remote_timeout, sources, http_headers)\u001B[0m\n\u001B[0;32m    266\u001B[0m \u001B[38;5;28;01mif\u001B[39;00m is_url:\n\u001B[0;32m    267\u001B[0m     name_or_obj \u001B[38;5;241m=\u001B[39m download_file(\n\u001B[0;32m    268\u001B[0m         name_or_obj, cache\u001B[38;5;241m=\u001B[39mcache, show_progress\u001B[38;5;241m=\u001B[39mshow_progress,\n\u001B[0;32m    269\u001B[0m         timeout\u001B[38;5;241m=\u001B[39mremote_timeout, sources\u001B[38;5;241m=\u001B[39msources,\n\u001B[0;32m    270\u001B[0m         http_headers\u001B[38;5;241m=\u001B[39mhttp_headers)\n\u001B[1;32m--> 271\u001B[0m fileobj \u001B[38;5;241m=\u001B[39m \u001B[43mio\u001B[49m\u001B[38;5;241;43m.\u001B[39;49m\u001B[43mFileIO\u001B[49m\u001B[43m(\u001B[49m\u001B[43mname_or_obj\u001B[49m\u001B[43m,\u001B[49m\u001B[43m \u001B[49m\u001B[38;5;124;43m'\u001B[39;49m\u001B[38;5;124;43mr\u001B[39;49m\u001B[38;5;124;43m'\u001B[39;49m\u001B[43m)\u001B[49m\n\u001B[0;32m    272\u001B[0m \u001B[38;5;28;01mif\u001B[39;00m is_url \u001B[38;5;129;01mand\u001B[39;00m \u001B[38;5;129;01mnot\u001B[39;00m cache:\n\u001B[0;32m    273\u001B[0m     delete_fds\u001B[38;5;241m.\u001B[39mappend(fileobj)\n",
      "\u001B[1;31mFileNotFoundError\u001B[0m: [Errno 2] No such file or directory: '../RV_Uma/Luminance/RV_Uma_Light_Luminance_16_secs_001.fits'"
     ]
    }
   ],
   "source": [
    "from astropy.table import Table\n",
    "from astroquery.astrometry_net import AstrometryNet\n",
    "\n",
    "ast = AstrometryNet()\n",
    "ast.api_key = 'vjzfuceldhqgdzxe'\n",
    "\n",
    "wcs_header = ast.solve_from_image('../RV_Uma/Luminance/RV_Uma_Light_Luminance_16_secs_001.fits')"
   ]
  },
  {
   "cell_type": "code",
   "execution_count": null,
   "metadata": {
    "pycharm": {
     "name": "#%%\n"
    }
   },
   "outputs": [],
   "source": [
    "print('RA', wcs_header['CRVAL1'])\n",
    "print('DEC', wcs_header['CRVAL2'])"
   ]
  },
  {
   "cell_type": "code",
   "execution_count": 16,
   "metadata": {
    "pycharm": {
     "name": "#%%\n"
    }
   },
   "outputs": [
    {
     "data": {
      "text/plain": "<QTable length=14>\n  id      xcentroid      ...        flux                mag        \nint32      float64       ...      float64             float64      \n----- ------------------ ... ------------------ -------------------\n    1 3760.9510781302442 ...  7.888861202166443  -2.242535787709696\n    2  611.4051246893503 ... 1.6886557707584442 -0.5688528212389392\n    3  344.8971667208177 ...  6.943117100136566 -2.1038862249353767\n    4 342.43888996136326 ...  7.550350879642359  -2.194917836540393\n    5   347.982209745495 ...   8.64447862137935 -2.3418470114666574\n    6  4603.341106765038 ... 3.2632350943482598 -1.2841209073476132\n    7 4586.5293207632085 ... 1.9513350485283274  -0.725829612791955\n    8 2295.4230049807456 ... 1.5111941231324306 -0.4483006399840872\n    9 2292.9457242008116 ... 1.4473582543241592 -0.4014401056461244\n   10  2138.865263994635 ...  6.712312071747632 -2.0671803492474234\n   11  2133.064205697067 ...  7.302667247588458 -2.1587037802122304\n   12 2140.3977282398696 ...  7.335622114317469 -2.1635923777107666\n   13  383.5346841681981 ...  1.569035715708959  -0.489082073688148\n   14  284.8266007791249 ...  4.841909543155875 -1.7125416791649393",
      "text/html": "<div><i>QTable length=14</i>\n<table id=\"table1986037476704\" class=\"table-striped table-bordered table-condensed\">\n<thead><tr><th>id</th><th>xcentroid</th><th>ycentroid</th><th>sharpness</th><th>roundness1</th><th>roundness2</th><th>npix</th><th>sky</th><th>peak</th><th>flux</th><th>mag</th></tr></thead>\n<thead><tr><th>int32</th><th>float64</th><th>float64</th><th>float64</th><th>float64</th><th>float64</th><th>int32</th><th>float64</th><th>float64</th><th>float64</th><th>float64</th></tr></thead>\n<tr><td>1</td><td>3760.9510781302442</td><td>390.79348047386173</td><td>0.45777457013086753</td><td>0.14182157978156068</td><td>0.07337406151425259</td><td>121</td><td>0.0</td><td>55498.14698274361</td><td>7.888861202166443</td><td>-2.242535787709696</td></tr>\n<tr><td>2</td><td>611.4051246893503</td><td>1054.8873224373185</td><td>0.39968555597787164</td><td>0.3713863494414976</td><td>-0.33343467248726955</td><td>121</td><td>0.0</td><td>10503.052146286282</td><td>1.6886557707584442</td><td>-0.5688528212389392</td></tr>\n<tr><td>3</td><td>344.8971667208177</td><td>1061.206798100374</td><td>0.31958500167717574</td><td>0.10880369865111222</td><td>-0.8689848729458001</td><td>121</td><td>0.0</td><td>67302.1559257104</td><td>6.943117100136566</td><td>-2.1038862249353767</td></tr>\n<tr><td>4</td><td>342.43888996136326</td><td>1062.977150888977</td><td>0.32486425381812173</td><td>0.3953728667038085</td><td>0.3001285530561121</td><td>121</td><td>0.0</td><td>67616.163619317</td><td>7.550350879642359</td><td>-2.194917836540393</td></tr>\n<tr><td>5</td><td>347.982209745495</td><td>1064.6208641500464</td><td>0.3221124256743448</td><td>0.11262654067387526</td><td>-0.1444620886688238</td><td>121</td><td>0.0</td><td>66872.51499277673</td><td>8.64447862137935</td><td>-2.3418470114666574</td></tr>\n<tr><td>6</td><td>4603.341106765038</td><td>1224.9910600552184</td><td>0.4590274089760858</td><td>-0.03111016978605498</td><td>0.10262407575062453</td><td>121</td><td>0.0</td><td>23934.26742012596</td><td>3.2632350943482598</td><td>-1.2841209073476132</td></tr>\n<tr><td>7</td><td>4586.5293207632085</td><td>1228.5566383211892</td><td>0.3905328592786153</td><td>-0.008812350774506624</td><td>-0.022855600221072317</td><td>121</td><td>0.0</td><td>13708.515698199479</td><td>1.9513350485283274</td><td>-0.725829612791955</td></tr>\n<tr><td>8</td><td>2295.4230049807456</td><td>1798.6168377155636</td><td>0.4393629729470208</td><td>-0.09099883347674934</td><td>-0.12862025114547593</td><td>121</td><td>0.0</td><td>11225.085503881564</td><td>1.5111941231324306</td><td>-0.4483006399840872</td></tr>\n<tr><td>9</td><td>2292.9457242008116</td><td>1799.2024806535699</td><td>0.48546757561939846</td><td>-0.2567862238713261</td><td>-0.44182335273940365</td><td>121</td><td>0.0</td><td>10745.817241342611</td><td>1.4473582543241592</td><td>-0.4014401056461244</td></tr>\n<tr><td>10</td><td>2138.865263994635</td><td>2671.3095582539736</td><td>0.35769585668308307</td><td>0.6655930830977504</td><td>-0.2548356414382181</td><td>121</td><td>0.0</td><td>62687.66889193756</td><td>6.712312071747632</td><td>-2.0671803492474234</td></tr>\n<tr><td>11</td><td>2133.064205697067</td><td>2672.511719905114</td><td>0.4161461694609267</td><td>0.089574967215173</td><td>0.32328842143240805</td><td>121</td><td>0.0</td><td>64333.086510503155</td><td>7.302667247588458</td><td>-2.1587037802122304</td></tr>\n<tr><td>12</td><td>2140.3977282398696</td><td>2674.1004827142915</td><td>0.4419378777083645</td><td>0.03728458113273073</td><td>-0.10098948740652307</td><td>121</td><td>0.0</td><td>63320.75403971304</td><td>7.335622114317469</td><td>-2.1635923777107666</td></tr>\n<tr><td>13</td><td>383.5346841681981</td><td>3314.7202449293463</td><td>0.527797149154543</td><td>0.004580008612932378</td><td>-0.5208560607346895</td><td>121</td><td>0.0</td><td>11383.441603310193</td><td>1.569035715708959</td><td>-0.489082073688148</td></tr>\n<tr><td>14</td><td>284.8266007791249</td><td>3357.160852970895</td><td>0.4349500468976143</td><td>0.022209983274276604</td><td>-0.5938799117882674</td><td>121</td><td>0.0</td><td>34129.796460563746</td><td>4.841909543155875</td><td>-1.7125416791649393</td></tr>\n</table></div>"
     },
     "execution_count": 16,
     "metadata": {},
     "output_type": "execute_result"
    }
   ],
   "source": [
    "sources"
   ]
  },
  {
   "cell_type": "code",
   "execution_count": 17,
   "metadata": {
    "pycharm": {
     "name": "#%%\n"
    }
   },
   "outputs": [
    {
     "data": {
      "text/plain": "<Column name='ycentroid' dtype='float64' length=14>\n390.79348047386173\n1054.8873224373185\n 1061.206798100374\n 1062.977150888977\n1064.6208641500464\n1224.9910600552184\n1228.5566383211892\n1798.6168377155636\n1799.2024806535699\n2671.3095582539736\n 2672.511719905114\n2674.1004827142915\n3314.7202449293463\n 3357.160852970895",
      "text/html": "&lt;Column name=&apos;ycentroid&apos; dtype=&apos;float64&apos; length=14&gt;\n<table>\n<tr><td>390.79348047386173</td></tr>\n<tr><td>1054.8873224373185</td></tr>\n<tr><td>1061.206798100374</td></tr>\n<tr><td>1062.977150888977</td></tr>\n<tr><td>1064.6208641500464</td></tr>\n<tr><td>1224.9910600552184</td></tr>\n<tr><td>1228.5566383211892</td></tr>\n<tr><td>1798.6168377155636</td></tr>\n<tr><td>1799.2024806535699</td></tr>\n<tr><td>2671.3095582539736</td></tr>\n<tr><td>2672.511719905114</td></tr>\n<tr><td>2674.1004827142915</td></tr>\n<tr><td>3314.7202449293463</td></tr>\n<tr><td>3357.160852970895</td></tr>\n</table>"
     },
     "execution_count": 17,
     "metadata": {},
     "output_type": "execute_result"
    }
   ],
   "source": [
    "sources['xcentroid']\n",
    "sources['ycentroid']"
   ]
  },
  {
   "cell_type": "markdown",
   "metadata": {
    "pycharm": {
     "name": "#%% md\n"
    }
   },
   "source": [
    "TODO\n",
    "\n",
    "DO APERTURE PHOTOMETRY ON THE STARS OF THE FIRST IMAGE\n",
    "\n",
    "PASS EVERYTHING TO SKY COORDINATES\n",
    "\n",
    "RUN APERTURE PHOTOMETRY ON EVERY OTHER IMAGE USING SKY COORDINATES"
   ]
  },
  {
   "cell_type": "code",
   "execution_count": 18,
   "metadata": {
    "pycharm": {
     "name": "#%%\n"
    }
   },
   "outputs": [],
   "source": [
    "# def aperture_photometry_function_v2(array):\n",
    "\n",
    "aperture = CircularAperture(positions, r=4)\n",
    "annulus_aperture = CircularAnnulus(positions, r_in=8, r_out=15)"
   ]
  },
  {
   "cell_type": "code",
   "execution_count": 19,
   "metadata": {
    "pycharm": {
     "name": "#%%\n"
    }
   },
   "outputs": [],
   "source": [
    "sigclip = SigmaClip(sigma=2.5, maxiters=5)\n",
    "aper_stats = ApertureStats(test, aperture, sigma_clip=None)\n",
    "bkg_stats = ApertureStats(test, annulus_aperture, sigma_clip=sigclip)"
   ]
  },
  {
   "cell_type": "code",
   "execution_count": 20,
   "metadata": {
    "pycharm": {
     "name": "#%%\n"
    }
   },
   "outputs": [
    {
     "name": "stdout",
     "output_type": "stream",
     "text": [
      "[1385.63205281  481.92068242 5100.26797193 4569.53595379 4595.41325342\n",
      " 1228.10124838  735.94107528  626.67539892  617.4009283  6533.75712086\n",
      " 4857.57401358 5473.96613935  524.99615398 1220.34176308]\n"
     ]
    }
   ],
   "source": [
    "bkg_median = bkg_stats.median\n",
    "print(bkg_median)"
   ]
  },
  {
   "cell_type": "code",
   "execution_count": 21,
   "metadata": {
    "pycharm": {
     "name": "#%%\n"
    }
   },
   "outputs": [
    {
     "name": "stdout",
     "output_type": "stream",
     "text": [
      " id  xcenter   ycenter  aperture_sum\n",
      "       pix       pix                \n",
      "--- --------- --------- ------------\n",
      "  1 3760.9511 390.79348    2060793.1\n",
      "  2 611.40512 1054.8873    424064.93\n",
      "  3 344.89717 1061.2068      3389946\n",
      "  4 342.43889 1062.9772    3398866.3\n",
      "  5 347.98221 1064.6209    3362385.3\n",
      "  6 4603.3411 1224.9911    910001.35\n",
      "  7 4586.5293 1228.5566    546220.12\n",
      "  8  2295.423 1798.6168    484107.33\n",
      "  9 2292.9457 1799.2025    474696.73\n",
      " 10 2138.8653 2671.3096    3176835.3\n",
      " 11 2133.0642 2672.5117    3184991.7\n",
      " 12 2140.3977 2674.1005    3150079.9\n",
      " 13 383.53468 3314.7202    410023.42\n",
      " 14  284.8266 3357.1609    1312416.3\n"
     ]
    }
   ],
   "source": [
    "from photutils.aperture import aperture_photometry\n",
    "phot_table = aperture_photometry(test, aperture)\n",
    "for col in phot_table.colnames:\n",
    "   phot_table[col].info.format = '%.8g'  # for consistent table output\n",
    "print(phot_table)"
   ]
  },
  {
   "cell_type": "code",
   "execution_count": 22,
   "metadata": {
    "pycharm": {
     "name": "#%%\n"
    }
   },
   "outputs": [
    {
     "name": "stdout",
     "output_type": "stream",
     "text": [
      "[50.26548246 50.26548246 50.26548246 50.26548246 50.26548246 50.26548246\n",
      " 50.26548246 50.26548246 50.26548246 50.26548246 50.26548246 50.26548246\n",
      " 50.26548246 50.26548246]\n"
     ]
    }
   ],
   "source": [
    "aperture_area = aper_stats.sum_aper_area.value\n",
    "print(aperture_area)"
   ]
  },
  {
   "cell_type": "code",
   "execution_count": 23,
   "metadata": {
    "pycharm": {
     "name": "#%%\n"
    }
   },
   "outputs": [],
   "source": [
    "total_bkg = bkg_median * aperture_area\n",
    "phot_bkgsub = phot_table['aperture_sum'] - total_bkg"
   ]
  },
  {
   "cell_type": "code",
   "execution_count": 24,
   "metadata": {
    "pycharm": {
     "name": "#%%\n"
    }
   },
   "outputs": [
    {
     "name": "stdout",
     "output_type": "stream",
     "text": [
      " id  xcenter   ycenter  aperture_sum total_bkg aperture_sum_bkgsub\n",
      "       pix       pix                                              \n",
      "--- --------- --------- ------------ --------- -------------------\n",
      "  1 3760.9511 390.79348    2060793.1 69649.464           1991143.6\n",
      "  2 611.40512 1054.8873    424064.93 24223.976           399840.96\n",
      "  3 344.89717 1061.2068      3389946 256367.43           3133578.5\n",
      "  4 342.43889 1062.9772    3398866.3 229689.93           3169176.4\n",
      "  5 347.98221 1064.6209    3362385.3 230990.66           3131394.6\n",
      "  6 4603.3411 1224.9911    910001.35 61731.102           848270.25\n",
      "  7 4586.5293 1228.5566    546220.12 36992.433           509227.68\n",
      "  8  2295.423 1798.6168    484107.33 31500.141           452607.19\n",
      "  9 2292.9457 1799.2025    474696.73 31033.956           443662.78\n",
      " 10 2138.8653 2671.3096    3176835.3 328422.45           2848412.8\n",
      " 11 2133.0642 2672.5117    3184991.7  244168.3           2940823.4\n",
      " 12 2140.3977 2674.1005    3150079.9 275151.55           2874928.4\n",
      " 13 383.53468 3314.7202    410023.42 26389.185           383634.24\n",
      " 14  284.8266 3357.1609    1312416.3 61341.067           1251075.3\n"
     ]
    }
   ],
   "source": [
    "phot_table['total_bkg'] = total_bkg\n",
    "phot_table['aperture_sum_bkgsub'] = phot_bkgsub\n",
    "for col in phot_table.colnames:\n",
    "    phot_table[col].info.format = '%.8g'\n",
    "print(phot_table)"
   ]
  },
  {
   "cell_type": "code",
   "execution_count": 25,
   "outputs": [
    {
     "data": {
      "text/plain": "numpy.ndarray"
     },
     "execution_count": 25,
     "metadata": {},
     "output_type": "execute_result"
    }
   ],
   "source": [
    "type(positions)"
   ],
   "metadata": {
    "collapsed": false,
    "pycharm": {
     "name": "#%%\n"
    }
   }
  },
  {
   "cell_type": "code",
   "execution_count": 26,
   "metadata": {
    "pycharm": {
     "name": "#%%\n"
    }
   },
   "outputs": [],
   "source": [
    "image_size = test.shape\n",
    "x_trim = image_size[1] * 0.05\n",
    "y_trim = image_size[0] * 0.05\n",
    "positions = pd.DataFrame(positions, columns = ['xcenter', 'ycenter'])"
   ]
  },
  {
   "cell_type": "code",
   "execution_count": 27,
   "outputs": [],
   "source": [
    "positions = positions[(positions['xcenter'] - x_trim > 0) & (positions['xcenter'] + x_trim < image_size[1])]\n",
    "positions = positions[(positions['ycenter'] - y_trim > 0) & (positions['ycenter'] + y_trim < image_size[0])]"
   ],
   "metadata": {
    "collapsed": false,
    "pycharm": {
     "name": "#%%\n"
    }
   }
  },
  {
   "cell_type": "code",
   "execution_count": 28,
   "outputs": [
    {
     "data": {
      "text/plain": "        xcenter      ycenter\n0   3760.951078   390.793480\n1    611.405125  1054.887322\n2    344.897167  1061.206798\n3    342.438890  1062.977151\n4    347.982210  1064.620864\n7   2295.423005  1798.616838\n8   2292.945724  1799.202481\n9   2138.865264  2671.309558\n10  2133.064206  2672.511720\n11  2140.397728  2674.100483\n12   383.534684  3314.720245",
      "text/html": "<div>\n<style scoped>\n    .dataframe tbody tr th:only-of-type {\n        vertical-align: middle;\n    }\n\n    .dataframe tbody tr th {\n        vertical-align: top;\n    }\n\n    .dataframe thead th {\n        text-align: right;\n    }\n</style>\n<table border=\"1\" class=\"dataframe\">\n  <thead>\n    <tr style=\"text-align: right;\">\n      <th></th>\n      <th>xcenter</th>\n      <th>ycenter</th>\n    </tr>\n  </thead>\n  <tbody>\n    <tr>\n      <th>0</th>\n      <td>3760.951078</td>\n      <td>390.793480</td>\n    </tr>\n    <tr>\n      <th>1</th>\n      <td>611.405125</td>\n      <td>1054.887322</td>\n    </tr>\n    <tr>\n      <th>2</th>\n      <td>344.897167</td>\n      <td>1061.206798</td>\n    </tr>\n    <tr>\n      <th>3</th>\n      <td>342.438890</td>\n      <td>1062.977151</td>\n    </tr>\n    <tr>\n      <th>4</th>\n      <td>347.982210</td>\n      <td>1064.620864</td>\n    </tr>\n    <tr>\n      <th>7</th>\n      <td>2295.423005</td>\n      <td>1798.616838</td>\n    </tr>\n    <tr>\n      <th>8</th>\n      <td>2292.945724</td>\n      <td>1799.202481</td>\n    </tr>\n    <tr>\n      <th>9</th>\n      <td>2138.865264</td>\n      <td>2671.309558</td>\n    </tr>\n    <tr>\n      <th>10</th>\n      <td>2133.064206</td>\n      <td>2672.511720</td>\n    </tr>\n    <tr>\n      <th>11</th>\n      <td>2140.397728</td>\n      <td>2674.100483</td>\n    </tr>\n    <tr>\n      <th>12</th>\n      <td>383.534684</td>\n      <td>3314.720245</td>\n    </tr>\n  </tbody>\n</table>\n</div>"
     },
     "execution_count": 28,
     "metadata": {},
     "output_type": "execute_result"
    }
   ],
   "source": [
    "positions"
   ],
   "metadata": {
    "collapsed": false,
    "pycharm": {
     "name": "#%%\n"
    }
   }
  },
  {
   "cell_type": "code",
   "execution_count": 29,
   "outputs": [],
   "source": [
    "def image_trimmer(positions, array):\n",
    "    image_size = array.shape\n",
    "    x_trim = image_size[1] * 0.05\n",
    "    y_trim = image_size[0] * 0.05\n",
    "    positions = pd.DataFrame(positions, columns = ['xcenter', 'ycenter'])\n",
    "    positions = positions[(positions['xcenter'] - x_trim > 0) & (positions['xcenter'] + x_trim < image_size[1])]\n",
    "    positions = positions[(positions['ycenter'] - y_trim > 0) & (positions['ycenter'] + y_trim < image_size[0])]\n",
    "    return positions"
   ],
   "metadata": {
    "collapsed": false,
    "pycharm": {
     "name": "#%%\n"
    }
   }
  },
  {
   "cell_type": "code",
   "execution_count": 31,
   "outputs": [],
   "source": [
    "trimmed_positions = image_trimmer(positions, test)"
   ],
   "metadata": {
    "collapsed": false,
    "pycharm": {
     "name": "#%%\n"
    }
   }
  },
  {
   "cell_type": "code",
   "execution_count": 41,
   "outputs": [],
   "source": [
    "def excluding_duplicates(df):\n",
    "    #Taking initial comparison values from first row\n",
    "    xcenter,ycenter = df.iloc[0][['xcenter','ycenter']]\n",
    "    #Including first row in result\n",
    "    filters = [True]\n",
    "\n",
    "    #Skipping first row in comparisons\n",
    "    for index, row in df.iloc[1:].iterrows():\n",
    "        if 0.99*xcenter <= row['xcenter'] <= 1.01*xcenter and 0.99*ycenter <= row['ycenter'] <= 1.01*ycenter:\n",
    "            filters.append(False)\n",
    "        else:\n",
    "            filters.append(True)\n",
    "            # Updating values to compare based on latest accepted row\n",
    "            xcenter = row['xcenter']\n",
    "            ycenter = row['ycenter']\n",
    "\n",
    "    result = df.loc[filters]\n",
    "    return result.reset_index(drop = True)"
   ],
   "metadata": {
    "collapsed": false,
    "pycharm": {
     "name": "#%%\n"
    }
   }
  },
  {
   "cell_type": "code",
   "execution_count": 42,
   "outputs": [
    {
     "data": {
      "text/plain": "       xcenter      ycenter\n0  3760.951078   390.793480\n1   611.405125  1054.887322\n2   344.897167  1061.206798\n3  2295.423005  1798.616838\n4  2138.865264  2671.309558\n5   383.534684  3314.720245",
      "text/html": "<div>\n<style scoped>\n    .dataframe tbody tr th:only-of-type {\n        vertical-align: middle;\n    }\n\n    .dataframe tbody tr th {\n        vertical-align: top;\n    }\n\n    .dataframe thead th {\n        text-align: right;\n    }\n</style>\n<table border=\"1\" class=\"dataframe\">\n  <thead>\n    <tr style=\"text-align: right;\">\n      <th></th>\n      <th>xcenter</th>\n      <th>ycenter</th>\n    </tr>\n  </thead>\n  <tbody>\n    <tr>\n      <th>0</th>\n      <td>3760.951078</td>\n      <td>390.793480</td>\n    </tr>\n    <tr>\n      <th>1</th>\n      <td>611.405125</td>\n      <td>1054.887322</td>\n    </tr>\n    <tr>\n      <th>2</th>\n      <td>344.897167</td>\n      <td>1061.206798</td>\n    </tr>\n    <tr>\n      <th>3</th>\n      <td>2295.423005</td>\n      <td>1798.616838</td>\n    </tr>\n    <tr>\n      <th>4</th>\n      <td>2138.865264</td>\n      <td>2671.309558</td>\n    </tr>\n    <tr>\n      <th>5</th>\n      <td>383.534684</td>\n      <td>3314.720245</td>\n    </tr>\n  </tbody>\n</table>\n</div>"
     },
     "execution_count": 42,
     "metadata": {},
     "output_type": "execute_result"
    }
   ],
   "source": [
    "excluding_duplicates(trimmed_positions)"
   ],
   "metadata": {
    "collapsed": false,
    "pycharm": {
     "name": "#%%\n"
    }
   }
  },
  {
   "cell_type": "code",
   "execution_count": null,
   "outputs": [],
   "source": [],
   "metadata": {
    "collapsed": false,
    "pycharm": {
     "name": "#%%\n"
    }
   }
  }
 ],
 "metadata": {
  "kernelspec": {
   "display_name": "Python 3 (ipykernel)",
   "language": "python",
   "name": "python3"
  },
  "language_info": {
   "codemirror_mode": {
    "name": "ipython",
    "version": 3
   },
   "file_extension": ".py",
   "mimetype": "text/x-python",
   "name": "python",
   "nbconvert_exporter": "python",
   "pygments_lexer": "ipython3",
   "version": "3.9.13"
  }
 },
 "nbformat": 4,
 "nbformat_minor": 1
}