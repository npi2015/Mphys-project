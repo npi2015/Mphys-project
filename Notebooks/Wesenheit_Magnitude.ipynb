{
 "cells": [
  {
   "cell_type": "code",
   "execution_count": 127,
   "id": "007ff8c9",
   "metadata": {
    "pycharm": {
     "name": "#%%\n"
    }
   },
   "outputs": [],
   "source": [
    "import pandas as pd\n",
    "import numpy as np"
   ]
  },
  {
   "cell_type": "code",
   "execution_count": 128,
   "id": "c2b2717e",
   "metadata": {
    "pycharm": {
     "name": "#%%\n"
    }
   },
   "outputs": [],
   "source": [
    "wavelength_L = 543\n",
    "wavelength_R = 644\n",
    "wavelength_G = 532\n",
    "wavelength_B = 443"
   ]
  },
  {
   "cell_type": "code",
   "execution_count": 129,
   "id": "f5b18f8e",
   "metadata": {
    "pycharm": {
     "name": "#%%\n"
    }
   },
   "outputs": [],
   "source": [
    "def extinction(wavelength):\n",
    "    reddening_V = 3.1\n",
    "    wavelength_microm = wavelength * 10 ** -3\n",
    "    frequency = 1 / wavelength_microm\n",
    "    x = frequency - 1.82\n",
    "    a = 1 + 0.17699 * x - 0.50447 * x ** 2 - 0.02427 * x ** 3 + 0.72085 * x ** 4 + 0.01979 * x ** 5 - 0.77530 * x ** 6 + 0.32999 * x ** 7\n",
    "    b = 1.41338 * x + 2.28305 * x ** 2 + 1.07233 * x ** 3 - 5.38434 * x ** 4 - 0.62251 * x ** 5 + 5.30260 * x ** 6 - 2.09002 * x ** 7\n",
    "    extinction_value = (a + b) / reddening_V\n",
    "    return extinction_value"
   ]
  },
  {
   "cell_type": "code",
   "execution_count": 130,
   "id": "d3250294",
   "metadata": {
    "pycharm": {
     "name": "#%%\n"
    }
   },
   "outputs": [
    {
     "name": "stdout",
     "output_type": "stream",
     "text": [
      "0.3339437954712049 0.2131951396067385 0.3553052430870536 0.635296744552413\n"
     ]
    }
   ],
   "source": [
    "print(extinction(wavelength_L), extinction(wavelength_R), extinction(wavelength_G), extinction(wavelength_B))"
   ]
  },
  {
   "cell_type": "code",
   "execution_count": 131,
   "id": "1c6283e1",
   "metadata": {
    "pycharm": {
     "name": "#%%\n"
    }
   },
   "outputs": [],
   "source": [
    "def wesenheit_mag(mag_X, mag_Y, delta_mag_X, delta_mag_Y, wavelength_X, wavelength_Y):\n",
    "    extinction_X = extinction(wavelength_X)\n",
    "    extinction_Y = extinction(wavelength_Y)\n",
    "    reddening = extinction_X / (extinction_X - extinction_Y)\n",
    "    Wesenheit_mag = mag_X - reddening * (mag_X - mag_Y)\n",
    "    err_Wesenheit_mag = (1 - reddening) * delta_mag_X + reddening * delta_mag_Y\n",
    "    return Wesenheit_mag, err_Wesenheit_mag"
   ]
  },
  {
   "cell_type": "code",
   "execution_count": 132,
   "id": "6bda00a4",
   "metadata": {
    "pycharm": {
     "name": "#%%\n"
    }
   },
   "outputs": [],
   "source": [
    "def absolute_mag(m, d):\n",
    "    distance_modulus = 5 * np.log10(d) - 5\n",
    "    M = m - distance_modulus\n",
    "    return M"
   ]
  },
  {
   "cell_type": "markdown",
   "source": [
    "# Reading the RV UMa data"
   ],
   "metadata": {
    "collapsed": false,
    "pycharm": {
     "name": "#%% md\n"
    }
   }
  },
  {
   "cell_type": "code",
   "execution_count": 133,
   "outputs": [],
   "source": [
    "import re\n",
    "from ast import literal_eval\n",
    "import numpy as np\n",
    "\n",
    "filter_name = 'red'\n",
    "with open(f'RV_UMaData{filter_name.upper()}.txt', 'r') as file:\n",
    "    red_string = file.read()\n",
    "\n",
    "data_red = re.split(r'\\*+', red_string)\n",
    "red_phase_string_rv = data_red[1]\n",
    "red_mags_string_rv = data_red[2]\n",
    "red_error_string_rv = data_red[3]\n",
    "red_julian_dates_string_rv = data_red[4]\n",
    "\n",
    "red_phase_rv = literal_eval(re.sub('\\s+', ',',red_phase_string_rv.strip('\\n')))[1:]\n",
    "red_mags_rv = eval(re.sub('\\s+', ',',red_mags_string_rv.strip('\\n').replace('nan', 'np.nan')))[1:]\n",
    "red_error_rv = eval(re.sub('\\s+', ',',red_error_string_rv.strip('\\n').replace('nan', 'np.nan')))[0][1:]\n",
    "red_julian_date_rv = eval(re.sub('\\s+', ',',red_julian_dates_string_rv.strip('\\n').replace('nan', 'np.nan')))[1:]\n",
    "\n",
    "red_weights_rv = 1/np.array(red_error_rv)**2\n",
    "normalized_red_weights_rv = red_weights_rv / np.nanmax(red_weights_rv)"
   ],
   "metadata": {
    "collapsed": false,
    "pycharm": {
     "name": "#%%\n"
    }
   }
  },
  {
   "cell_type": "code",
   "execution_count": 134,
   "outputs": [],
   "source": [
    "filter_name = 'blue'\n",
    "with open(f'RV_UMaData{filter_name.upper()}.txt', 'r') as file:\n",
    "    blue_string = file.read()\n",
    "\n",
    "data_blue = re.split(r'\\*+', blue_string)\n",
    "blue_phase_string_rv = data_blue[1]\n",
    "blue_mags_string_rv = data_blue[2]\n",
    "blue_error_string_rv = data_blue[3]\n",
    "blue_julian_dates_string_rv = data_blue[4]\n",
    "\n",
    "blue_phase_rv = literal_eval(re.sub('\\s+', ',',blue_phase_string_rv.strip('\\n')))[1:]\n",
    "blue_mags_rv = eval(re.sub('\\s+', ',',blue_mags_string_rv.strip('\\n').replace('nan', 'np.nan')))[1:]\n",
    "blue_error_rv = eval(re.sub('\\s+', ',',blue_error_string_rv.strip('\\n').replace('nan', 'np.nan')))[0][1:]\n",
    "blue_julian_date_rv = eval(re.sub('\\s+', ',',blue_julian_dates_string_rv.strip('\\n').replace('nan', 'np.nan')))[1:]\n",
    "\n",
    "blue_weights_rv = 1/np.array(blue_error_rv)**2\n",
    "normalized_blue_weights_rv = blue_weights_rv / np.nanmax(blue_weights_rv)"
   ],
   "metadata": {
    "collapsed": false,
    "pycharm": {
     "name": "#%%\n"
    }
   }
  },
  {
   "cell_type": "code",
   "execution_count": 135,
   "outputs": [],
   "source": [
    "filter_name = 'green'\n",
    "with open(f'RV_UMaData{filter_name.upper()}.txt', 'r') as file:\n",
    "    green_string = file.read()\n",
    "\n",
    "data_green = re.split(r'\\*+', green_string)\n",
    "green_phase_string_rv = data_green[1]\n",
    "green_mags_string_rv = data_green[2]\n",
    "green_error_string_rv = data_green[3]\n",
    "green_julian_dates_string_rv = data_green[4]\n",
    "\n",
    "green_phase_rv = literal_eval(re.sub('\\s+', ',',green_phase_string_rv.strip('\\n')))[1:]\n",
    "green_mags_rv = eval(re.sub('\\s+', ',',green_mags_string_rv.strip('\\n').replace('nan', 'np.nan')))[1:]\n",
    "green_error_rv = eval(re.sub('\\s+', ',',green_error_string_rv.strip('\\n').replace('nan', 'np.nan')))[0][1:]\n",
    "green_julian_date_rv = eval(re.sub('\\s+', ',',green_julian_dates_string_rv.strip('\\n').replace('nan', 'np.nan')))[1:]\n",
    "\n",
    "green_weights_rv = 1/np.array(green_error_rv)**2\n",
    "normalized_green_weights_rv = green_weights_rv / np.nanmax(green_weights_rv)"
   ],
   "metadata": {
    "collapsed": false,
    "pycharm": {
     "name": "#%%\n"
    }
   }
  },
  {
   "cell_type": "code",
   "execution_count": 136,
   "outputs": [],
   "source": [
    "filter_name = 'luminance'\n",
    "with open(f'RV_UMaData{filter_name.upper()}.txt', 'r') as file:\n",
    "    luminance_string = file.read()\n",
    "\n",
    "data_luminance = re.split(r'\\*+', luminance_string)\n",
    "luminance_phase_string_rv = data_luminance[1]\n",
    "luminance_mags_string_rv = data_luminance[2]\n",
    "luminance_error_string_rv = data_luminance[3]\n",
    "luminance_julian_dates_string_rv = data_luminance[4]\n",
    "\n",
    "luminance_phase_rv = literal_eval(re.sub('\\s+', ',',luminance_phase_string_rv.strip('\\n')))[1:]\n",
    "luminance_mags_rv = eval(re.sub('\\s+', ',',luminance_mags_string_rv.strip('\\n').replace('nan', 'np.nan')))[1:]\n",
    "luminance_error_rv = eval(re.sub('\\s+', ',',luminance_error_string_rv.strip('\\n').replace('nan', 'np.nan')))[0][1:]\n",
    "luminance_julian_date_rv = eval(re.sub('\\s+', ',',luminance_julian_dates_string_rv.strip('\\n').replace('nan', 'np.nan')))[1:]\n",
    "\n",
    "luminance_weights_rv = 1/np.array(luminance_error_rv)**2\n",
    "normalized_luminance_weights_rv = luminance_weights_rv / np.nanmax(luminance_weights_rv)"
   ],
   "metadata": {
    "collapsed": false,
    "pycharm": {
     "name": "#%%\n"
    }
   }
  },
  {
   "cell_type": "code",
   "execution_count": 137,
   "id": "5d4d67ec",
   "metadata": {
    "pycharm": {
     "name": "#%%\n"
    }
   },
   "outputs": [],
   "source": [
    "ave_mag_red_rv = np.nansum(normalized_red_weights_rv * np.array(red_mags_rv))/ np.nansum(normalized_red_weights_rv)\n",
    "ave_mag_green_rv = np.nansum(normalized_green_weights_rv * np.array(green_mags_rv))/ np.nansum(normalized_green_weights_rv)\n",
    "ave_mag_blue_rv = np.nansum(normalized_blue_weights_rv * np.array(blue_mags_rv))/ np.nansum(normalized_blue_weights_rv)\n",
    "ave_mag_l_rv = np.nansum(normalized_luminance_weights_rv * np.array(luminance_mags_rv))/ np.nansum(normalized_luminance_weights_rv)\n",
    "std_mag_red_rv = np.nanstd(red_mags_rv) + np.nanmax(red_error_rv)\n",
    "std_mag_green_rv = np.nanstd(green_mags_rv) + np.nanmax(green_error_rv)\n",
    "std_mag_blue_rv = np.nanstd(blue_mags_rv) + np.nanmax(blue_error_rv)\n",
    "std_mag_l_rv = np.nanstd(luminance_mags_rv) + np.nanmax(luminance_error_rv)"
   ]
  },
  {
   "cell_type": "code",
   "execution_count": 138,
   "outputs": [
    {
     "name": "stdout",
     "output_type": "stream",
     "text": [
      "RV UMa magnitudes\n",
      "Red band: 14.13 ± 0.24\n",
      "Green band: 13.92 ± 0.69\n",
      "Blue band: 13.74 ± 0.61\n",
      "Luminance band: 13.39 ± 0.76\n"
     ]
    }
   ],
   "source": [
    "print(\"RV UMa magnitudes\")\n",
    "\n",
    "print(f'Red band: {ave_mag_red_rv:.2f} \\u00B1 {std_mag_red_rv + np.nanmax(red_error_rv):.2f}')\n",
    "\n",
    "print(f'Green band: {ave_mag_green_rv:.2f} \\u00B1 {std_mag_green_rv + np.nanmax(green_error_rv):.2f}')\n",
    "\n",
    "print(f'Blue band: {ave_mag_blue_rv:.2f} \\u00B1 {std_mag_blue_rv + np.nanmax(blue_error_rv):.2f}')\n",
    "\n",
    "print(f'Luminance band: {ave_mag_l_rv:.2f} \\u00B1 {std_mag_l_rv + np.nanmax(luminance_error_rv):.2f}')"
   ],
   "metadata": {
    "collapsed": false,
    "pycharm": {
     "name": "#%%\n"
    }
   }
  },
  {
   "cell_type": "markdown",
   "source": [
    "# Reading the RZ Cep data"
   ],
   "metadata": {
    "collapsed": false,
    "pycharm": {
     "name": "#%% md\n"
    }
   }
  },
  {
   "cell_type": "code",
   "execution_count": 141,
   "outputs": [],
   "source": [
    "filter_name = 'red'\n",
    "with open(f'RZ_CepData{filter_name.upper()}.txt', 'r') as file:\n",
    "    red_string = file.read()\n",
    "\n",
    "data_red_rz = re.split(r'\\*+', red_string)\n",
    "\n",
    "red_phase_string_rz = data_red_rz[1]\n",
    "red_mags_string_rz = data_red_rz[2]\n",
    "red_error_string_rz = data_red[3]\n",
    "red_julian_dates_string_rz = data_red_rz[4]\n",
    "\n",
    "red_phase_rz = literal_eval(re.sub('\\s+', ',',red_phase_string_rz.strip('\\n')))[1:]\n",
    "red_mags_rz = eval(re.sub('\\s+', ',',red_mags_string_rz.strip('\\n').replace('nan', 'np.nan')))[1:]\n",
    "red_error_rz = eval(re.sub('\\s+', ',',red_error_string_rz.strip('\\n').replace('nan', 'np.nan')))[0][1:]\n",
    "red_julian_date_rz = eval(re.sub('\\s+', ',',red_julian_dates_string_rz.strip('\\n').replace('nan', 'np.nan')))[1:]\n",
    "\n",
    "red_weights_rz = 1/np.array(red_error_rz)**2\n",
    "normalized_red_weights_rz = red_weights_rz / np.nanmax(red_weights_rz)"
   ],
   "metadata": {
    "collapsed": false,
    "pycharm": {
     "name": "#%%\n"
    }
   }
  },
  {
   "cell_type": "code",
   "execution_count": 143,
   "outputs": [],
   "source": [
    "filter_name = 'blue'\n",
    "with open(f'RZ_CepData{filter_name.upper()}.txt', 'r') as file:\n",
    "    blue_string = file.read()\n",
    "\n",
    "data_blue_rz = re.split(r'\\*+', blue_string)\n",
    "blue_phase_string_rz = data_blue_rz[1]\n",
    "blue_mags_string_rz = data_blue_rz[2]\n",
    "blue_error_string_rz = data_blue_rz[3]\n",
    "blue_julian_dates_string_rz = data_blue_rz[4]\n",
    "\n",
    "blue_phase_rz = literal_eval(re.sub('\\s+', ',',blue_phase_string_rz.strip('\\n')))[1:]\n",
    "blue_mags_rz = eval(re.sub('\\s+', ',',blue_mags_string_rz.strip('\\n').replace('nan', 'np.nan')))[1:]\n",
    "blue_error_rz = eval(re.sub('\\s+', ',',blue_error_string_rz.strip('\\n').replace('nan', 'np.nan')))[0][1:]\n",
    "blue_julian_date_rz = eval(re.sub('\\s+', ',',blue_julian_dates_string_rz.strip('\\n').replace('nan', 'np.nan')))[1:]\n",
    "\n",
    "blue_weights_rz = 1/np.array(blue_error_rz)**2\n",
    "normalized_blue_weights_rz = blue_weights_rz / np.nanmax(blue_weights_rz)"
   ],
   "metadata": {
    "collapsed": false,
    "pycharm": {
     "name": "#%%\n"
    }
   }
  },
  {
   "cell_type": "code",
   "execution_count": 144,
   "outputs": [],
   "source": [
    "filter_name = 'green'\n",
    "with open(f'RZ_CepData{filter_name.upper()}.txt', 'r') as file:\n",
    "    green_string = file.read()\n",
    "\n",
    "data_green_rz = re.split(r'\\*+', green_string)\n",
    "green_phase_string_rz = data_green_rz[1]\n",
    "green_mags_string_rz = data_green_rz[2]\n",
    "green_error_string_rz = data_green_rz[3]\n",
    "green_julian_dates_string_rz = data_green_rz[4]\n",
    "\n",
    "green_phase_rz = literal_eval(re.sub('\\s+', ',',green_phase_string_rz.strip('\\n')))[1:]\n",
    "green_mags_rz = eval(re.sub('\\s+', ',',green_mags_string_rz.strip('\\n').replace('nan', 'np.nan')))[1:]\n",
    "green_error_rz = eval(re.sub('\\s+', ',',green_error_string_rz.strip('\\n').replace('nan', 'np.nan')))[1:]\n",
    "green_julian_date_rz = eval(re.sub('\\s+', ',',green_julian_dates_string_rz.strip('\\n').replace('nan', 'np.nan')))[1:]\n",
    "\n",
    "\n",
    "green_weights_rz = 1/np.array(green_error_rz)**2\n",
    "normalized_green_weights_rz = green_weights_rz / np.nanmax(green_weights_rz)"
   ],
   "metadata": {
    "collapsed": false,
    "pycharm": {
     "name": "#%%\n"
    }
   }
  },
  {
   "cell_type": "code",
   "execution_count": 146,
   "outputs": [],
   "source": [
    "filter_name = 'luminance'\n",
    "with open(f'RZ_CepData{filter_name.upper()}.txt', 'r') as file:\n",
    "    luminance_string = file.read()\n",
    "\n",
    "data_luminance_rz = re.split(r'\\*+', luminance_string)\n",
    "luminance_phase_string_rz = data_luminance_rz[1]\n",
    "luminance_mags_string_rz = data_luminance_rz[2]\n",
    "luminance_error_string_rz = data_luminance_rz[3]\n",
    "luminance_julian_dates_string_rz = data_luminance_rz[4]\n",
    "\n",
    "luminance_phase_rz = literal_eval(re.sub('\\s+', ',',luminance_phase_string_rz.strip('\\n')))[1:]\n",
    "luminance_mags_rz = eval(re.sub('\\s+', ',',luminance_mags_string_rz.strip('\\n').replace('nan', 'np.nan')))[1:]\n",
    "luminance_error_rz = eval(re.sub('\\s+', ',',luminance_error_string_rz.strip('\\n').replace('nan', 'np.nan')))[0][1:]\n",
    "luminance_julian_date_rz = eval(re.sub('\\s+', ',',luminance_julian_dates_string_rz.strip('\\n').replace('nan', 'np.nan')))[1:]\n",
    "\n",
    "luminance_weights_rz = 1/np.array(luminance_error_rz)**2\n",
    "normalized_luminance_weights_rz = luminance_weights_rz / np.nanmax(luminance_weights_rz)"
   ],
   "metadata": {
    "collapsed": false,
    "pycharm": {
     "name": "#%%\n"
    }
   }
  },
  {
   "cell_type": "code",
   "execution_count": 147,
   "outputs": [],
   "source": [
    "ave_mag_red_rz = np.nanmean(red_mags_rz)\n",
    "ave_mag_green_rz = np.nanmean(green_mags_rz)\n",
    "ave_mag_blue_rz = np.nanmean(blue_mags_rz)\n",
    "ave_mag_l_rz = np.nanmean(luminance_mags_rz)\n",
    "std_mag_red_rz = np.nanstd(red_mags_rz) + np.nanmax(red_error_rz)\n",
    "std_mag_green_rz = np.nanstd(green_mags_rz) + np.nanmax(green_error_rz)\n",
    "std_mag_blue_rz = np.nanstd(blue_mags_rz) + np.nanmax(blue_error_rz)\n",
    "std_mag_l_rz = np.nanstd(luminance_mags_rz) + np.nanmax(luminance_error_rz)"
   ],
   "metadata": {
    "collapsed": false,
    "pycharm": {
     "name": "#%%\n"
    }
   }
  },
  {
   "cell_type": "code",
   "execution_count": 148,
   "id": "105a2a1c",
   "metadata": {
    "pycharm": {
     "name": "#%%\n"
    }
   },
   "outputs": [
    {
     "name": "stdout",
     "output_type": "stream",
     "text": [
      "RZ Cep magnitudes\n",
      "Red band: 13.53 ± 0.21\n",
      "Green band: 13.55 ± 0.53\n",
      "Blue band: 13.71 ± 2.57\n",
      "Luminance band: 13.47 ± 1.38\n"
     ]
    }
   ],
   "source": [
    "print(\"RZ Cep magnitudes\")\n",
    "\n",
    "print(f'Red band: {ave_mag_red_rz:.2f} \\u00B1 {std_mag_red_rz + np.nanmax(red_error_rz):.2f}')\n",
    "\n",
    "print(f'Green band: {ave_mag_green_rz:.2f} \\u00B1 {std_mag_green_rz + np.nanmax(green_error_rz):.2f}')\n",
    "\n",
    "print(f'Blue band: {ave_mag_blue_rz:.2f} \\u00B1 {std_mag_blue_rz + np.nanmax(blue_error_rz):.2f}')\n",
    "\n",
    "print(f'Luminance band: {ave_mag_l_rz:.2f} \\u00B1 {std_mag_l_rz + np.nanmax(luminance_error_rz):.2f}')"
   ]
  },
  {
   "cell_type": "code",
   "execution_count": 149,
   "outputs": [
    {
     "name": "stdout",
     "output_type": "stream",
     "text": [
      "RZ Cep magnitudes\n",
      "Red band: 13.53 ± 0.19\n",
      "Green band: 13.55 ± 0.36\n",
      "Blue band: 13.71 ± 1.40\n",
      "Luminance band: 13.47 ± 0.77\n"
     ]
    }
   ],
   "source": [
    "print(\"RZ Cep magnitudes\")\n",
    "\n",
    "print(f'Red band: {ave_mag_red_rz:.2f} \\u00B1 {std_mag_red_rz:.2f}')\n",
    "\n",
    "print(f'Green band: {ave_mag_green_rz:.2f} \\u00B1 {std_mag_green_rz:.2f}')\n",
    "\n",
    "print(f'Blue band: {ave_mag_blue_rz:.2f} \\u00B1 {std_mag_blue_rz:.2f}')\n",
    "\n",
    "print(f'Luminance band: {ave_mag_l_rz:.2f} \\u00B1 {std_mag_l_rz:.2f}')"
   ],
   "metadata": {
    "collapsed": false,
    "pycharm": {
     "name": "#%%\n"
    }
   }
  },
  {
   "cell_type": "code",
   "execution_count": 150,
   "id": "98541377",
   "metadata": {
    "pycharm": {
     "name": "#%%\n"
    }
   },
   "outputs": [
    {
     "name": "stdout",
     "output_type": "stream",
     "text": [
      "RV UMa B-R Wesenheit magnitude: 14.32 ± 0.11\n",
      "RZ Cep B-R Wesenheit magnitude: 13.44 ± 0.42\n"
     ]
    }
   ],
   "source": [
    "rv_uma_wbr = wesenheit_mag(ave_mag_blue_rv, ave_mag_red_rv, std_mag_blue_rv, std_mag_red_rv, wavelength_B, wavelength_R)\n",
    "rz_cep_wbr = wesenheit_mag(ave_mag_blue_rz, ave_mag_red_rz, std_mag_blue_rz, std_mag_red_rz, wavelength_B, wavelength_R)\n",
    "\n",
    "print(f'RV UMa B-R Wesenheit magnitude: {rv_uma_wbr[0]:.2f} \\u00B1 {abs(rv_uma_wbr[1]):.2f}')\n",
    "print(f'RZ Cep B-R Wesenheit magnitude: {rz_cep_wbr[0]:.2f} \\u00B1 {abs(rz_cep_wbr[1]):.2f}')"
   ]
  },
  {
   "cell_type": "code",
   "execution_count": 151,
   "outputs": [
    {
     "name": "stdout",
     "output_type": "stream",
     "text": [
      "RV UMa B-G Wesenheit magnitude:  (14.157235152429854, 0.49436436393877203)\n",
      "RZ Cep B-G Wesenheit magnitude:  (13.349653313427918, -0.9471762780781251)\n"
     ]
    }
   ],
   "source": [
    "print('RV UMa B-G Wesenheit magnitude: ', wesenheit_mag(ave_mag_blue_rv, ave_mag_green_rv, std_mag_blue_rv, std_mag_green_rv, wavelength_B, wavelength_G))\n",
    "\n",
    "print('RZ Cep B-G Wesenheit magnitude: ', wesenheit_mag(ave_mag_blue_rz, ave_mag_green_rz, std_mag_blue_rz, std_mag_green_rz, wavelength_B, wavelength_G))"
   ],
   "metadata": {
    "collapsed": false,
    "pycharm": {
     "name": "#%%\n"
    }
   }
  },
  {
   "cell_type": "code",
   "execution_count": 152,
   "id": "82f0ea95",
   "metadata": {
    "pycharm": {
     "name": "#%%\n"
    }
   },
   "outputs": [
    {
     "name": "stdout",
     "output_type": "stream",
     "text": [
      "RV UMa G-R Wesenheit magnitude:  (14.433613679906008, -0.14722470568505308)\n",
      "RZ Cep G-R Wesenheit magnitude:  (13.503027308874547, -0.0636102262128091)\n"
     ]
    }
   ],
   "source": [
    "print('RV UMa G-R Wesenheit magnitude: ', wesenheit_mag(ave_mag_green_rv, ave_mag_red_rv, std_mag_green_rv, std_mag_red_rv, wavelength_G, wavelength_R))\n",
    "print('RZ Cep G-R Wesenheit magnitude: ', wesenheit_mag(ave_mag_green_rz, ave_mag_red_rz, std_mag_green_rz, std_mag_red_rz, wavelength_G, wavelength_R))"
   ]
  },
  {
   "cell_type": "code",
   "execution_count": 153,
   "outputs": [
    {
     "name": "stdout",
     "output_type": "stream",
     "text": [
      "RV UMa L-R Wesenheit magnitude: 15.42 ± 0.28\n",
      "RZ Cep L-R Wesenheit magnitude: 13.64 ± 0.83\n"
     ]
    }
   ],
   "source": [
    "rv_uma_wlr = wesenheit_mag(ave_mag_l_rv, ave_mag_red_rv, std_mag_l_rv, std_mag_red_rv, wavelength_L, wavelength_R)\n",
    "rz_cep_wlr = wesenheit_mag(ave_mag_l_rz, ave_mag_red_rz, std_mag_l_rz, std_mag_red_rz, wavelength_L, wavelength_R)\n",
    "\n",
    "print(f'RV UMa L-R Wesenheit magnitude: {rv_uma_wlr[0]:.2f} \\u00B1 {abs(rv_uma_wlr[1]):.2f}')\n",
    "print(f'RZ Cep L-R Wesenheit magnitude: {rz_cep_wlr[0]:.2f} \\u00B1 {abs(rz_cep_wlr[1]):.2f}')"
   ],
   "metadata": {
    "collapsed": false,
    "pycharm": {
     "name": "#%%\n"
    }
   }
  },
  {
   "cell_type": "code",
   "execution_count": 154,
   "outputs": [
    {
     "name": "stdout",
     "output_type": "stream",
     "text": [
      "RV UMa L-B Wesenheit magnitude: 13.01 ± 0.58\n",
      "RZ Cep L-B Wesenheit magnitude: 13.20 ± 0.08\n"
     ]
    }
   ],
   "source": [
    "rv_uma_wlb = wesenheit_mag(ave_mag_l_rv, ave_mag_blue_rv, std_mag_l_rv, std_mag_blue_rv, wavelength_L, wavelength_B)\n",
    "rz_cep_wlb = wesenheit_mag(ave_mag_l_rz, ave_mag_blue_rz, std_mag_l_rz, std_mag_blue_rz, wavelength_L, wavelength_B)\n",
    "\n",
    "print(f'RV UMa L-B Wesenheit magnitude: {rv_uma_wlb[0]:.2f} \\u00B1 {abs(rv_uma_wlb[1]):.2f}')\n",
    "print(f'RZ Cep L-B Wesenheit magnitude: {rz_cep_wlb[0]:.2f} \\u00B1 {abs(rz_cep_wlb[1]):.2f}')"
   ],
   "metadata": {
    "collapsed": false,
    "pycharm": {
     "name": "#%%\n"
    }
   }
  },
  {
   "cell_type": "code",
   "execution_count": 155,
   "outputs": [
    {
     "name": "stdout",
     "output_type": "stream",
     "text": [
      "Ratio of RV UMa to RZ Cep distance: 2.27 ± 0.17\n"
     ]
    }
   ],
   "source": [
    "print(f'Ratio of RV UMa to RZ Cep distance: {10**((rv_uma_wlr[0] - rz_cep_wlr[0])/5):.2f} \\u00B1 {np.log10(5)/5*10**((rv_uma_wlr[0] - rz_cep_wlr[0])/5)*abs(rv_uma_wlr[1] - rz_cep_wlr[1]):.2f}')"
   ],
   "metadata": {
    "collapsed": false,
    "pycharm": {
     "name": "#%%\n"
    }
   }
  },
  {
   "cell_type": "code",
   "execution_count": 156,
   "outputs": [
    {
     "name": "stdout",
     "output_type": "stream",
     "text": [
      "Ratio of RV UMa to RZ Cep distance: 0.91 ± 0.06\n"
     ]
    }
   ],
   "source": [
    "print(f'Ratio of RV UMa to RZ Cep distance: {10**((rv_uma_wlb[0] - rz_cep_wlb[0])/5):.2f} \\u00B1 {np.log10(5)/5*10**((rv_uma_wlb[0] - rz_cep_wlb[0])/5)*abs(rv_uma_wlb[1] - rz_cep_wlb[1]):.2f}')"
   ],
   "metadata": {
    "collapsed": false,
    "pycharm": {
     "name": "#%%\n"
    }
   }
  },
  {
   "cell_type": "code",
   "execution_count": 157,
   "outputs": [
    {
     "name": "stdout",
     "output_type": "stream",
     "text": [
      "Ratio of RV UMa to RZ Cep distance: 1.50 ± 0.11\n"
     ]
    }
   ],
   "source": [
    "print(f'Ratio of RV UMa to RZ Cep distance: {10**((rv_uma_wbr[0] - rz_cep_wbr[0])/5):.2f} \\u00B1 {np.log10(5)/5*10**((rv_uma_wbr[0] - rz_cep_wbr[0])/5)*abs(rv_uma_wbr[1] - rz_cep_wbr[1]):.2f}')"
   ],
   "metadata": {
    "collapsed": false,
    "pycharm": {
     "name": "#%%\n"
    }
   }
  },
  {
   "cell_type": "code",
   "execution_count": 158,
   "outputs": [
    {
     "name": "stdout",
     "output_type": "stream",
     "text": [
      "13.393559159487463\n",
      "13.413232494175256\n",
      "13.338727590000001\n"
     ]
    }
   ],
   "source": [
    "print(ave_mag_l_rv)\n",
    "print(np.nanmean(luminance_mags_rv))\n",
    "print((np.nanmax(luminance_mags_rv) - np.nanmin(luminance_mags_rv)) / 2 + np.nanmin(luminance_mags_rv))"
   ],
   "metadata": {
    "collapsed": false,
    "pycharm": {
     "name": "#%%\n"
    }
   }
  },
  {
   "cell_type": "code",
   "execution_count": null,
   "outputs": [],
   "source": [
    "luminance_error_rv"
   ],
   "metadata": {
    "collapsed": false,
    "pycharm": {
     "name": "#%%\n"
    }
   }
  },
  {
   "cell_type": "code",
   "execution_count": null,
   "outputs": [],
   "source": [],
   "metadata": {
    "collapsed": false,
    "pycharm": {
     "name": "#%%\n"
    }
   }
  }
 ],
 "metadata": {
  "kernelspec": {
   "display_name": "Python 3 (ipykernel)",
   "language": "python",
   "name": "python3"
  },
  "language_info": {
   "codemirror_mode": {
    "name": "ipython",
    "version": 3
   },
   "file_extension": ".py",
   "mimetype": "text/x-python",
   "name": "python",
   "nbconvert_exporter": "python",
   "pygments_lexer": "ipython3",
   "version": "3.9.13"
  }
 },
 "nbformat": 4,
 "nbformat_minor": 5
}