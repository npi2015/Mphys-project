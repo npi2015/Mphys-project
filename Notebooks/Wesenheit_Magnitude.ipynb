{
 "cells": [
  {
   "cell_type": "code",
   "execution_count": 1,
   "id": "007ff8c9",
   "metadata": {
    "pycharm": {
     "name": "#%%\n"
    }
   },
   "outputs": [],
   "source": [
    "import pandas as pd\n",
    "import numpy as np"
   ]
  },
  {
   "cell_type": "code",
   "execution_count": 2,
   "id": "c2b2717e",
   "metadata": {
    "pycharm": {
     "name": "#%%\n"
    }
   },
   "outputs": [],
   "source": [
    "wavelength_L = 543\n",
    "wavelength_R = 644\n",
    "wavelength_G = 532\n",
    "wavelength_B = 443"
   ]
  },
  {
   "cell_type": "code",
   "execution_count": 3,
   "id": "f5b18f8e",
   "metadata": {
    "pycharm": {
     "name": "#%%\n"
    }
   },
   "outputs": [],
   "source": [
    "def extinction(wavelength):\n",
    "    reddening_V = 3.1\n",
    "    wavelength_microm = wavelength * 10 ** -3\n",
    "    frequency = 1 / wavelength_microm\n",
    "    x = frequency - 1.82\n",
    "    a = 1 + 0.17699 * x - 0.50447 * x ** 2 - 0.02427 * x ** 3 + 0.72085 * x ** 4 + 0.01979 * x ** 5 - 0.77530 * x ** 6 + 0.32999 * x ** 7\n",
    "    b = 1.41338 * x + 2.28305 * x ** 2 + 1.07233 * x ** 3 - 5.38434 * x ** 4 - 0.62251 * x ** 5 + 5.30260 * x ** 6 - 2.09002 * x ** 7\n",
    "    extinction_value = (a + b) / reddening_V\n",
    "    return extinction_value"
   ]
  },
  {
   "cell_type": "code",
   "execution_count": 4,
   "id": "d3250294",
   "metadata": {
    "pycharm": {
     "name": "#%%\n"
    }
   },
   "outputs": [
    {
     "name": "stdout",
     "output_type": "stream",
     "text": [
      "0.3339437954712049 0.2131951396067385 0.3553052430870536 0.635296744552413\n"
     ]
    }
   ],
   "source": [
    "print(extinction(wavelength_L), extinction(wavelength_R), extinction(wavelength_G), extinction(wavelength_B))"
   ]
  },
  {
   "cell_type": "code",
   "execution_count": 5,
   "id": "1c6283e1",
   "metadata": {
    "pycharm": {
     "name": "#%%\n"
    }
   },
   "outputs": [],
   "source": [
    "def wesenheit_mag(mag_X, mag_Y, delta_mag_X, delta_mag_Y, wavelength_X, wavelength_Y):\n",
    "    extinction_X = extinction(wavelength_X)\n",
    "    extinction_Y = extinction(wavelength_Y)\n",
    "    reddening = extinction_X / (extinction_X - extinction_Y)\n",
    "    Wesenheit_mag = mag_X - reddening * (mag_X - mag_Y)\n",
    "    err_Wesenheit_mag = (1 - reddening) * delta_mag_X + reddening * delta_mag_Y\n",
    "    return Wesenheit_mag, err_Wesenheit_mag"
   ]
  },
  {
   "cell_type": "code",
   "execution_count": 6,
   "id": "6bda00a4",
   "metadata": {
    "pycharm": {
     "name": "#%%\n"
    }
   },
   "outputs": [],
   "source": [
    "def absolute_mag(m, d):\n",
    "    distance_modulus = 5 * np.log10(d) - 5\n",
    "    M = m - distance_modulus\n",
    "    return M"
   ]
  },
  {
   "cell_type": "markdown",
   "source": [
    "# Reading the RV UMa data"
   ],
   "metadata": {
    "collapsed": false,
    "pycharm": {
     "name": "#%% md\n"
    }
   }
  },
  {
   "cell_type": "code",
   "execution_count": 7,
   "outputs": [],
   "source": [
    "import re\n",
    "from ast import literal_eval\n",
    "import numpy as np\n",
    "\n",
    "filter_name = 'red'\n",
    "with open(f'RV_UMaData{filter_name.upper()}.txt', 'r') as file:\n",
    "    red_string = file.read()\n",
    "\n",
    "data_red = re.split(r'\\*+', red_string)\n",
    "red_phase_string_rv = data_red[1]\n",
    "red_mags_string_rv = data_red[2]\n",
    "red_error_string_rv = data_red[3]\n",
    "red_julian_dates_string_rv = data_red[4]\n",
    "\n",
    "red_phase_rv = literal_eval(re.sub('\\s+', ',',red_phase_string_rv.strip('\\n')))[1:]\n",
    "red_mags_rv = eval(re.sub('\\s+', ',',red_mags_string_rv.strip('\\n').replace('nan', 'np.nan')))[1:]\n",
    "red_error_rv = eval(re.sub('\\s+', ',',red_error_string_rv.strip('\\n').replace('nan', 'np.nan')))[0][1:]\n",
    "red_julian_date_rv = eval(re.sub('\\s+', ',',red_julian_dates_string_rv.strip('\\n').replace('nan', 'np.nan')))[1:]\n",
    "\n",
    "red_weights_rv = 1/np.array(red_error_rv)**2\n",
    "normalized_red_weights_rv = red_weights_rv / np.nanmax(red_weights_rv)"
   ],
   "metadata": {
    "collapsed": false,
    "pycharm": {
     "name": "#%%\n"
    }
   }
  },
  {
   "cell_type": "code",
   "execution_count": 8,
   "outputs": [],
   "source": [
    "filter_name = 'blue'\n",
    "with open(f'RV_UMaData{filter_name.upper()}.txt', 'r') as file:\n",
    "    blue_string = file.read()\n",
    "\n",
    "data_blue = re.split(r'\\*+', blue_string)\n",
    "blue_phase_string_rv = data_blue[1]\n",
    "blue_mags_string_rv = data_blue[2]\n",
    "blue_error_string_rv = data_blue[3]\n",
    "blue_julian_dates_string_rv = data_blue[4]\n",
    "\n",
    "blue_phase_rv = literal_eval(re.sub('\\s+', ',',blue_phase_string_rv.strip('\\n')))[1:]\n",
    "blue_mags_rv = eval(re.sub('\\s+', ',',blue_mags_string_rv.strip('\\n').replace('nan', 'np.nan')))[1:]\n",
    "blue_error_rv = eval(re.sub('\\s+', ',',blue_error_string_rv.strip('\\n').replace('nan', 'np.nan')))[0][1:]\n",
    "blue_julian_date_rv = eval(re.sub('\\s+', ',',blue_julian_dates_string_rv.strip('\\n').replace('nan', 'np.nan')))[1:]\n",
    "\n",
    "blue_weights_rv = 1/np.array(blue_error_rv)**2\n",
    "normalized_blue_weights_rv = blue_weights_rv / np.nanmax(blue_weights_rv)"
   ],
   "metadata": {
    "collapsed": false,
    "pycharm": {
     "name": "#%%\n"
    }
   }
  },
  {
   "cell_type": "code",
   "execution_count": 9,
   "outputs": [],
   "source": [
    "filter_name = 'green'\n",
    "with open(f'RV_UMaData{filter_name.upper()}.txt', 'r') as file:\n",
    "    green_string = file.read()\n",
    "\n",
    "data_green = re.split(r'\\*+', green_string)\n",
    "green_phase_string_rv = data_green[1]\n",
    "green_mags_string_rv = data_green[2]\n",
    "green_error_string_rv = data_green[3]\n",
    "green_julian_dates_string_rv = data_green[4]\n",
    "\n",
    "green_phase_rv = literal_eval(re.sub('\\s+', ',',green_phase_string_rv.strip('\\n')))[1:]\n",
    "green_mags_rv = eval(re.sub('\\s+', ',',green_mags_string_rv.strip('\\n').replace('nan', 'np.nan')))[1:]\n",
    "green_error_rv = eval(re.sub('\\s+', ',',green_error_string_rv.strip('\\n').replace('nan', 'np.nan')))[0][1:]\n",
    "green_julian_date_rv = eval(re.sub('\\s+', ',',green_julian_dates_string_rv.strip('\\n').replace('nan', 'np.nan')))[1:]\n",
    "\n",
    "green_weights_rv = 1/np.array(green_error_rv)**2\n",
    "normalized_green_weights_rv = green_weights_rv / np.nanmax(green_weights_rv)"
   ],
   "metadata": {
    "collapsed": false,
    "pycharm": {
     "name": "#%%\n"
    }
   }
  },
  {
   "cell_type": "code",
   "execution_count": 10,
   "outputs": [],
   "source": [
    "filter_name = 'luminance'\n",
    "with open(f'RV_UMaData{filter_name.upper()}.txt', 'r') as file:\n",
    "    luminance_string = file.read()\n",
    "\n",
    "data_luminance = re.split(r'\\*+', luminance_string)\n",
    "luminance_phase_string_rv = data_luminance[1]\n",
    "luminance_mags_string_rv = data_luminance[2]\n",
    "luminance_error_string_rv = data_luminance[3]\n",
    "luminance_julian_dates_string_rv = data_luminance[4]\n",
    "\n",
    "luminance_phase_rv = literal_eval(re.sub('\\s+', ',',luminance_phase_string_rv.strip('\\n')))[1:]\n",
    "luminance_mags_rv = eval(re.sub('\\s+', ',',luminance_mags_string_rv.strip('\\n').replace('nan', 'np.nan')))[1:]\n",
    "luminance_error_rv = eval(re.sub('\\s+', ',',luminance_error_string_rv.strip('\\n').replace('nan', 'np.nan')))[0][1:]\n",
    "luminance_julian_date_rv = eval(re.sub('\\s+', ',',luminance_julian_dates_string_rv.strip('\\n').replace('nan', 'np.nan')))[1:]\n",
    "\n",
    "luminance_weights_rv = 1/np.array(luminance_error_rv)**2\n",
    "normalized_luminance_weights_rv = luminance_weights_rv / np.nanmax(luminance_weights_rv)"
   ],
   "metadata": {
    "collapsed": false,
    "pycharm": {
     "name": "#%%\n"
    }
   }
  },
  {
   "cell_type": "code",
   "execution_count": 11,
   "id": "5d4d67ec",
   "metadata": {
    "pycharm": {
     "name": "#%%\n"
    }
   },
   "outputs": [],
   "source": [
    "ave_mag_red_rv = np.nansum(normalized_red_weights_rv * np.array(red_mags_rv))/ np.nansum(normalized_red_weights_rv)\n",
    "ave_mag_green_rv = np.nansum(normalized_green_weights_rv * np.array(green_mags_rv))/ np.nansum(normalized_green_weights_rv)\n",
    "ave_mag_blue_rv = np.nansum(normalized_blue_weights_rv * np.array(blue_mags_rv))/ np.nansum(normalized_blue_weights_rv)\n",
    "ave_mag_l_rv = np.nansum(normalized_luminance_weights_rv * np.array(luminance_mags_rv))/ np.nansum(normalized_luminance_weights_rv)\n",
    "std_mag_red_rv = np.nanstd(red_mags_rv) + np.nanmax(red_error_rv)\n",
    "std_mag_green_rv = np.nanstd(green_mags_rv) + np.nanmax(green_error_rv)\n",
    "std_mag_blue_rv = np.nanstd(blue_mags_rv) + np.nanmax(blue_error_rv)\n",
    "std_mag_l_rv = np.nanstd(luminance_mags_rv) + np.nanmax(luminance_error_rv)"
   ]
  },
  {
   "cell_type": "code",
   "execution_count": 32,
   "outputs": [
    {
     "name": "stdout",
     "output_type": "stream",
     "text": [
      "RV UMa magnitudes\n",
      "Luminance band: 13.39 ± 0.52\n",
      "Green band: 13.92 ± 0.48\n",
      "Red band: 14.12 ± 0.43\n",
      "Blue band: 13.74 ± 0.47\n"
     ]
    }
   ],
   "source": [
    "print(\"RV UMa magnitudes\")\n",
    "\n",
    "print(f'Luminance band: {ave_mag_l_rv:.2f} \\u00B1 {std_mag_l_rv:.2f}')\n",
    "\n",
    "print(f'Green band: {ave_mag_green_rv:.2f} \\u00B1 {std_mag_green_rv:.2f}')\n",
    "\n",
    "print(f'Red band: {ave_mag_red_rv:.2f} \\u00B1 {std_mag_red_rv:.2f}')\n",
    "\n",
    "print(f'Blue band: {ave_mag_blue_rv:.2f} \\u00B1 {std_mag_blue_rv:.2f}')\n",
    "\n"
   ],
   "metadata": {
    "collapsed": false,
    "pycharm": {
     "name": "#%%\n"
    }
   }
  },
  {
   "cell_type": "markdown",
   "source": [
    "# Reading the RZ Cep data"
   ],
   "metadata": {
    "collapsed": false,
    "pycharm": {
     "name": "#%% md\n"
    }
   }
  },
  {
   "cell_type": "code",
   "execution_count": 13,
   "outputs": [],
   "source": [
    "filter_name = 'red'\n",
    "with open(f'RZ_CepData{filter_name.upper()}.txt', 'r') as file:\n",
    "    red_string = file.read()\n",
    "\n",
    "data_red_rz = re.split(r'\\*+', red_string)\n",
    "\n",
    "red_phase_string_rz = data_red_rz[1]\n",
    "red_mags_string_rz = data_red_rz[2]\n",
    "red_error_string_rz = data_red[3]\n",
    "red_julian_dates_string_rz = data_red_rz[4]\n",
    "\n",
    "red_phase_rz = literal_eval(re.sub('\\s+', ',',red_phase_string_rz.strip('\\n')))[1:]\n",
    "red_mags_rz = eval(re.sub('\\s+', ',',red_mags_string_rz.strip('\\n').replace('nan', 'np.nan')))[1:]\n",
    "red_error_rz = eval(re.sub('\\s+', ',',red_error_string_rz.strip('\\n').replace('nan', 'np.nan')))[0][1:]\n",
    "red_julian_date_rz = eval(re.sub('\\s+', ',',red_julian_dates_string_rz.strip('\\n').replace('nan', 'np.nan')))[1:]\n",
    "\n",
    "red_weights_rz = 1/np.array(red_error_rz)**2\n",
    "normalized_red_weights_rz = red_weights_rz / np.nanmax(red_weights_rz)"
   ],
   "metadata": {
    "collapsed": false,
    "pycharm": {
     "name": "#%%\n"
    }
   }
  },
  {
   "cell_type": "code",
   "execution_count": 14,
   "outputs": [],
   "source": [
    "filter_name = 'blue'\n",
    "with open(f'RZ_CepData{filter_name.upper()}.txt', 'r') as file:\n",
    "    blue_string = file.read()\n",
    "\n",
    "data_blue_rz = re.split(r'\\*+', blue_string)\n",
    "blue_phase_string_rz = data_blue_rz[1]\n",
    "blue_mags_string_rz = data_blue_rz[2]\n",
    "blue_error_string_rz = data_blue_rz[3]\n",
    "blue_julian_dates_string_rz = data_blue_rz[4]\n",
    "\n",
    "blue_phase_rz = literal_eval(re.sub('\\s+', ',',blue_phase_string_rz.strip('\\n')))[1:]\n",
    "blue_mags_rz = eval(re.sub('\\s+', ',',blue_mags_string_rz.strip('\\n').replace('nan', 'np.nan')))[1:]\n",
    "blue_error_rz = eval(re.sub('\\s+', ',',blue_error_string_rz.strip('\\n').replace('nan', 'np.nan')))[0][1:]\n",
    "blue_julian_date_rz = eval(re.sub('\\s+', ',',blue_julian_dates_string_rz.strip('\\n').replace('nan', 'np.nan')))[1:]\n",
    "\n",
    "blue_weights_rz = 1/np.array(blue_error_rz)**2\n",
    "normalized_blue_weights_rz = blue_weights_rz / np.nanmax(blue_weights_rz)"
   ],
   "metadata": {
    "collapsed": false,
    "pycharm": {
     "name": "#%%\n"
    }
   }
  },
  {
   "cell_type": "code",
   "execution_count": 15,
   "outputs": [],
   "source": [
    "filter_name = 'green'\n",
    "with open(f'RZ_CepData{filter_name.upper()}.txt', 'r') as file:\n",
    "    green_string = file.read()\n",
    "\n",
    "data_green_rz = re.split(r'\\*+', green_string)\n",
    "green_phase_string_rz = data_green_rz[1]\n",
    "green_mags_string_rz = data_green_rz[2]\n",
    "green_error_string_rz = data_green_rz[3]\n",
    "green_julian_dates_string_rz = data_green_rz[4]\n",
    "\n",
    "green_phase_rz = literal_eval(re.sub('\\s+', ',',green_phase_string_rz.strip('\\n')))[1:]\n",
    "green_mags_rz = eval(re.sub('\\s+', ',',green_mags_string_rz.strip('\\n').replace('nan', 'np.nan')))[1:]\n",
    "green_error_rz = eval(re.sub('\\s+', ',',green_error_string_rz.strip('\\n').replace('nan', 'np.nan')))[1:]\n",
    "green_julian_date_rz = eval(re.sub('\\s+', ',',green_julian_dates_string_rz.strip('\\n').replace('nan', 'np.nan')))[1:]\n",
    "\n",
    "\n",
    "green_weights_rz = 1/np.array(green_error_rz)**2\n",
    "normalized_green_weights_rz = green_weights_rz / np.nanmax(green_weights_rz)"
   ],
   "metadata": {
    "collapsed": false,
    "pycharm": {
     "name": "#%%\n"
    }
   }
  },
  {
   "cell_type": "code",
   "execution_count": 16,
   "outputs": [],
   "source": [
    "filter_name = 'luminance'\n",
    "with open(f'RZ_CepData{filter_name.upper()}.txt', 'r') as file:\n",
    "    luminance_string = file.read()\n",
    "\n",
    "data_luminance_rz = re.split(r'\\*+', luminance_string)\n",
    "luminance_phase_string_rz = data_luminance_rz[1]\n",
    "luminance_mags_string_rz = data_luminance_rz[2]\n",
    "luminance_error_string_rz = data_luminance_rz[3]\n",
    "luminance_julian_dates_string_rz = data_luminance_rz[4]\n",
    "\n",
    "luminance_phase_rz = literal_eval(re.sub('\\s+', ',',luminance_phase_string_rz.strip('\\n')))[1:]\n",
    "luminance_mags_rz = eval(re.sub('\\s+', ',',luminance_mags_string_rz.strip('\\n').replace('nan', 'np.nan')))[1:]\n",
    "luminance_error_rz = eval(re.sub('\\s+', ',',luminance_error_string_rz.strip('\\n').replace('nan', 'np.nan')))[0][1:]\n",
    "luminance_julian_date_rz = eval(re.sub('\\s+', ',',luminance_julian_dates_string_rz.strip('\\n').replace('nan', 'np.nan')))[1:]\n",
    "\n",
    "luminance_weights_rz = 1/np.array(luminance_error_rz)**2\n",
    "normalized_luminance_weights_rz = luminance_weights_rz / np.nanmax(luminance_weights_rz)"
   ],
   "metadata": {
    "collapsed": false,
    "pycharm": {
     "name": "#%%\n"
    }
   }
  },
  {
   "cell_type": "code",
   "execution_count": 17,
   "outputs": [],
   "source": [
    "ave_mag_red_rz = np.nanmean(red_mags_rz)\n",
    "ave_mag_green_rz = np.nanmean(green_mags_rz)\n",
    "ave_mag_blue_rz = np.nanmean(blue_mags_rz)\n",
    "ave_mag_l_rz = np.nanmean(luminance_mags_rz)\n",
    "std_mag_red_rz = np.nanstd(red_mags_rz) + np.nanmax(red_error_rz)\n",
    "std_mag_green_rz = np.nanstd(green_mags_rz) + np.nanmax(green_error_rz)\n",
    "std_mag_blue_rz = np.nanstd(blue_mags_rz) + np.nanmax(blue_error_rz)\n",
    "std_mag_l_rz = np.nanstd(luminance_mags_rz) + np.nanmax(luminance_error_rz)"
   ],
   "metadata": {
    "collapsed": false,
    "pycharm": {
     "name": "#%%\n"
    }
   }
  },
  {
   "cell_type": "code",
   "execution_count": null,
   "outputs": [],
   "source": [
    "print(\"RZ Cep magnitudes\")\n",
    "\n",
    "print(f'Red band: {ave_mag_red_rz:.2f} \\u00B1 {std_mag_red_rz + np.nanmax(red_error_rz):.2f}')\n",
    "\n",
    "print(f'Green band: {ave_mag_green_rz:.2f} \\u00B1 {std_mag_green_rz + np.nanmax(green_error_rz):.2f}')\n",
    "\n",
    "print(f'Blue band: {ave_mag_blue_rz:.2f} \\u00B1 {std_mag_blue_rz + np.nanmax(blue_error_rz):.2f}')\n",
    "\n",
    "print(f'Luminance band: {ave_mag_l_rz:.2f} \\u00B1 {std_mag_l_rz + np.nanmax(luminance_error_rz):.2f}')"
   ],
   "metadata": {
    "collapsed": false,
    "pycharm": {
     "name": "#%%\n"
    }
   }
  },
  {
   "cell_type": "code",
   "execution_count": 33,
   "outputs": [
    {
     "name": "stdout",
     "output_type": "stream",
     "text": [
      "RZ Cep magnitudes\n",
      "Luminance band: 13.47 ± 0.77\n",
      "Green band: 13.55 ± 0.36\n",
      "Red band: 13.53 ± 0.39\n",
      "Blue band: 13.71 ± 1.40\n"
     ]
    }
   ],
   "source": [
    "print(\"RZ Cep magnitudes\")\n",
    "\n",
    "print(f'Luminance band: {ave_mag_l_rz:.2f} \\u00B1 {std_mag_l_rz:.2f}')\n",
    "\n",
    "print(f'Green band: {ave_mag_green_rz:.2f} \\u00B1 {std_mag_green_rz:.2f}')\n",
    "\n",
    "print(f'Red band: {ave_mag_red_rz:.2f} \\u00B1 {std_mag_red_rz:.2f}')\n",
    "\n",
    "print(f'Blue band: {ave_mag_blue_rz:.2f} \\u00B1 {std_mag_blue_rz:.2f}')"
   ],
   "metadata": {
    "collapsed": false,
    "pycharm": {
     "name": "#%%\n"
    }
   }
  },
  {
   "cell_type": "code",
   "execution_count": 19,
   "id": "98541377",
   "metadata": {
    "pycharm": {
     "name": "#%%\n"
    }
   },
   "outputs": [
    {
     "name": "stdout",
     "output_type": "stream",
     "text": [
      "RV UMa B-R Wesenheit magnitude: 14.32 ± 0.41\n",
      "RZ Cep B-R Wesenheit magnitude: 13.44 ± 0.11\n"
     ]
    }
   ],
   "source": [
    "rv_uma_wbr = wesenheit_mag(ave_mag_blue_rv, ave_mag_red_rv, std_mag_blue_rv, std_mag_red_rv, wavelength_B, wavelength_R)\n",
    "rz_cep_wbr = wesenheit_mag(ave_mag_blue_rz, ave_mag_red_rz, std_mag_blue_rz, std_mag_red_rz, wavelength_B, wavelength_R)\n",
    "\n",
    "print(f'RV UMa B-R Wesenheit magnitude: {rv_uma_wbr[0]:.2f} \\u00B1 {abs(rv_uma_wbr[1]):.2f}')\n",
    "print(f'RZ Cep B-R Wesenheit magnitude: {rz_cep_wbr[0]:.2f} \\u00B1 {abs(rz_cep_wbr[1]):.2f}')"
   ]
  },
  {
   "cell_type": "code",
   "execution_count": 20,
   "outputs": [
    {
     "name": "stdout",
     "output_type": "stream",
     "text": [
      "RV UMa B-G Wesenheit magnitude:  (14.157235152429854, 0.49436436393877203)\n",
      "RZ Cep B-G Wesenheit magnitude:  (13.349653313427918, -0.9471762780781251)\n"
     ]
    }
   ],
   "source": [
    "print('RV UMa B-G Wesenheit magnitude: ', wesenheit_mag(ave_mag_blue_rv, ave_mag_green_rv, std_mag_blue_rv, std_mag_green_rv, wavelength_B, wavelength_G))\n",
    "\n",
    "print('RZ Cep B-G Wesenheit magnitude: ', wesenheit_mag(ave_mag_blue_rz, ave_mag_green_rz, std_mag_blue_rz, std_mag_green_rz, wavelength_B, wavelength_G))"
   ],
   "metadata": {
    "collapsed": false,
    "pycharm": {
     "name": "#%%\n"
    }
   }
  },
  {
   "cell_type": "code",
   "execution_count": 21,
   "id": "82f0ea95",
   "metadata": {
    "pycharm": {
     "name": "#%%\n"
    }
   },
   "outputs": [
    {
     "name": "stdout",
     "output_type": "stream",
     "text": [
      "RV UMa G-R Wesenheit magnitude:  (14.426268648634505, 0.35733837464436924)\n",
      "RZ Cep G-R Wesenheit magnitude:  (13.503027308874547, 0.4409528541166131)\n"
     ]
    }
   ],
   "source": [
    "print('RV UMa G-R Wesenheit magnitude: ', wesenheit_mag(ave_mag_green_rv, ave_mag_red_rv, std_mag_green_rv, std_mag_red_rv, wavelength_G, wavelength_R))\n",
    "print('RZ Cep G-R Wesenheit magnitude: ', wesenheit_mag(ave_mag_green_rz, ave_mag_red_rz, std_mag_green_rz, std_mag_red_rz, wavelength_G, wavelength_R))"
   ]
  },
  {
   "cell_type": "code",
   "execution_count": 22,
   "outputs": [
    {
     "name": "stdout",
     "output_type": "stream",
     "text": [
      "RV UMa L-R Wesenheit magnitude: 15.41 ± 0.27\n",
      "RZ Cep L-R Wesenheit magnitude: 13.64 ± 0.27\n"
     ]
    }
   ],
   "source": [
    "rv_uma_wlr = wesenheit_mag(ave_mag_l_rv, ave_mag_red_rv, std_mag_l_rv, std_mag_red_rv, wavelength_L, wavelength_R)\n",
    "rz_cep_wlr = wesenheit_mag(ave_mag_l_rz, ave_mag_red_rz, std_mag_l_rz, std_mag_red_rz, wavelength_L, wavelength_R)\n",
    "\n",
    "print(f'RV UMa L-R Wesenheit magnitude: {rv_uma_wlr[0]:.2f} \\u00B1 {abs(rv_uma_wlr[1]):.2f}')\n",
    "print(f'RZ Cep L-R Wesenheit magnitude: {rz_cep_wlr[0]:.2f} \\u00B1 {abs(rz_cep_wlr[1]):.2f}')"
   ],
   "metadata": {
    "collapsed": false,
    "pycharm": {
     "name": "#%%\n"
    }
   }
  },
  {
   "cell_type": "code",
   "execution_count": 23,
   "outputs": [
    {
     "name": "stdout",
     "output_type": "stream",
     "text": [
      "RV UMa L-B Wesenheit magnitude: 13.01 ± 0.58\n",
      "RZ Cep L-B Wesenheit magnitude: 13.20 ± 0.08\n"
     ]
    }
   ],
   "source": [
    "rv_uma_wlb = wesenheit_mag(ave_mag_l_rv, ave_mag_blue_rv, std_mag_l_rv, std_mag_blue_rv, wavelength_L, wavelength_B)\n",
    "rz_cep_wlb = wesenheit_mag(ave_mag_l_rz, ave_mag_blue_rz, std_mag_l_rz, std_mag_blue_rz, wavelength_L, wavelength_B)\n",
    "\n",
    "print(f'RV UMa L-B Wesenheit magnitude: {rv_uma_wlb[0]:.2f} \\u00B1 {abs(rv_uma_wlb[1]):.2f}')\n",
    "print(f'RZ Cep L-B Wesenheit magnitude: {rz_cep_wlb[0]:.2f} \\u00B1 {abs(rz_cep_wlb[1]):.2f}')"
   ],
   "metadata": {
    "collapsed": false,
    "pycharm": {
     "name": "#%%\n"
    }
   }
  },
  {
   "cell_type": "code",
   "execution_count": 24,
   "outputs": [
    {
     "name": "stdout",
     "output_type": "stream",
     "text": [
      "Ratio of RV UMa to RZ Cep distance: 2.26 ± 0.17\n"
     ]
    }
   ],
   "source": [
    "print(f'Ratio of RV UMa to RZ Cep distance: {10**((rv_uma_wlr[0] - rz_cep_wlr[0])/5):.2f} \\u00B1 {np.log10(5)/5*10**((rv_uma_wlr[0] - rz_cep_wlr[0])/5)*abs(rv_uma_wlr[1] - rz_cep_wlr[1]):.2f}')"
   ],
   "metadata": {
    "collapsed": false,
    "pycharm": {
     "name": "#%%\n"
    }
   }
  },
  {
   "cell_type": "code",
   "execution_count": 25,
   "outputs": [
    {
     "name": "stdout",
     "output_type": "stream",
     "text": [
      "Ratio of RV UMa to RZ Cep distance: 0.91 ± 0.06\n"
     ]
    }
   ],
   "source": [
    "print(f'Ratio of RV UMa to RZ Cep distance: {10**((rv_uma_wlb[0] - rz_cep_wlb[0])/5):.2f} \\u00B1 {np.log10(5)/5*10**((rv_uma_wlb[0] - rz_cep_wlb[0])/5)*abs(rv_uma_wlb[1] - rz_cep_wlb[1]):.2f}')"
   ],
   "metadata": {
    "collapsed": false,
    "pycharm": {
     "name": "#%%\n"
    }
   }
  },
  {
   "cell_type": "code",
   "execution_count": 26,
   "outputs": [
    {
     "name": "stdout",
     "output_type": "stream",
     "text": [
      "Ratio of RV UMa to RZ Cep distance: 1.50 ± 0.11\n"
     ]
    }
   ],
   "source": [
    "print(f'Ratio of RV UMa to RZ Cep distance: {10**((rv_uma_wbr[0] - rz_cep_wbr[0])/5):.2f} \\u00B1 {np.log10(5)/5*10**((rv_uma_wbr[0] - rz_cep_wbr[0])/5)*abs(rv_uma_wbr[1] - rz_cep_wbr[1]):.2f}')"
   ],
   "metadata": {
    "collapsed": false,
    "pycharm": {
     "name": "#%%\n"
    }
   }
  },
  {
   "cell_type": "code",
   "execution_count": 27,
   "outputs": [
    {
     "name": "stdout",
     "output_type": "stream",
     "text": [
      "13.393559159487463\n",
      "13.413232494175256\n",
      "13.338727590000001\n"
     ]
    }
   ],
   "source": [
    "print(ave_mag_l_rv)\n",
    "print(np.nanmean(luminance_mags_rv))\n",
    "print((np.nanmax(luminance_mags_rv) - np.nanmin(luminance_mags_rv)) / 2 + np.nanmin(luminance_mags_rv))"
   ],
   "metadata": {
    "collapsed": false,
    "pycharm": {
     "name": "#%%\n"
    }
   }
  },
  {
   "cell_type": "code",
   "execution_count": 28,
   "outputs": [
    {
     "data": {
      "text/plain": "[0.05831798,\n 0.06026361,\n 0.05842733,\n 0.04102308,\n 0.07921352,\n 0.05955572,\n 0.10276758,\n 0.18114475,\n 0.18673633,\n 0.18453647,\n 0.17930554,\n 0.14067284,\n 0.18532949,\n 0.14155633,\n 0.16990874,\n 0.13943205,\n 0.17867718,\n 0.14289012,\n 0.19802093,\n 0.17453812,\n 0.17234778,\n 0.21206127,\n 0.14538802,\n 0.16758934,\n 0.20827033,\n 0.19453105,\n 0.1569858,\n 0.19001493,\n 0.15897815,\n 0.21216911,\n 0.14650054,\n 0.10927824,\n 0.13194601,\n 0.11972259,\n 0.09864088,\n 0.10473117,\n 0.11493705,\n 0.10929192,\n 0.10693067,\n 0.08825169,\n 0.15084746,\n 0.11882589,\n 0.05315741,\n 0.04486278,\n 0.06165569,\n 0.0560848,\n 0.05758687,\n 0.07300459,\n 0.06126548,\n 0.046557,\n 0.1196623,\n 0.05028702,\n 0.1000687,\n 0.08723766,\n 0.1049643,\n 0.09245965,\n 0.1004586,\n 0.1340138,\n 0.10854665,\n 0.17579894,\n 0.1499932,\n 0.12089082,\n 0.12691255,\n 0.15022163,\n 0.13677984,\n 0.15979158,\n 0.15768508,\n 0.18047649,\n 0.15284577,\n 0.20162266,\n 0.16097227,\n 0.14182618,\n 0.1434926,\n 0.15169823,\n 0.16556892,\n 0.13412868,\n 0.16040832,\n 0.16651486,\n 0.12409142,\n 0.19518336,\n 0.1811931,\n 0.19275707,\n 0.15702981,\n 0.15164898,\n 0.15260761,\n 0.1705322,\n 0.1644361,\n 0.17533835,\n 0.15822882,\n 0.16341964,\n 0.15098235,\n 0.13088351,\n 0.15012748,\n 0.15401981,\n 0.12212266,\n 0.13307881,\n 0.13562352,\n 0.14345189,\n 0.11639234,\n 0.12571001,\n 0.13594333,\n 0.15977021,\n 0.16885336,\n 0.16273632,\n 0.15440897,\n 0.12619481,\n 0.15252507,\n 0.15855092,\n 0.13167779,\n 0.12112902,\n 0.13544518,\n 0.159035,\n 0.17971485,\n 0.1627069,\n 0.19531963,\n 0.2058891,\n 0.17289758,\n 0.19659126,\n 0.19441827,\n 0.19498931,\n 0.20793572,\n 0.14539926,\n 0.18105776,\n 0.17425999,\n 0.19174777,\n 0.22024202,\n 0.190655,\n 0.21748967,\n 0.23672106,\n 0.23120108,\n 0.20606782,\n 0.19591799,\n 0.19650031,\n 0.21986579,\n 0.20998245,\n 0.21996978,\n 0.24363378,\n 0.23468001,\n 0.1774248,\n 0.17938864,\n 0.17634018,\n 0.17385824,\n 0.18537415,\n 0.16900619,\n 0.16865808,\n 0.15877222,\n 0.20016492,\n 0.18480142,\n 0.1693094,\n 0.15485493,\n 0.20191674,\n 0.15256568,\n 0.20023668,\n 0.20008718,\n 0.16610498,\n 0.20313047,\n 0.17649595,\n 0.18114168,\n 0.17699706,\n 0.22072873,\n 0.19533361,\n 0.17922058,\n 0.09529102,\n 0.10143887,\n 0.15143301,\n 0.09712491,\n 0.1178182,\n 0.12220741,\n 0.11990201,\n 0.13537961,\n 0.11840876,\n 0.12133732,\n 0.13670594,\n 0.13400371,\n 0.1167963,\n 0.09149616,\n 0.08996603,\n 0.09395758,\n 0.08054866,\n 0.085658,\n 0.12287231,\n 0.06783549,\n 0.08968133,\n 0.07503674,\n 0.10226144,\n 0.07295231,\n 0.14573817,\n 0.16988372,\n 0.13357612,\n 0.1605709,\n 0.14820703,\n 0.19050176,\n 0.12360422,\n 0.13298062]"
     },
     "execution_count": 28,
     "metadata": {},
     "output_type": "execute_result"
    }
   ],
   "source": [
    "luminance_error_rv"
   ],
   "metadata": {
    "collapsed": false,
    "pycharm": {
     "name": "#%%\n"
    }
   }
  },
  {
   "cell_type": "code",
   "execution_count": 28,
   "outputs": [],
   "source": [],
   "metadata": {
    "collapsed": false,
    "pycharm": {
     "name": "#%%\n"
    }
   }
  }
 ],
 "metadata": {
  "kernelspec": {
   "display_name": "Python 3 (ipykernel)",
   "language": "python",
   "name": "python3"
  },
  "language_info": {
   "codemirror_mode": {
    "name": "ipython",
    "version": 3
   },
   "file_extension": ".py",
   "mimetype": "text/x-python",
   "name": "python",
   "nbconvert_exporter": "python",
   "pygments_lexer": "ipython3",
   "version": "3.9.13"
  }
 },
 "nbformat": 4,
 "nbformat_minor": 5
}