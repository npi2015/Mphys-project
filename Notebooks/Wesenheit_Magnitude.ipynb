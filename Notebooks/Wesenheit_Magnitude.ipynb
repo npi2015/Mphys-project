{
 "cells": [
  {
   "cell_type": "code",
   "execution_count": 72,
   "id": "007ff8c9",
   "metadata": {},
   "outputs": [],
   "source": [
    "import pandas as pd\n",
    "import numpy as np"
   ]
  },
  {
   "cell_type": "code",
   "execution_count": 73,
   "id": "c2b2717e",
   "metadata": {},
   "outputs": [],
   "source": [
    "wavelength_L = 543\n",
    "wavelength_R = 644\n",
    "wavelength_G = 532\n",
    "wavelength_B = 443"
   ]
  },
  {
   "cell_type": "code",
   "execution_count": 74,
   "id": "f5b18f8e",
   "metadata": {},
   "outputs": [],
   "source": [
    "def extinction(wavelength):\n",
    "    reddening_V = 3.1\n",
    "    wavelength_microm = wavelength * 10 ** -3\n",
    "    frequency = 1 / wavelength_microm\n",
    "    x = frequency - 1.82\n",
    "    a = 1 + 0.17699 * x - 0.50447 * x ** 2 - 0.02427 * x ** 3 + 0.72085 * x ** 4 + 0.01979 * x ** 5 - 0.77530 * x ** 6 + 0.32999 * x ** 7\n",
    "    b = 1.41338 * x + 2.28305 * x ** 2 + 1.07233 * x ** 3 - 5.38434 * x ** 4 - 0.62251 * x ** 5 + 5.30260 * x ** 6 - 2.09002 * x ** 7\n",
    "    extinction = (a + b) / reddening_V\n",
    "    return extinction"
   ]
  },
  {
   "cell_type": "code",
   "execution_count": 75,
   "id": "d3250294",
   "metadata": {},
   "outputs": [
    {
     "name": "stdout",
     "output_type": "stream",
     "text": [
      "0.3339437954712049 0.2131951396067385 0.3553052430870536 0.635296744552413\n"
     ]
    }
   ],
   "source": [
    "print(extinction(wavelength_L), extinction(wavelength_R), extinction(wavelength_G), extinction(wavelength_B))"
   ]
  },
  {
   "cell_type": "code",
   "execution_count": 86,
   "id": "1c6283e1",
   "metadata": {},
   "outputs": [],
   "source": [
    "def Wesenheit_mag(mag_X, mag_Y, delta_mag_X, delta_mag_Y, wavelength_X, wavelength_Y):\n",
    "    extinction_X = extinction(wavelength_X)\n",
    "    extinction_Y = extinction(wavelength_Y)\n",
    "    reddening = extinction_X / (extinction_X - extinction_Y)\n",
    "    Wesenheit_mag = mag_X - reddening * (mag_X - mag_Y)\n",
    "    variance_Wesenheit_mag = (1 - reddening) ** 2 * delta_mag_X ** 2 + delta_mag_Y ** 2\n",
    "    std_Wesenheit_mag = np.sqrt(variance_Wesenheit_mag)\n",
    "    return Wesenheit_mag, std_Wesenheit_mag"
   ]
  },
  {
   "cell_type": "code",
   "execution_count": 87,
   "id": "6bda00a4",
   "metadata": {},
   "outputs": [],
   "source": [
    "def absolute_mag(m, d):\n",
    "    distance_modulus = 5 * np.log10(d) - 5\n",
    "    M = m - distance_modulus\n",
    "    return M"
   ]
  },
  {
   "cell_type": "code",
   "execution_count": 88,
   "id": "c632480c",
   "metadata": {},
   "outputs": [],
   "source": [
    "data = pd.read_excel('../RV_Uma/Magnitudes/magnitudes.xlsx')\n",
    "mag_red = data['m_red']\n",
    "mag_green = data['m_green']\n",
    "mag_blue = data['m_blue']"
   ]
  },
  {
   "cell_type": "code",
   "execution_count": 89,
   "id": "5d4d67ec",
   "metadata": {},
   "outputs": [],
   "source": [
    "ave_mag_red = np.mean(mag_red)\n",
    "ave_mag_green = np.mean(mag_green)\n",
    "ave_mag_blue = np.mean(mag_blue)\n",
    "std_mag_red = np.std(mag_red)\n",
    "std_mag_green = np.std(mag_green)\n",
    "std_mag_blue = np.std(mag_blue)"
   ]
  },
  {
   "cell_type": "code",
   "execution_count": 90,
   "id": "105a2a1c",
   "metadata": {},
   "outputs": [
    {
     "name": "stdout",
     "output_type": "stream",
     "text": [
      "14.143250389846159 13.885825684639185 13.711596758125005 0.2168656836094744 0.276886458522989 0.3340473325424992\n"
     ]
    }
   ],
   "source": [
    "print(ave_mag_red, ave_mag_green, ave_mag_blue, std_mag_red, std_mag_green, std_mag_blue)"
   ]
  },
  {
   "cell_type": "code",
   "execution_count": 91,
   "id": "98541377",
   "metadata": {},
   "outputs": [
    {
     "data": {
      "text/plain": [
       "(14.361270068516633, 0.2747678854836867)"
      ]
     },
     "execution_count": 91,
     "metadata": {},
     "output_type": "execute_result"
    }
   ],
   "source": [
    "Wesenheit_mag(ave_mag_blue, ave_mag_red, std_mag_blue, std_mag_red, wavelength_B, wavelength_R)"
   ]
  },
  {
   "cell_type": "code",
   "execution_count": 92,
   "id": "82f0ea95",
   "metadata": {},
   "outputs": [
    {
     "data": {
      "text/plain": [
       "(14.106919720579329, 0.5063185212410304)"
      ]
     },
     "execution_count": 92,
     "metadata": {},
     "output_type": "execute_result"
    }
   ],
   "source": [
    "Wesenheit_mag(ave_mag_blue, ave_mag_green, std_mag_blue, std_mag_green, wavelength_B, wavelength_G) "
   ]
  },
  {
   "cell_type": "code",
   "execution_count": 93,
   "id": "04e277eb",
   "metadata": {},
   "outputs": [
    {
     "data": {
      "text/plain": [
       "(14.529441762737717, 0.4685915129143048)"
      ]
     },
     "execution_count": 93,
     "metadata": {},
     "output_type": "execute_result"
    }
   ],
   "source": [
    "Wesenheit_mag(ave_mag_green, ave_mag_red, std_mag_green, std_mag_red, wavelength_G, wavelength_R)"
   ]
  },
  {
   "cell_type": "code",
   "execution_count": null,
   "id": "044db9a6",
   "metadata": {},
   "outputs": [],
   "source": []
  }
 ],
 "metadata": {
  "kernelspec": {
   "display_name": "Python 3 (ipykernel)",
   "language": "python",
   "name": "python3"
  },
  "language_info": {
   "codemirror_mode": {
    "name": "ipython",
    "version": 3
   },
   "file_extension": ".py",
   "mimetype": "text/x-python",
   "name": "python",
   "nbconvert_exporter": "python",
   "pygments_lexer": "ipython3",
   "version": "3.9.13"
  }
 },
 "nbformat": 4,
 "nbformat_minor": 5
}
