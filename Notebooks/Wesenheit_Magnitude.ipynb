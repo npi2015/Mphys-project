{
 "cells": [
  {
   "cell_type": "code",
   "execution_count": 55,
   "id": "007ff8c9",
   "metadata": {
    "pycharm": {
     "name": "#%%\n"
    }
   },
   "outputs": [],
   "source": [
    "import pandas as pd\n",
    "import numpy as np"
   ]
  },
  {
   "cell_type": "code",
   "execution_count": 56,
   "id": "c2b2717e",
   "metadata": {
    "pycharm": {
     "name": "#%%\n"
    }
   },
   "outputs": [],
   "source": [
    "wavelength_L = 543\n",
    "wavelength_R = 644\n",
    "wavelength_G = 532\n",
    "wavelength_B = 443"
   ]
  },
  {
   "cell_type": "code",
   "execution_count": 57,
   "id": "f5b18f8e",
   "metadata": {
    "pycharm": {
     "name": "#%%\n"
    }
   },
   "outputs": [],
   "source": [
    "def extinction(wavelength):\n",
    "    reddening_V = 3.1\n",
    "    wavelength_microm = wavelength * 10 ** -3\n",
    "    frequency = 1 / wavelength_microm\n",
    "    x = frequency - 1.82\n",
    "    a = 1 + 0.17699 * x - 0.50447 * x ** 2 - 0.02427 * x ** 3 + 0.72085 * x ** 4 + 0.01979 * x ** 5 - 0.77530 * x ** 6 + 0.32999 * x ** 7\n",
    "    b = 1.41338 * x + 2.28305 * x ** 2 + 1.07233 * x ** 3 - 5.38434 * x ** 4 - 0.62251 * x ** 5 + 5.30260 * x ** 6 - 2.09002 * x ** 7\n",
    "    extinction_value = (a + b) / reddening_V\n",
    "    return extinction_value"
   ]
  },
  {
   "cell_type": "code",
   "execution_count": 58,
   "id": "d3250294",
   "metadata": {
    "pycharm": {
     "name": "#%%\n"
    }
   },
   "outputs": [
    {
     "name": "stdout",
     "output_type": "stream",
     "text": [
      "0.3339437954712049 0.2131951396067385 0.3553052430870536 0.635296744552413\n"
     ]
    }
   ],
   "source": [
    "print(extinction(wavelength_L), extinction(wavelength_R), extinction(wavelength_G), extinction(wavelength_B))"
   ]
  },
  {
   "cell_type": "code",
   "execution_count": 59,
   "id": "1c6283e1",
   "metadata": {
    "pycharm": {
     "name": "#%%\n"
    }
   },
   "outputs": [],
   "source": [
    "def wesenheit_mag(mag_X, mag_Y, delta_mag_X, delta_mag_Y, wavelength_X, wavelength_Y):\n",
    "    extinction_X = extinction(wavelength_X)\n",
    "    extinction_Y = extinction(wavelength_Y)\n",
    "    reddening = extinction_X / (extinction_X - extinction_Y)\n",
    "    Wesenheit_mag = mag_X - reddening * (mag_X - mag_Y)\n",
    "    err_Wesenheit_mag = (1 - reddening) * delta_mag_X + reddening * delta_mag_Y\n",
    "    return Wesenheit_mag, err_Wesenheit_mag"
   ]
  },
  {
   "cell_type": "code",
   "execution_count": 60,
   "id": "6bda00a4",
   "metadata": {
    "pycharm": {
     "name": "#%%\n"
    }
   },
   "outputs": [],
   "source": [
    "def absolute_mag(m, d):\n",
    "    distance_modulus = 5 * np.log10(d) - 5\n",
    "    M = m - distance_modulus\n",
    "    return M"
   ]
  },
  {
   "cell_type": "markdown",
   "source": [
    "# Reading the RV UMa data"
   ],
   "metadata": {
    "collapsed": false,
    "pycharm": {
     "name": "#%% md\n"
    }
   }
  },
  {
   "cell_type": "code",
   "execution_count": 61,
   "outputs": [],
   "source": [
    "import re\n",
    "from ast import literal_eval\n",
    "import numpy as np\n",
    "\n",
    "filter_name = 'red'\n",
    "with open(f'RV_UMaData{filter_name.upper()}.txt', 'r') as file:\n",
    "    red_string = file.read()\n",
    "\n",
    "data_red = re.split(r'\\*+', red_string)\n",
    "red_phase_string_rv = data_red[1]\n",
    "red_mags_string_rv = data_red[2]\n",
    "red_error_string_rv = data_red[3]\n",
    "red_julian_dates_string_rv = data_red[4]\n",
    "\n",
    "red_phase_rv = literal_eval(re.sub('\\s+', ',',red_phase_string_rv.strip('\\n')))\n",
    "red_mags_rv = eval(re.sub('\\s+', ',',red_mags_string_rv.strip('\\n').replace('nan', 'np.nan')))\n",
    "red_error_rv = eval(re.sub('\\s+', ',',red_error_string_rv.strip('\\n').replace('nan', 'np.nan')))\n",
    "red_julian_date_rv = eval(re.sub('\\s+', ',',red_julian_dates_string_rv.strip('\\n').replace('nan', 'np.nan')))"
   ],
   "metadata": {
    "collapsed": false,
    "pycharm": {
     "name": "#%%\n"
    }
   }
  },
  {
   "cell_type": "code",
   "execution_count": 62,
   "outputs": [],
   "source": [
    "filter_name = 'blue'\n",
    "with open(f'RV_UMaData{filter_name.upper()}.txt', 'r') as file:\n",
    "    blue_string = file.read()\n",
    "\n",
    "data_blue = re.split(r'\\*+', blue_string)\n",
    "blue_phase_string_rv = data_blue[1]\n",
    "blue_mags_string_rv = data_blue[2]\n",
    "blue_error_string_rv = data_blue[3]\n",
    "blue_julian_dates_string_rv = data_blue[4]\n",
    "\n",
    "blue_phase_rv = literal_eval(re.sub('\\s+', ',',blue_phase_string_rv.strip('\\n')))\n",
    "blue_mags_rv = eval(re.sub('\\s+', ',',blue_mags_string_rv.strip('\\n').replace('nan', 'np.nan')))\n",
    "blue_error_rv = eval(re.sub('\\s+', ',',blue_error_string_rv.strip('\\n').replace('nan', 'np.nan')))\n",
    "blue_julian_date_rv = eval(re.sub('\\s+', ',',blue_julian_dates_string_rv.strip('\\n').replace('nan', 'np.nan')))"
   ],
   "metadata": {
    "collapsed": false,
    "pycharm": {
     "name": "#%%\n"
    }
   }
  },
  {
   "cell_type": "code",
   "execution_count": 63,
   "outputs": [],
   "source": [
    "filter_name = 'green'\n",
    "with open(f'RV_UMaData{filter_name.upper()}.txt', 'r') as file:\n",
    "    green_string = file.read()\n",
    "\n",
    "data_green = re.split(r'\\*+', green_string)\n",
    "green_phase_string_rv = data_green[1]\n",
    "green_mags_string_rv = data_green[2]\n",
    "green_error_string_rv = data_green[3]\n",
    "green_julian_dates_string_rv = data_green[4]\n",
    "\n",
    "green_phase_rv = literal_eval(re.sub('\\s+', ',',green_phase_string_rv.strip('\\n')))\n",
    "green_mags_rv = eval(re.sub('\\s+', ',',green_mags_string_rv.strip('\\n').replace('nan', 'np.nan')))\n",
    "green_error_rv = eval(re.sub('\\s+', ',',green_error_string_rv.strip('\\n').replace('nan', 'np.nan')))\n",
    "green_julian_date_rv = eval(re.sub('\\s+', ',',green_julian_dates_string_rv.strip('\\n').replace('nan', 'np.nan')))"
   ],
   "metadata": {
    "collapsed": false,
    "pycharm": {
     "name": "#%%\n"
    }
   }
  },
  {
   "cell_type": "code",
   "execution_count": 64,
   "outputs": [],
   "source": [
    "filter_name = 'luminance'\n",
    "with open(f'RV_UMaData{filter_name.upper()}.txt', 'r') as file:\n",
    "    luminance_string = file.read()\n",
    "\n",
    "data_luminance = re.split(r'\\*+', luminance_string)\n",
    "luminance_phase_string_rv = data_luminance[1]\n",
    "luminance_mags_string_rv = data_luminance[2]\n",
    "luminance_error_string_rv = data_luminance[3]\n",
    "luminance_julian_dates_string_rv = data_luminance[4]\n",
    "\n",
    "luminance_phase_rv = literal_eval(re.sub('\\s+', ',',luminance_phase_string_rv.strip('\\n')))\n",
    "luminance_mags_rv = eval(re.sub('\\s+', ',',luminance_mags_string_rv.strip('\\n').replace('nan', 'np.nan')))\n",
    "luminance_error_rv = eval(re.sub('\\s+', ',',luminance_error_string_rv.strip('\\n').replace('nan', 'np.nan')))\n",
    "luminance_julian_date_rv = eval(re.sub('\\s+', ',',luminance_julian_dates_string_rv.strip('\\n').replace('nan', 'np.nan')))"
   ],
   "metadata": {
    "collapsed": false,
    "pycharm": {
     "name": "#%%\n"
    }
   }
  },
  {
   "cell_type": "code",
   "execution_count": 65,
   "id": "5d4d67ec",
   "metadata": {
    "pycharm": {
     "name": "#%%\n"
    }
   },
   "outputs": [],
   "source": [
    "ave_mag_red_rv = np.nanmean(red_mags_rv)\n",
    "ave_mag_green_rv = np.nanmean(green_mags_rv)\n",
    "ave_mag_blue_rv = np.nanmean(blue_mags_rv)\n",
    "ave_mag_l_rv = np. nanmean(luminance_mags_rv)\n",
    "std_mag_red_rv = np.nanmean(red_error_rv)\n",
    "std_mag_green_rv = np.nanmean(green_error_rv)\n",
    "std_mag_blue_rv = np.nanmean(blue_error_rv)\n",
    "std_mag_l_rv = np.nanmean(luminance_error_rv)"
   ]
  },
  {
   "cell_type": "code",
   "execution_count": 66,
   "outputs": [
    {
     "name": "stdout",
     "output_type": "stream",
     "text": [
      "RV UMa magnitudes\n",
      "Red band: 14.14 ± 0.01\n",
      "Green band: 13.89 ± 0.01\n",
      "Blue band: 13.73 ± 0.01\n",
      "Luminance band: 13.42 ± 0.01\n"
     ]
    }
   ],
   "source": [
    "print(\"RV UMa magnitudes\")\n",
    "\n",
    "print(f'Red band: {ave_mag_red_rv:.2f} \\u00B1 {std_mag_red_rv:.2f}')\n",
    "\n",
    "print(f'Green band: {ave_mag_green_rv:.2f} \\u00B1 {std_mag_green_rv:.2f}')\n",
    "\n",
    "print(f'Blue band: {ave_mag_blue_rv:.2f} \\u00B1 {std_mag_blue_rv:.2f}')\n",
    "\n",
    "print(f'Luminance band: {ave_mag_l_rv:.2f} \\u00B1 {std_mag_l_rv:.2f}')"
   ],
   "metadata": {
    "collapsed": false,
    "pycharm": {
     "name": "#%%\n"
    }
   }
  },
  {
   "cell_type": "markdown",
   "source": [
    "# Reading the RZ Cep data"
   ],
   "metadata": {
    "collapsed": false,
    "pycharm": {
     "name": "#%% md\n"
    }
   }
  },
  {
   "cell_type": "code",
   "execution_count": 78,
   "outputs": [],
   "source": [
    "filter_name = 'red'\n",
    "with open(f'RZ_CepData{filter_name.upper()}.txt', 'r') as file:\n",
    "    red_string = file.read()\n",
    "\n",
    "data_red_rz = re.split(r'\\*+', red_string)\n",
    "\n",
    "red_phase_string_rz = data_red_rz[1]\n",
    "red_mags_string_rz = data_red_rz[2]\n",
    "# red_error_string = data_red[3]\n",
    "red_julian_dates_string_rz = data_red_rz[3]\n",
    "\n",
    "red_phase_rz = literal_eval(re.sub('\\s+', ',',red_phase_string_rz.strip('\\n')))\n",
    "red_mags_rz = eval(re.sub('\\s+', ',',red_mags_string_rz.strip('\\n').replace('nan', 'np.nan')))\n",
    "# red_error = eval(re.sub('\\s+', ',',red_error_string.strip('\\n').replace('nan', 'np.nan')))\n",
    "red_julian_date_rz = eval(re.sub('\\s+', ',',red_julian_dates_string_rz.strip('\\n').replace('nan', 'np.nan')))"
   ],
   "metadata": {
    "collapsed": false,
    "pycharm": {
     "name": "#%%\n"
    }
   }
  },
  {
   "cell_type": "code",
   "execution_count": 68,
   "outputs": [],
   "source": [
    "filter_name = 'blue'\n",
    "with open(f'RZ_CepData{filter_name.upper()}.txt', 'r') as file:\n",
    "    blue_string = file.read()\n",
    "\n",
    "data_blue_rz = re.split(r'\\*+', blue_string)\n",
    "blue_phase_string_rz = data_blue_rz[1]\n",
    "blue_mags_string_rz = data_blue_rz[2]\n",
    "# blue_error_string = data_blue_rz[3]\n",
    "blue_julian_dates_string_rz = data_blue_rz[3]\n",
    "\n",
    "blue_phase_rz = literal_eval(re.sub('\\s+', ',',blue_phase_string_rz.strip('\\n')))\n",
    "blue_mags_rz = eval(re.sub('\\s+', ',',blue_mags_string_rz.strip('\\n').replace('nan', 'np.nan')))\n",
    "# blue_error = eval(re.sub('\\s+', ',',blue_error_string.strip('\\n').replace('nan', 'np.nan')))\n",
    "blue_julian_date_rz = eval(re.sub('\\s+', ',',blue_julian_dates_string_rz.strip('\\n').replace('nan', 'np.nan')))"
   ],
   "metadata": {
    "collapsed": false,
    "pycharm": {
     "name": "#%%\n"
    }
   }
  },
  {
   "cell_type": "code",
   "execution_count": 69,
   "outputs": [],
   "source": [
    "filter_name = 'green'\n",
    "with open(f'RZ_CepData{filter_name.upper()}.txt', 'r') as file:\n",
    "    green_string = file.read()\n",
    "\n",
    "data_green_rz = re.split(r'\\*+', green_string)\n",
    "green_phase_string_rz = data_green_rz[1]\n",
    "green_mags_string_rz = data_green_rz[2]\n",
    "# green_error_string = data_green_rz[3]\n",
    "green_julian_dates_string_rz = data_green_rz[3]\n",
    "\n",
    "green_phase_rz = literal_eval(re.sub('\\s+', ',',green_phase_string_rz.strip('\\n')))\n",
    "green_mags_rz = eval(re.sub('\\s+', ',',green_mags_string_rz.strip('\\n').replace('nan', 'np.nan')))\n",
    "# green_error = eval(re.sub('\\s+', ',',green_error_string.strip('\\n').replace('nan', 'np.nan')))\n",
    "green_julian_date_rz = eval(re.sub('\\s+', ',',green_julian_dates_string_rz.strip('\\n').replace('nan', 'np.nan')))"
   ],
   "metadata": {
    "collapsed": false,
    "pycharm": {
     "name": "#%%\n"
    }
   }
  },
  {
   "cell_type": "code",
   "execution_count": 79,
   "outputs": [],
   "source": [
    "filter_name = 'luminance'\n",
    "with open(f'RZ_CepData{filter_name.upper()}.txt', 'r') as file:\n",
    "    luminance_string = file.read()\n",
    "\n",
    "data_luminance_rz = re.split(r'\\*+', luminance_string)\n",
    "luminance_phase_string_rz = data_luminance_rz[1]\n",
    "luminance_mags_string_rz = data_luminance_rz[2]\n",
    "# luminance_error_string = data_luminance_rz[3]\n",
    "luminance_julian_dates_string_rz = data_luminance_rz[3]\n",
    "\n",
    "luminance_phase_rz = literal_eval(re.sub('\\s+', ',',luminance_phase_string_rz.strip('\\n')))\n",
    "luminance_mags_rz = eval(re.sub('\\s+', ',',luminance_mags_string_rz.strip('\\n').replace('nan', 'np.nan')))\n",
    "# luminance_error = eval(re.sub('\\s+', ',',luminance_error_string.strip('\\n').replace('nan', 'np.nan')))\n",
    "luminance_julian_date_rz = eval(re.sub('\\s+', ',',luminance_julian_dates_string_rz.strip('\\n').replace('nan', 'np.nan')))"
   ],
   "metadata": {
    "collapsed": false,
    "pycharm": {
     "name": "#%%\n"
    }
   }
  },
  {
   "cell_type": "code",
   "execution_count": 80,
   "outputs": [],
   "source": [
    "ave_mag_red_rz = np.nanmean(red_mags_rz)\n",
    "ave_mag_green_rz = np.nanmean(green_mags_rz)\n",
    "ave_mag_blue_rz = np.nanmean(blue_mags_rz)\n",
    "ave_mag_l_rz = np.nanmean(luminance_mags_rz)\n",
    "std_mag_red_rz = np.nanstd(red_mags_rz)\n",
    "std_mag_green_rz = np.nanstd(green_mags_rz)\n",
    "std_mag_blue_rz = np.nanstd(blue_mags_rz)\n",
    "std_mag_l_rz = np.nanstd(luminance_mags_rz)"
   ],
   "metadata": {
    "collapsed": false,
    "pycharm": {
     "name": "#%%\n"
    }
   }
  },
  {
   "cell_type": "code",
   "execution_count": 81,
   "id": "105a2a1c",
   "metadata": {
    "pycharm": {
     "name": "#%%\n"
    }
   },
   "outputs": [
    {
     "name": "stdout",
     "output_type": "stream",
     "text": [
      "RV UMa magnitudes\n",
      "Red band: 14.14 ± 0.01\n",
      "Green band: 13.89 ± 0.01\n",
      "Blue band: 13.73 ± 0.01\n",
      "Luminance band: 13.42 ± 0.01\n"
     ]
    }
   ],
   "source": [
    "print(\"RV UMa magnitudes\")\n",
    "\n",
    "print(f'Red band: {ave_mag_red_rv:.2f} \\u00B1 {std_mag_red_rv:.2f}')\n",
    "\n",
    "print(f'Green band: {ave_mag_green_rv:.2f} \\u00B1 {std_mag_green_rv:.2f}')\n",
    "\n",
    "print(f'Blue band: {ave_mag_blue_rv:.2f} \\u00B1 {std_mag_blue_rv:.2f}')\n",
    "\n",
    "print(f'Luminance band: {ave_mag_l_rv:.2f} \\u00B1 {std_mag_l_rv:.2f}')"
   ]
  },
  {
   "cell_type": "code",
   "execution_count": 82,
   "outputs": [
    {
     "name": "stdout",
     "output_type": "stream",
     "text": [
      "RZ Cep magnitudes\n",
      "Red band: 13.54 ± 0.18\n",
      "Green band: 13.89 ± 0.28\n",
      "Blue band: 13.73 ± 0.33\n",
      "Luminance band: 13.47 ± 0.17\n"
     ]
    }
   ],
   "source": [
    "print(\"RZ Cep magnitudes\")\n",
    "\n",
    "print(f'Red band: {ave_mag_red_rz:.2f} \\u00B1 {std_mag_red_rz:.2f}')\n",
    "\n",
    "print(f'Green band: {ave_mag_green_rz:.2f} \\u00B1 {std_mag_green_rz:.2f}')\n",
    "\n",
    "print(f'Blue band: {ave_mag_blue_rz:.2f} \\u00B1 {std_mag_blue_rz:.2f}')\n",
    "\n",
    "print(f'Luminance band: {ave_mag_l_rz:.2f} \\u00B1 {std_mag_l_rz:.2f}')"
   ],
   "metadata": {
    "collapsed": false,
    "pycharm": {
     "name": "#%%\n"
    }
   }
  },
  {
   "cell_type": "code",
   "execution_count": 83,
   "id": "98541377",
   "metadata": {
    "pycharm": {
     "name": "#%%\n"
    }
   },
   "outputs": [
    {
     "name": "stdout",
     "output_type": "stream",
     "text": [
      "RV UMa B-R Wesenheit magnitude:  (14.35445934214091, 0.011313766718740815)\n"
     ]
    }
   ],
   "source": [
    "print('RV UMa B-R Wesenheit magnitude: ', wesenheit_mag(ave_mag_blue_rv, ave_mag_red_rv, std_mag_blue_rv, std_mag_red_rv, wavelength_B, wavelength_R))\n",
    "\n",
    "print('RZ Cep B-R Wesenheit magnitude: ', wesenheit_mag(ave_mag_blue_rz, ave_mag_red_rz, std_mag_blue_rz, std_mag_red_rz, wavelength_B, wavelength_R))"
   ]
  },
  {
   "cell_type": "code",
   "execution_count": 88,
   "outputs": [
    {
     "name": "stdout",
     "output_type": "stream",
     "text": [
      "RV UMa B-G Wesenheit magnitude:  (14.08980814880038, 0.008126952431542569)\n",
      "RZ Cep B-G Wesenheit magnitude:  (14.08980814880038, 0.20418595829345132)\n"
     ]
    }
   ],
   "source": [
    "print('RV UMa B-G Wesenheit magnitude: ', wesenheit_mag(ave_mag_blue_rv, ave_mag_green_rv, std_mag_blue_rv, std_mag_green_rv, wavelength_B, wavelength_G))\n",
    "\n",
    "print('RZ Cep B-G Wesenheit magnitude: ', wesenheit_mag(ave_mag_blue_rz, ave_mag_green_rz, std_mag_blue_rz, std_mag_green_rz, wavelength_B, wavelength_G))"
   ],
   "metadata": {
    "collapsed": false,
    "pycharm": {
     "name": "#%%\n"
    }
   }
  },
  {
   "cell_type": "code",
   "execution_count": 89,
   "id": "82f0ea95",
   "metadata": {
    "pycharm": {
     "name": "#%%\n"
    }
   },
   "outputs": [
    {
     "name": "stdout",
     "output_type": "stream",
     "text": [
      "RV UMa G-R Wesenheit magnitude:  (14.529441762737713, 0.013420828738479803)\n",
      "RZ Cep G-R Wesenheit magnitude:  (13.011288473575377, 0.0335092833729837)\n"
     ]
    }
   ],
   "source": [
    "print('RV UMa G-R Wesenheit magnitude: ', wesenheit_mag(ave_mag_green_rv, ave_mag_red_rv, std_mag_green_rv, std_mag_red_rv, wavelength_G, wavelength_R))\n",
    "print('RZ Cep G-R Wesenheit magnitude: ', wesenheit_mag(ave_mag_green_rz, ave_mag_red_rz, std_mag_green_rz, std_mag_red_rz, wavelength_G, wavelength_R))"
   ]
  },
  {
   "cell_type": "code",
   "execution_count": 93,
   "outputs": [
    {
     "name": "stdout",
     "output_type": "stream",
     "text": [
      "RV UMa L-R Wesenheit magnitude: 15.43 ± 0.01\n",
      "RZ Cep L-R Wesenheit magnitude: 13.65 ± 0.20\n"
     ]
    }
   ],
   "source": [
    "rv_uma_wlr = wesenheit_mag(ave_mag_l_rv, ave_mag_red_rv, std_mag_l_rv, std_mag_red_rv, wavelength_L, wavelength_R)\n",
    "rz_cep_wlr = wesenheit_mag(ave_mag_l_rz, ave_mag_red_rz, std_mag_l_rz, std_mag_red_rz, wavelength_L, wavelength_R)\n",
    "\n",
    "print(f'RV UMa L-R Wesenheit magnitude: {rv_uma_wlr[0]:.2f} \\u00B1 {rv_uma_wlr[1]:.2f}')\n",
    "print(f'RZ Cep L-R Wesenheit magnitude: {rz_cep_wlr[0]:.2f} \\u00B1 {rz_cep_wlr[1]:.2f}')"
   ],
   "metadata": {
    "collapsed": false,
    "pycharm": {
     "name": "#%%\n"
    }
   }
  },
  {
   "cell_type": "code",
   "execution_count": 100,
   "id": "04e277eb",
   "metadata": {
    "pycharm": {
     "name": "#%%\n"
    }
   },
   "outputs": [
    {
     "name": "stdout",
     "output_type": "stream",
     "text": [
      "2.27 ± 0.06\n"
     ]
    }
   ],
   "source": [
    "print(f'{10**((rv_uma_wlr[0] - rz_cep_wlr[0])/5):.2f} \\u00B1 {np.log10(5)/5*10**((rv_uma_wlr[0] - rz_cep_wlr[0])/5)*abs(rv_uma_wlr[1] - rz_cep_wlr[1]):.2f}')"
   ]
  },
  {
   "cell_type": "code",
   "execution_count": null,
   "outputs": [],
   "source": [],
   "metadata": {
    "collapsed": false,
    "pycharm": {
     "name": "#%%\n"
    }
   }
  }
 ],
 "metadata": {
  "kernelspec": {
   "display_name": "Python 3 (ipykernel)",
   "language": "python",
   "name": "python3"
  },
  "language_info": {
   "codemirror_mode": {
    "name": "ipython",
    "version": 3
   },
   "file_extension": ".py",
   "mimetype": "text/x-python",
   "name": "python",
   "nbconvert_exporter": "python",
   "pygments_lexer": "ipython3",
   "version": "3.9.13"
  }
 },
 "nbformat": 4,
 "nbformat_minor": 5
}