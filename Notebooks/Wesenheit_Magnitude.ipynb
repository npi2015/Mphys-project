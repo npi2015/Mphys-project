{
 "cells": [
  {
   "cell_type": "code",
   "execution_count": 1,
   "id": "007ff8c9",
   "metadata": {
    "pycharm": {
     "name": "#%%\n"
    }
   },
   "outputs": [],
   "source": [
    "import pandas as pd\n",
    "import numpy as np"
   ]
  },
  {
   "cell_type": "code",
   "execution_count": 2,
   "id": "c2b2717e",
   "metadata": {
    "pycharm": {
     "name": "#%%\n"
    }
   },
   "outputs": [],
   "source": [
    "wavelength_L = 543\n",
    "wavelength_R = 644\n",
    "wavelength_G = 532\n",
    "wavelength_B = 443"
   ]
  },
  {
   "cell_type": "code",
   "execution_count": 3,
   "id": "f5b18f8e",
   "metadata": {
    "pycharm": {
     "name": "#%%\n"
    }
   },
   "outputs": [],
   "source": [
    "def extinction(wavelength):\n",
    "    reddening_V = 3.1\n",
    "    wavelength_microm = wavelength * 10 ** -3\n",
    "    frequency = 1 / wavelength_microm\n",
    "    x = frequency - 1.82\n",
    "    a = 1 + 0.17699 * x - 0.50447 * x ** 2 - 0.02427 * x ** 3 + 0.72085 * x ** 4 + 0.01979 * x ** 5 - 0.77530 * x ** 6 + 0.32999 * x ** 7\n",
    "    b = 1.41338 * x + 2.28305 * x ** 2 + 1.07233 * x ** 3 - 5.38434 * x ** 4 - 0.62251 * x ** 5 + 5.30260 * x ** 6 - 2.09002 * x ** 7\n",
    "    extinction_value = (a + b) / reddening_V\n",
    "    return extinction_value"
   ]
  },
  {
   "cell_type": "code",
   "execution_count": 4,
   "id": "d3250294",
   "metadata": {
    "pycharm": {
     "name": "#%%\n"
    }
   },
   "outputs": [
    {
     "name": "stdout",
     "output_type": "stream",
     "text": [
      "0.3339437954712049 0.2131951396067385 0.3553052430870536 0.635296744552413\n"
     ]
    }
   ],
   "source": [
    "print(extinction(wavelength_L), extinction(wavelength_R), extinction(wavelength_G), extinction(wavelength_B))"
   ]
  },
  {
   "cell_type": "code",
   "execution_count": 5,
   "id": "1c6283e1",
   "metadata": {
    "pycharm": {
     "name": "#%%\n"
    }
   },
   "outputs": [],
   "source": [
    "def wesenheit_mag(mag_X, mag_Y, delta_mag_X, delta_mag_Y, wavelength_X, wavelength_Y):\n",
    "    extinction_X = extinction(wavelength_X)\n",
    "    extinction_Y = extinction(wavelength_Y)\n",
    "    reddening = extinction_X / (extinction_X - extinction_Y)\n",
    "    Wesenheit_mag = mag_X - reddening * (mag_X - mag_Y)\n",
    "    err_Wesenheit_mag = (1 - reddening) * delta_mag_X + reddening * delta_mag_Y\n",
    "    return Wesenheit_mag, err_Wesenheit_mag"
   ]
  },
  {
   "cell_type": "code",
   "execution_count": 6,
   "id": "6bda00a4",
   "metadata": {
    "pycharm": {
     "name": "#%%\n"
    }
   },
   "outputs": [],
   "source": [
    "def absolute_mag(m, d):\n",
    "    distance_modulus = 5 * np.log10(d) - 5\n",
    "    M = m - distance_modulus\n",
    "    return M"
   ]
  },
  {
   "cell_type": "code",
   "execution_count": 7,
   "outputs": [],
   "source": [
    "import re\n",
    "from ast import literal_eval\n",
    "import numpy as np\n",
    "\n",
    "filter = 'red'\n",
    "with open(f'RV_UMaData{filter.upper()}.txt', 'r') as file:\n",
    "    red_string = file.read()\n",
    "\n",
    "data_red = re.split(r'\\*+', red_string)\n",
    "red_phase_string = data_red[1]\n",
    "red_mags_string = data_red[2]\n",
    "red_error_string = data_red[3]\n",
    "red_julian_dates_string = data_red[4]\n",
    "\n",
    "red_phase = literal_eval(re.sub('\\s+', ',',red_phase_string.strip('\\n')))\n",
    "red_mags = eval(re.sub('\\s+', ',',red_mags_string.strip('\\n').replace('nan', 'np.nan')))\n",
    "red_error = eval(re.sub('\\s+', ',',red_error_string.strip('\\n').replace('nan', 'np.nan')))\n",
    "red_julian_date = eval(re.sub('\\s+', ',',red_julian_dates_string.strip('\\n').replace('nan', 'np.nan')))"
   ],
   "metadata": {
    "collapsed": false,
    "pycharm": {
     "name": "#%%\n"
    }
   }
  },
  {
   "cell_type": "code",
   "execution_count": 8,
   "outputs": [],
   "source": [
    "filter = 'blue'\n",
    "with open(f'RV_UMaData{filter.upper()}.txt', 'r') as file:\n",
    "    blue_string = file.read()\n",
    "\n",
    "data_blue = re.split(r'\\*+', blue_string)\n",
    "blue_phase_string = data_blue[1]\n",
    "blue_mags_string = data_blue[2]\n",
    "blue_error_string = data_blue[3]\n",
    "blue_julian_dates_string = data_blue[4]\n",
    "\n",
    "blue_phase = literal_eval(re.sub('\\s+', ',',blue_phase_string.strip('\\n')))\n",
    "blue_mags = eval(re.sub('\\s+', ',',blue_mags_string.strip('\\n').replace('nan', 'np.nan')))\n",
    "blue_error = eval(re.sub('\\s+', ',',blue_error_string.strip('\\n').replace('nan', 'np.nan')))\n",
    "blue_julian_date = eval(re.sub('\\s+', ',',blue_julian_dates_string.strip('\\n').replace('nan', 'np.nan')))"
   ],
   "metadata": {
    "collapsed": false,
    "pycharm": {
     "name": "#%%\n"
    }
   }
  },
  {
   "cell_type": "code",
   "execution_count": 9,
   "outputs": [],
   "source": [
    "filter = 'green'\n",
    "with open(f'RV_UMaData{filter.upper()}.txt', 'r') as file:\n",
    "    green_string = file.read()\n",
    "\n",
    "data_green = re.split(r'\\*+', green_string)\n",
    "green_phase_string = data_green[1]\n",
    "green_mags_string = data_green[2]\n",
    "green_error_string = data_green[3]\n",
    "green_julian_dates_string = data_green[4]\n",
    "\n",
    "green_phase = literal_eval(re.sub('\\s+', ',',green_phase_string.strip('\\n')))\n",
    "green_mags = eval(re.sub('\\s+', ',',green_mags_string.strip('\\n').replace('nan', 'np.nan')))\n",
    "green_error = eval(re.sub('\\s+', ',',green_error_string.strip('\\n').replace('nan', 'np.nan')))\n",
    "green_julian_date = eval(re.sub('\\s+', ',',green_julian_dates_string.strip('\\n').replace('nan', 'np.nan')))"
   ],
   "metadata": {
    "collapsed": false,
    "pycharm": {
     "name": "#%%\n"
    }
   }
  },
  {
   "cell_type": "code",
   "execution_count": 10,
   "outputs": [],
   "source": [
    "filter = 'luminance'\n",
    "with open(f'RV_UMaData{filter.upper()}.txt', 'r') as file:\n",
    "    luminance_string = file.read()\n",
    "\n",
    "data_luminance = re.split(r'\\*+', luminance_string)\n",
    "luminance_phase_string = data_luminance[1]\n",
    "luminance_mags_string = data_luminance[2]\n",
    "luminance_error_string = data_luminance[3]\n",
    "luminance_julian_dates_string = data_luminance[4]\n",
    "\n",
    "luminance_phase = literal_eval(re.sub('\\s+', ',',luminance_phase_string.strip('\\n')))\n",
    "luminance_mags = eval(re.sub('\\s+', ',',luminance_mags_string.strip('\\n').replace('nan', 'np.nan')))\n",
    "luminance_error = eval(re.sub('\\s+', ',',luminance_error_string.strip('\\n').replace('nan', 'np.nan')))\n",
    "luminance_julian_date = eval(re.sub('\\s+', ',',luminance_julian_dates_string.strip('\\n').replace('nan', 'np.nan')))"
   ],
   "metadata": {
    "collapsed": false,
    "pycharm": {
     "name": "#%%\n"
    }
   }
  },
  {
   "cell_type": "code",
   "execution_count": 17,
   "id": "5d4d67ec",
   "metadata": {
    "pycharm": {
     "name": "#%%\n"
    }
   },
   "outputs": [],
   "source": [
    "ave_mag_red = np.nanmean(red_mags)\n",
    "ave_mag_green = np.nanmean(green_mags)\n",
    "ave_mag_blue = np.nanmean(blue_mags)\n",
    "std_mag_red = np.nanmean(red_error)\n",
    "std_mag_green = np.nanmean(green_error)\n",
    "std_mag_blue = np.nanmean(blue_error)"
   ]
  },
  {
   "cell_type": "code",
   "execution_count": 18,
   "id": "105a2a1c",
   "metadata": {
    "pycharm": {
     "name": "#%%\n"
    }
   },
   "outputs": [
    {
     "name": "stdout",
     "output_type": "stream",
     "text": [
      "14.143250389846152 13.885825684639176 13.725081205 0.011273665794871796 0.009842425154639173 0.011194270625000002\n"
     ]
    }
   ],
   "source": [
    "print(ave_mag_red, ave_mag_green, ave_mag_blue, std_mag_red, std_mag_green, std_mag_blue)"
   ]
  },
  {
   "cell_type": "code",
   "execution_count": 19,
   "id": "98541377",
   "metadata": {
    "pycharm": {
     "name": "#%%\n"
    }
   },
   "outputs": [
    {
     "data": {
      "text/plain": "(14.35445934214091, 0.011313766718740815)"
     },
     "execution_count": 19,
     "metadata": {},
     "output_type": "execute_result"
    }
   ],
   "source": [
    "wesenheit_mag(ave_mag_blue, ave_mag_red, std_mag_blue, std_mag_red, wavelength_B, wavelength_R)"
   ]
  },
  {
   "cell_type": "code",
   "execution_count": 20,
   "id": "82f0ea95",
   "metadata": {
    "pycharm": {
     "name": "#%%\n"
    }
   },
   "outputs": [
    {
     "data": {
      "text/plain": "(14.08980814880038, 0.008126952431542569)"
     },
     "execution_count": 20,
     "metadata": {},
     "output_type": "execute_result"
    }
   ],
   "source": [
    "wesenheit_mag(ave_mag_blue, ave_mag_green, std_mag_blue, std_mag_green, wavelength_B, wavelength_G)"
   ]
  },
  {
   "cell_type": "code",
   "execution_count": 21,
   "id": "04e277eb",
   "metadata": {
    "pycharm": {
     "name": "#%%\n"
    }
   },
   "outputs": [
    {
     "data": {
      "text/plain": "(14.529441762737713, 0.013420828738479803)"
     },
     "execution_count": 21,
     "metadata": {},
     "output_type": "execute_result"
    }
   ],
   "source": [
    "wesenheit_mag(ave_mag_green, ave_mag_red, std_mag_green, std_mag_red, wavelength_G, wavelength_R)"
   ]
  },
  {
   "cell_type": "code",
   "execution_count": 15,
   "id": "044db9a6",
   "metadata": {
    "pycharm": {
     "name": "#%%\n"
    }
   },
   "outputs": [],
   "source": []
  }
 ],
 "metadata": {
  "kernelspec": {
   "display_name": "Python 3 (ipykernel)",
   "language": "python",
   "name": "python3"
  },
  "language_info": {
   "codemirror_mode": {
    "name": "ipython",
    "version": 3
   },
   "file_extension": ".py",
   "mimetype": "text/x-python",
   "name": "python",
   "nbconvert_exporter": "python",
   "pygments_lexer": "ipython3",
   "version": "3.9.13"
  }
 },
 "nbformat": 4,
 "nbformat_minor": 5
}