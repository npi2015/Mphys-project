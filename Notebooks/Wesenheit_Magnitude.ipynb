{
 "cells": [
  {
   "cell_type": "code",
   "execution_count": 1,
   "id": "007ff8c9",
   "metadata": {
    "pycharm": {
     "name": "#%%\n"
    }
   },
   "outputs": [],
   "source": [
    "import pandas as pd\n",
    "import numpy as np"
   ]
  },
  {
   "cell_type": "code",
   "execution_count": 1,
   "id": "c2b2717e",
   "metadata": {
    "pycharm": {
     "name": "#%%\n"
    }
   },
   "outputs": [],
   "source": [
    "wavelength_L = 543\n",
    "wavelength_R = 644\n",
    "wavelength_G = 532\n",
    "wavelength_B = 443"
   ]
  },
  {
   "cell_type": "code",
   "execution_count": 2,
   "id": "f5b18f8e",
   "metadata": {
    "pycharm": {
     "name": "#%%\n"
    }
   },
   "outputs": [],
   "source": [
    "def extinction(wavelength):\n",
    "    reddening_V = 3.1\n",
    "    wavelength_microm = wavelength * 10 ** -3\n",
    "    frequency = 1 / wavelength_microm\n",
    "    x = frequency - 1.82\n",
    "    a = 1 + 0.17699 * x - 0.50447 * x ** 2 - 0.02427 * x ** 3 + 0.72085 * x ** 4 + 0.01979 * x ** 5 - 0.77530 * x ** 6 + 0.32999 * x ** 7\n",
    "    b = 1.41338 * x + 2.28305 * x ** 2 + 1.07233 * x ** 3 - 5.38434 * x ** 4 - 0.62251 * x ** 5 + 5.30260 * x ** 6 - 2.09002 * x ** 7\n",
    "    extinction_value = (a + b) / reddening_V\n",
    "    return extinction_value"
   ]
  },
  {
   "cell_type": "code",
   "execution_count": 3,
   "id": "d3250294",
   "metadata": {
    "pycharm": {
     "name": "#%%\n"
    }
   },
   "outputs": [
    {
     "name": "stdout",
     "output_type": "stream",
     "text": [
      "0.3339437954712049 0.2131951396067385 0.3553052430870536 0.635296744552413\n"
     ]
    }
   ],
   "source": [
    "print(extinction(wavelength_L), extinction(wavelength_R), extinction(wavelength_G), extinction(wavelength_B))"
   ]
  },
  {
   "cell_type": "code",
   "execution_count": 35,
   "id": "1c6283e1",
   "metadata": {
    "pycharm": {
     "name": "#%%\n"
    }
   },
   "outputs": [],
   "source": [
    "def wesenheit_mag(mag_X, mag_Y, delta_mag_X, delta_mag_Y, wavelength_X, wavelength_Y):\n",
    "    extinction_X = extinction(wavelength_X)\n",
    "    extinction_Y = extinction(wavelength_Y)\n",
    "    reddening = extinction_X / (extinction_X - extinction_Y)\n",
    "    Wesenheit_mag = mag_X - reddening * (mag_X - mag_Y)\n",
    "    err_Wesenheit_mag = (1 - reddening) * delta_mag_X + reddening * delta_mag_Y\n",
    "    return Wesenheit_mag, err_Wesenheit_mag"
   ]
  },
  {
   "cell_type": "code",
   "execution_count": 5,
   "id": "6bda00a4",
   "metadata": {
    "pycharm": {
     "name": "#%%\n"
    }
   },
   "outputs": [],
   "source": [
    "def absolute_mag(m, d):\n",
    "    distance_modulus = 5 * np.log10(d) - 5\n",
    "    M = m - distance_modulus\n",
    "    return M"
   ]
  },
  {
   "cell_type": "markdown",
   "source": [
    "# Reading the RV UMa data"
   ],
   "metadata": {
    "collapsed": false,
    "pycharm": {
     "name": "#%% md\n"
    }
   }
  },
  {
   "cell_type": "code",
   "execution_count": 22,
   "outputs": [
    {
     "name": "stdout",
     "output_type": "stream",
     "text": [
      "14.09306473302189 0.4048744341545863\n"
     ]
    }
   ],
   "source": [
    "import re\n",
    "from ast import literal_eval\n",
    "import numpy as np\n",
    "\n",
    "filter_name = 'red'\n",
    "with open(f'RV_UMaData{filter_name.upper()}.txt', 'r') as file:\n",
    "    red_string = file.read()\n",
    "\n",
    "data_red = re.split(r'\\*+', red_string)\n",
    "red_phase_string_rv = data_red[1]\n",
    "red_mags_string_rv = data_red[2]\n",
    "red_error_string_rv = data_red[3]\n",
    "red_julian_dates_string_rv = data_red[4]\n",
    "red_fluxes_string_rv = data_red[5]\n",
    "red_fluxes_error_string_rv = data_red[6]\n",
    "\n",
    "red_phase_rv = np.array(literal_eval(re.sub('\\s+', ',',red_phase_string_rv.strip('\\n'))))\n",
    "red_mags_rv = np.array(eval(re.sub('\\s+', ',',red_mags_string_rv.strip('\\n').replace('nan', 'np.nan'))))\n",
    "red_error_rv = np.array(eval(re.sub('\\s+', ',',red_error_string_rv.strip('\\n').replace('nan', 'np.nan')))[0])\n",
    "red_julian_date_rv = np.array(eval(re.sub('\\s+', ',',red_julian_dates_string_rv.strip('\\n').replace('nan', 'np.nan'))))\n",
    "red_fluxes_rv = np.array(eval(re.sub('\\s+', ',',red_fluxes_string_rv.strip('\\n').replace('nan', 'np.nan'))))\n",
    "red_fluxes_error_rv = 2 * red_error_rv*np.log(10)*red_fluxes_rv/5\n",
    "\n",
    "red_weights_rv = 1/red_fluxes_error_rv**2\n",
    "\n",
    "red_weighted_mag_rv = 25 - 2.5*np.log10(np.nansum(red_weights_rv * np.array(red_fluxes_rv))/ np.nansum(red_weights_rv))\n",
    "red_mag_error_rv = 5/(np.log(10)*red_weighted_mag_rv)*1/np.sqrt(np.nansum(red_weights_rv))\n",
    "\n",
    "print(red_weighted_mag_rv, red_mag_error_rv)"
   ],
   "metadata": {
    "collapsed": false,
    "pycharm": {
     "name": "#%%\n"
    }
   }
  },
  {
   "cell_type": "code",
   "execution_count": 23,
   "outputs": [
    {
     "name": "stdout",
     "output_type": "stream",
     "text": [
      "13.564283955923603 0.5388799795229563\n"
     ]
    }
   ],
   "source": [
    "filter_name = 'blue'\n",
    "with open(f'RV_UMaData{filter_name.upper()}.txt', 'r') as file:\n",
    "    blue_string = file.read()\n",
    "\n",
    "data_blue = re.split(r'\\*+', blue_string)\n",
    "blue_phase_string_rv = data_blue[1]\n",
    "blue_mags_string_rv = data_blue[2]\n",
    "blue_error_string_rv = data_blue[3]\n",
    "blue_julian_dates_string_rv = data_blue[4]\n",
    "blue_fluxes_string_rv = data_blue[5]\n",
    "blue_fluxes_error_string_rv = data_blue[6]\n",
    "\n",
    "blue_phase_rv = np.array(literal_eval(re.sub('\\s+', ',',blue_phase_string_rv.strip('\\n'))))\n",
    "blue_mags_rv = np.array(eval(re.sub('\\s+', ',',blue_mags_string_rv.strip('\\n').replace('nan', 'np.nan'))))\n",
    "blue_error_rv = np.array(eval(re.sub('\\s+', ',',blue_error_string_rv.strip('\\n').replace('nan', 'np.nan')))[0])\n",
    "blue_julian_date_rv = np.array(eval(re.sub('\\s+', ',',blue_julian_dates_string_rv.strip('\\n').replace('nan', 'np.nan'))))\n",
    "blue_fluxes_rv = np.array(eval(re.sub('\\s+', ',',blue_fluxes_string_rv.strip('\\n').replace('nan', 'np.nan'))))\n",
    "blue_fluxes_error_rv = 2 * blue_error_rv*np.log(10)*blue_fluxes_rv/5\n",
    "\n",
    "blue_weights_rv = 1/blue_fluxes_error_rv**2\n",
    "\n",
    "blue_weighted_mag_rv = 25 - 2.5*np.log10(np.nansum(blue_weights_rv * np.array(blue_fluxes_rv))/ np.nansum(blue_weights_rv))\n",
    "blue_mag_error_rv = 5/(np.log(10)*blue_weighted_mag_rv)*1/np.sqrt(np.nansum(blue_weights_rv))\n",
    "\n",
    "print(blue_weighted_mag_rv, blue_mag_error_rv)"
   ],
   "metadata": {
    "collapsed": false,
    "pycharm": {
     "name": "#%%\n"
    }
   }
  },
  {
   "cell_type": "code",
   "execution_count": 24,
   "outputs": [
    {
     "name": "stdout",
     "output_type": "stream",
     "text": [
      "13.878945699321303 0.45503666619789235\n"
     ]
    }
   ],
   "source": [
    "filter_name = 'green'\n",
    "with open(f'RV_UMaData{filter_name.upper()}.txt', 'r') as file:\n",
    "    green_string = file.read()\n",
    "\n",
    "data_green = re.split(r'\\*+', green_string)\n",
    "green_phase_string_rv = data_green[1]\n",
    "green_mags_string_rv = data_green[2]\n",
    "green_error_string_rv = data_green[3]\n",
    "green_julian_dates_string_rv = data_green[4]\n",
    "green_fluxes_string_rv = data_green[5]\n",
    "green_fluxes_error_string_rv = data_green[6]\n",
    "\n",
    "green_phase_rv = np.array(literal_eval(re.sub('\\s+', ',',green_phase_string_rv.strip('\\n'))))\n",
    "green_mags_rv = np.array(eval(re.sub('\\s+', ',',green_mags_string_rv.strip('\\n').replace('nan', 'np.nan'))))\n",
    "green_error_rv = np.array(eval(re.sub('\\s+', ',',green_error_string_rv.strip('\\n').replace('nan', 'np.nan')))[0])\n",
    "green_julian_date_rv = np.array(eval(re.sub('\\s+', ',',green_julian_dates_string_rv.strip('\\n').replace('nan', 'np.nan'))))\n",
    "green_fluxes_rv = np.array(eval(re.sub('\\s+', ',',green_fluxes_string_rv.strip('\\n').replace('nan', 'np.nan'))))\n",
    "green_fluxes_error_rv = 2 * green_error_rv*np.log(10)*green_fluxes_rv/5\n",
    "\n",
    "green_weights_rv = 1/green_fluxes_error_rv**2\n",
    "\n",
    "green_weighted_mag_rv = 25 - 2.5*np.log10(np.nansum(green_weights_rv * np.array(green_fluxes_rv))/ np.nansum(green_weights_rv))\n",
    "green_mag_error_rv = 5/(np.log(10)*green_weighted_mag_rv)*1/np.sqrt(np.nansum(green_weights_rv))\n",
    "\n",
    "print(green_weighted_mag_rv, green_mag_error_rv)"
   ],
   "metadata": {
    "collapsed": false,
    "pycharm": {
     "name": "#%%\n"
    }
   }
  },
  {
   "cell_type": "code",
   "execution_count": 25,
   "outputs": [
    {
     "name": "stdout",
     "output_type": "stream",
     "text": [
      "13.463101313542206 0.5711709280172278\n"
     ]
    }
   ],
   "source": [
    "filter_name = 'luminance'\n",
    "with open(f'RV_UMaData{filter_name.upper()}.txt', 'r') as file:\n",
    "    luminance_string = file.read()\n",
    "\n",
    "data_luminance = re.split(r'\\*+', luminance_string)\n",
    "luminance_phase_string_rv = data_luminance[1]\n",
    "luminance_mags_string_rv = data_luminance[2]\n",
    "luminance_error_string_rv = data_luminance[3]\n",
    "luminance_julian_dates_string_rv = data_luminance[4]\n",
    "luminance_fluxes_string_rv = data_luminance[5]\n",
    "luminance_fluxes_error_string_rv = data_luminance[6]\n",
    "\n",
    "luminance_phase_rv = np.array(literal_eval(re.sub('\\s+', ',',luminance_phase_string_rv.strip('\\n'))))\n",
    "luminance_mags_rv = np.array(eval(re.sub('\\s+', ',',luminance_mags_string_rv.strip('\\n').replace('nan', 'np.nan'))))\n",
    "luminance_error_rv = np.array(eval(re.sub('\\s+', ',',luminance_error_string_rv.strip('\\n').replace('nan', 'np.nan')))[0])\n",
    "luminance_julian_date_rv = np.array(eval(re.sub('\\s+', ',',luminance_julian_dates_string_rv.strip('\\n').replace('nan', 'np.nan'))))\n",
    "luminance_fluxes_rv = np.array(eval(re.sub('\\s+', ',',luminance_fluxes_string_rv.strip('\\n').replace('nan', 'np.nan'))))\n",
    "luminance_fluxes_error_rv = 2 * luminance_error_rv*np.log(10)*luminance_fluxes_rv/5\n",
    "\n",
    "luminance_weights_rv = 1/luminance_fluxes_error_rv**2\n",
    "\n",
    "luminance_weighted_mag_rv = 25 - 2.5*np.log10(np.nansum(luminance_weights_rv * np.array(luminance_fluxes_rv))/ np.nansum(luminance_weights_rv))\n",
    "luminance_mag_error_rv = 5/(np.log(10)*luminance_weighted_mag_rv)*1/np.sqrt(np.nansum(luminance_weights_rv))\n",
    "\n",
    "print(luminance_weighted_mag_rv, luminance_mag_error_rv)"
   ],
   "metadata": {
    "collapsed": false,
    "pycharm": {
     "name": "#%%\n"
    }
   }
  },
  {
   "cell_type": "code",
   "execution_count": 26,
   "outputs": [
    {
     "name": "stdout",
     "output_type": "stream",
     "text": [
      "RV UMa magnitudes\n",
      "Luminance band: 13.46 ± 0.57\n",
      "Red band: 14.09 ± 0.40\n",
      "Green band: 13.88 ± 0.46\n",
      "Blue band: 13.56 ± 0.54\n"
     ]
    }
   ],
   "source": [
    "print(\"RV UMa magnitudes\")\n",
    "\n",
    "print(f'Luminance band: {luminance_weighted_mag_rv:.2f} \\u00B1 {luminance_mag_error_rv:.2f}')\n",
    "\n",
    "print(f'Red band: {red_weighted_mag_rv:.2f} \\u00B1 {red_mag_error_rv:.2f}')\n",
    "\n",
    "print(f'Green band: {green_weighted_mag_rv:.2f} \\u00B1 {green_mag_error_rv:.2f}')\n",
    "\n",
    "print(f'Blue band: {blue_weighted_mag_rv:.2f} \\u00B1 {blue_mag_error_rv:.2f}')\n",
    "\n"
   ],
   "metadata": {
    "collapsed": false,
    "pycharm": {
     "name": "#%%\n"
    }
   }
  },
  {
   "cell_type": "markdown",
   "source": [
    "# Reading the RZ Cep data"
   ],
   "metadata": {
    "collapsed": false,
    "pycharm": {
     "name": "#%% md\n"
    }
   }
  },
  {
   "cell_type": "code",
   "execution_count": 12,
   "outputs": [
    {
     "name": "stdout",
     "output_type": "stream",
     "text": [
      "14.047653632445098 0.687603223244608\n"
     ]
    }
   ],
   "source": [
    "filter = 'red'\n",
    "with open(f'RZ_CepData{filter.upper()}.txt', 'r') as file:\n",
    "    red_string = file.read()\n",
    "\n",
    "data_red_rz = re.split(r'\\*+', red_string)\n",
    "red_phase_string_rz = data_red_rz[1]\n",
    "red_mags_string_rz = data_red_rz[2]\n",
    "red_error_string_rz = data_red_rz[3]\n",
    "red_julian_dates_string_rz = data_red_rz[4]\n",
    "red_fluxes_string_rz = data_red_rz[5]\n",
    "red_fluxes_error_string_rz = data_red_rz[6]\n",
    "\n",
    "red_bad_indexes_rz = [47, 79]\n",
    "\n",
    "red_phase_rz = np.array(literal_eval(re.sub('\\s+', ',',red_phase_string_rz.strip('\\n'))))\n",
    "red_mags_rz = np.array(eval(re.sub('\\s+', ',',red_mags_string_rz.strip('\\n').replace('nan', 'np.nan'))))\n",
    "red_error_rz = np.array(eval(re.sub('\\s+', ',',red_error_string_rz.strip('\\n').replace('nan', 'np.nan')))[0])\n",
    "red_julian_date_rz = np.array(eval(re.sub('\\s+', ',',red_julian_dates_string_rz.strip('\\n').replace('nan', 'np.nan'))))\n",
    "red_fluxes_rz = np.array(eval(re.sub('\\s+', ',',red_fluxes_string_rz.strip('\\n').replace('nan', 'np.nan'))))\n",
    "red_fluxes_error_rz = 2 * red_error_rz*np.log(10)*red_fluxes_rz/5\n",
    "\n",
    "red_no_outliers_phase_rz = red_phase_rz\n",
    "red_no_outliers_phase_rz[red_bad_indexes_rz] = np.nan\n",
    "\n",
    "red_no_outliers_mags_rz = red_mags_rz\n",
    "red_no_outliers_mags_rz[red_bad_indexes_rz] = np.nan\n",
    "\n",
    "red_no_outliers_error_rz = red_error_rz\n",
    "red_no_outliers_error_rz[red_bad_indexes_rz] = np.nan\n",
    "\n",
    "red_no_outliers_julian_date_rz = red_julian_date_rz\n",
    "red_no_outliers_julian_date_rz[red_bad_indexes_rz] = np.nan\n",
    "\n",
    "red_no_outliers_fluxes_rz = red_fluxes_rz\n",
    "red_no_outliers_fluxes_rz[red_bad_indexes_rz] = np.nan\n",
    "\n",
    "red_no_outliers_fluxes_error_rz = red_fluxes_error_rz\n",
    "red_no_outliers_fluxes_error_rz[red_bad_indexes_rz] = np.nan\n",
    "\n",
    "\n",
    "red_weights_rz = 1/np.array(red_no_outliers_fluxes_error_rz)**2\n",
    "\n",
    "red_weighted_mag_rz = 25 - 2.5*np.log10(np.nansum(red_weights_rz * np.array(red_no_outliers_fluxes_rz))/ np.nansum(red_weights_rz))\n",
    "\n",
    "red_mag_error_rz = 5/(np.log(10)*red_weighted_mag_rz)*1/np.sqrt(np.nansum(red_weights_rz))\n",
    "\n",
    "print(red_weighted_mag_rz, red_mag_error_rz)"
   ],
   "metadata": {
    "collapsed": false,
    "pycharm": {
     "name": "#%%\n"
    }
   }
  },
  {
   "cell_type": "code",
   "execution_count": 13,
   "outputs": [
    {
     "name": "stdout",
     "output_type": "stream",
     "text": [
      "14.183040604356075 0.6175317471057203\n"
     ]
    }
   ],
   "source": [
    "filter = 'blue'\n",
    "with open(f'RZ_CepData{filter.upper()}.txt', 'r') as file:\n",
    "    blue_string = file.read()\n",
    "\n",
    "data_blue_rz = re.split(r'\\*+', blue_string)\n",
    "blue_phase_string_rz = data_blue_rz[1]\n",
    "blue_mags_string_rz = data_blue_rz[2]\n",
    "blue_error_string_rz = data_blue_rz[3]\n",
    "blue_julian_dates_string_rz = data_blue_rz[4]\n",
    "blue_fluxes_string_rz = data_blue_rz[5]\n",
    "blue_fluxes_error_string_rz = data_blue_rz[6]\n",
    "\n",
    "blue_bad_indexes_rz = [49, 76, 77, 80, 81]\n",
    "\n",
    "blue_phase_rz = np.array(literal_eval(re.sub('\\s+', ',',blue_phase_string_rz.strip('\\n'))))\n",
    "blue_mags_rz = np.array(eval(re.sub('\\s+', ',',blue_mags_string_rz.strip('\\n').replace('nan', 'np.nan'))))\n",
    "blue_error_rz = np.array(eval(re.sub('\\s+', ',',blue_error_string_rz.strip('\\n').replace('nan', 'np.nan')))[0])\n",
    "blue_julian_date_rz = np.array(eval(re.sub('\\s+', ',',blue_julian_dates_string_rz.strip('\\n').replace('nan', 'np.nan'))))\n",
    "blue_fluxes_rz = np.array(eval(re.sub('\\s+', ',',blue_fluxes_string_rz.strip('\\n').replace('nan', 'np.nan'))))\n",
    "blue_fluxes_error_rz = 2 * blue_error_rz*np.log(10)*blue_fluxes_rz/5\n",
    "\n",
    "blue_no_outliers_phase_rz = blue_phase_rz\n",
    "blue_no_outliers_phase_rz[blue_bad_indexes_rz] = np.nan\n",
    "\n",
    "blue_no_outliers_mags_rz = blue_mags_rz\n",
    "blue_no_outliers_mags_rz[blue_bad_indexes_rz] = np.nan\n",
    "\n",
    "blue_no_outliers_error_rz = blue_error_rz\n",
    "blue_no_outliers_error_rz[blue_bad_indexes_rz] = np.nan\n",
    "\n",
    "blue_no_outliers_julian_date_rz = blue_julian_date_rz\n",
    "blue_no_outliers_julian_date_rz[blue_bad_indexes_rz] = np.nan\n",
    "\n",
    "blue_no_outliers_fluxes_rz = blue_fluxes_rz\n",
    "blue_no_outliers_fluxes_rz[blue_bad_indexes_rz] = np.nan\n",
    "\n",
    "blue_no_outliers_fluxes_error_rz = blue_fluxes_error_rz\n",
    "blue_no_outliers_fluxes_error_rz[blue_bad_indexes_rz] = np.nan\n",
    "\n",
    "\n",
    "blue_weights_rz = 1/blue_no_outliers_fluxes_error_rz**2\n",
    "\n",
    "blue_weighted_mag_rz = 25 - 2.5*np.log10(np.nansum(blue_weights_rz * blue_no_outliers_fluxes_rz)/ np.nansum(blue_weights_rz))\n",
    "\n",
    "blue_mag_error_rz = 5/(np.log(10)*blue_weighted_mag_rz)*1/np.sqrt(np.nansum(blue_weights_rz))\n",
    "\n",
    "print(blue_weighted_mag_rz, blue_mag_error_rz)"
   ],
   "metadata": {
    "collapsed": false,
    "pycharm": {
     "name": "#%%\n"
    }
   }
  },
  {
   "cell_type": "code",
   "execution_count": 15,
   "outputs": [
    {
     "name": "stdout",
     "output_type": "stream",
     "text": [
      "14.148106651569428 0.6792551599322723\n"
     ]
    }
   ],
   "source": [
    "filter = 'green'\n",
    "with open(f'RZ_CepData{filter.upper()}.txt', 'r') as file:\n",
    "    green_string = file.read()\n",
    "\n",
    "green_bad_indexes_rz = [57, 59, 62, 63, 64, 66, 69, 71, 74, 79, 80]\n",
    "\n",
    "data_green_rz = re.split(r'\\*+', green_string)\n",
    "green_phase_string_rz = data_green_rz[1]\n",
    "green_mags_string_rz = data_green_rz[2]\n",
    "green_error_string_rz = data_green_rz[3]\n",
    "green_julian_dates_string_rz = data_green_rz[4]\n",
    "green_fluxes_string_rz = data_green_rz[5]\n",
    "green_fluxes_error_string_rz = data_green_rz[6]\n",
    "\n",
    "green_phase_rz = np.array(literal_eval(re.sub('\\s+', ',',green_phase_string_rz.strip('\\n'))))\n",
    "green_mags_rz = np.array(eval(re.sub('\\s+', ',',green_mags_string_rz.strip('\\n').replace('nan', 'np.nan'))))\n",
    "green_error_rz = np.array(eval(re.sub('\\s+', ',',green_error_string_rz.strip('\\n').replace('nan', 'np.nan')))[0])\n",
    "green_julian_date_rz = np.array(eval(re.sub('\\s+', ',',green_julian_dates_string_rz.strip('\\n').replace('nan', 'np.nan'))))\n",
    "green_fluxes_rz = np.array(eval(re.sub('\\s+', ',',green_fluxes_string_rz.strip('\\n').replace('nan', 'np.nan'))))\n",
    "green_fluxes_error_rz = 2 * green_error_rz*np.log(10)*green_fluxes_rz/5\n",
    "\n",
    "green_no_outliers_phase_rz = green_phase_rz\n",
    "green_no_outliers_phase_rz[green_bad_indexes_rz] = np.nan\n",
    "\n",
    "green_no_outliers_mags_rz = green_mags_rz\n",
    "green_no_outliers_mags_rz[green_bad_indexes_rz] = np.nan\n",
    "\n",
    "green_no_outliers_error_rz = green_error_rz\n",
    "green_no_outliers_error_rz[green_bad_indexes_rz] = np.nan\n",
    "\n",
    "green_no_outliers_julian_date_rz = green_julian_date_rz\n",
    "green_no_outliers_julian_date_rz[green_bad_indexes_rz] = np.nan\n",
    "\n",
    "green_no_outliers_fluxes_rz = green_fluxes_rz\n",
    "green_no_outliers_fluxes_rz[green_bad_indexes_rz] = np.nan\n",
    "\n",
    "green_no_outliers_fluxes_error_rz = green_fluxes_error_rz\n",
    "green_no_outliers_fluxes_error_rz[green_bad_indexes_rz] = np.nan\n",
    "\n",
    "\n",
    "green_weights_rz = 1/green_no_outliers_fluxes_error_rz**2\n",
    "\n",
    "green_weighted_mag_rz = 25 - 2.5*np.log10(np.nansum(green_weights_rz * green_no_outliers_fluxes_rz)/ np.nansum(green_weights_rz))\n",
    "green_mag_error_rz = 5/(np.log(10)*green_weighted_mag_rz)*1/np.sqrt(np.nansum(green_weights_rz))\n",
    "\n",
    "\n",
    "print(green_weighted_mag_rz,green_mag_error_rz)"
   ],
   "metadata": {
    "collapsed": false,
    "pycharm": {
     "name": "#%%\n"
    }
   }
  },
  {
   "cell_type": "code",
   "execution_count": 17,
   "outputs": [
    {
     "name": "stdout",
     "output_type": "stream",
     "text": [
      "14.209971103569181 0.5135585197933703\n"
     ]
    }
   ],
   "source": [
    "filter = 'luminance'\n",
    "with open(f'RZ_CepData{filter.upper()}.txt', 'r') as file:\n",
    "    luminance_string = file.read()\n",
    "\n",
    "luminance_bad_indexes_rz = [138, 149]\n",
    "\n",
    "data_luminance_rz = re.split(r'\\*+', luminance_string)\n",
    "luminance_phase_string_rz = data_luminance_rz[1]\n",
    "luminance_mags_string_rz = data_luminance_rz[2]\n",
    "luminance_error_string_rz = data_luminance_rz[3]\n",
    "luminance_julian_dates_string_rz = data_luminance_rz[4]\n",
    "luminance_fluxes_string_rz = data_luminance_rz[5]\n",
    "luminance_fluxes_error_string_rz = data_luminance_rz[6]\n",
    "\n",
    "luminance_phase_rz = np.array(literal_eval(re.sub('\\s+', ',',luminance_phase_string_rz.strip('\\n'))))\n",
    "luminance_mags_rz = np.array(eval(re.sub('\\s+', ',',luminance_mags_string_rz.strip('\\n').replace('nan', 'np.nan'))))\n",
    "luminance_error_rz = np.array(eval(re.sub('\\s+', ',',luminance_error_string_rz.strip('\\n').replace('nan', 'np.nan')))[0])\n",
    "luminance_julian_date_rz = np.array(eval(re.sub('\\s+', ',',luminance_julian_dates_string_rz.strip('\\n').replace('nan', 'np.nan'))))\n",
    "luminance_fluxes_rz = np.array(eval(re.sub('\\s+', ',',luminance_fluxes_string_rz.strip('\\n').replace('nan', 'np.nan'))))\n",
    "luminance_fluxes_error_rz = 2 * luminance_error_rz*np.log(10)*luminance_fluxes_rz/5\n",
    "\n",
    "\n",
    "luminance_no_outliers_phase_rz = luminance_phase_rz\n",
    "luminance_no_outliers_phase_rz[luminance_bad_indexes_rz] = np.nan\n",
    "\n",
    "luminance_no_outliers_mags_rz = luminance_mags_rz\n",
    "luminance_no_outliers_mags_rz[luminance_bad_indexes_rz] = np.nan\n",
    "\n",
    "luminance_no_outliers_error_rz = luminance_error_rz\n",
    "luminance_no_outliers_error_rz[luminance_bad_indexes_rz] = np.nan\n",
    "\n",
    "luminance_no_outliers_julian_date_rz = luminance_julian_date_rz\n",
    "luminance_no_outliers_julian_date_rz[luminance_bad_indexes_rz] = np.nan\n",
    "\n",
    "luminance_no_outliers_fluxes_rz = luminance_fluxes_rz\n",
    "luminance_no_outliers_fluxes_rz[luminance_bad_indexes_rz] = np.nan\n",
    "\n",
    "luminance_no_outliers_fluxes_error_rz = luminance_fluxes_error_rz\n",
    "luminance_no_outliers_fluxes_error_rz[luminance_bad_indexes_rz] = np.nan\n",
    "\n",
    "\n",
    "luminance_weights_rz = 1/luminance_no_outliers_fluxes_error_rz**2\n",
    "\n",
    "luminance_weighted_mag_rz = 25 - 2.5*np.log10(np.nansum(luminance_weights_rz * luminance_no_outliers_fluxes_rz)/ np.nansum(luminance_weights_rz))\n",
    "luminance_mag_error_rz = 5/(np.log(10)*luminance_weighted_mag_rz)*1/np.sqrt(np.nansum(luminance_weights_rz))\n",
    "\n",
    "print(luminance_weighted_mag_rz, luminance_mag_error_rz)"
   ],
   "metadata": {
    "collapsed": false,
    "pycharm": {
     "name": "#%%\n"
    }
   }
  },
  {
   "cell_type": "code",
   "execution_count": 20,
   "outputs": [
    {
     "name": "stdout",
     "output_type": "stream",
     "text": [
      "RZ Cep magnitudes\n",
      "Luminance band: 14.21 ± 0.51\n",
      "Red band: 14.05 ± 0.69\n",
      "Green band: 14.15 ± 0.68\n",
      "Blue band: 14.18 ± 0.62\n"
     ]
    }
   ],
   "source": [
    "print(\"RZ Cep magnitudes\")\n",
    "\n",
    "print(f'Luminance band: {luminance_weighted_mag_rz:.2f} \\u00B1 {luminance_mag_error_rz:.2f}')\n",
    "\n",
    "print(f'Red band: {red_weighted_mag_rz:.2f} \\u00B1 {red_mag_error_rz:.2f}')\n",
    "\n",
    "print(f'Green band: {green_weighted_mag_rz:.2f} \\u00B1 {green_mag_error_rz:.2f}')\n",
    "\n",
    "print(f'Blue band: {blue_weighted_mag_rz:.2f} \\u00B1 {blue_mag_error_rz:.2f}')"
   ],
   "metadata": {
    "collapsed": false,
    "pycharm": {
     "name": "#%%\n"
    }
   }
  },
  {
   "cell_type": "markdown",
   "source": [
    "# Wesenheit magnitudes"
   ],
   "metadata": {
    "collapsed": false,
    "pycharm": {
     "name": "#%% md\n"
    }
   }
  },
  {
   "cell_type": "code",
   "execution_count": 36,
   "id": "98541377",
   "metadata": {
    "pycharm": {
     "name": "#%%\n"
    }
   },
   "outputs": [
    {
     "name": "stdout",
     "output_type": "stream",
     "text": [
      "RV UMa B-R Wesenheit magnitude: 14.36 ± 0.34\n",
      "RZ Cep B-R Wesenheit magnitude: 13.98 ± 20.83\n",
      "Ratio of RV UMa to RZ Cep distance: 1.19 ± 3.41\n"
     ]
    }
   ],
   "source": [
    "rv_uma_wbr = wesenheit_mag(blue_weighted_mag_rv, red_weighted_mag_rv, blue_mag_error_rv, red_mag_error_rv, wavelength_B, wavelength_R)\n",
    "rz_cep_wbr = wesenheit_mag(blue_weighted_mag_rz, red_weighted_mag_rz, blue_mag_error_rz, red_weighted_mag_rz, wavelength_B, wavelength_R)\n",
    "\n",
    "print(f'RV UMa B-R Wesenheit magnitude: {rv_uma_wbr[0]:.2f} \\u00B1 {abs(rv_uma_wbr[1]):.2f}')\n",
    "print(f'RZ Cep B-R Wesenheit magnitude: {rz_cep_wbr[0]:.2f} \\u00B1 {abs(rz_cep_wbr[1]):.2f}')\n",
    "print(f'Ratio of RV UMa to RZ Cep distance: {10**((rv_uma_wbr[0] - rz_cep_wbr[0])/5):.2f} \\u00B1 {np.log10(5)/5*10**((rv_uma_wbr[0] - rz_cep_wbr[0])/5)*abs(rv_uma_wbr[1] - rz_cep_wbr[1]):.2f}')"
   ]
  },
  {
   "cell_type": "code",
   "execution_count": 37,
   "outputs": [
    {
     "name": "stdout",
     "output_type": "stream",
     "text": [
      "RV UMa B-G Wesenheit magnitude: 14.28 ± 0.35\n",
      "RZ Cep B-G Wesenheit magnitude: 14.10 ± 0.76\n",
      "Ratio of RV UMa to RZ Cep distance: 1.08 ± 0.06\n"
     ]
    }
   ],
   "source": [
    "rv_uma_wbg = wesenheit_mag(blue_weighted_mag_rv, green_weighted_mag_rv, blue_mag_error_rv, green_mag_error_rv, wavelength_B, wavelength_G)\n",
    "rz_cep_wbg = wesenheit_mag(blue_weighted_mag_rz, green_weighted_mag_rz, blue_mag_error_rz, green_mag_error_rz, wavelength_B, wavelength_G)\n",
    "\n",
    "print(f'RV UMa B-G Wesenheit magnitude: {rv_uma_wbg[0]:.2f} \\u00B1 {abs(rv_uma_wbg[1]):.2f}')\n",
    "print(f'RZ Cep B-G Wesenheit magnitude: {rz_cep_wbg[0]:.2f} \\u00B1 {abs(rz_cep_wbg[1]):.2f}')\n",
    "print(f'Ratio of RV UMa to RZ Cep distance: {10**((rv_uma_wbg[0] - rz_cep_wbg[0])/5):.2f} \\u00B1 {np.log10(5)/5*10**((rv_uma_wbg[0] - rz_cep_wbg[0])/5)*abs(rv_uma_wbg[1] - rz_cep_wbg[1]):.2f}')"
   ],
   "metadata": {
    "collapsed": false,
    "pycharm": {
     "name": "#%%\n"
    }
   }
  },
  {
   "cell_type": "code",
   "execution_count": 38,
   "id": "82f0ea95",
   "metadata": {
    "pycharm": {
     "name": "#%%\n"
    }
   },
   "outputs": [
    {
     "name": "stdout",
     "output_type": "stream",
     "text": [
      "RV UMa G-R Wesenheit magnitude: 14.41 ± 0.33\n",
      "RZ Cep G-R Wesenheit magnitude: 13.90 ± 0.70\n",
      "Ratio of RV UMa to RZ Cep distance: 1.27 ± 0.07\n"
     ]
    }
   ],
   "source": [
    "rv_uma_wgr = wesenheit_mag(green_weighted_mag_rv, red_weighted_mag_rv, green_mag_error_rv, red_mag_error_rv, wavelength_G, wavelength_R)\n",
    "rz_cep_wgr = wesenheit_mag(green_weighted_mag_rz, red_weighted_mag_rz, green_mag_error_rz, red_mag_error_rz, wavelength_G, wavelength_R)\n",
    "\n",
    "print(f'RV UMa G-R Wesenheit magnitude: {rv_uma_wgr[0]:.2f} \\u00B1 {abs(rv_uma_wgr[1]):.2f}')\n",
    "print(f'RZ Cep G-R Wesenheit magnitude: {rz_cep_wgr[0]:.2f} \\u00B1 {abs(rz_cep_wgr[1]):.2f}')\n",
    "print(f'Ratio of RV UMa to RZ Cep distance: {10**((rv_uma_wgr[0] - rz_cep_wgr[0])/5):.2f} \\u00B1 {np.log10(5)/5*10**((rv_uma_wgr[0] - rz_cep_wgr[0])/5)*abs(rv_uma_wgr[1] - rz_cep_wgr[1]):.2f}')"
   ]
  },
  {
   "cell_type": "code",
   "execution_count": 39,
   "outputs": [
    {
     "name": "stdout",
     "output_type": "stream",
     "text": [
      "RV UMa L-R Wesenheit magnitude: 15.21 ± 0.11\n",
      "RZ Cep L-R Wesenheit magnitude: 13.76 ± 0.99\n",
      "Ratio of RV UMa to RZ Cep distance: 1.94 ± 0.24\n"
     ]
    }
   ],
   "source": [
    "rv_uma_wlr = wesenheit_mag(luminance_weighted_mag_rv, red_weighted_mag_rv, luminance_mag_error_rv, red_mag_error_rv, wavelength_L, wavelength_R)\n",
    "rz_cep_wlr = wesenheit_mag(luminance_weighted_mag_rz, red_weighted_mag_rz, luminance_mag_error_rz, red_mag_error_rz, wavelength_L, wavelength_R)\n",
    "\n",
    "print(f'RV UMa L-R Wesenheit magnitude: {rv_uma_wlr[0]:.2f} \\u00B1 {abs(rv_uma_wlr[1]):.2f}')\n",
    "print(f'RZ Cep L-R Wesenheit magnitude: {rz_cep_wlr[0]:.2f} \\u00B1 {abs(rz_cep_wlr[1]):.2f}')\n",
    "print(f'Ratio of RV UMa to RZ Cep distance: {10**((rv_uma_wlr[0] - rz_cep_wlr[0])/5):.2f} \\u00B1 {np.log10(5)/5*10**((rv_uma_wlr[0] - rz_cep_wlr[0])/5)*abs(rv_uma_wlr[1] - rz_cep_wlr[1]):.2f}')"
   ],
   "metadata": {
    "collapsed": false,
    "pycharm": {
     "name": "#%%\n"
    }
   }
  },
  {
   "cell_type": "code",
   "execution_count": 40,
   "outputs": [
    {
     "name": "stdout",
     "output_type": "stream",
     "text": [
      "RV UMa L-B Wesenheit magnitude: 6.96 ± 2.39\n",
      "RZ Cep L-B Wesenheit magnitude: 15.18 ± 225.74\n",
      "Ratio of RV UMa to RZ Cep distance: 0.02 ± 0.71\n"
     ]
    }
   ],
   "source": [
    "rv_uma_wlg = wesenheit_mag(luminance_weighted_mag_rv, green_weighted_mag_rv, luminance_mag_error_rv, green_mag_error_rv, wavelength_L, wavelength_G)\n",
    "rz_cep_wlg = wesenheit_mag(luminance_weighted_mag_rz, green_weighted_mag_rz, luminance_weighted_mag_rz, green_mag_error_rz, wavelength_L, wavelength_G)\n",
    "\n",
    "print(f'RV UMa L-B Wesenheit magnitude: {rv_uma_wlg[0]:.2f} \\u00B1 {abs(rv_uma_wlg[1]):.2f}')\n",
    "print(f'RZ Cep L-B Wesenheit magnitude: {rz_cep_wlg[0]:.2f} \\u00B1 {abs(rz_cep_wlg[1]):.2f}')\n",
    "print(f'Ratio of RV UMa to RZ Cep distance: {10**((rv_uma_wlg[0] - rz_cep_wlg[0])/5):.2f} \\u00B1 {np.log10(5)/5*10**((rv_uma_wlg[0] - rz_cep_wlg[0])/5)*abs(rv_uma_wlg[1] - rz_cep_wlg[1]):.2f}')"
   ],
   "metadata": {
    "collapsed": false,
    "pycharm": {
     "name": "#%%\n"
    }
   }
  },
  {
   "cell_type": "code",
   "execution_count": 41,
   "outputs": [
    {
     "name": "stdout",
     "output_type": "stream",
     "text": [
      "RV UMa L-B Wesenheit magnitude: 13.35 ± 0.61\n",
      "RZ Cep L-B Wesenheit magnitude: 14.24 ± 0.40\n",
      "Ratio of RV UMa to RZ Cep distance: 0.66 ± 0.02\n"
     ]
    }
   ],
   "source": [
    "rv_uma_wlb = wesenheit_mag(luminance_weighted_mag_rv, blue_weighted_mag_rv, luminance_mag_error_rv, blue_mag_error_rv, wavelength_L, wavelength_B)\n",
    "rz_cep_wlb = wesenheit_mag(luminance_weighted_mag_rz, blue_weighted_mag_rz, luminance_mag_error_rz, blue_mag_error_rz, wavelength_L, wavelength_B)\n",
    "\n",
    "print(f'RV UMa L-B Wesenheit magnitude: {rv_uma_wlb[0]:.2f} \\u00B1 {abs(rv_uma_wlb[1]):.2f}')\n",
    "print(f'RZ Cep L-B Wesenheit magnitude: {rz_cep_wlb[0]:.2f} \\u00B1 {abs(rz_cep_wlb[1]):.2f}')\n",
    "print(f'Ratio of RV UMa to RZ Cep distance: {10**((rv_uma_wlb[0] - rz_cep_wlb[0])/5):.2f} \\u00B1 {np.log10(5)/5*10**((rv_uma_wlb[0] - rz_cep_wlb[0])/5)*abs(rv_uma_wlb[1] - rz_cep_wlb[1]):.2f}')"
   ],
   "metadata": {
    "collapsed": false,
    "pycharm": {
     "name": "#%%\n"
    }
   }
  },
  {
   "cell_type": "code",
   "execution_count": 28,
   "outputs": [],
   "source": [],
   "metadata": {
    "collapsed": false,
    "pycharm": {
     "name": "#%%\n"
    }
   }
  }
 ],
 "metadata": {
  "kernelspec": {
   "display_name": "Python 3 (ipykernel)",
   "language": "python",
   "name": "python3"
  },
  "language_info": {
   "codemirror_mode": {
    "name": "ipython",
    "version": 3
   },
   "file_extension": ".py",
   "mimetype": "text/x-python",
   "name": "python",
   "nbconvert_exporter": "python",
   "pygments_lexer": "ipython3",
   "version": "3.9.13"
  }
 },
 "nbformat": 4,
 "nbformat_minor": 5
}