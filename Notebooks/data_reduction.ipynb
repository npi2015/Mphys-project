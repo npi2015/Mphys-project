{
 "cells": [
  {
   "cell_type": "code",
   "execution_count": 1,
   "outputs": [],
   "source": [
    "from pathlib import Path\n",
    "\n",
    "from matplotlib import pyplot as plt\n",
    "import numpy as np\n",
    "\n",
    "from astropy import units as u\n",
    "import ccdproc as ccdp\n",
    "\n",
    "from convenience_functions import show_image"
   ],
   "metadata": {
    "collapsed": false,
    "pycharm": {
     "name": "#%%\n"
    }
   }
  },
  {
   "cell_type": "code",
   "execution_count": 2,
   "outputs": [],
   "source": [
    "def find_nearest_dark_exposure(image, dark_exposure_times, tolerance=0.5):\n",
    "    \"\"\"\n",
    "    Find the nearest exposure time of a dark frame to the exposure time of the image,\n",
    "    raising an error if the difference in exposure time is more than tolerance.\n",
    "\n",
    "    Parameters\n",
    "    ----------\n",
    "\n",
    "    image : astropy.nddata.CCDData\n",
    "        Image for which a matching dark is needed.\n",
    "\n",
    "    dark_exposure_times : list\n",
    "        Exposure times for which there are darks.\n",
    "\n",
    "    tolerance : float or ``None``, optional\n",
    "        Maximum difference, in seconds, between the image and the closest dark. Set\n",
    "        to ``None`` to skip the tolerance test.\n",
    "\n",
    "    Returns\n",
    "    -------\n",
    "\n",
    "    float\n",
    "        Closest dark exposure time to the image.\n",
    "    \"\"\"\n",
    "\n",
    "    dark_exposures = np.array(list(dark_exposure_times))\n",
    "    idx = np.argmin(np.abs(dark_exposures - image.header['exptime']))\n",
    "    closest_dark_exposure = dark_exposures[idx]\n",
    "\n",
    "    if (tolerance is not None and\n",
    "            np.abs(image.header['exptime'] - closest_dark_exposure) > tolerance):\n",
    "\n",
    "        raise RuntimeError('Closest dark exposure time is {} for flat of exposure '\n",
    "                           'time {}.'.format(closest_dark_exposure, image.header['exptime']))\n",
    "\n",
    "\n",
    "    return closest_dark_exposure"
   ],
   "metadata": {
    "collapsed": false,
    "pycharm": {
     "name": "#%%\n"
    }
   }
  },
  {
   "cell_type": "markdown",
   "source": [
    "## 2022/03/20"
   ],
   "metadata": {
    "collapsed": false,
    "pycharm": {
     "name": "#%% md\n"
    }
   }
  },
  {
   "cell_type": "code",
   "execution_count": 3,
   "outputs": [],
   "source": [
    "# Use custom style for larger fonts and figures\n",
    "plt.style.use('guide.mplstyle')"
   ],
   "metadata": {
    "collapsed": false,
    "pycharm": {
     "name": "#%%\n"
    }
   }
  },
  {
   "cell_type": "code",
   "execution_count": 4,
   "outputs": [],
   "source": [
    "science_images_path = Path('..', '2022_03_20', 'RV_UMa', 'Light', 'Luminance')\n",
    "dark_images_path = Path('..', 'darks-reduced')\n",
    "flats_path = Path('..', 'reduced-flats')\n",
    "\n",
    "master_darks = ccdp.ImageFileCollection(dark_images_path)\n",
    "master_flats = ccdp.ImageFileCollection(flats_path)\n",
    "science_raw = ccdp.ImageFileCollection(science_images_path)"
   ],
   "metadata": {
    "collapsed": false,
    "pycharm": {
     "name": "#%%\n"
    }
   }
  },
  {
   "cell_type": "code",
   "execution_count": 5,
   "outputs": [
    {
     "name": "stderr",
     "output_type": "stream",
     "text": [
      "WARNING: FITSFixedWarning: 'datfix' made the change 'Set MJD-OBS to 59659.676977 from DATE-OBS'. [astropy.wcs.wcs]\n",
      "WARNING:astropy:FITSFixedWarning: 'datfix' made the change 'Set MJD-OBS to 59659.676977 from DATE-OBS'.\n",
      "WARNING: FITSFixedWarning: 'datfix' made the change 'Set MJD-OBS to 59659.673508 from DATE-OBS'. [astropy.wcs.wcs]\n",
      "WARNING:astropy:FITSFixedWarning: 'datfix' made the change 'Set MJD-OBS to 59659.673508 from DATE-OBS'.\n",
      "WARNING: FITSFixedWarning: 'datfix' made the change 'Set MJD-OBS to 59659.675234 from DATE-OBS'. [astropy.wcs.wcs]\n",
      "WARNING:astropy:FITSFixedWarning: 'datfix' made the change 'Set MJD-OBS to 59659.675234 from DATE-OBS'.\n",
      "WARNING: FITSFixedWarning: 'datfix' made the change 'Set MJD-OBS to 59659.012000 from DATE-OBS'. [astropy.wcs.wcs]\n",
      "WARNING:astropy:FITSFixedWarning: 'datfix' made the change 'Set MJD-OBS to 59659.012000 from DATE-OBS'.\n",
      "WARNING: FITSFixedWarning: 'datfix' made the change 'Set MJD-OBS to 59659.014242 from DATE-OBS'. [astropy.wcs.wcs]\n",
      "WARNING:astropy:FITSFixedWarning: 'datfix' made the change 'Set MJD-OBS to 59659.014242 from DATE-OBS'.\n",
      "WARNING: FITSFixedWarning: 'datfix' made the change 'Set MJD-OBS to 59659.658507 from DATE-OBS'. [astropy.wcs.wcs]\n",
      "WARNING:astropy:FITSFixedWarning: 'datfix' made the change 'Set MJD-OBS to 59659.658507 from DATE-OBS'.\n"
     ]
    }
   ],
   "source": [
    "science_image_type = 'Light Frame'\n",
    "\n",
    "combined_darks = {ccd.header['exptime']: ccd for ccd in master_darks.ccds(imagetyp='Dark Frame', combined=True)}\n",
    "combined_flats = {ccd.header['filter']: ccd for ccd in master_flats.ccds(imagetyp='Flat Frame', combined=True)}"
   ],
   "metadata": {
    "collapsed": false,
    "pycharm": {
     "name": "#%%\n"
    }
   }
  },
  {
   "cell_type": "code",
   "execution_count": 6,
   "outputs": [],
   "source": [
    "destination_path = Path('..','reduced-lights_2022_03_20')\n",
    "destination_path.mkdir( exist_ok = True)"
   ],
   "metadata": {
    "collapsed": false,
    "pycharm": {
     "name": "#%%\n"
    }
   }
  },
  {
   "cell_type": "code",
   "execution_count": null,
   "outputs": [],
   "source": [
    "all_reds = []\n",
    "light_ccds = []\n",
    "for light, file_name in science_raw.ccds(imagetyp=science_image_type, return_fname=True, ccd_kwargs=dict(unit='adu')):\n",
    "    light_ccds.append(light)\n",
    "\n",
    "    closest_dark = find_nearest_dark_exposure(light, combined_darks.keys())\n",
    "    reduced = ccdp.subtract_dark(light, combined_darks[closest_dark],\n",
    "                                 exposure_time='exptime', exposure_unit=u.second\n",
    "                                 )\n",
    "    good_flat = combined_flats[reduced.header['filter']]\n",
    "    reduced = ccdp.flat_correct(reduced, good_flat)\n",
    "    all_reds.append(reduced)\n",
    "    reduced.write(destination_path / file_name)"
   ],
   "metadata": {
    "collapsed": false,
    "pycharm": {
     "name": "#%%\n"
    }
   }
  },
  {
   "cell_type": "markdown",
   "source": [
    "## 2022/03/20"
   ],
   "metadata": {
    "collapsed": false,
    "pycharm": {
     "name": "#%% md\n"
    }
   }
  },
  {
   "cell_type": "code",
   "execution_count": null,
   "outputs": [],
   "source": [
    "science_images_path_03_20 = Path('..', '2022_03_22', 'RV_UMa', 'Light', 'Luminance')\n",
    "\n",
    "master_darks = ccdp.ImageFileCollection(dark_images_path)\n",
    "master_flats = ccdp.ImageFileCollection(flats_path)\n",
    "science_raw = ccdp.ImageFileCollection(science_images_path_03_20)"
   ],
   "metadata": {
    "collapsed": false,
    "pycharm": {
     "name": "#%%\n"
    }
   }
  },
  {
   "cell_type": "code",
   "execution_count": null,
   "outputs": [],
   "source": [
    "destination_path = Path('..','reduced-lights_2022_03_22')\n",
    "destination_path.mkdir( exist_ok = True)"
   ],
   "metadata": {
    "collapsed": false,
    "pycharm": {
     "name": "#%%\n"
    }
   }
  },
  {
   "cell_type": "code",
   "execution_count": null,
   "outputs": [],
   "source": [
    "all_reds = []\n",
    "light_ccds = []\n",
    "for light, file_name in science_raw.ccds(imagetyp=science_image_type, return_fname=True, ccd_kwargs=dict(unit='adu')):\n",
    "    light_ccds.append(light)\n",
    "\n",
    "    closest_dark = find_nearest_dark_exposure(light, combined_darks.keys())\n",
    "    reduced = ccdp.subtract_dark(light, combined_darks[closest_dark],\n",
    "                                 exposure_time='exptime', exposure_unit=u.second\n",
    "                                 )\n",
    "    good_flat = combined_flats[reduced.header['filter']]\n",
    "    reduced = ccdp.flat_correct(reduced, good_flat)\n",
    "    all_reds.append(reduced)\n",
    "    reduced.write(destination_path / file_name)"
   ],
   "metadata": {
    "collapsed": false,
    "pycharm": {
     "name": "#%%\n"
    }
   }
  },
  {
   "cell_type": "markdown",
   "source": [
    "# 2022/03/24"
   ],
   "metadata": {
    "collapsed": false,
    "pycharm": {
     "name": "#%% md\n"
    }
   }
  },
  {
   "cell_type": "code",
   "execution_count": null,
   "outputs": [],
   "source": [
    "science_images_path_03_24 = Path('..', '2022_03_24', 'RV_UMa', 'Light', 'Luminance')\n",
    "\n",
    "master_darks = ccdp.ImageFileCollection(dark_images_path)\n",
    "master_flats = ccdp.ImageFileCollection(flats_path)\n",
    "science_raw = ccdp.ImageFileCollection(science_images_path_03_24)"
   ],
   "metadata": {
    "collapsed": false,
    "pycharm": {
     "name": "#%%\n"
    }
   }
  },
  {
   "cell_type": "code",
   "execution_count": null,
   "outputs": [],
   "source": [
    "destination_path = Path('..','reduced-lights_2022_03_24')\n",
    "destination_path.mkdir( exist_ok = True)"
   ],
   "metadata": {
    "collapsed": false,
    "pycharm": {
     "name": "#%%\n"
    }
   }
  },
  {
   "cell_type": "code",
   "execution_count": null,
   "outputs": [],
   "source": [
    "all_reds = []\n",
    "light_ccds = []\n",
    "for light, file_name in science_raw.ccds(imagetyp=science_image_type, return_fname=True, ccd_kwargs=dict(unit='adu')):\n",
    "    light_ccds.append(light)\n",
    "\n",
    "    closest_dark = find_nearest_dark_exposure(light, combined_darks.keys())\n",
    "    reduced = ccdp.subtract_dark(light, combined_darks[closest_dark],\n",
    "                                 exposure_time='exptime', exposure_unit=u.second\n",
    "                                 )\n",
    "    good_flat = combined_flats[reduced.header['filter']]\n",
    "    reduced = ccdp.flat_correct(reduced, good_flat)\n",
    "    all_reds.append(reduced)\n",
    "    reduced.write(destination_path / file_name)"
   ],
   "metadata": {
    "collapsed": false,
    "pycharm": {
     "name": "#%%\n"
    }
   }
  },
  {
   "cell_type": "code",
   "execution_count": null,
   "outputs": [],
   "source": [],
   "metadata": {
    "collapsed": false,
    "pycharm": {
     "name": "#%%\n"
    }
   }
  }
 ],
 "metadata": {
  "kernelspec": {
   "display_name": "Python 3",
   "language": "python",
   "name": "python3"
  },
  "language_info": {
   "codemirror_mode": {
    "name": "ipython",
    "version": 2
   },
   "file_extension": ".py",
   "mimetype": "text/x-python",
   "name": "python",
   "nbconvert_exporter": "python",
   "pygments_lexer": "ipython2",
   "version": "2.7.6"
  }
 },
 "nbformat": 4,
 "nbformat_minor": 0
}