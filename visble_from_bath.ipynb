{
 "cells": [
  {
   "cell_type": "markdown",
   "source": [
    "# Some setup stuff\n",
    "\n",
    "Here we will be setting up some stuff that will be helpful going forward, such as the location of Bath and the time of the Vernal Equinox of the year 2022."
   ],
   "metadata": {
    "collapsed": false,
    "pycharm": {
     "name": "#%% md\n"
    }
   }
  },
  {
   "cell_type": "code",
   "execution_count": 42,
   "outputs": [],
   "source": [
    "bath_latitude = 51.37\n",
    "bath_longitude = -2.36"
   ],
   "metadata": {
    "collapsed": false,
    "pycharm": {
     "name": "#%%\n"
    }
   }
  },
  {
   "cell_type": "code",
   "execution_count": 43,
   "outputs": [],
   "source": [
    "import datetime\n",
    "import re\n",
    "\n",
    "today = datetime.datetime.now()\n",
    "Y2022_equinox = datetime.datetime(2022, 3, 20, 15, 33)\n",
    "time_since_equinox = str(today-Y2022_equinox)\n",
    "days_passed_since_equinox = int(re.split(' days', time_since_equinox)[0])"
   ],
   "metadata": {
    "collapsed": false,
    "pycharm": {
     "name": "#%%\n"
    }
   }
  },
  {
   "cell_type": "markdown",
   "source": [
    "## Increasing the RA\n",
    "\n",
    "The Right Ascension in most databases is measured at the vernal equinox, the 20th of March. However, since the Earth moves around the Sun it is not the same all year around. Each day the Earth covers 360/365 degrees of its rotation, and each hour, since it rotates a full 360º it covers 15º. As such, each day the RA increases\n",
    "\n",
    "$$\\Delta RA = \\frac{360}{365*15}$$\n",
    "\n",
    "This cell will end up not being relevant to the calculations, but it is still useful to understand how RA works. This [video](https://www.youtube.com/watch?v=kejolGai7X8&list=PLX2gX-ftPVXU3BfWLJfmXfGD08cIit5CI&index=9) I have found explains it quite well."
   ],
   "metadata": {
    "collapsed": false,
    "pycharm": {
     "name": "#%% md\n"
    }
   }
  },
  {
   "cell_type": "code",
   "execution_count": 44,
   "outputs": [],
   "source": [
    "# A year has 365 days, so that each day the Earth covers 360/365 of its rotation\n",
    "# A day has 24hr and in that time the Earth revolves 360º, so that each hour it covers 15º\n",
    "# Each day the RA will increase by 360/(365*15) hrs\n",
    "import numpy as np\n",
    "\n",
    "increase_RA = 360/(365*15)\n",
    "hour_ra_increase = np.floor(increase_RA*days_passed_since_equinox)\n",
    "minute_ra_increase = (hour_ra_increase - np.floor(hour_ra_increase)) * 60\n",
    "second_ra_increase = ((minute_ra_increase - np.floor(minute_ra_increase)) * 60).round(4)\n"
   ],
   "metadata": {
    "collapsed": false,
    "pycharm": {
     "name": "#%%\n"
    }
   }
  },
  {
   "cell_type": "markdown",
   "source": [
    "## The sidereal time\n",
    "\n",
    "For these observations we use sidereal time. A sidereal day takes a little less than a solar day, 23h 56 min instead of the usual 24h. This is the time it takes for the Earth to fully rotate around its axis. This is useful because any object crosses the upper meridian when the sidereal time is equal to the object's Right Ascension ([source](https://lco.global/spacebook/sky/sidereal-time/)).\n",
    "\n",
    "A solar day lasts 24h because it takes that amount of time for the same spot in the Earth to be facing the Sun, since not only does the Earth rotate, but it also moves around the Sun.\n",
    "\n",
    "Here we are simply computing the sidereal time at Bath right now (whenever _now_ is). This is UTC time, which matches the GMT timezone. At the time of writing this (19th of October), the timezone in Bath is GMT + 1, but that will change on the 30th of October when Daylight saving time is implemented, and we will be back in the GMT/UTC timezone."
   ],
   "metadata": {
    "collapsed": false,
    "pycharm": {
     "name": "#%% md\n"
    }
   }
  },
  {
   "cell_type": "code",
   "execution_count": 45,
   "outputs": [],
   "source": [
    "# Obtain sidereal time\n",
    "from astropy.coordinates import EarthLocation\n",
    "from astropy.time import Time\n",
    "from astropy import units as u\n",
    "\n",
    "observing_location = EarthLocation(lat=bath_latitude*u.deg, lon=bath_longitude*u.deg)\n",
    "observing_time = Time(datetime.datetime.utcnow(), scale='utc', location=observing_location)\n",
    "LST = observing_time.sidereal_time('mean')"
   ],
   "metadata": {
    "collapsed": false,
    "pycharm": {
     "name": "#%%\n"
    }
   }
  },
  {
   "cell_type": "markdown",
   "source": [
    "## The sidereal time at the time of observation\n",
    "\n",
    "Following the same procedure as above, we can compute the sidereal time of the day of observation. I have coded the program to automatically use the day of whenever it's ran on, but it can be changed to any random date. Since we are currently UTC + 1 I have coded the observation to start at 19:15 (20:15 Bath time) and finishing at 1:00 (2:00 Bath time). This has to be changed manually in the 30th, and an hour added to both cases.\n",
    "\n",
    "Once we have the sidereal times of both the start and the end, we can use it to find which stars are visible."
   ],
   "metadata": {
    "collapsed": false,
    "pycharm": {
     "name": "#%% md\n"
    }
   }
  },
  {
   "cell_type": "code",
   "execution_count": 46,
   "outputs": [],
   "source": [
    "import datetime\n",
    "from astropy.time import Time\n",
    "import re\n",
    "\n",
    "date_today = datetime.datetime.today().strftime('%Y-%m-%d')\n",
    "date_tomorrow = (datetime.datetime.today() + datetime.timedelta(days=1)).strftime('%Y-%m-%d')\n",
    "times = [f'{date_today}T19:15:00', f'{date_tomorrow}T1:00:00']# In UTC, change on 30th October\n",
    "\n",
    "t = Time(times, format='isot', scale='utc')"
   ],
   "metadata": {
    "collapsed": false,
    "pycharm": {
     "name": "#%%\n"
    }
   }
  },
  {
   "cell_type": "code",
   "execution_count": 47,
   "outputs": [],
   "source": [
    "start_end_times = re.split(' ',str(t.sidereal_time('apparent', bath_longitude)))\n",
    "start_sidereal_time = start_end_times[0].strip('[]')\n",
    "end_sidereal_time = start_end_times[1].strip('[]')"
   ],
   "metadata": {
    "collapsed": false,
    "pycharm": {
     "name": "#%%\n"
    }
   }
  },
  {
   "cell_type": "markdown",
   "source": [
    "## Getting the right ascension of all stars of our query\n",
    "\n",
    "Here we are importing the dataframe with the stars of the Monson et al paper, which I saved as a pickle in that notebook. We also split the Right Ascension column into hours minutes and seconds to make calculations later on a bit simpler. With such a small dataset, the impact on performance is not huge, and it makes things much easier."
   ],
   "metadata": {
    "collapsed": false,
    "pycharm": {
     "name": "#%% md\n"
    }
   }
  },
  {
   "cell_type": "code",
   "execution_count": 48,
   "outputs": [],
   "source": [
    "import pandas as pd\n",
    "import re\n",
    "simbad_df = pd.read_pickle('Monson_stars_simbad.pkl')\n",
    "simbad_df['RA hours'] = simbad_df['RA'].str[0:2]\n",
    "simbad_df['RA mins'] = simbad_df['RA'].str[3:5]\n",
    "simbad_df['RA seconds'] = simbad_df['RA'].str[5:]\n"
   ],
   "metadata": {
    "collapsed": false,
    "pycharm": {
     "name": "#%%\n"
    }
   }
  },
  {
   "cell_type": "markdown",
   "source": [
    "## Getting the declination of all stars of our query\n",
    "\n",
    "Same thing as before, but now we do it with the declination column. It's split into three: degrees, minutes and seconds."
   ],
   "metadata": {
    "collapsed": false,
    "pycharm": {
     "name": "#%% md\n"
    }
   }
  },
  {
   "cell_type": "code",
   "execution_count": 49,
   "outputs": [],
   "source": [
    "simbad_df['DEC degrees'] = simbad_df['DEC'].str[0:3].astype(float)\n",
    "simbad_df['DEC minutes'] = simbad_df['DEC'].str[4:6].astype(float)\n",
    "simbad_df['DEC seconds'] = simbad_df['DEC'].str[7:].astype(float)"
   ],
   "metadata": {
    "collapsed": false,
    "pycharm": {
     "name": "#%%\n"
    }
   }
  },
  {
   "cell_type": "markdown",
   "source": [
    "# Finding the hour angle of different stars\n",
    "\n",
    "In order to actually compute which stars are visible we are using the hour angle, i.e. how far away from the meridian it is at the beginning and end of our observations. In order to calculate the hour angle we are using the following formula:\n",
    "\n",
    "$$\\mathrm{LHA}_{\\mathrm{object}} = \\mathrm{LST}-\\alpha_{\\mathrm{object}}$$\n",
    "\n",
    "where $\\mathrm{LHA}_{\\mathrm{object}}$ is the Local Hour Angle of the given object, LST is the local sidereal time and $\\alpha_{\\mathrm{object}}$ is the Right Ascension of the object. We split it into hours, minutes and seconds and then put it back together."
   ],
   "metadata": {
    "collapsed": false,
    "pycharm": {
     "name": "#%% md\n"
    }
   }
  },
  {
   "cell_type": "code",
   "execution_count": 50,
   "outputs": [],
   "source": [
    "start_sidereal_time_hour = float(re.split('h', str(start_sidereal_time))[0])\n",
    "start_sidereal_time_minute = float(re.findall('h.*m', str(start_sidereal_time))[0].strip('hm'))\n",
    "start_sidereal_time_second = float(re.findall('m.*', str(start_sidereal_time))[0].strip('ms'))\n",
    "\n",
    "\n",
    "end_sidereal_time_hour = float(re.split('h', str(end_sidereal_time))[0])\n",
    "end_sidereal_time_minute = float(re.findall('h.*m', str(end_sidereal_time))[0].strip('hm'))\n",
    "end_sidereal_time_second = float(re.findall('m.*', str(end_sidereal_time))[0].strip('ms'))"
   ],
   "metadata": {
    "collapsed": false,
    "pycharm": {
     "name": "#%%\n"
    }
   }
  },
  {
   "cell_type": "code",
   "execution_count": 51,
   "outputs": [],
   "source": [
    "simbad_df['Start hour angle hours'] = simbad_df['RA hours'].astype(float) - start_sidereal_time_hour\n",
    "simbad_df['Start hour angle minutes'] = simbad_df['RA mins'].astype(float) - start_sidereal_time_minute\n",
    "simbad_df['Start hour angle seconds'] = simbad_df['RA seconds'].astype(float) - start_sidereal_time_second\n",
    "\n",
    "simbad_df['End hour angle hours'] = simbad_df['RA hours'].astype(float) - end_sidereal_time_hour\n",
    "simbad_df['End hour angle minutes'] = simbad_df['RA mins'].astype(float) - end_sidereal_time_minute\n",
    "simbad_df['End hour angle seconds'] = simbad_df['RA seconds'].astype(float) - end_sidereal_time_second"
   ],
   "metadata": {
    "collapsed": false,
    "pycharm": {
     "name": "#%%\n"
    }
   }
  },
  {
   "cell_type": "markdown",
   "source": [
    "# Finding the observable stars\n",
    "\n"
   ],
   "metadata": {
    "collapsed": false,
    "pycharm": {
     "name": "#%% md\n"
    }
   }
  },
  {
   "cell_type": "markdown",
   "source": [
    "## Circumpolar star\n",
    "\n",
    "A circumpolar star never sets, but it rotates around the celestial north pole. The amount of circumpolar stars depends on latitude. There are, for example, no circumpolar stars in the equator, and all of the stars are circumpolar at the poles. A star will be circumpolar if\n",
    "$$ \\theta + \\delta > 90º$$\n",
    "\n",
    "where $\\theta$ is the latitude and $\\delta$ is the declination."
   ],
   "metadata": {
    "collapsed": false,
    "pycharm": {
     "name": "#%% md\n"
    }
   }
  },
  {
   "cell_type": "code",
   "execution_count": 68,
   "outputs": [],
   "source": [
    "circumpolar_stars = simbad_df[simbad_df['DEC degrees'] + bath_latitude > 90]"
   ],
   "metadata": {
    "collapsed": false,
    "pycharm": {
     "name": "#%%\n"
    }
   }
  },
  {
   "cell_type": "markdown",
   "source": [
    "## Discriminating based on RA and Dec\n",
    "\n",
    "Aside from the circumpolar stars, we want something that will be close to the Meridian at the time of observation. This means an hour angle of $\\pm3$ hrs or less, which amounts to $\\pm 45$º in the East to West plane. Each hour it will move 15º, so that something that starts with an HA = 3hrs at 8pm will cross the meridian at 11pm. Using the hour angle allows us to circumvent calculating which stars are not observable in this coordinate, since anything not visible will have an hour angle too large.\n",
    "\n",
    "In terms of declination, we want something that is visible from Bath. Since we are not at the equator, the stars will not be where its declination says (in the North to South direction), but instead the following correction must be applied:\n",
    "\n",
    "$$\\mathrm{Dec}_{\\mathrm{Bath}} = \\mathrm{Dec} - \\mathrm{lat}$$\n",
    "\n",
    "This will tell us what angle the star has with respect to the zenith. To avoid light pollution and trees we can limit the observable declination to 30º in each direction, so that we are left with a small circle in the sky with our observable stars."
   ],
   "metadata": {
    "collapsed": false,
    "pycharm": {
     "name": "#%% md\n"
    }
   }
  },
  {
   "cell_type": "code",
   "execution_count": 69,
   "outputs": [],
   "source": [
    "ra_observable = simbad_df[(simbad_df['Start hour angle hours'] < 3) & (simbad_df['Start hour angle hours'] > -3)]\n",
    "dec_observable = ra_observable[(ra_observable['DEC degrees']-bath_latitude < 30) & (ra_observable['DEC degrees']-bath_latitude > -30)]\n",
    "dec_observable = pd.concat([dec_observable, circumpolar_stars])\n",
    "# Here I just get rid of the columns I made for the operations\n",
    "dec_observable = dec_observable.drop(columns = ['Start hour angle hours', 'Start hour angle minutes', 'Start hour angle seconds', 'End hour angle hours', 'End hour angle minutes', 'End hour angle seconds', 'RA hours', 'RA mins', 'RA seconds', 'DEC degrees', 'DEC minutes', 'DEC seconds'])\n"
   ],
   "metadata": {
    "collapsed": false,
    "pycharm": {
     "name": "#%%\n"
    }
   }
  },
  {
   "cell_type": "code",
   "execution_count": 71,
   "outputs": [],
   "source": [
    "# Drop the duplicates in case there are any\n",
    "dec_observable = dec_observable.drop_duplicates()"
   ],
   "metadata": {
    "collapsed": false,
    "pycharm": {
     "name": "#%%\n"
    }
   }
  },
  {
   "cell_type": "code",
   "execution_count": 72,
   "outputs": [
    {
     "data": {
      "text/plain": "     MAIN_ID             RA            DEC  RA_PREC  DEC_PREC  COO_ERR_MAJA  \\\n0  V* UY Cyg  20 56 28.3030  +30 25 40.327       14        14        0.0102   \n0  V* XZ Cyg  19 32 29.3050  +56 23 17.494       14        14        0.0135   \n0  V* RR Lyr  19 25 27.9129  +42 47 03.693       14        14        0.0224   \n0  V* AV Peg  21 52 02.7945  +22 34 29.376       14        14        0.0144   \n0  V* RZ Cep  22 39 13.1768  +64 51 30.611       14        14        0.0108   \n0  V* SU Dra  11 37 56.6071  +67 19 47.060       14        14        0.0115   \n0  V* SW Dra  12 17 46.6283  +69 30 38.233       14        14        0.0169   \n0  V* TT Lyn  09 03 07.7864  +44 35 08.119       14        14        0.0127   \n0  V* AB UMa  12 11 14.5890  +47 49 43.794       14        14        0.0084   \n0  V* RV UMa  13 33 18.0838  +53 59 14.598       14        14        0.0106   \n0  V* TV Boo  14 16 36.5814  +42 21 35.712       14        14        0.0109   \n0  V* UY Cam  07 58 58.8825  +72 47 15.402       14        14        0.0120   \n0  V* SX UMa  13 26 13.4592  +56 15 25.053       14        14        0.0115   \n\n   COO_ERR_MINA  COO_ERR_ANGLE COO_QUAL COO_WAVELENGTH  ... Distance_unit  \\\n0        0.0154             90        A              O  ...            pc   \n0        0.0147             90        A              O  ...            pc   \n0        0.0242             90        A              O  ...            pc   \n0        0.0134             90        A              O  ...            pc   \n0        0.0099             90        A              O  ...            pc   \n0        0.0117             90        A              O  ...            pc   \n0        0.0159             90        A              O  ...            pc   \n0        0.0102             90        A              O  ...            pc   \n0        0.0123             90        A              O  ...            pc   \n0        0.0120             90        A              O  ...            pc   \n0        0.0128             90        A              O  ...            pc   \n0        0.0157             90        A              O  ...            pc   \n0        0.0114             90        A              O  ...            pc   \n\n   Distance_merr Distance_perr Distance_method     Distance_bibcode  FLUX_K  \\\n0       -24.0161       24.0161           paral  2020yCat.1350....0G   9.715   \n0        -5.8411        5.8411           paral  2020yCat.1350....0G   8.884   \n0        -1.6688        1.6688           paral  2020yCat.1350....0G   6.648   \n0        -8.0166        8.0166           paral  2020yCat.1350....0G   9.322   \n0        -2.0294        2.0294           paral  2020yCat.1350....0G   7.968   \n0        -8.1150        8.1150           paral  2020yCat.1350....0G   8.821   \n0       -16.9324       16.9324           paral  2020yCat.1350....0G   9.226   \n0        -7.6026        7.6026           paral  2020yCat.1350....0G   8.544   \n0       -19.2301       19.2301           paral  2020yCat.1350....0G   9.576   \n0       -15.3790       15.3790           paral  2020yCat.1350....0G   9.816   \n0       -29.1934       29.1934           paral  2020yCat.1350....0G  10.181   \n0       -37.0370       37.0370           paral  2020yCat.1350....0G  10.814   \n0       -17.9616       17.9616           paral  2020yCat.1350....0G  10.107   \n\n      FLUX_G FLUX_R  FLUX_B  SCRIPT_NUMBER_ID  \n0  11.017679    NaN   11.37                 1  \n0   9.913754    NaN    9.94                 1  \n0   7.618805    7.6    7.36                 1  \n0  10.531158    NaN   10.07                 1  \n0   9.294270    9.3    9.48                 1  \n0   9.784324    NaN    9.37                 1  \n0  10.488967    NaN   10.87                 1  \n0   9.853911    NaN    9.75                 1  \n0  10.817328    NaN   11.42                 1  \n0  10.858340    NaN   10.97                 1  \n0  11.006255    NaN   11.23                 1  \n0  11.487339    NaN   11.74                 1  \n0  10.845738    NaN   11.01                 1  \n\n[13 rows x 23 columns]",
      "text/html": "<div>\n<style scoped>\n    .dataframe tbody tr th:only-of-type {\n        vertical-align: middle;\n    }\n\n    .dataframe tbody tr th {\n        vertical-align: top;\n    }\n\n    .dataframe thead th {\n        text-align: right;\n    }\n</style>\n<table border=\"1\" class=\"dataframe\">\n  <thead>\n    <tr style=\"text-align: right;\">\n      <th></th>\n      <th>MAIN_ID</th>\n      <th>RA</th>\n      <th>DEC</th>\n      <th>RA_PREC</th>\n      <th>DEC_PREC</th>\n      <th>COO_ERR_MAJA</th>\n      <th>COO_ERR_MINA</th>\n      <th>COO_ERR_ANGLE</th>\n      <th>COO_QUAL</th>\n      <th>COO_WAVELENGTH</th>\n      <th>...</th>\n      <th>Distance_unit</th>\n      <th>Distance_merr</th>\n      <th>Distance_perr</th>\n      <th>Distance_method</th>\n      <th>Distance_bibcode</th>\n      <th>FLUX_K</th>\n      <th>FLUX_G</th>\n      <th>FLUX_R</th>\n      <th>FLUX_B</th>\n      <th>SCRIPT_NUMBER_ID</th>\n    </tr>\n  </thead>\n  <tbody>\n    <tr>\n      <th>0</th>\n      <td>V* UY Cyg</td>\n      <td>20 56 28.3030</td>\n      <td>+30 25 40.327</td>\n      <td>14</td>\n      <td>14</td>\n      <td>0.0102</td>\n      <td>0.0154</td>\n      <td>90</td>\n      <td>A</td>\n      <td>O</td>\n      <td>...</td>\n      <td>pc</td>\n      <td>-24.0161</td>\n      <td>24.0161</td>\n      <td>paral</td>\n      <td>2020yCat.1350....0G</td>\n      <td>9.715</td>\n      <td>11.017679</td>\n      <td>NaN</td>\n      <td>11.37</td>\n      <td>1</td>\n    </tr>\n    <tr>\n      <th>0</th>\n      <td>V* XZ Cyg</td>\n      <td>19 32 29.3050</td>\n      <td>+56 23 17.494</td>\n      <td>14</td>\n      <td>14</td>\n      <td>0.0135</td>\n      <td>0.0147</td>\n      <td>90</td>\n      <td>A</td>\n      <td>O</td>\n      <td>...</td>\n      <td>pc</td>\n      <td>-5.8411</td>\n      <td>5.8411</td>\n      <td>paral</td>\n      <td>2020yCat.1350....0G</td>\n      <td>8.884</td>\n      <td>9.913754</td>\n      <td>NaN</td>\n      <td>9.94</td>\n      <td>1</td>\n    </tr>\n    <tr>\n      <th>0</th>\n      <td>V* RR Lyr</td>\n      <td>19 25 27.9129</td>\n      <td>+42 47 03.693</td>\n      <td>14</td>\n      <td>14</td>\n      <td>0.0224</td>\n      <td>0.0242</td>\n      <td>90</td>\n      <td>A</td>\n      <td>O</td>\n      <td>...</td>\n      <td>pc</td>\n      <td>-1.6688</td>\n      <td>1.6688</td>\n      <td>paral</td>\n      <td>2020yCat.1350....0G</td>\n      <td>6.648</td>\n      <td>7.618805</td>\n      <td>7.6</td>\n      <td>7.36</td>\n      <td>1</td>\n    </tr>\n    <tr>\n      <th>0</th>\n      <td>V* AV Peg</td>\n      <td>21 52 02.7945</td>\n      <td>+22 34 29.376</td>\n      <td>14</td>\n      <td>14</td>\n      <td>0.0144</td>\n      <td>0.0134</td>\n      <td>90</td>\n      <td>A</td>\n      <td>O</td>\n      <td>...</td>\n      <td>pc</td>\n      <td>-8.0166</td>\n      <td>8.0166</td>\n      <td>paral</td>\n      <td>2020yCat.1350....0G</td>\n      <td>9.322</td>\n      <td>10.531158</td>\n      <td>NaN</td>\n      <td>10.07</td>\n      <td>1</td>\n    </tr>\n    <tr>\n      <th>0</th>\n      <td>V* RZ Cep</td>\n      <td>22 39 13.1768</td>\n      <td>+64 51 30.611</td>\n      <td>14</td>\n      <td>14</td>\n      <td>0.0108</td>\n      <td>0.0099</td>\n      <td>90</td>\n      <td>A</td>\n      <td>O</td>\n      <td>...</td>\n      <td>pc</td>\n      <td>-2.0294</td>\n      <td>2.0294</td>\n      <td>paral</td>\n      <td>2020yCat.1350....0G</td>\n      <td>7.968</td>\n      <td>9.294270</td>\n      <td>9.3</td>\n      <td>9.48</td>\n      <td>1</td>\n    </tr>\n    <tr>\n      <th>0</th>\n      <td>V* SU Dra</td>\n      <td>11 37 56.6071</td>\n      <td>+67 19 47.060</td>\n      <td>14</td>\n      <td>14</td>\n      <td>0.0115</td>\n      <td>0.0117</td>\n      <td>90</td>\n      <td>A</td>\n      <td>O</td>\n      <td>...</td>\n      <td>pc</td>\n      <td>-8.1150</td>\n      <td>8.1150</td>\n      <td>paral</td>\n      <td>2020yCat.1350....0G</td>\n      <td>8.821</td>\n      <td>9.784324</td>\n      <td>NaN</td>\n      <td>9.37</td>\n      <td>1</td>\n    </tr>\n    <tr>\n      <th>0</th>\n      <td>V* SW Dra</td>\n      <td>12 17 46.6283</td>\n      <td>+69 30 38.233</td>\n      <td>14</td>\n      <td>14</td>\n      <td>0.0169</td>\n      <td>0.0159</td>\n      <td>90</td>\n      <td>A</td>\n      <td>O</td>\n      <td>...</td>\n      <td>pc</td>\n      <td>-16.9324</td>\n      <td>16.9324</td>\n      <td>paral</td>\n      <td>2020yCat.1350....0G</td>\n      <td>9.226</td>\n      <td>10.488967</td>\n      <td>NaN</td>\n      <td>10.87</td>\n      <td>1</td>\n    </tr>\n    <tr>\n      <th>0</th>\n      <td>V* TT Lyn</td>\n      <td>09 03 07.7864</td>\n      <td>+44 35 08.119</td>\n      <td>14</td>\n      <td>14</td>\n      <td>0.0127</td>\n      <td>0.0102</td>\n      <td>90</td>\n      <td>A</td>\n      <td>O</td>\n      <td>...</td>\n      <td>pc</td>\n      <td>-7.6026</td>\n      <td>7.6026</td>\n      <td>paral</td>\n      <td>2020yCat.1350....0G</td>\n      <td>8.544</td>\n      <td>9.853911</td>\n      <td>NaN</td>\n      <td>9.75</td>\n      <td>1</td>\n    </tr>\n    <tr>\n      <th>0</th>\n      <td>V* AB UMa</td>\n      <td>12 11 14.5890</td>\n      <td>+47 49 43.794</td>\n      <td>14</td>\n      <td>14</td>\n      <td>0.0084</td>\n      <td>0.0123</td>\n      <td>90</td>\n      <td>A</td>\n      <td>O</td>\n      <td>...</td>\n      <td>pc</td>\n      <td>-19.2301</td>\n      <td>19.2301</td>\n      <td>paral</td>\n      <td>2020yCat.1350....0G</td>\n      <td>9.576</td>\n      <td>10.817328</td>\n      <td>NaN</td>\n      <td>11.42</td>\n      <td>1</td>\n    </tr>\n    <tr>\n      <th>0</th>\n      <td>V* RV UMa</td>\n      <td>13 33 18.0838</td>\n      <td>+53 59 14.598</td>\n      <td>14</td>\n      <td>14</td>\n      <td>0.0106</td>\n      <td>0.0120</td>\n      <td>90</td>\n      <td>A</td>\n      <td>O</td>\n      <td>...</td>\n      <td>pc</td>\n      <td>-15.3790</td>\n      <td>15.3790</td>\n      <td>paral</td>\n      <td>2020yCat.1350....0G</td>\n      <td>9.816</td>\n      <td>10.858340</td>\n      <td>NaN</td>\n      <td>10.97</td>\n      <td>1</td>\n    </tr>\n    <tr>\n      <th>0</th>\n      <td>V* TV Boo</td>\n      <td>14 16 36.5814</td>\n      <td>+42 21 35.712</td>\n      <td>14</td>\n      <td>14</td>\n      <td>0.0109</td>\n      <td>0.0128</td>\n      <td>90</td>\n      <td>A</td>\n      <td>O</td>\n      <td>...</td>\n      <td>pc</td>\n      <td>-29.1934</td>\n      <td>29.1934</td>\n      <td>paral</td>\n      <td>2020yCat.1350....0G</td>\n      <td>10.181</td>\n      <td>11.006255</td>\n      <td>NaN</td>\n      <td>11.23</td>\n      <td>1</td>\n    </tr>\n    <tr>\n      <th>0</th>\n      <td>V* UY Cam</td>\n      <td>07 58 58.8825</td>\n      <td>+72 47 15.402</td>\n      <td>14</td>\n      <td>14</td>\n      <td>0.0120</td>\n      <td>0.0157</td>\n      <td>90</td>\n      <td>A</td>\n      <td>O</td>\n      <td>...</td>\n      <td>pc</td>\n      <td>-37.0370</td>\n      <td>37.0370</td>\n      <td>paral</td>\n      <td>2020yCat.1350....0G</td>\n      <td>10.814</td>\n      <td>11.487339</td>\n      <td>NaN</td>\n      <td>11.74</td>\n      <td>1</td>\n    </tr>\n    <tr>\n      <th>0</th>\n      <td>V* SX UMa</td>\n      <td>13 26 13.4592</td>\n      <td>+56 15 25.053</td>\n      <td>14</td>\n      <td>14</td>\n      <td>0.0115</td>\n      <td>0.0114</td>\n      <td>90</td>\n      <td>A</td>\n      <td>O</td>\n      <td>...</td>\n      <td>pc</td>\n      <td>-17.9616</td>\n      <td>17.9616</td>\n      <td>paral</td>\n      <td>2020yCat.1350....0G</td>\n      <td>10.107</td>\n      <td>10.845738</td>\n      <td>NaN</td>\n      <td>11.01</td>\n      <td>1</td>\n    </tr>\n  </tbody>\n</table>\n<p>13 rows × 23 columns</p>\n</div>"
     },
     "execution_count": 72,
     "metadata": {},
     "output_type": "execute_result"
    }
   ],
   "source": [
    "dec_observable"
   ],
   "metadata": {
    "collapsed": false,
    "pycharm": {
     "name": "#%%\n"
    }
   }
  },
  {
   "cell_type": "code",
   "execution_count": null,
   "outputs": [],
   "source": [],
   "metadata": {
    "collapsed": false,
    "pycharm": {
     "name": "#%%\n"
    }
   }
  }
 ],
 "metadata": {
  "kernelspec": {
   "display_name": "Python 3",
   "language": "python",
   "name": "python3"
  },
  "language_info": {
   "codemirror_mode": {
    "name": "ipython",
    "version": 2
   },
   "file_extension": ".py",
   "mimetype": "text/x-python",
   "name": "python",
   "nbconvert_exporter": "python",
   "pygments_lexer": "ipython2",
   "version": "2.7.6"
  }
 },
 "nbformat": 4,
 "nbformat_minor": 0
}